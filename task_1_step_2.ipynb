{
 "cells": [
  {
   "cell_type": "markdown",
   "id": "d9b3a27e",
   "metadata": {},
   "source": [
    "## XML предобработка"
   ]
  },
  {
   "cell_type": "code",
   "execution_count": 2,
   "id": "38d5eb50",
   "metadata": {},
   "outputs": [],
   "source": [
    "import pandas as pd\n",
    "import seaborn as sns\n",
    "from sklearn.preprocessing import MultiLabelBinarizer\n",
    "from sklearn.multioutput import MultiOutputClassifier\n",
    "import matplotlib.pyplot as plt\n",
    "from sklearn.metrics import log_loss, precision_score, recall_score, f1_score, classification_report, accuracy_score\n",
    "from sklearn.linear_model import LogisticRegression\n",
    "from sklearn.model_selection import train_test_split\n",
    "import numpy as np\n",
    "from sklearn.discriminant_analysis import LinearDiscriminantAnalysis\n",
    "from sklearn.neighbors import KNeighborsClassifier\n",
    "from sklearn.tree import DecisionTreeClassifier\n",
    "from sklearn.naive_bayes import GaussianNB\n",
    "from sklearn.ensemble import GradientBoostingClassifier, RandomForestClassifier\n",
    "from xgboost import plot_importance,XGBClassifier,XGBRegressor\n",
    "from catboost import CatBoostClassifier\n",
    "import time\n",
    "from sklearn.model_selection import KFold\n",
    "from sklearn.model_selection import cross_val_score\n",
    "from sklearn.multiclass import OneVsRestClassifier\n",
    "from sklearn.linear_model import SGDClassifier\n",
    "from sklearn.metrics import multilabel_confusion_matrix\n",
    "import warnings\n",
    "from sklearn.exceptions import ConvergenceWarning\n",
    "warnings.filterwarnings(\"ignore\", category=ConvergenceWarning)"
   ]
  },
  {
   "cell_type": "code",
   "execution_count": null,
   "id": "dfe82172",
   "metadata": {},
   "outputs": [],
   "source": [
    "from bs4 import BeautifulSoup\n",
    "import re\n",
    "\n",
    "xml_content = \"\"\"\n",
    "<root>\n",
    "    <p>ПЕРЕД БЛОКОМ.</p>\n",
    "    <P ID=\"P0006\" CLASS=\"formattext topleveltext\" ALIGN=\"justify\">\n",
    "        <SPAN class=\"comment\">12121212</SPAN>\n",
    "    </P>\n",
    "    <CHAPMARK ID=\"P0005\" STRING=\"HIDDEN_BLOCK_OPEN#Информация об изменяющих документах\" MARKER=\"00000000000000000000000000000000000000000000000003U4E8OT\" HIDDEN=\"1\" LEVEL=\"8\"/>\n",
    "    <P ID=\"P0007\" CLASS=\"formattext topleveltext\" ALIGN=\"justify\">\n",
    "        <SPAN class=\"comment\">\n",
    "            Документ с изменениями, внесенными:<BR/>\n",
    "            <EXTERNAL ND=\"499012712\" CONTEXT=\"0000000000000000000000000000000000000000000000000064U0IK\">Федеральным законом от 5 августа 2000 года N 118-ФЗ</EXTERNAL> (изменения вступили в силу с 1 января 2002 года);<BR/>\n",
    "            <EXTERNAL ND=\"901777906\" CONTEXT=\"0000000000000000000000000000000000000000000000000064U0IK\">Федеральным законом от 29 декабря 2000 года N 166-ФЗ</EXTERNAL> (Российская газета, N 248, 31.12.2000) (вступил в силу с 1 января 2001 года);<BR/>\n",
    "            <EXTERNAL ND=\"901788506\">Федеральным законом от 30 мая 2001 года N 71-ФЗ</EXTERNAL> (Российская газета, N 105, 02.06.2001);<BR/>\n",
    "            <EXTERNAL ND=\"901794410\" CONTEXT=\"0000000000000000000000000000000000000000000000000064U0IK\">Федеральным законом от 7 августа 2001 года N 118-ФЗ</EXTERNAL>\n",
    "            <EXTERNAL ND=\"901794410\" CONTEXT=\"0000000000000000000000000000000000000000000000000064U0IK\">Федеральным законом от 7 августа 2001 года N 118-ФЗ</EXTERNAL>\n",
    "        </SPAN>\n",
    "        <p>В БЛОКЕ 1</p>\n",
    "    </P>\n",
    "    <CHAPMARK ID=\"P0047\" STRING=\"HIDDEN_BLOCK_CLOSE\" MARKER=\"00000000000000000000000000000000000000000000000000OQ01AB\" HIDDEN=\"1\" LEVEL=\"8\"/>\n",
    "    <p>МЕЖДУ БЛОКАМИ.</p>\n",
    "    <CHAPMARK ID=\"P01005\" STRING=\"HIDDEN_BLOCK_OPEN#Информация об изменяющих документах\" MARKER=\"00000000000000000000000000000000000000000000000003U4E8OT\" HIDDEN=\"1\" LEVEL=\"8\"/>\n",
    "    <P ID=\"P0007\" CLASS=\"formattext topleveltext\" ALIGN=\"justify\">\n",
    "        <SPAN class=\"comment\">\n",
    "            Документ с изменениями, внесенными:<BR/>\n",
    "            <EXTERNAL ND=\"499012712\" CONTEXT=\"0000000000000000000000000000000000000000000000000064U0IK\">Федеральным законом от 5 августа 2000 года N 118-ФЗ</EXTERNAL> (изменения вступили в силу с 1 января 2002 года);<BR/>\n",
    "            <EXTERNAL ND=\"901777906\" CONTEXT=\"0000000000000000000000000000000000000000000000000064U0IK\">Федеральным законом от 29 декабря 2000 года N 166-ФЗ</EXTERNAL> (Российская газета, N 248, 31.12.2000) (вступил в силу с 1 января 2001 года);<BR/>\n",
    "            <EXTERNAL ND=\"901788506\">Федеральным законом от 30 мая 2001 года N 71-ФЗ</EXTERNAL> (Российская газета, N 105, 02.06.2001);<BR/>\n",
    "            <EXTERNAL ND=\"901794410\" CONTEXT=\"0000000000000000000000000000000000000000000000000064U0IK\">Федеральным законом от 7 августа 2001 года N 118-ФЗ</EXTERNAL>\n",
    "            <EXTERNAL ND=\"901794410\" CONTEXT=\"0000000000000000000000000000000000000000000000000064U0IK\">Федеральным законом от 7 августа 2001 года N 118-ФЗ</EXTERNAL>\n",
    "        </SPAN>\n",
    "        <p>В БЛОКЕ 2.</p>\n",
    "    </P>\n",
    "    <CHAPMARK ID=\"P20047\" STRING=\"HIDDEN_BLOCK_CLOSE\" MARKER=\"00000000000000000000000000000000000000000000000000OQ01AB\" HIDDEN=\"1\" LEVEL=\"8\"/>\n",
    "    <P ID=\"P0006\" CLASS=\"formattext topleveltext\" ALIGN=\"justify\">\n",
    "        <SPAN class=\"comment\">12121212</SPAN>\n",
    "    </P>\n",
    "    <p>ПОСЛЕ БЛОКА 2.</p>\n",
    "    <CHAPMARK ID=\"P0005\" STRING=\"HIDDEN_BLOCK_OPEN#Информация об изменяющих документах\" MARKER=\"00000000000000000000000000000000000000000000000003U4E8OT\" HIDDEN=\"1\" LEVEL=\"8\"/>\n",
    "    <p>ПОСЛЕ БЛОКА 2 И ПОСЛЕ HIDDEN_BLOCK_OPEN БЕЗ ЗАКРЫТИЯ.</p>\n",
    "\n",
    "\n",
    "    <SPAN class=\"comment\">_ПОЧЕМУ НЕ УДАЛ___________________________________________________________________</SPAN>\n",
    "</root>\n",
    "\"\"\"\n",
    "# HIDDEN_BLOCK_OPEN атрибут\n",
    "# Парсинг XML с помощью BeautifulSoup\n",
    "soup = BeautifulSoup(xml_content, 'xml')\n",
    "\n",
    "\n",
    "for span in soup.find_all('SPAN'):\n",
    "        span.decompose()\n",
    "        \n",
    "hidden_block_open_tags = soup.find_all('CHAPMARK', {'STRING': re.compile(r'HIDDEN_BLOCK_OPEN')})\n",
    "\n",
    "for open_tag in hidden_block_open_tags:\n",
    "    close_tag = open_tag.find_next('CHAPMARK', {'STRING': re.compile(r'HIDDEN_BLOCK_CLOSE')})\n",
    "    \n",
    "    if close_tag:\n",
    "        current = open_tag.next_sibling\n",
    "        while current and current != close_tag:\n",
    "            next_sibling = current.next_sibling\n",
    "            current.extract()\n",
    "            current = next_sibling\n",
    "\n",
    "text = ' '.join(soup.stripped_strings)\n",
    "print(text)"
   ]
  },
  {
   "cell_type": "code",
   "execution_count": null,
   "id": "de8ad3a8",
   "metadata": {},
   "outputs": [],
   "source": [
    "import os\n",
    "import pandas as pd\n",
    "from bs4 import BeautifulSoup\n",
    "import re\n",
    "\n",
    "def extract_text_from_xml(file_path):\n",
    "    with open(file_path, 'r', encoding='utf-8') as file:\n",
    "        content = file.read()\n",
    "    soup = BeautifulSoup(content, 'lxml')\n",
    "\n",
    "    for table in soup.find_all('table'):\n",
    "        table.decompose()\n",
    "    for img in soup.find_all('picture'):\n",
    "        img.decompose()\n",
    "\n",
    "    for span in soup.find_all('span'):\n",
    "        span.decompose()\n",
    "\n",
    "    hidden_block_open_tags = soup.find_all('chapmark', {'string': re.compile(r'HIDDEN_BLOCK_OPEN')})\n",
    "    for open_tag in hidden_block_open_tags:\n",
    "        \n",
    "        close_tag = open_tag.find_next('chapmark', {'string': re.compile(r'HIDDEN_BLOCK_CLOSE')})\n",
    "    \n",
    "        if close_tag:\n",
    "            current = open_tag.next_sibling\n",
    "            while current and current != close_tag:\n",
    "                    next_sibling = current.next_sibling\n",
    "                    current.extract()\n",
    "                    current = next_sibling\n",
    "\n",
    "    # Extract text\n",
    "    text = ' '.join(soup.stripped_strings)\n",
    "    cleaned_text = re.sub(r'(--\\S+|__\\S+|табли[а-я]*|табл.[0-9]*)', '', text, flags=re.IGNORECASE)\n",
    "    cleaned_text = ' '.join(cleaned_text.split())\n",
    "    return cleaned_text if cleaned_text else None\n",
    "\n",
    "extracted_path = './work_data/test'\n",
    "\n",
    "data = []\n",
    "\n",
    "file_list = sorted(os.listdir(extracted_path))\n",
    "\n",
    "for file_name in file_list:\n",
    "    if file_name.endswith('.txt'):\n",
    "        file_path = os.path.join(extracted_path, file_name)\n",
    "        try:\n",
    "            text = extract_text_from_xml(file_path)\n",
    "            if text is not None:\n",
    "                data.append({'FileName': file_name, 'Text': text})\n",
    "        except Exception as e:\n",
    "            print(f\"Error processing file {file_name}: {e}\")\n",
    "\n",
    "dflxml = pd.DataFrame(data)\n",
    "print(dflxml)"
   ]
  },
  {
   "cell_type": "code",
   "execution_count": null,
   "id": "2a904b0f",
   "metadata": {},
   "outputs": [],
   "source": [
    "dflxml['Text'][0]"
   ]
  },
  {
   "cell_type": "code",
   "execution_count": null,
   "id": "148b35e4",
   "metadata": {},
   "outputs": [],
   "source": [
    "dflxml['FileName'] = dflxml['FileName'].str.split('_').str[0]\n",
    "dflxml"
   ]
  },
  {
   "cell_type": "code",
   "execution_count": null,
   "id": "cec45d5e",
   "metadata": {},
   "outputs": [],
   "source": [
    "dflxml['FileName'].nunique()"
   ]
  },
  {
   "cell_type": "code",
   "execution_count": null,
   "id": "2898a6ef",
   "metadata": {},
   "outputs": [],
   "source": [
    "duplicate = dflxml[dflxml.duplicated('FileName', keep=False)]\n",
    "duplicate"
   ]
  },
  {
   "cell_type": "code",
   "execution_count": null,
   "id": "ab826050",
   "metadata": {},
   "outputs": [],
   "source": [
    "dflxml['Text'][7209]"
   ]
  },
  {
   "cell_type": "code",
   "execution_count": null,
   "id": "65a650f7",
   "metadata": {},
   "outputs": [],
   "source": [
    "# dflxml = dflxml.drop([604, 606, 608,776])\n",
    "dflxml = dflxml.drop([98,139,3430,3783,6282,6331,6352,6356,6361,6417,6419,6421,6684,6692,7015,7017,7019,7021,7023,7025,7034\n",
    "                     ,7036,7190,7209])"
   ]
  },
  {
   "cell_type": "code",
   "execution_count": null,
   "id": "c692af68",
   "metadata": {},
   "outputs": [],
   "source": [
    "dflxml"
   ]
  },
  {
   "cell_type": "code",
   "execution_count": null,
   "id": "bfcef105",
   "metadata": {},
   "outputs": [],
   "source": [
    "dflxml = dflxml.reset_index(drop=True)\n",
    "dflxml"
   ]
  },
  {
   "cell_type": "code",
   "execution_count": null,
   "id": "f199ab03",
   "metadata": {},
   "outputs": [],
   "source": [
    "dflxml['FileName'].nunique()"
   ]
  },
  {
   "cell_type": "code",
   "execution_count": null,
   "id": "e6478abd",
   "metadata": {},
   "outputs": [],
   "source": [
    "dflxml = dflxml.rename(columns={'FileName': 'iddoc'})\n",
    "dflxml"
   ]
  },
  {
   "cell_type": "code",
   "execution_count": null,
   "id": "aa324347",
   "metadata": {},
   "outputs": [],
   "source": [
    "dflxml.to_pickle('./my_df/dflxml_test.pkl')"
   ]
  },
  {
   "cell_type": "code",
   "execution_count": null,
   "id": "4c14dd20",
   "metadata": {},
   "outputs": [],
   "source": [
    "import pandas as pd\n",
    "dflxml=pd.read_pickle(\"./my_df/dflxml.pkl\")\n",
    "# dflxml=dflxml.sample(n=200)\n",
    "dflxml"
   ]
  },
  {
   "cell_type": "code",
   "execution_count": null,
   "id": "6c86fd9c",
   "metadata": {},
   "outputs": [],
   "source": [
    "dflxml['Text'][124]"
   ]
  },
  {
   "cell_type": "markdown",
   "id": "18a36200",
   "metadata": {},
   "source": [
    "## Отдельная токенизация"
   ]
  },
  {
   "cell_type": "code",
   "execution_count": 7,
   "id": "7416209b",
   "metadata": {},
   "outputs": [
    {
     "name": "stderr",
     "output_type": "stream",
     "text": [
      "C:\\Users\\Waple\\.conda\\envs\\tf1\\lib\\site-packages\\huggingface_hub\\file_download.py:1150: FutureWarning: `resume_download` is deprecated and will be removed in version 1.0.0. Downloads always resume when possible. If you want to force a new download, use `force_download=True`.\n",
      "  warnings.warn(\n"
     ]
    },
    {
     "data": {
      "text/plain": [
       "0"
      ]
     },
     "execution_count": 7,
     "metadata": {},
     "output_type": "execute_result"
    }
   ],
   "source": [
    "from transformers import AutoTokenizer, AutoModel\n",
    "from tqdm import tqdm\n",
    "import time\n",
    "import torch\n",
    "import re\n",
    "import gc\n",
    "\n",
    "# def remove_punctuation_except_dots(text):\n",
    "#     return re.sub(r'[^\\w\\s\\.]', '', text)\n",
    "# dflxml['Text'] = dflxml['Text'].apply(remove_punctuation_except_dots)\n",
    "\n",
    "texts = new_name_df['combined_vector'].tolist()\n",
    "\n",
    "tokenizer = AutoTokenizer.from_pretrained(\"DeepPavlov/rubert-base-cased\")\n",
    "encoded_inputs = tokenizer(texts, return_tensors=\"pt\", padding=True, truncation=True, max_length=512)# среднее значение брат \n",
    "torch.save(encoded_inputs, './my_df/encoddernew_name_dfcombined_vector.pt')\n",
    "del encoded_inputs, tokenizer,texts\n",
    "gc.collect()"
   ]
  },
  {
   "cell_type": "code",
   "execution_count": null,
   "id": "8fc375a0",
   "metadata": {},
   "outputs": [],
   "source": [
    "import re\n",
    "\n",
    "def clean_text(text):\n",
    "    return re.sub(r'[^\\w\\s\\.]', '', text)\n",
    "\n",
    "text = \"Hello, world! This is a test: 1234. Numbers      1 should be removed. Special chars like @#$% should go.\"\n",
    "cleaned_text = clean_text(text)\n",
    "cleaned_text = ' '.join(cleaned_text.split())\n",
    "\n",
    "print(cleaned_text)\n"
   ]
  },
  {
   "cell_type": "code",
   "execution_count": null,
   "id": "bc356188",
   "metadata": {},
   "outputs": [],
   "source": [
    "import torch\n",
    "encoded_inputs = torch.load('./my_df/encoddernew_name_df1.pt')"
   ]
  },
  {
   "cell_type": "markdown",
   "id": "ca0c3f5c",
   "metadata": {},
   "source": [
    "## Создание векторов с помощью трансформера"
   ]
  },
  {
   "cell_type": "code",
   "execution_count": null,
   "id": "0304e744",
   "metadata": {},
   "outputs": [],
   "source": [
    "import gc\n",
    "import torch\n",
    "from transformers import AutoTokenizer, AutoModel\n",
    "from tqdm import tqdm\n",
    "import time\n",
    "import pandas as pd\n",
    "start_time = time.time()\n",
    "\n",
    "# torch.cuda.empty_cache()\n",
    "# torch.backends.cuda.max_split_size_mb = 4\n",
    "\n",
    "device = torch.device('cuda') if torch.cuda.is_available() else torch.device('cpu')\n",
    "print(f\"Using device: {device}\")\n",
    "\n",
    "# Загрузка модели на устройство\n",
    "model = AutoModel.from_pretrained(\"DeepPavlov/rubert-base-cased\").to(device)\n",
    "batch_size = 10\n",
    "output_file = \"./my_df/new_name_dfvec1.pkl\"\n",
    "\n",
    "# model = AutoModel.from_pretrained(\"law-ai/InLegalBERT\").to(device)\n",
    "# batch_size = 10\n",
    "# output_file = \"./my_df/InLegalBERT.pkl\"\n",
    "\n",
    "with tqdm(total=len(encoded_inputs[\"input_ids\"]), desc=\"Processing texts\") as pbar:\n",
    "    for i in range(0, len(encoded_inputs[\"input_ids\"]), batch_size):\n",
    "        batch_inputs = {k: torch.tensor(v[i:i+batch_size]).to(device) for k, v in encoded_inputs.items()}\n",
    "#         batch_inputs = {k: v[i:i+batch_size].clone().detach().to(device) for k, v in encoded_inputs.items()}\n",
    "\n",
    "        \n",
    "        with torch.no_grad():\n",
    "            output = model(**batch_inputs)\n",
    "\n",
    "        pooler_outputs = [po.cpu().detach().numpy() for po in output.pooler_output]\n",
    "\n",
    "        iddocs = new_name_df['iddoc'].iloc[i:i+batch_size].tolist()\n",
    "        df_batch = pd.DataFrame({'iddoc': iddocs, 'namevecnew': pooler_outputs})\n",
    "        if i == 0:\n",
    "            df_batch.to_pickle(output_file)\n",
    "        else:\n",
    "            existing_df = pd.read_pickle(output_file)\n",
    "            new_df = pd.concat([existing_df, df_batch])\n",
    "            new_df.to_pickle(output_file)\n",
    "            del existing_df, new_df\n",
    "\n",
    "        del batch_inputs, output, pooler_outputs, df_batch\n",
    "        gc.collect()\n",
    "\n",
    "        pbar.update(batch_size)\n",
    "        print(i)\n",
    "        print(time.ctime())\n",
    "end_time = time.time()\n",
    "print(f\"Model processing time: {end_time - start_time} seconds\")"
   ]
  },
  {
   "cell_type": "markdown",
   "id": "ea823750",
   "metadata": {},
   "source": [
    "## Токенизация и создание векторов с помощью трансформера(max_length>512 -> avg)"
   ]
  },
  {
   "cell_type": "code",
   "execution_count": 12,
   "id": "4de2c0df",
   "metadata": {
    "collapsed": true,
    "jupyter": {
     "outputs_hidden": true
    },
    "scrolled": true
   },
   "outputs": [
    {
     "name": "stdout",
     "output_type": "stream",
     "text": [
      "Using device: cuda\n",
      "Wed Jul 31 18:49:03 2024\n"
     ]
    },
    {
     "name": "stderr",
     "output_type": "stream",
     "text": [
      "C:\\Users\\Waple\\.conda\\envs\\tf1\\lib\\site-packages\\huggingface_hub\\file_download.py:1150: FutureWarning: `resume_download` is deprecated and will be removed in version 1.0.0. Downloads always resume when possible. If you want to force a new download, use `force_download=True`.\n",
      "  warnings.warn(\n",
      "Some weights of the model checkpoint at DeepPavlov/rubert-base-cased were not used when initializing BertModel: ['cls.predictions.transform.LayerNorm.bias', 'cls.predictions.bias', 'cls.predictions.transform.LayerNorm.weight', 'cls.predictions.transform.dense.bias', 'cls.seq_relationship.bias', 'cls.predictions.transform.dense.weight', 'cls.predictions.decoder.weight', 'cls.seq_relationship.weight', 'cls.predictions.decoder.bias']\n",
      "- This IS expected if you are initializing BertModel from the checkpoint of a model trained on another task or with another architecture (e.g. initializing a BertForSequenceClassification model from a BertForPreTraining model).\n",
      "- This IS NOT expected if you are initializing BertModel from the checkpoint of a model that you expect to be exactly identical (initializing a BertForSequenceClassification model from a BertForSequenceClassification model).\n",
      "Processing texts:   0%|▏                                                             | 30/9694 [00:09<48:45,  3.30it/s]"
     ]
    },
    {
     "name": "stdout",
     "output_type": "stream",
     "text": [
      "0\n",
      "Wed Jul 31 18:49:16 2024\n"
     ]
    },
    {
     "name": "stderr",
     "output_type": "stream",
     "text": [
      "Processing texts:   1%|▍                                                             | 60/9694 [00:15<41:40,  3.85it/s]"
     ]
    },
    {
     "name": "stdout",
     "output_type": "stream",
     "text": [
      "30\n",
      "Wed Jul 31 18:49:23 2024\n"
     ]
    },
    {
     "name": "stderr",
     "output_type": "stream",
     "text": [
      "Processing texts:   1%|▌                                                             | 90/9694 [00:22<38:49,  4.12it/s]"
     ]
    },
    {
     "name": "stdout",
     "output_type": "stream",
     "text": [
      "60\n",
      "Wed Jul 31 18:49:29 2024\n"
     ]
    },
    {
     "name": "stderr",
     "output_type": "stream",
     "text": [
      "Processing texts:   1%|▊                                                            | 120/9694 [00:29<37:26,  4.26it/s]"
     ]
    },
    {
     "name": "stdout",
     "output_type": "stream",
     "text": [
      "90\n",
      "Wed Jul 31 18:49:36 2024\n"
     ]
    },
    {
     "name": "stderr",
     "output_type": "stream",
     "text": [
      "Processing texts:   2%|▉                                                            | 150/9694 [00:35<36:29,  4.36it/s]"
     ]
    },
    {
     "name": "stdout",
     "output_type": "stream",
     "text": [
      "120\n",
      "Wed Jul 31 18:49:43 2024\n"
     ]
    },
    {
     "name": "stderr",
     "output_type": "stream",
     "text": [
      "Processing texts:   2%|█▏                                                           | 180/9694 [00:42<35:54,  4.42it/s]"
     ]
    },
    {
     "name": "stdout",
     "output_type": "stream",
     "text": [
      "150\n",
      "Wed Jul 31 18:49:49 2024\n"
     ]
    },
    {
     "name": "stderr",
     "output_type": "stream",
     "text": [
      "Processing texts:   2%|█▎                                                           | 210/9694 [00:49<35:28,  4.46it/s]"
     ]
    },
    {
     "name": "stdout",
     "output_type": "stream",
     "text": [
      "180\n",
      "Wed Jul 31 18:49:56 2024\n"
     ]
    },
    {
     "name": "stderr",
     "output_type": "stream",
     "text": [
      "Processing texts:   2%|█▌                                                           | 240/9694 [00:55<35:14,  4.47it/s]"
     ]
    },
    {
     "name": "stdout",
     "output_type": "stream",
     "text": [
      "210\n",
      "Wed Jul 31 18:50:03 2024\n"
     ]
    },
    {
     "name": "stderr",
     "output_type": "stream",
     "text": [
      "Processing texts:   3%|█▋                                                           | 270/9694 [01:02<35:30,  4.42it/s]"
     ]
    },
    {
     "name": "stdout",
     "output_type": "stream",
     "text": [
      "240\n",
      "Wed Jul 31 18:50:10 2024\n"
     ]
    },
    {
     "name": "stderr",
     "output_type": "stream",
     "text": [
      "Processing texts:   3%|█▉                                                           | 300/9694 [01:09<36:01,  4.35it/s]"
     ]
    },
    {
     "name": "stdout",
     "output_type": "stream",
     "text": [
      "270\n",
      "Wed Jul 31 18:50:17 2024\n"
     ]
    },
    {
     "name": "stderr",
     "output_type": "stream",
     "text": [
      "Processing texts:   3%|██                                                           | 330/9694 [01:16<35:53,  4.35it/s]"
     ]
    },
    {
     "name": "stdout",
     "output_type": "stream",
     "text": [
      "300\n",
      "Wed Jul 31 18:50:24 2024\n"
     ]
    },
    {
     "name": "stderr",
     "output_type": "stream",
     "text": [
      "Processing texts:   4%|██▎                                                          | 360/9694 [01:23<35:17,  4.41it/s]"
     ]
    },
    {
     "name": "stdout",
     "output_type": "stream",
     "text": [
      "330\n",
      "Wed Jul 31 18:50:30 2024\n"
     ]
    },
    {
     "name": "stderr",
     "output_type": "stream",
     "text": [
      "Processing texts:   4%|██▍                                                          | 390/9694 [01:30<34:52,  4.45it/s]"
     ]
    },
    {
     "name": "stdout",
     "output_type": "stream",
     "text": [
      "360\n",
      "Wed Jul 31 18:50:37 2024\n"
     ]
    },
    {
     "name": "stderr",
     "output_type": "stream",
     "text": [
      "Processing texts:   4%|██▋                                                          | 420/9694 [01:36<34:38,  4.46it/s]"
     ]
    },
    {
     "name": "stdout",
     "output_type": "stream",
     "text": [
      "390\n",
      "Wed Jul 31 18:50:44 2024\n"
     ]
    },
    {
     "name": "stderr",
     "output_type": "stream",
     "text": [
      "Processing texts:   5%|██▊                                                          | 450/9694 [01:43<34:27,  4.47it/s]"
     ]
    },
    {
     "name": "stdout",
     "output_type": "stream",
     "text": [
      "420\n",
      "Wed Jul 31 18:50:50 2024\n"
     ]
    },
    {
     "name": "stderr",
     "output_type": "stream",
     "text": [
      "Processing texts:   5%|███                                                          | 480/9694 [01:50<34:20,  4.47it/s]"
     ]
    },
    {
     "name": "stdout",
     "output_type": "stream",
     "text": [
      "450\n",
      "Wed Jul 31 18:50:57 2024\n"
     ]
    },
    {
     "name": "stderr",
     "output_type": "stream",
     "text": [
      "Processing texts:   5%|███▏                                                         | 510/9694 [01:56<34:12,  4.47it/s]"
     ]
    },
    {
     "name": "stdout",
     "output_type": "stream",
     "text": [
      "480\n",
      "Wed Jul 31 18:51:04 2024\n"
     ]
    },
    {
     "name": "stderr",
     "output_type": "stream",
     "text": [
      "Processing texts:   6%|███▍                                                         | 540/9694 [02:03<34:25,  4.43it/s]"
     ]
    },
    {
     "name": "stdout",
     "output_type": "stream",
     "text": [
      "510\n",
      "Wed Jul 31 18:51:11 2024\n"
     ]
    },
    {
     "name": "stderr",
     "output_type": "stream",
     "text": [
      "Processing texts:   6%|███▌                                                         | 570/9694 [02:10<34:30,  4.41it/s]"
     ]
    },
    {
     "name": "stdout",
     "output_type": "stream",
     "text": [
      "540\n",
      "Wed Jul 31 18:51:17 2024\n"
     ]
    },
    {
     "name": "stderr",
     "output_type": "stream",
     "text": [
      "Processing texts:   6%|███▊                                                         | 600/9694 [02:17<34:17,  4.42it/s]"
     ]
    },
    {
     "name": "stdout",
     "output_type": "stream",
     "text": [
      "570\n",
      "Wed Jul 31 18:51:24 2024\n"
     ]
    },
    {
     "name": "stderr",
     "output_type": "stream",
     "text": [
      "Processing texts:   6%|███▉                                                         | 630/9694 [02:24<34:05,  4.43it/s]"
     ]
    },
    {
     "name": "stdout",
     "output_type": "stream",
     "text": [
      "600\n",
      "Wed Jul 31 18:51:31 2024\n"
     ]
    },
    {
     "name": "stderr",
     "output_type": "stream",
     "text": [
      "Processing texts:   7%|████▏                                                        | 660/9694 [02:30<34:14,  4.40it/s]"
     ]
    },
    {
     "name": "stdout",
     "output_type": "stream",
     "text": [
      "630\n",
      "Wed Jul 31 18:51:38 2024\n"
     ]
    },
    {
     "name": "stderr",
     "output_type": "stream",
     "text": [
      "Processing texts:   7%|████▎                                                        | 690/9694 [02:37<33:47,  4.44it/s]"
     ]
    },
    {
     "name": "stdout",
     "output_type": "stream",
     "text": [
      "660\n",
      "Wed Jul 31 18:51:44 2024\n"
     ]
    },
    {
     "name": "stderr",
     "output_type": "stream",
     "text": [
      "Processing texts:   7%|████▌                                                        | 720/9694 [02:44<33:27,  4.47it/s]"
     ]
    },
    {
     "name": "stdout",
     "output_type": "stream",
     "text": [
      "690\n",
      "Wed Jul 31 18:51:51 2024\n"
     ]
    },
    {
     "name": "stderr",
     "output_type": "stream",
     "text": [
      "Processing texts:   8%|████▋                                                        | 750/9694 [02:50<33:11,  4.49it/s]"
     ]
    },
    {
     "name": "stdout",
     "output_type": "stream",
     "text": [
      "720\n",
      "Wed Jul 31 18:51:58 2024\n"
     ]
    },
    {
     "name": "stderr",
     "output_type": "stream",
     "text": [
      "Processing texts:   8%|████▉                                                        | 780/9694 [02:57<32:55,  4.51it/s]"
     ]
    },
    {
     "name": "stdout",
     "output_type": "stream",
     "text": [
      "750\n",
      "Wed Jul 31 18:52:04 2024\n"
     ]
    },
    {
     "name": "stderr",
     "output_type": "stream",
     "text": [
      "Processing texts:   8%|█████                                                        | 810/9694 [03:04<33:04,  4.48it/s]"
     ]
    },
    {
     "name": "stdout",
     "output_type": "stream",
     "text": [
      "780\n",
      "Wed Jul 31 18:52:11 2024\n"
     ]
    },
    {
     "name": "stderr",
     "output_type": "stream",
     "text": [
      "Processing texts:   9%|█████▎                                                       | 840/9694 [03:12<34:43,  4.25it/s]"
     ]
    },
    {
     "name": "stdout",
     "output_type": "stream",
     "text": [
      "810\n",
      "Wed Jul 31 18:52:19 2024\n"
     ]
    },
    {
     "name": "stderr",
     "output_type": "stream",
     "text": [
      "Processing texts:   9%|█████▍                                                       | 870/9694 [03:18<34:18,  4.29it/s]"
     ]
    },
    {
     "name": "stdout",
     "output_type": "stream",
     "text": [
      "840\n",
      "Wed Jul 31 18:52:26 2024\n"
     ]
    },
    {
     "name": "stderr",
     "output_type": "stream",
     "text": [
      "Processing texts:   9%|█████▋                                                       | 900/9694 [03:25<33:48,  4.34it/s]"
     ]
    },
    {
     "name": "stdout",
     "output_type": "stream",
     "text": [
      "870\n",
      "Wed Jul 31 18:52:33 2024\n"
     ]
    },
    {
     "name": "stderr",
     "output_type": "stream",
     "text": [
      "Processing texts:  10%|█████▊                                                       | 930/9694 [03:32<33:35,  4.35it/s]"
     ]
    },
    {
     "name": "stdout",
     "output_type": "stream",
     "text": [
      "900\n",
      "Wed Jul 31 18:52:39 2024\n"
     ]
    },
    {
     "name": "stderr",
     "output_type": "stream",
     "text": [
      "Processing texts:  10%|██████                                                       | 960/9694 [03:39<33:03,  4.40it/s]"
     ]
    },
    {
     "name": "stdout",
     "output_type": "stream",
     "text": [
      "930\n",
      "Wed Jul 31 18:52:46 2024\n"
     ]
    },
    {
     "name": "stderr",
     "output_type": "stream",
     "text": [
      "Processing texts:  10%|██████▏                                                      | 990/9694 [03:45<32:38,  4.44it/s]"
     ]
    },
    {
     "name": "stdout",
     "output_type": "stream",
     "text": [
      "960\n",
      "Wed Jul 31 18:52:53 2024\n"
     ]
    },
    {
     "name": "stderr",
     "output_type": "stream",
     "text": [
      "Processing texts:  11%|██████▎                                                     | 1020/9694 [03:52<32:30,  4.45it/s]"
     ]
    },
    {
     "name": "stdout",
     "output_type": "stream",
     "text": [
      "990\n",
      "Wed Jul 31 18:52:59 2024\n"
     ]
    },
    {
     "name": "stderr",
     "output_type": "stream",
     "text": [
      "Processing texts:  11%|██████▍                                                     | 1050/9694 [03:59<32:23,  4.45it/s]"
     ]
    },
    {
     "name": "stdout",
     "output_type": "stream",
     "text": [
      "1020\n",
      "Wed Jul 31 18:53:06 2024\n"
     ]
    },
    {
     "name": "stderr",
     "output_type": "stream",
     "text": [
      "Processing texts:  11%|██████▋                                                     | 1080/9694 [04:06<32:28,  4.42it/s]"
     ]
    },
    {
     "name": "stdout",
     "output_type": "stream",
     "text": [
      "1050\n",
      "Wed Jul 31 18:53:13 2024\n"
     ]
    },
    {
     "name": "stderr",
     "output_type": "stream",
     "text": [
      "Processing texts:  11%|██████▊                                                     | 1110/9694 [04:12<32:12,  4.44it/s]"
     ]
    },
    {
     "name": "stdout",
     "output_type": "stream",
     "text": [
      "1080\n",
      "Wed Jul 31 18:53:20 2024\n"
     ]
    },
    {
     "name": "stderr",
     "output_type": "stream",
     "text": [
      "Processing texts:  12%|███████                                                     | 1140/9694 [04:19<31:53,  4.47it/s]"
     ]
    },
    {
     "name": "stdout",
     "output_type": "stream",
     "text": [
      "1110\n",
      "Wed Jul 31 18:53:26 2024\n"
     ]
    },
    {
     "name": "stderr",
     "output_type": "stream",
     "text": [
      "Processing texts:  12%|███████▏                                                    | 1170/9694 [04:26<31:42,  4.48it/s]"
     ]
    },
    {
     "name": "stdout",
     "output_type": "stream",
     "text": [
      "1140\n",
      "Wed Jul 31 18:53:33 2024\n"
     ]
    },
    {
     "name": "stderr",
     "output_type": "stream",
     "text": [
      "Processing texts:  12%|███████▍                                                    | 1200/9694 [04:32<31:36,  4.48it/s]"
     ]
    },
    {
     "name": "stdout",
     "output_type": "stream",
     "text": [
      "1170\n",
      "Wed Jul 31 18:53:40 2024\n"
     ]
    },
    {
     "name": "stderr",
     "output_type": "stream",
     "text": [
      "Processing texts:  13%|███████▌                                                    | 1230/9694 [04:39<31:23,  4.49it/s]"
     ]
    },
    {
     "name": "stdout",
     "output_type": "stream",
     "text": [
      "1200\n",
      "Wed Jul 31 18:53:46 2024\n"
     ]
    },
    {
     "name": "stderr",
     "output_type": "stream",
     "text": [
      "Processing texts:  13%|███████▊                                                    | 1260/9694 [04:46<31:29,  4.46it/s]"
     ]
    },
    {
     "name": "stdout",
     "output_type": "stream",
     "text": [
      "1230\n",
      "Wed Jul 31 18:53:53 2024\n"
     ]
    },
    {
     "name": "stderr",
     "output_type": "stream",
     "text": [
      "Processing texts:  13%|███████▉                                                    | 1290/9694 [04:52<31:13,  4.49it/s]"
     ]
    },
    {
     "name": "stdout",
     "output_type": "stream",
     "text": [
      "1260\n",
      "Wed Jul 31 18:54:00 2024\n"
     ]
    },
    {
     "name": "stderr",
     "output_type": "stream",
     "text": [
      "Processing texts:  14%|████████▏                                                   | 1320/9694 [04:59<30:58,  4.51it/s]"
     ]
    },
    {
     "name": "stdout",
     "output_type": "stream",
     "text": [
      "1290\n",
      "Wed Jul 31 18:54:06 2024\n"
     ]
    },
    {
     "name": "stderr",
     "output_type": "stream",
     "text": [
      "Processing texts:  14%|████████▎                                                   | 1350/9694 [05:06<30:52,  4.50it/s]"
     ]
    },
    {
     "name": "stdout",
     "output_type": "stream",
     "text": [
      "1320\n",
      "Wed Jul 31 18:54:13 2024\n"
     ]
    },
    {
     "name": "stderr",
     "output_type": "stream",
     "text": [
      "Processing texts:  14%|████████▌                                                   | 1380/9694 [05:12<30:44,  4.51it/s]"
     ]
    },
    {
     "name": "stdout",
     "output_type": "stream",
     "text": [
      "1350\n",
      "Wed Jul 31 18:54:20 2024\n"
     ]
    },
    {
     "name": "stderr",
     "output_type": "stream",
     "text": [
      "Processing texts:  15%|████████▋                                                   | 1410/9694 [05:19<30:44,  4.49it/s]"
     ]
    },
    {
     "name": "stdout",
     "output_type": "stream",
     "text": [
      "1380\n",
      "Wed Jul 31 18:54:26 2024\n"
     ]
    },
    {
     "name": "stderr",
     "output_type": "stream",
     "text": [
      "Processing texts:  15%|████████▉                                                   | 1440/9694 [05:26<30:35,  4.50it/s]"
     ]
    },
    {
     "name": "stdout",
     "output_type": "stream",
     "text": [
      "1410\n",
      "Wed Jul 31 18:54:33 2024\n"
     ]
    },
    {
     "name": "stderr",
     "output_type": "stream",
     "text": [
      "Processing texts:  15%|█████████                                                   | 1470/9694 [05:32<30:26,  4.50it/s]"
     ]
    },
    {
     "name": "stdout",
     "output_type": "stream",
     "text": [
      "1440\n",
      "Wed Jul 31 18:54:40 2024\n"
     ]
    },
    {
     "name": "stderr",
     "output_type": "stream",
     "text": [
      "Processing texts:  15%|█████████▎                                                  | 1500/9694 [05:39<30:38,  4.46it/s]"
     ]
    },
    {
     "name": "stdout",
     "output_type": "stream",
     "text": [
      "1470\n",
      "Wed Jul 31 18:54:47 2024\n"
     ]
    },
    {
     "name": "stderr",
     "output_type": "stream",
     "text": [
      "Processing texts:  16%|█████████▍                                                  | 1530/9694 [05:46<30:24,  4.48it/s]"
     ]
    },
    {
     "name": "stdout",
     "output_type": "stream",
     "text": [
      "1500\n",
      "Wed Jul 31 18:54:53 2024\n"
     ]
    },
    {
     "name": "stderr",
     "output_type": "stream",
     "text": [
      "Processing texts:  16%|█████████▋                                                  | 1560/9694 [05:52<30:10,  4.49it/s]"
     ]
    },
    {
     "name": "stdout",
     "output_type": "stream",
     "text": [
      "1530\n",
      "Wed Jul 31 18:55:00 2024\n"
     ]
    },
    {
     "name": "stderr",
     "output_type": "stream",
     "text": [
      "Processing texts:  16%|█████████▊                                                  | 1590/9694 [05:59<29:56,  4.51it/s]"
     ]
    },
    {
     "name": "stdout",
     "output_type": "stream",
     "text": [
      "1560\n",
      "Wed Jul 31 18:55:06 2024\n"
     ]
    },
    {
     "name": "stderr",
     "output_type": "stream",
     "text": [
      "Processing texts:  17%|██████████                                                  | 1620/9694 [06:06<29:55,  4.50it/s]"
     ]
    },
    {
     "name": "stdout",
     "output_type": "stream",
     "text": [
      "1590\n",
      "Wed Jul 31 18:55:13 2024\n"
     ]
    },
    {
     "name": "stderr",
     "output_type": "stream",
     "text": [
      "Processing texts:  17%|██████████▏                                                 | 1650/9694 [06:13<30:03,  4.46it/s]"
     ]
    },
    {
     "name": "stdout",
     "output_type": "stream",
     "text": [
      "1620\n",
      "Wed Jul 31 18:55:20 2024\n"
     ]
    },
    {
     "name": "stderr",
     "output_type": "stream",
     "text": [
      "Processing texts:  17%|██████████▍                                                 | 1680/9694 [06:19<30:00,  4.45it/s]"
     ]
    },
    {
     "name": "stdout",
     "output_type": "stream",
     "text": [
      "1650\n",
      "Wed Jul 31 18:55:27 2024\n"
     ]
    },
    {
     "name": "stderr",
     "output_type": "stream",
     "text": [
      "Processing texts:  18%|██████████▌                                                 | 1710/9694 [06:26<30:02,  4.43it/s]"
     ]
    },
    {
     "name": "stdout",
     "output_type": "stream",
     "text": [
      "1680\n",
      "Wed Jul 31 18:55:34 2024\n"
     ]
    },
    {
     "name": "stderr",
     "output_type": "stream",
     "text": [
      "Processing texts:  18%|██████████▊                                                 | 1740/9694 [06:33<29:45,  4.45it/s]"
     ]
    },
    {
     "name": "stdout",
     "output_type": "stream",
     "text": [
      "1710\n",
      "Wed Jul 31 18:55:40 2024\n"
     ]
    },
    {
     "name": "stderr",
     "output_type": "stream",
     "text": [
      "Processing texts:  18%|██████████▉                                                 | 1770/9694 [06:39<29:31,  4.47it/s]"
     ]
    },
    {
     "name": "stdout",
     "output_type": "stream",
     "text": [
      "1740\n",
      "Wed Jul 31 18:55:47 2024\n"
     ]
    },
    {
     "name": "stderr",
     "output_type": "stream",
     "text": [
      "Processing texts:  19%|███████████▏                                                | 1800/9694 [06:46<29:25,  4.47it/s]"
     ]
    },
    {
     "name": "stdout",
     "output_type": "stream",
     "text": [
      "1770\n",
      "Wed Jul 31 18:55:54 2024\n"
     ]
    },
    {
     "name": "stderr",
     "output_type": "stream",
     "text": [
      "Processing texts:  19%|███████████▎                                                | 1830/9694 [06:53<29:31,  4.44it/s]"
     ]
    },
    {
     "name": "stdout",
     "output_type": "stream",
     "text": [
      "1800\n",
      "Wed Jul 31 18:56:00 2024\n"
     ]
    },
    {
     "name": "stderr",
     "output_type": "stream",
     "text": [
      "Processing texts:  19%|███████████▌                                                | 1860/9694 [07:00<29:41,  4.40it/s]"
     ]
    },
    {
     "name": "stdout",
     "output_type": "stream",
     "text": [
      "1830\n",
      "Wed Jul 31 18:56:07 2024\n"
     ]
    },
    {
     "name": "stderr",
     "output_type": "stream",
     "text": [
      "Processing texts:  19%|███████████▋                                                | 1890/9694 [07:07<29:20,  4.43it/s]"
     ]
    },
    {
     "name": "stdout",
     "output_type": "stream",
     "text": [
      "1860\n",
      "Wed Jul 31 18:56:14 2024\n"
     ]
    },
    {
     "name": "stderr",
     "output_type": "stream",
     "text": [
      "Processing texts:  20%|███████████▉                                                | 1920/9694 [07:13<29:09,  4.44it/s]"
     ]
    },
    {
     "name": "stdout",
     "output_type": "stream",
     "text": [
      "1890\n",
      "Wed Jul 31 18:56:21 2024\n"
     ]
    },
    {
     "name": "stderr",
     "output_type": "stream",
     "text": [
      "Processing texts:  20%|████████████                                                | 1950/9694 [07:20<28:59,  4.45it/s]"
     ]
    },
    {
     "name": "stdout",
     "output_type": "stream",
     "text": [
      "1920\n",
      "Wed Jul 31 18:56:27 2024\n"
     ]
    },
    {
     "name": "stderr",
     "output_type": "stream",
     "text": [
      "Processing texts:  20%|████████████▎                                               | 1980/9694 [07:27<28:52,  4.45it/s]"
     ]
    },
    {
     "name": "stdout",
     "output_type": "stream",
     "text": [
      "1950\n",
      "Wed Jul 31 18:56:34 2024\n"
     ]
    },
    {
     "name": "stderr",
     "output_type": "stream",
     "text": [
      "Processing texts:  21%|████████████▍                                               | 2010/9694 [07:34<28:42,  4.46it/s]"
     ]
    },
    {
     "name": "stdout",
     "output_type": "stream",
     "text": [
      "1980\n",
      "Wed Jul 31 18:56:41 2024\n"
     ]
    },
    {
     "name": "stderr",
     "output_type": "stream",
     "text": [
      "Processing texts:  21%|████████████▋                                               | 2040/9694 [07:40<28:28,  4.48it/s]"
     ]
    },
    {
     "name": "stdout",
     "output_type": "stream",
     "text": [
      "2010\n",
      "Wed Jul 31 18:56:48 2024\n"
     ]
    },
    {
     "name": "stderr",
     "output_type": "stream",
     "text": [
      "Processing texts:  21%|████████████▊                                               | 2070/9694 [07:47<28:18,  4.49it/s]"
     ]
    },
    {
     "name": "stdout",
     "output_type": "stream",
     "text": [
      "2040\n",
      "Wed Jul 31 18:56:54 2024\n"
     ]
    },
    {
     "name": "stderr",
     "output_type": "stream",
     "text": [
      "Processing texts:  22%|████████████▉                                               | 2100/9694 [07:54<28:14,  4.48it/s]"
     ]
    },
    {
     "name": "stdout",
     "output_type": "stream",
     "text": [
      "2070\n",
      "Wed Jul 31 18:57:01 2024\n"
     ]
    },
    {
     "name": "stderr",
     "output_type": "stream",
     "text": [
      "Processing texts:  22%|█████████████▏                                              | 2130/9694 [08:00<28:09,  4.48it/s]"
     ]
    },
    {
     "name": "stdout",
     "output_type": "stream",
     "text": [
      "2100\n",
      "Wed Jul 31 18:57:08 2024\n"
     ]
    },
    {
     "name": "stderr",
     "output_type": "stream",
     "text": [
      "Processing texts:  22%|█████████████▎                                              | 2160/9694 [08:07<27:57,  4.49it/s]"
     ]
    },
    {
     "name": "stdout",
     "output_type": "stream",
     "text": [
      "2130\n",
      "Wed Jul 31 18:57:14 2024\n"
     ]
    },
    {
     "name": "stderr",
     "output_type": "stream",
     "text": [
      "Processing texts:  23%|█████████████▌                                              | 2190/9694 [08:14<27:49,  4.49it/s]"
     ]
    },
    {
     "name": "stdout",
     "output_type": "stream",
     "text": [
      "2160\n",
      "Wed Jul 31 18:57:21 2024\n"
     ]
    },
    {
     "name": "stderr",
     "output_type": "stream",
     "text": [
      "Processing texts:  23%|█████████████▋                                              | 2220/9694 [08:20<27:50,  4.47it/s]"
     ]
    },
    {
     "name": "stdout",
     "output_type": "stream",
     "text": [
      "2190\n",
      "Wed Jul 31 18:57:28 2024\n"
     ]
    },
    {
     "name": "stderr",
     "output_type": "stream",
     "text": [
      "Processing texts:  23%|█████████████▉                                              | 2250/9694 [08:27<28:01,  4.43it/s]"
     ]
    },
    {
     "name": "stdout",
     "output_type": "stream",
     "text": [
      "2220\n",
      "Wed Jul 31 18:57:35 2024\n"
     ]
    },
    {
     "name": "stderr",
     "output_type": "stream",
     "text": [
      "Processing texts:  24%|██████████████                                              | 2280/9694 [08:34<27:59,  4.41it/s]"
     ]
    },
    {
     "name": "stdout",
     "output_type": "stream",
     "text": [
      "2250\n",
      "Wed Jul 31 18:57:41 2024\n"
     ]
    },
    {
     "name": "stderr",
     "output_type": "stream",
     "text": [
      "Processing texts:  24%|██████████████▎                                             | 2310/9694 [08:41<27:58,  4.40it/s]"
     ]
    },
    {
     "name": "stdout",
     "output_type": "stream",
     "text": [
      "2280\n",
      "Wed Jul 31 18:57:48 2024\n"
     ]
    },
    {
     "name": "stderr",
     "output_type": "stream",
     "text": [
      "Processing texts:  24%|██████████████▍                                             | 2340/9694 [08:48<27:40,  4.43it/s]"
     ]
    },
    {
     "name": "stdout",
     "output_type": "stream",
     "text": [
      "2310\n",
      "Wed Jul 31 18:57:55 2024\n"
     ]
    },
    {
     "name": "stderr",
     "output_type": "stream",
     "text": [
      "Processing texts:  24%|██████████████▋                                             | 2370/9694 [08:54<27:25,  4.45it/s]"
     ]
    },
    {
     "name": "stdout",
     "output_type": "stream",
     "text": [
      "2340\n",
      "Wed Jul 31 18:58:02 2024\n"
     ]
    },
    {
     "name": "stderr",
     "output_type": "stream",
     "text": [
      "Processing texts:  25%|██████████████▊                                             | 2400/9694 [09:01<27:10,  4.47it/s]"
     ]
    },
    {
     "name": "stdout",
     "output_type": "stream",
     "text": [
      "2370\n",
      "Wed Jul 31 18:58:08 2024\n"
     ]
    },
    {
     "name": "stderr",
     "output_type": "stream",
     "text": [
      "Processing texts:  25%|███████████████                                             | 2430/9694 [09:08<26:58,  4.49it/s]"
     ]
    },
    {
     "name": "stdout",
     "output_type": "stream",
     "text": [
      "2400\n",
      "Wed Jul 31 18:58:15 2024\n"
     ]
    },
    {
     "name": "stderr",
     "output_type": "stream",
     "text": [
      "Processing texts:  25%|███████████████▏                                            | 2460/9694 [09:14<26:45,  4.51it/s]"
     ]
    },
    {
     "name": "stdout",
     "output_type": "stream",
     "text": [
      "2430\n",
      "Wed Jul 31 18:58:22 2024\n"
     ]
    },
    {
     "name": "stderr",
     "output_type": "stream",
     "text": [
      "Processing texts:  26%|███████████████▍                                            | 2490/9694 [09:21<26:37,  4.51it/s]"
     ]
    },
    {
     "name": "stdout",
     "output_type": "stream",
     "text": [
      "2460\n",
      "Wed Jul 31 18:58:28 2024\n"
     ]
    },
    {
     "name": "stderr",
     "output_type": "stream",
     "text": [
      "Processing texts:  26%|███████████████▌                                            | 2520/9694 [09:28<26:33,  4.50it/s]"
     ]
    },
    {
     "name": "stdout",
     "output_type": "stream",
     "text": [
      "2490\n",
      "Wed Jul 31 18:58:35 2024\n"
     ]
    },
    {
     "name": "stderr",
     "output_type": "stream",
     "text": [
      "Processing texts:  26%|███████████████▊                                            | 2550/9694 [09:34<26:35,  4.48it/s]"
     ]
    },
    {
     "name": "stdout",
     "output_type": "stream",
     "text": [
      "2520\n",
      "Wed Jul 31 18:58:42 2024\n"
     ]
    },
    {
     "name": "stderr",
     "output_type": "stream",
     "text": [
      "Processing texts:  27%|███████████████▉                                            | 2580/9694 [09:41<26:24,  4.49it/s]"
     ]
    },
    {
     "name": "stdout",
     "output_type": "stream",
     "text": [
      "2550\n",
      "Wed Jul 31 18:58:48 2024\n"
     ]
    },
    {
     "name": "stderr",
     "output_type": "stream",
     "text": [
      "Processing texts:  27%|████████████████▏                                           | 2610/9694 [09:48<26:23,  4.47it/s]"
     ]
    },
    {
     "name": "stdout",
     "output_type": "stream",
     "text": [
      "2580\n",
      "Wed Jul 31 18:58:55 2024\n"
     ]
    },
    {
     "name": "stderr",
     "output_type": "stream",
     "text": [
      "Processing texts:  27%|████████████████▎                                           | 2640/9694 [09:54<26:18,  4.47it/s]"
     ]
    },
    {
     "name": "stdout",
     "output_type": "stream",
     "text": [
      "2610\n",
      "Wed Jul 31 18:59:02 2024\n"
     ]
    },
    {
     "name": "stderr",
     "output_type": "stream",
     "text": [
      "Processing texts:  28%|████████████████▌                                           | 2670/9694 [10:01<26:07,  4.48it/s]"
     ]
    },
    {
     "name": "stdout",
     "output_type": "stream",
     "text": [
      "2640\n",
      "Wed Jul 31 18:59:08 2024\n"
     ]
    },
    {
     "name": "stderr",
     "output_type": "stream",
     "text": [
      "Processing texts:  28%|████████████████▋                                           | 2700/9694 [10:08<25:58,  4.49it/s]"
     ]
    },
    {
     "name": "stdout",
     "output_type": "stream",
     "text": [
      "2670\n",
      "Wed Jul 31 18:59:15 2024\n"
     ]
    },
    {
     "name": "stderr",
     "output_type": "stream",
     "text": [
      "Processing texts:  28%|████████████████▉                                           | 2730/9694 [10:14<25:50,  4.49it/s]"
     ]
    },
    {
     "name": "stdout",
     "output_type": "stream",
     "text": [
      "2700\n",
      "Wed Jul 31 18:59:22 2024\n"
     ]
    },
    {
     "name": "stderr",
     "output_type": "stream",
     "text": [
      "Processing texts:  28%|█████████████████                                           | 2760/9694 [10:21<26:09,  4.42it/s]"
     ]
    },
    {
     "name": "stdout",
     "output_type": "stream",
     "text": [
      "2730\n",
      "Wed Jul 31 18:59:29 2024\n"
     ]
    },
    {
     "name": "stderr",
     "output_type": "stream",
     "text": [
      "Processing texts:  29%|█████████████████▎                                          | 2790/9694 [10:28<25:57,  4.43it/s]"
     ]
    },
    {
     "name": "stdout",
     "output_type": "stream",
     "text": [
      "2760\n",
      "Wed Jul 31 18:59:35 2024\n"
     ]
    },
    {
     "name": "stderr",
     "output_type": "stream",
     "text": [
      "Processing texts:  29%|█████████████████▍                                          | 2820/9694 [10:35<25:58,  4.41it/s]"
     ]
    },
    {
     "name": "stdout",
     "output_type": "stream",
     "text": [
      "2790\n",
      "Wed Jul 31 18:59:42 2024\n"
     ]
    },
    {
     "name": "stderr",
     "output_type": "stream",
     "text": [
      "Processing texts:  29%|█████████████████▋                                          | 2850/9694 [10:42<25:45,  4.43it/s]"
     ]
    },
    {
     "name": "stdout",
     "output_type": "stream",
     "text": [
      "2820\n",
      "Wed Jul 31 18:59:49 2024\n"
     ]
    },
    {
     "name": "stderr",
     "output_type": "stream",
     "text": [
      "Processing texts:  30%|█████████████████▊                                          | 2880/9694 [10:49<25:53,  4.39it/s]"
     ]
    },
    {
     "name": "stdout",
     "output_type": "stream",
     "text": [
      "2850\n",
      "Wed Jul 31 18:59:56 2024\n"
     ]
    },
    {
     "name": "stderr",
     "output_type": "stream",
     "text": [
      "Processing texts:  30%|██████████████████                                          | 2910/9694 [10:55<25:39,  4.41it/s]"
     ]
    },
    {
     "name": "stdout",
     "output_type": "stream",
     "text": [
      "2880\n",
      "Wed Jul 31 19:00:03 2024\n"
     ]
    },
    {
     "name": "stderr",
     "output_type": "stream",
     "text": [
      "Processing texts:  30%|██████████████████▏                                         | 2940/9694 [11:02<25:28,  4.42it/s]"
     ]
    },
    {
     "name": "stdout",
     "output_type": "stream",
     "text": [
      "2910\n",
      "Wed Jul 31 19:00:10 2024\n"
     ]
    },
    {
     "name": "stderr",
     "output_type": "stream",
     "text": [
      "Processing texts:  31%|██████████████████▍                                         | 2970/9694 [11:09<25:17,  4.43it/s]"
     ]
    },
    {
     "name": "stdout",
     "output_type": "stream",
     "text": [
      "2940\n",
      "Wed Jul 31 19:00:16 2024\n"
     ]
    },
    {
     "name": "stderr",
     "output_type": "stream",
     "text": [
      "Processing texts:  31%|██████████████████▌                                         | 3000/9694 [11:16<25:10,  4.43it/s]"
     ]
    },
    {
     "name": "stdout",
     "output_type": "stream",
     "text": [
      "2970\n",
      "Wed Jul 31 19:00:23 2024\n"
     ]
    },
    {
     "name": "stderr",
     "output_type": "stream",
     "text": [
      "Processing texts:  31%|██████████████████▊                                         | 3030/9694 [11:22<25:02,  4.44it/s]"
     ]
    },
    {
     "name": "stdout",
     "output_type": "stream",
     "text": [
      "3000\n",
      "Wed Jul 31 19:00:30 2024\n"
     ]
    },
    {
     "name": "stderr",
     "output_type": "stream",
     "text": [
      "Processing texts:  32%|██████████████████▉                                         | 3060/9694 [11:29<24:55,  4.44it/s]"
     ]
    },
    {
     "name": "stdout",
     "output_type": "stream",
     "text": [
      "3030\n",
      "Wed Jul 31 19:00:37 2024\n"
     ]
    },
    {
     "name": "stderr",
     "output_type": "stream",
     "text": [
      "Processing texts:  32%|███████████████████▏                                        | 3090/9694 [11:36<24:52,  4.42it/s]"
     ]
    },
    {
     "name": "stdout",
     "output_type": "stream",
     "text": [
      "3060\n",
      "Wed Jul 31 19:00:43 2024\n"
     ]
    },
    {
     "name": "stderr",
     "output_type": "stream",
     "text": [
      "Processing texts:  32%|███████████████████▎                                        | 3120/9694 [11:43<25:09,  4.35it/s]"
     ]
    },
    {
     "name": "stdout",
     "output_type": "stream",
     "text": [
      "3090\n",
      "Wed Jul 31 19:00:51 2024\n"
     ]
    },
    {
     "name": "stderr",
     "output_type": "stream",
     "text": [
      "Processing texts:  32%|███████████████████▍                                        | 3150/9694 [11:50<24:48,  4.40it/s]"
     ]
    },
    {
     "name": "stdout",
     "output_type": "stream",
     "text": [
      "3120\n",
      "Wed Jul 31 19:00:57 2024\n"
     ]
    },
    {
     "name": "stderr",
     "output_type": "stream",
     "text": [
      "Processing texts:  33%|███████████████████▋                                        | 3180/9694 [11:57<24:37,  4.41it/s]"
     ]
    },
    {
     "name": "stdout",
     "output_type": "stream",
     "text": [
      "3150\n",
      "Wed Jul 31 19:01:04 2024\n"
     ]
    },
    {
     "name": "stderr",
     "output_type": "stream",
     "text": [
      "Processing texts:  33%|███████████████████▊                                        | 3210/9694 [12:03<24:32,  4.40it/s]"
     ]
    },
    {
     "name": "stdout",
     "output_type": "stream",
     "text": [
      "3180\n",
      "Wed Jul 31 19:01:11 2024\n"
     ]
    },
    {
     "name": "stderr",
     "output_type": "stream",
     "text": [
      "Processing texts:  33%|████████████████████                                        | 3240/9694 [12:10<24:27,  4.40it/s]"
     ]
    },
    {
     "name": "stdout",
     "output_type": "stream",
     "text": [
      "3210\n",
      "Wed Jul 31 19:01:18 2024\n"
     ]
    },
    {
     "name": "stderr",
     "output_type": "stream",
     "text": [
      "Processing texts:  34%|████████████████████▏                                       | 3270/9694 [12:17<24:16,  4.41it/s]"
     ]
    },
    {
     "name": "stdout",
     "output_type": "stream",
     "text": [
      "3240\n",
      "Wed Jul 31 19:01:24 2024\n"
     ]
    },
    {
     "name": "stderr",
     "output_type": "stream",
     "text": [
      "Processing texts:  34%|████████████████████▍                                       | 3300/9694 [12:24<24:10,  4.41it/s]"
     ]
    },
    {
     "name": "stdout",
     "output_type": "stream",
     "text": [
      "3270\n",
      "Wed Jul 31 19:01:31 2024\n"
     ]
    },
    {
     "name": "stderr",
     "output_type": "stream",
     "text": [
      "Processing texts:  34%|████████████████████▌                                       | 3330/9694 [12:31<23:54,  4.44it/s]"
     ]
    },
    {
     "name": "stdout",
     "output_type": "stream",
     "text": [
      "3300\n",
      "Wed Jul 31 19:01:38 2024\n"
     ]
    },
    {
     "name": "stderr",
     "output_type": "stream",
     "text": [
      "Processing texts:  35%|████████████████████▊                                       | 3360/9694 [12:38<24:03,  4.39it/s]"
     ]
    },
    {
     "name": "stdout",
     "output_type": "stream",
     "text": [
      "3330\n",
      "Wed Jul 31 19:01:45 2024\n"
     ]
    },
    {
     "name": "stderr",
     "output_type": "stream",
     "text": [
      "Processing texts:  35%|████████████████████▉                                       | 3390/9694 [12:44<23:48,  4.41it/s]"
     ]
    },
    {
     "name": "stdout",
     "output_type": "stream",
     "text": [
      "3360\n",
      "Wed Jul 31 19:01:52 2024\n"
     ]
    },
    {
     "name": "stderr",
     "output_type": "stream",
     "text": [
      "Processing texts:  35%|█████████████████████▏                                      | 3420/9694 [12:51<23:32,  4.44it/s]"
     ]
    },
    {
     "name": "stdout",
     "output_type": "stream",
     "text": [
      "3390\n",
      "Wed Jul 31 19:01:58 2024\n"
     ]
    },
    {
     "name": "stderr",
     "output_type": "stream",
     "text": [
      "Processing texts:  36%|█████████████████████▎                                      | 3450/9694 [12:58<23:21,  4.45it/s]"
     ]
    },
    {
     "name": "stdout",
     "output_type": "stream",
     "text": [
      "3420\n",
      "Wed Jul 31 19:02:05 2024\n"
     ]
    },
    {
     "name": "stderr",
     "output_type": "stream",
     "text": [
      "Processing texts:  36%|█████████████████████▌                                      | 3480/9694 [13:04<23:11,  4.47it/s]"
     ]
    },
    {
     "name": "stdout",
     "output_type": "stream",
     "text": [
      "3450\n",
      "Wed Jul 31 19:02:12 2024\n"
     ]
    },
    {
     "name": "stderr",
     "output_type": "stream",
     "text": [
      "Processing texts:  36%|█████████████████████▋                                      | 3510/9694 [13:11<23:02,  4.47it/s]"
     ]
    },
    {
     "name": "stdout",
     "output_type": "stream",
     "text": [
      "3480\n",
      "Wed Jul 31 19:02:18 2024\n"
     ]
    },
    {
     "name": "stderr",
     "output_type": "stream",
     "text": [
      "Processing texts:  37%|█████████████████████▉                                      | 3540/9694 [13:18<22:52,  4.49it/s]"
     ]
    },
    {
     "name": "stdout",
     "output_type": "stream",
     "text": [
      "3510\n",
      "Wed Jul 31 19:02:25 2024\n"
     ]
    },
    {
     "name": "stderr",
     "output_type": "stream",
     "text": [
      "Processing texts:  37%|██████████████████████                                      | 3570/9694 [13:24<22:43,  4.49it/s]"
     ]
    },
    {
     "name": "stdout",
     "output_type": "stream",
     "text": [
      "3540\n",
      "Wed Jul 31 19:02:32 2024\n"
     ]
    },
    {
     "name": "stderr",
     "output_type": "stream",
     "text": [
      "Processing texts:  37%|██████████████████████▎                                     | 3600/9694 [13:31<22:39,  4.48it/s]"
     ]
    },
    {
     "name": "stdout",
     "output_type": "stream",
     "text": [
      "3570\n",
      "Wed Jul 31 19:02:38 2024\n"
     ]
    },
    {
     "name": "stderr",
     "output_type": "stream",
     "text": [
      "Processing texts:  37%|██████████████████████▍                                     | 3630/9694 [13:38<22:30,  4.49it/s]"
     ]
    },
    {
     "name": "stdout",
     "output_type": "stream",
     "text": [
      "3600\n",
      "Wed Jul 31 19:02:45 2024\n"
     ]
    },
    {
     "name": "stderr",
     "output_type": "stream",
     "text": [
      "Processing texts:  38%|██████████████████████▋                                     | 3660/9694 [13:44<22:22,  4.49it/s]"
     ]
    },
    {
     "name": "stdout",
     "output_type": "stream",
     "text": [
      "3630\n",
      "Wed Jul 31 19:02:52 2024\n"
     ]
    },
    {
     "name": "stderr",
     "output_type": "stream",
     "text": [
      "Processing texts:  38%|██████████████████████▊                                     | 3690/9694 [13:51<22:18,  4.49it/s]"
     ]
    },
    {
     "name": "stdout",
     "output_type": "stream",
     "text": [
      "3660\n",
      "Wed Jul 31 19:02:58 2024\n"
     ]
    },
    {
     "name": "stderr",
     "output_type": "stream",
     "text": [
      "Processing texts:  38%|███████████████████████                                     | 3720/9694 [13:58<22:12,  4.48it/s]"
     ]
    },
    {
     "name": "stdout",
     "output_type": "stream",
     "text": [
      "3690\n",
      "Wed Jul 31 19:03:05 2024\n"
     ]
    },
    {
     "name": "stderr",
     "output_type": "stream",
     "text": [
      "Processing texts:  39%|███████████████████████▏                                    | 3750/9694 [14:04<22:03,  4.49it/s]"
     ]
    },
    {
     "name": "stdout",
     "output_type": "stream",
     "text": [
      "3720\n",
      "Wed Jul 31 19:03:12 2024\n"
     ]
    },
    {
     "name": "stderr",
     "output_type": "stream",
     "text": [
      "Processing texts:  39%|███████████████████████▍                                    | 3780/9694 [14:11<21:57,  4.49it/s]"
     ]
    },
    {
     "name": "stdout",
     "output_type": "stream",
     "text": [
      "3750\n",
      "Wed Jul 31 19:03:18 2024\n"
     ]
    },
    {
     "name": "stderr",
     "output_type": "stream",
     "text": [
      "Processing texts:  39%|███████████████████████▌                                    | 3810/9694 [14:18<21:50,  4.49it/s]"
     ]
    },
    {
     "name": "stdout",
     "output_type": "stream",
     "text": [
      "3780\n",
      "Wed Jul 31 19:03:25 2024\n"
     ]
    },
    {
     "name": "stderr",
     "output_type": "stream",
     "text": [
      "Processing texts:  40%|███████████████████████▊                                    | 3840/9694 [14:24<21:42,  4.49it/s]"
     ]
    },
    {
     "name": "stdout",
     "output_type": "stream",
     "text": [
      "3810\n",
      "Wed Jul 31 19:03:32 2024\n"
     ]
    },
    {
     "name": "stderr",
     "output_type": "stream",
     "text": [
      "Processing texts:  40%|███████████████████████▉                                    | 3870/9694 [14:31<21:34,  4.50it/s]"
     ]
    },
    {
     "name": "stdout",
     "output_type": "stream",
     "text": [
      "3840\n",
      "Wed Jul 31 19:03:38 2024\n"
     ]
    },
    {
     "name": "stderr",
     "output_type": "stream",
     "text": [
      "Processing texts:  40%|████████████████████████▏                                   | 3900/9694 [14:38<21:27,  4.50it/s]"
     ]
    },
    {
     "name": "stdout",
     "output_type": "stream",
     "text": [
      "3870\n",
      "Wed Jul 31 19:03:45 2024\n"
     ]
    },
    {
     "name": "stderr",
     "output_type": "stream",
     "text": [
      "Processing texts:  41%|████████████████████████▎                                   | 3930/9694 [14:44<21:19,  4.51it/s]"
     ]
    },
    {
     "name": "stdout",
     "output_type": "stream",
     "text": [
      "3900\n",
      "Wed Jul 31 19:03:52 2024\n"
     ]
    },
    {
     "name": "stderr",
     "output_type": "stream",
     "text": [
      "Processing texts:  41%|████████████████████████▌                                   | 3960/9694 [14:51<21:13,  4.50it/s]"
     ]
    },
    {
     "name": "stdout",
     "output_type": "stream",
     "text": [
      "3930\n",
      "Wed Jul 31 19:03:58 2024\n"
     ]
    },
    {
     "name": "stderr",
     "output_type": "stream",
     "text": [
      "Processing texts:  41%|████████████████████████▋                                   | 3990/9694 [14:58<21:08,  4.50it/s]"
     ]
    },
    {
     "name": "stdout",
     "output_type": "stream",
     "text": [
      "3960\n",
      "Wed Jul 31 19:04:05 2024\n"
     ]
    },
    {
     "name": "stderr",
     "output_type": "stream",
     "text": [
      "Processing texts:  41%|████████████████████████▉                                   | 4020/9694 [15:04<21:02,  4.49it/s]"
     ]
    },
    {
     "name": "stdout",
     "output_type": "stream",
     "text": [
      "3990\n",
      "Wed Jul 31 19:04:12 2024\n"
     ]
    },
    {
     "name": "stderr",
     "output_type": "stream",
     "text": [
      "Processing texts:  42%|█████████████████████████                                   | 4050/9694 [15:11<20:55,  4.49it/s]"
     ]
    },
    {
     "name": "stdout",
     "output_type": "stream",
     "text": [
      "4020\n",
      "Wed Jul 31 19:04:18 2024\n"
     ]
    },
    {
     "name": "stderr",
     "output_type": "stream",
     "text": [
      "Processing texts:  42%|█████████████████████████▎                                  | 4080/9694 [15:18<20:50,  4.49it/s]"
     ]
    },
    {
     "name": "stdout",
     "output_type": "stream",
     "text": [
      "4050\n",
      "Wed Jul 31 19:04:25 2024\n"
     ]
    },
    {
     "name": "stderr",
     "output_type": "stream",
     "text": [
      "Processing texts:  42%|█████████████████████████▍                                  | 4110/9694 [15:24<20:44,  4.49it/s]"
     ]
    },
    {
     "name": "stdout",
     "output_type": "stream",
     "text": [
      "4080\n",
      "Wed Jul 31 19:04:32 2024\n"
     ]
    },
    {
     "name": "stderr",
     "output_type": "stream",
     "text": [
      "Processing texts:  43%|█████████████████████████▌                                  | 4140/9694 [15:31<20:37,  4.49it/s]"
     ]
    },
    {
     "name": "stdout",
     "output_type": "stream",
     "text": [
      "4110\n",
      "Wed Jul 31 19:04:38 2024\n"
     ]
    },
    {
     "name": "stderr",
     "output_type": "stream",
     "text": [
      "Processing texts:  43%|█████████████████████████▊                                  | 4170/9694 [15:38<20:28,  4.50it/s]"
     ]
    },
    {
     "name": "stdout",
     "output_type": "stream",
     "text": [
      "4140\n",
      "Wed Jul 31 19:04:45 2024\n"
     ]
    },
    {
     "name": "stderr",
     "output_type": "stream",
     "text": [
      "Processing texts:  43%|█████████████████████████▉                                  | 4200/9694 [15:44<20:20,  4.50it/s]"
     ]
    },
    {
     "name": "stdout",
     "output_type": "stream",
     "text": [
      "4170\n",
      "Wed Jul 31 19:04:52 2024\n"
     ]
    },
    {
     "name": "stderr",
     "output_type": "stream",
     "text": [
      "Processing texts:  44%|██████████████████████████▏                                 | 4230/9694 [15:51<20:15,  4.49it/s]"
     ]
    },
    {
     "name": "stdout",
     "output_type": "stream",
     "text": [
      "4200\n",
      "Wed Jul 31 19:04:58 2024\n"
     ]
    },
    {
     "name": "stderr",
     "output_type": "stream",
     "text": [
      "Processing texts:  44%|██████████████████████████▎                                 | 4260/9694 [15:58<20:11,  4.49it/s]"
     ]
    },
    {
     "name": "stdout",
     "output_type": "stream",
     "text": [
      "4230\n",
      "Wed Jul 31 19:05:05 2024\n"
     ]
    },
    {
     "name": "stderr",
     "output_type": "stream",
     "text": [
      "Processing texts:  44%|██████████████████████████▌                                 | 4290/9694 [16:05<20:06,  4.48it/s]"
     ]
    },
    {
     "name": "stdout",
     "output_type": "stream",
     "text": [
      "4260\n",
      "Wed Jul 31 19:05:12 2024\n"
     ]
    },
    {
     "name": "stderr",
     "output_type": "stream",
     "text": [
      "Processing texts:  45%|██████████████████████████▋                                 | 4320/9694 [16:11<19:58,  4.48it/s]"
     ]
    },
    {
     "name": "stdout",
     "output_type": "stream",
     "text": [
      "4290\n",
      "Wed Jul 31 19:05:19 2024\n"
     ]
    },
    {
     "name": "stderr",
     "output_type": "stream",
     "text": [
      "Processing texts:  45%|██████████████████████████▉                                 | 4350/9694 [16:18<19:51,  4.49it/s]"
     ]
    },
    {
     "name": "stdout",
     "output_type": "stream",
     "text": [
      "4320\n",
      "Wed Jul 31 19:05:25 2024\n"
     ]
    },
    {
     "name": "stderr",
     "output_type": "stream",
     "text": [
      "Processing texts:  45%|███████████████████████████                                 | 4380/9694 [16:25<19:44,  4.49it/s]"
     ]
    },
    {
     "name": "stdout",
     "output_type": "stream",
     "text": [
      "4350\n",
      "Wed Jul 31 19:05:32 2024\n"
     ]
    },
    {
     "name": "stderr",
     "output_type": "stream",
     "text": [
      "Processing texts:  45%|███████████████████████████▎                                | 4410/9694 [16:31<19:37,  4.49it/s]"
     ]
    },
    {
     "name": "stdout",
     "output_type": "stream",
     "text": [
      "4380\n",
      "Wed Jul 31 19:05:39 2024\n"
     ]
    },
    {
     "name": "stderr",
     "output_type": "stream",
     "text": [
      "Processing texts:  46%|███████████████████████████▍                                | 4440/9694 [16:38<19:29,  4.49it/s]"
     ]
    },
    {
     "name": "stdout",
     "output_type": "stream",
     "text": [
      "4410\n",
      "Wed Jul 31 19:05:45 2024\n"
     ]
    },
    {
     "name": "stderr",
     "output_type": "stream",
     "text": [
      "Processing texts:  46%|███████████████████████████▋                                | 4470/9694 [16:45<19:24,  4.48it/s]"
     ]
    },
    {
     "name": "stdout",
     "output_type": "stream",
     "text": [
      "4440\n",
      "Wed Jul 31 19:05:52 2024\n"
     ]
    },
    {
     "name": "stderr",
     "output_type": "stream",
     "text": [
      "Processing texts:  46%|███████████████████████████▊                                | 4500/9694 [16:51<19:18,  4.48it/s]"
     ]
    },
    {
     "name": "stdout",
     "output_type": "stream",
     "text": [
      "4470\n",
      "Wed Jul 31 19:05:59 2024\n"
     ]
    },
    {
     "name": "stderr",
     "output_type": "stream",
     "text": [
      "Processing texts:  47%|████████████████████████████                                | 4530/9694 [16:58<19:10,  4.49it/s]"
     ]
    },
    {
     "name": "stdout",
     "output_type": "stream",
     "text": [
      "4500\n",
      "Wed Jul 31 19:06:05 2024\n"
     ]
    },
    {
     "name": "stderr",
     "output_type": "stream",
     "text": [
      "Processing texts:  47%|████████████████████████████▏                               | 4560/9694 [17:05<19:04,  4.49it/s]"
     ]
    },
    {
     "name": "stdout",
     "output_type": "stream",
     "text": [
      "4530\n",
      "Wed Jul 31 19:06:12 2024\n"
     ]
    },
    {
     "name": "stderr",
     "output_type": "stream",
     "text": [
      "Processing texts:  47%|████████████████████████████▍                               | 4590/9694 [17:11<18:56,  4.49it/s]"
     ]
    },
    {
     "name": "stdout",
     "output_type": "stream",
     "text": [
      "4560\n",
      "Wed Jul 31 19:06:19 2024\n"
     ]
    },
    {
     "name": "stderr",
     "output_type": "stream",
     "text": [
      "Processing texts:  48%|████████████████████████████▌                               | 4620/9694 [17:18<18:49,  4.49it/s]"
     ]
    },
    {
     "name": "stdout",
     "output_type": "stream",
     "text": [
      "4590\n",
      "Wed Jul 31 19:06:25 2024\n"
     ]
    },
    {
     "name": "stderr",
     "output_type": "stream",
     "text": [
      "Processing texts:  48%|████████████████████████████▊                               | 4650/9694 [17:25<18:44,  4.48it/s]"
     ]
    },
    {
     "name": "stdout",
     "output_type": "stream",
     "text": [
      "4620\n",
      "Wed Jul 31 19:06:32 2024\n"
     ]
    },
    {
     "name": "stderr",
     "output_type": "stream",
     "text": [
      "Processing texts:  48%|████████████████████████████▉                               | 4680/9694 [17:31<18:39,  4.48it/s]"
     ]
    },
    {
     "name": "stdout",
     "output_type": "stream",
     "text": [
      "4650\n",
      "Wed Jul 31 19:06:39 2024\n"
     ]
    },
    {
     "name": "stderr",
     "output_type": "stream",
     "text": [
      "Processing texts:  49%|█████████████████████████████▏                              | 4710/9694 [17:38<18:32,  4.48it/s]"
     ]
    },
    {
     "name": "stdout",
     "output_type": "stream",
     "text": [
      "4680\n",
      "Wed Jul 31 19:06:46 2024\n"
     ]
    },
    {
     "name": "stderr",
     "output_type": "stream",
     "text": [
      "Processing texts:  49%|█████████████████████████████▎                              | 4740/9694 [17:45<18:26,  4.48it/s]"
     ]
    },
    {
     "name": "stdout",
     "output_type": "stream",
     "text": [
      "4710\n",
      "Wed Jul 31 19:06:52 2024\n"
     ]
    },
    {
     "name": "stderr",
     "output_type": "stream",
     "text": [
      "Processing texts:  49%|█████████████████████████████▌                              | 4770/9694 [17:52<18:23,  4.46it/s]"
     ]
    },
    {
     "name": "stdout",
     "output_type": "stream",
     "text": [
      "4740\n",
      "Wed Jul 31 19:06:59 2024\n"
     ]
    },
    {
     "name": "stderr",
     "output_type": "stream",
     "text": [
      "Processing texts:  50%|█████████████████████████████▋                              | 4800/9694 [17:58<18:14,  4.47it/s]"
     ]
    },
    {
     "name": "stdout",
     "output_type": "stream",
     "text": [
      "4770\n",
      "Wed Jul 31 19:07:06 2024\n"
     ]
    },
    {
     "name": "stderr",
     "output_type": "stream",
     "text": [
      "Processing texts:  50%|█████████████████████████████▉                              | 4830/9694 [18:05<18:08,  4.47it/s]"
     ]
    },
    {
     "name": "stdout",
     "output_type": "stream",
     "text": [
      "4800\n",
      "Wed Jul 31 19:07:12 2024\n"
     ]
    },
    {
     "name": "stderr",
     "output_type": "stream",
     "text": [
      "Processing texts:  50%|██████████████████████████████                              | 4860/9694 [18:12<18:01,  4.47it/s]"
     ]
    },
    {
     "name": "stdout",
     "output_type": "stream",
     "text": [
      "4830\n",
      "Wed Jul 31 19:07:19 2024\n"
     ]
    },
    {
     "name": "stderr",
     "output_type": "stream",
     "text": [
      "Processing texts:  50%|██████████████████████████████▎                             | 4890/9694 [18:18<17:52,  4.48it/s]"
     ]
    },
    {
     "name": "stdout",
     "output_type": "stream",
     "text": [
      "4860\n",
      "Wed Jul 31 19:07:26 2024\n"
     ]
    },
    {
     "name": "stderr",
     "output_type": "stream",
     "text": [
      "Processing texts:  51%|██████████████████████████████▍                             | 4920/9694 [18:25<17:48,  4.47it/s]"
     ]
    },
    {
     "name": "stdout",
     "output_type": "stream",
     "text": [
      "4890\n",
      "Wed Jul 31 19:07:33 2024\n"
     ]
    },
    {
     "name": "stderr",
     "output_type": "stream",
     "text": [
      "Processing texts:  51%|██████████████████████████████▋                             | 4950/9694 [18:32<17:40,  4.47it/s]"
     ]
    },
    {
     "name": "stdout",
     "output_type": "stream",
     "text": [
      "4920\n",
      "Wed Jul 31 19:07:39 2024\n"
     ]
    },
    {
     "name": "stderr",
     "output_type": "stream",
     "text": [
      "Processing texts:  51%|██████████████████████████████▊                             | 4980/9694 [18:39<17:31,  4.48it/s]"
     ]
    },
    {
     "name": "stdout",
     "output_type": "stream",
     "text": [
      "4950\n",
      "Wed Jul 31 19:07:46 2024\n"
     ]
    },
    {
     "name": "stderr",
     "output_type": "stream",
     "text": [
      "Processing texts:  52%|███████████████████████████████                             | 5010/9694 [18:45<17:27,  4.47it/s]"
     ]
    },
    {
     "name": "stdout",
     "output_type": "stream",
     "text": [
      "4980\n",
      "Wed Jul 31 19:07:53 2024\n"
     ]
    },
    {
     "name": "stderr",
     "output_type": "stream",
     "text": [
      "Processing texts:  52%|███████████████████████████████▏                            | 5040/9694 [18:52<17:18,  4.48it/s]"
     ]
    },
    {
     "name": "stdout",
     "output_type": "stream",
     "text": [
      "5010\n",
      "Wed Jul 31 19:07:59 2024\n"
     ]
    },
    {
     "name": "stderr",
     "output_type": "stream",
     "text": [
      "Processing texts:  52%|███████████████████████████████▍                            | 5070/9694 [18:59<17:10,  4.49it/s]"
     ]
    },
    {
     "name": "stdout",
     "output_type": "stream",
     "text": [
      "5040\n",
      "Wed Jul 31 19:08:06 2024\n"
     ]
    },
    {
     "name": "stderr",
     "output_type": "stream",
     "text": [
      "Processing texts:  53%|███████████████████████████████▌                            | 5100/9694 [19:06<17:14,  4.44it/s]"
     ]
    },
    {
     "name": "stdout",
     "output_type": "stream",
     "text": [
      "5070\n",
      "Wed Jul 31 19:08:13 2024\n"
     ]
    },
    {
     "name": "stderr",
     "output_type": "stream",
     "text": [
      "Processing texts:  53%|███████████████████████████████▊                            | 5130/9694 [19:12<17:07,  4.44it/s]"
     ]
    },
    {
     "name": "stdout",
     "output_type": "stream",
     "text": [
      "5100\n",
      "Wed Jul 31 19:08:20 2024\n"
     ]
    },
    {
     "name": "stderr",
     "output_type": "stream",
     "text": [
      "Processing texts:  53%|███████████████████████████████▉                            | 5160/9694 [19:19<16:56,  4.46it/s]"
     ]
    },
    {
     "name": "stdout",
     "output_type": "stream",
     "text": [
      "5130\n",
      "Wed Jul 31 19:08:26 2024\n"
     ]
    },
    {
     "name": "stderr",
     "output_type": "stream",
     "text": [
      "Processing texts:  54%|████████████████████████████████                            | 5190/9694 [19:26<16:48,  4.46it/s]"
     ]
    },
    {
     "name": "stdout",
     "output_type": "stream",
     "text": [
      "5160\n",
      "Wed Jul 31 19:08:33 2024\n"
     ]
    },
    {
     "name": "stderr",
     "output_type": "stream",
     "text": [
      "Processing texts:  54%|████████████████████████████████▎                           | 5220/9694 [19:32<16:39,  4.48it/s]"
     ]
    },
    {
     "name": "stdout",
     "output_type": "stream",
     "text": [
      "5190\n",
      "Wed Jul 31 19:08:40 2024\n"
     ]
    },
    {
     "name": "stderr",
     "output_type": "stream",
     "text": [
      "Processing texts:  54%|████████████████████████████████▍                           | 5250/9694 [19:39<16:31,  4.48it/s]"
     ]
    },
    {
     "name": "stdout",
     "output_type": "stream",
     "text": [
      "5220\n",
      "Wed Jul 31 19:08:46 2024\n"
     ]
    },
    {
     "name": "stderr",
     "output_type": "stream",
     "text": [
      "Processing texts:  54%|████████████████████████████████▋                           | 5280/9694 [19:46<16:25,  4.48it/s]"
     ]
    },
    {
     "name": "stdout",
     "output_type": "stream",
     "text": [
      "5250\n",
      "Wed Jul 31 19:08:53 2024\n"
     ]
    },
    {
     "name": "stderr",
     "output_type": "stream",
     "text": [
      "Processing texts:  55%|████████████████████████████████▊                           | 5310/9694 [19:52<16:21,  4.47it/s]"
     ]
    },
    {
     "name": "stdout",
     "output_type": "stream",
     "text": [
      "5280\n",
      "Wed Jul 31 19:09:00 2024\n"
     ]
    },
    {
     "name": "stderr",
     "output_type": "stream",
     "text": [
      "Processing texts:  55%|█████████████████████████████████                           | 5340/9694 [19:59<16:13,  4.47it/s]"
     ]
    },
    {
     "name": "stdout",
     "output_type": "stream",
     "text": [
      "5310\n",
      "Wed Jul 31 19:09:06 2024\n"
     ]
    },
    {
     "name": "stderr",
     "output_type": "stream",
     "text": [
      "Processing texts:  55%|█████████████████████████████████▏                          | 5370/9694 [20:06<16:08,  4.46it/s]"
     ]
    },
    {
     "name": "stdout",
     "output_type": "stream",
     "text": [
      "5340\n",
      "Wed Jul 31 19:09:13 2024\n"
     ]
    },
    {
     "name": "stderr",
     "output_type": "stream",
     "text": [
      "Processing texts:  56%|█████████████████████████████████▍                          | 5400/9694 [20:13<16:01,  4.46it/s]"
     ]
    },
    {
     "name": "stdout",
     "output_type": "stream",
     "text": [
      "5370\n",
      "Wed Jul 31 19:09:20 2024\n"
     ]
    },
    {
     "name": "stderr",
     "output_type": "stream",
     "text": [
      "Processing texts:  56%|█████████████████████████████████▌                          | 5430/9694 [20:19<15:53,  4.47it/s]"
     ]
    },
    {
     "name": "stdout",
     "output_type": "stream",
     "text": [
      "5400\n",
      "Wed Jul 31 19:09:27 2024\n"
     ]
    },
    {
     "name": "stderr",
     "output_type": "stream",
     "text": [
      "Processing texts:  56%|█████████████████████████████████▊                          | 5460/9694 [20:26<15:46,  4.47it/s]"
     ]
    },
    {
     "name": "stdout",
     "output_type": "stream",
     "text": [
      "5430\n",
      "Wed Jul 31 19:09:33 2024\n"
     ]
    },
    {
     "name": "stderr",
     "output_type": "stream",
     "text": [
      "Processing texts:  57%|█████████████████████████████████▉                          | 5490/9694 [20:33<15:37,  4.48it/s]"
     ]
    },
    {
     "name": "stdout",
     "output_type": "stream",
     "text": [
      "5460\n",
      "Wed Jul 31 19:09:40 2024\n"
     ]
    },
    {
     "name": "stderr",
     "output_type": "stream",
     "text": [
      "Processing texts:  57%|██████████████████████████████████▏                         | 5520/9694 [20:39<15:30,  4.48it/s]"
     ]
    },
    {
     "name": "stdout",
     "output_type": "stream",
     "text": [
      "5490\n",
      "Wed Jul 31 19:09:47 2024\n"
     ]
    },
    {
     "name": "stderr",
     "output_type": "stream",
     "text": [
      "Processing texts:  57%|██████████████████████████████████▎                         | 5550/9694 [20:46<15:32,  4.45it/s]"
     ]
    },
    {
     "name": "stdout",
     "output_type": "stream",
     "text": [
      "5520\n",
      "Wed Jul 31 19:09:54 2024\n"
     ]
    },
    {
     "name": "stderr",
     "output_type": "stream",
     "text": [
      "Processing texts:  58%|██████████████████████████████████▌                         | 5580/9694 [20:53<15:24,  4.45it/s]"
     ]
    },
    {
     "name": "stdout",
     "output_type": "stream",
     "text": [
      "5550\n",
      "Wed Jul 31 19:10:00 2024\n"
     ]
    },
    {
     "name": "stderr",
     "output_type": "stream",
     "text": [
      "Processing texts:  58%|██████████████████████████████████▋                         | 5610/9694 [21:00<15:15,  4.46it/s]"
     ]
    },
    {
     "name": "stdout",
     "output_type": "stream",
     "text": [
      "5580\n",
      "Wed Jul 31 19:10:07 2024\n"
     ]
    },
    {
     "name": "stderr",
     "output_type": "stream",
     "text": [
      "Processing texts:  58%|██████████████████████████████████▉                         | 5640/9694 [21:06<15:07,  4.47it/s]"
     ]
    },
    {
     "name": "stdout",
     "output_type": "stream",
     "text": [
      "5610\n",
      "Wed Jul 31 19:10:14 2024\n"
     ]
    },
    {
     "name": "stderr",
     "output_type": "stream",
     "text": [
      "Processing texts:  58%|███████████████████████████████████                         | 5670/9694 [21:13<15:02,  4.46it/s]"
     ]
    },
    {
     "name": "stdout",
     "output_type": "stream",
     "text": [
      "5640\n",
      "Wed Jul 31 19:10:20 2024\n"
     ]
    },
    {
     "name": "stderr",
     "output_type": "stream",
     "text": [
      "Processing texts:  59%|███████████████████████████████████▎                        | 5700/9694 [21:20<14:56,  4.45it/s]"
     ]
    },
    {
     "name": "stdout",
     "output_type": "stream",
     "text": [
      "5670\n",
      "Wed Jul 31 19:10:27 2024\n"
     ]
    },
    {
     "name": "stderr",
     "output_type": "stream",
     "text": [
      "Processing texts:  59%|███████████████████████████████████▍                        | 5730/9694 [21:27<14:54,  4.43it/s]"
     ]
    },
    {
     "name": "stdout",
     "output_type": "stream",
     "text": [
      "5700\n",
      "Wed Jul 31 19:10:34 2024\n"
     ]
    },
    {
     "name": "stderr",
     "output_type": "stream",
     "text": [
      "Processing texts:  59%|███████████████████████████████████▋                        | 5760/9694 [21:33<14:44,  4.45it/s]"
     ]
    },
    {
     "name": "stdout",
     "output_type": "stream",
     "text": [
      "5730\n",
      "Wed Jul 31 19:10:41 2024\n"
     ]
    },
    {
     "name": "stderr",
     "output_type": "stream",
     "text": [
      "Processing texts:  60%|███████████████████████████████████▊                        | 5790/9694 [21:40<14:52,  4.38it/s]"
     ]
    },
    {
     "name": "stdout",
     "output_type": "stream",
     "text": [
      "5760\n",
      "Wed Jul 31 19:10:48 2024\n"
     ]
    },
    {
     "name": "stderr",
     "output_type": "stream",
     "text": [
      "Processing texts:  60%|████████████████████████████████████                        | 5820/9694 [21:47<14:40,  4.40it/s]"
     ]
    },
    {
     "name": "stdout",
     "output_type": "stream",
     "text": [
      "5790\n",
      "Wed Jul 31 19:10:55 2024\n"
     ]
    },
    {
     "name": "stderr",
     "output_type": "stream",
     "text": [
      "Processing texts:  60%|████████████████████████████████████▏                       | 5850/9694 [21:54<14:29,  4.42it/s]"
     ]
    },
    {
     "name": "stdout",
     "output_type": "stream",
     "text": [
      "5820\n",
      "Wed Jul 31 19:11:01 2024\n"
     ]
    },
    {
     "name": "stderr",
     "output_type": "stream",
     "text": [
      "Processing texts:  61%|████████████████████████████████████▍                       | 5880/9694 [22:01<14:21,  4.43it/s]"
     ]
    },
    {
     "name": "stdout",
     "output_type": "stream",
     "text": [
      "5850\n",
      "Wed Jul 31 19:11:08 2024\n"
     ]
    },
    {
     "name": "stderr",
     "output_type": "stream",
     "text": [
      "Processing texts:  61%|████████████████████████████████████▌                       | 5910/9694 [22:07<14:10,  4.45it/s]"
     ]
    },
    {
     "name": "stdout",
     "output_type": "stream",
     "text": [
      "5880\n",
      "Wed Jul 31 19:11:15 2024\n"
     ]
    },
    {
     "name": "stderr",
     "output_type": "stream",
     "text": [
      "Processing texts:  61%|████████████████████████████████████▊                       | 5940/9694 [22:14<14:03,  4.45it/s]"
     ]
    },
    {
     "name": "stdout",
     "output_type": "stream",
     "text": [
      "5910\n",
      "Wed Jul 31 19:11:21 2024\n"
     ]
    },
    {
     "name": "stderr",
     "output_type": "stream",
     "text": [
      "Processing texts:  62%|████████████████████████████████████▉                       | 5970/9694 [22:21<13:57,  4.45it/s]"
     ]
    },
    {
     "name": "stdout",
     "output_type": "stream",
     "text": [
      "5940\n",
      "Wed Jul 31 19:11:28 2024\n"
     ]
    },
    {
     "name": "stderr",
     "output_type": "stream",
     "text": [
      "Processing texts:  62%|█████████████████████████████████████▏                      | 6000/9694 [22:28<13:51,  4.44it/s]"
     ]
    },
    {
     "name": "stdout",
     "output_type": "stream",
     "text": [
      "5970\n",
      "Wed Jul 31 19:11:35 2024\n"
     ]
    },
    {
     "name": "stderr",
     "output_type": "stream",
     "text": [
      "Processing texts:  62%|█████████████████████████████████████▎                      | 6030/9694 [22:34<13:43,  4.45it/s]"
     ]
    },
    {
     "name": "stdout",
     "output_type": "stream",
     "text": [
      "6000\n",
      "Wed Jul 31 19:11:42 2024\n"
     ]
    },
    {
     "name": "stderr",
     "output_type": "stream",
     "text": [
      "Processing texts:  63%|█████████████████████████████████████▌                      | 6060/9694 [22:41<13:36,  4.45it/s]"
     ]
    },
    {
     "name": "stdout",
     "output_type": "stream",
     "text": [
      "6030\n",
      "Wed Jul 31 19:11:48 2024\n"
     ]
    },
    {
     "name": "stderr",
     "output_type": "stream",
     "text": [
      "Processing texts:  63%|█████████████████████████████████████▋                      | 6090/9694 [22:48<13:28,  4.46it/s]"
     ]
    },
    {
     "name": "stdout",
     "output_type": "stream",
     "text": [
      "6060\n",
      "Wed Jul 31 19:11:55 2024\n"
     ]
    },
    {
     "name": "stderr",
     "output_type": "stream",
     "text": [
      "Processing texts:  63%|█████████████████████████████████████▉                      | 6120/9694 [22:55<13:23,  4.45it/s]"
     ]
    },
    {
     "name": "stdout",
     "output_type": "stream",
     "text": [
      "6090\n",
      "Wed Jul 31 19:12:02 2024\n"
     ]
    },
    {
     "name": "stderr",
     "output_type": "stream",
     "text": [
      "Processing texts:  63%|██████████████████████████████████████                      | 6150/9694 [23:01<13:13,  4.47it/s]"
     ]
    },
    {
     "name": "stdout",
     "output_type": "stream",
     "text": [
      "6120\n",
      "Wed Jul 31 19:12:09 2024\n"
     ]
    },
    {
     "name": "stderr",
     "output_type": "stream",
     "text": [
      "Processing texts:  64%|██████████████████████████████████████▎                     | 6180/9694 [23:08<13:09,  4.45it/s]"
     ]
    },
    {
     "name": "stdout",
     "output_type": "stream",
     "text": [
      "6150\n",
      "Wed Jul 31 19:12:15 2024\n"
     ]
    },
    {
     "name": "stderr",
     "output_type": "stream",
     "text": [
      "Processing texts:  64%|██████████████████████████████████████▍                     | 6210/9694 [23:15<13:00,  4.46it/s]"
     ]
    },
    {
     "name": "stdout",
     "output_type": "stream",
     "text": [
      "6180\n",
      "Wed Jul 31 19:12:22 2024\n"
     ]
    },
    {
     "name": "stderr",
     "output_type": "stream",
     "text": [
      "Processing texts:  64%|██████████████████████████████████████▌                     | 6240/9694 [23:21<12:54,  4.46it/s]"
     ]
    },
    {
     "name": "stdout",
     "output_type": "stream",
     "text": [
      "6210\n",
      "Wed Jul 31 19:12:29 2024\n"
     ]
    },
    {
     "name": "stderr",
     "output_type": "stream",
     "text": [
      "Processing texts:  65%|██████████████████████████████████████▊                     | 6270/9694 [23:28<12:47,  4.46it/s]"
     ]
    },
    {
     "name": "stdout",
     "output_type": "stream",
     "text": [
      "6240\n",
      "Wed Jul 31 19:12:35 2024\n"
     ]
    },
    {
     "name": "stderr",
     "output_type": "stream",
     "text": [
      "Processing texts:  65%|██████████████████████████████████████▉                     | 6300/9694 [23:35<12:40,  4.46it/s]"
     ]
    },
    {
     "name": "stdout",
     "output_type": "stream",
     "text": [
      "6270\n",
      "Wed Jul 31 19:12:42 2024\n"
     ]
    },
    {
     "name": "stderr",
     "output_type": "stream",
     "text": [
      "Processing texts:  65%|███████████████████████████████████████▏                    | 6330/9694 [23:42<12:35,  4.45it/s]"
     ]
    },
    {
     "name": "stdout",
     "output_type": "stream",
     "text": [
      "6300\n",
      "Wed Jul 31 19:12:49 2024\n"
     ]
    },
    {
     "name": "stderr",
     "output_type": "stream",
     "text": [
      "Processing texts:  66%|███████████████████████████████████████▎                    | 6360/9694 [23:48<12:28,  4.45it/s]"
     ]
    },
    {
     "name": "stdout",
     "output_type": "stream",
     "text": [
      "6330\n",
      "Wed Jul 31 19:12:56 2024\n"
     ]
    },
    {
     "name": "stderr",
     "output_type": "stream",
     "text": [
      "Processing texts:  66%|███████████████████████████████████████▌                    | 6390/9694 [23:55<12:22,  4.45it/s]"
     ]
    },
    {
     "name": "stdout",
     "output_type": "stream",
     "text": [
      "6360\n",
      "Wed Jul 31 19:13:02 2024\n"
     ]
    },
    {
     "name": "stderr",
     "output_type": "stream",
     "text": [
      "Processing texts:  66%|███████████████████████████████████████▋                    | 6420/9694 [24:02<12:15,  4.45it/s]"
     ]
    },
    {
     "name": "stdout",
     "output_type": "stream",
     "text": [
      "6390\n",
      "Wed Jul 31 19:13:09 2024\n"
     ]
    },
    {
     "name": "stderr",
     "output_type": "stream",
     "text": [
      "Processing texts:  67%|███████████████████████████████████████▉                    | 6450/9694 [24:09<12:07,  4.46it/s]"
     ]
    },
    {
     "name": "stdout",
     "output_type": "stream",
     "text": [
      "6420\n",
      "Wed Jul 31 19:13:16 2024\n"
     ]
    },
    {
     "name": "stderr",
     "output_type": "stream",
     "text": [
      "Processing texts:  67%|████████████████████████████████████████                    | 6480/9694 [24:15<12:02,  4.45it/s]"
     ]
    },
    {
     "name": "stdout",
     "output_type": "stream",
     "text": [
      "6450\n",
      "Wed Jul 31 19:13:23 2024\n"
     ]
    },
    {
     "name": "stderr",
     "output_type": "stream",
     "text": [
      "Processing texts:  67%|████████████████████████████████████████▎                   | 6510/9694 [24:22<12:03,  4.40it/s]"
     ]
    },
    {
     "name": "stdout",
     "output_type": "stream",
     "text": [
      "6480\n",
      "Wed Jul 31 19:13:30 2024\n"
     ]
    },
    {
     "name": "stderr",
     "output_type": "stream",
     "text": [
      "Processing texts:  67%|████████████████████████████████████████▍                   | 6540/9694 [24:29<11:53,  4.42it/s]"
     ]
    },
    {
     "name": "stdout",
     "output_type": "stream",
     "text": [
      "6510\n",
      "Wed Jul 31 19:13:36 2024\n"
     ]
    },
    {
     "name": "stderr",
     "output_type": "stream",
     "text": [
      "Processing texts:  68%|████████████████████████████████████████▋                   | 6570/9694 [24:36<11:44,  4.44it/s]"
     ]
    },
    {
     "name": "stdout",
     "output_type": "stream",
     "text": [
      "6540\n",
      "Wed Jul 31 19:13:43 2024\n"
     ]
    },
    {
     "name": "stderr",
     "output_type": "stream",
     "text": [
      "Processing texts:  68%|████████████████████████████████████████▊                   | 6600/9694 [24:42<11:36,  4.44it/s]"
     ]
    },
    {
     "name": "stdout",
     "output_type": "stream",
     "text": [
      "6570\n",
      "Wed Jul 31 19:13:50 2024\n"
     ]
    },
    {
     "name": "stderr",
     "output_type": "stream",
     "text": [
      "Processing texts:  68%|█████████████████████████████████████████                   | 6630/9694 [24:49<11:28,  4.45it/s]"
     ]
    },
    {
     "name": "stdout",
     "output_type": "stream",
     "text": [
      "6600\n",
      "Wed Jul 31 19:13:57 2024\n"
     ]
    },
    {
     "name": "stderr",
     "output_type": "stream",
     "text": [
      "Processing texts:  69%|█████████████████████████████████████████▏                  | 6660/9694 [24:56<11:21,  4.45it/s]"
     ]
    },
    {
     "name": "stdout",
     "output_type": "stream",
     "text": [
      "6630\n",
      "Wed Jul 31 19:14:03 2024\n"
     ]
    },
    {
     "name": "stderr",
     "output_type": "stream",
     "text": [
      "Processing texts:  69%|█████████████████████████████████████████▍                  | 6690/9694 [25:03<11:13,  4.46it/s]"
     ]
    },
    {
     "name": "stdout",
     "output_type": "stream",
     "text": [
      "6660\n",
      "Wed Jul 31 19:14:10 2024\n"
     ]
    },
    {
     "name": "stderr",
     "output_type": "stream",
     "text": [
      "Processing texts:  69%|█████████████████████████████████████████▌                  | 6720/9694 [25:09<11:08,  4.45it/s]"
     ]
    },
    {
     "name": "stdout",
     "output_type": "stream",
     "text": [
      "6690\n",
      "Wed Jul 31 19:14:17 2024\n"
     ]
    },
    {
     "name": "stderr",
     "output_type": "stream",
     "text": [
      "Processing texts:  70%|█████████████████████████████████████████▊                  | 6750/9694 [25:16<11:01,  4.45it/s]"
     ]
    },
    {
     "name": "stdout",
     "output_type": "stream",
     "text": [
      "6720\n",
      "Wed Jul 31 19:14:23 2024\n"
     ]
    },
    {
     "name": "stderr",
     "output_type": "stream",
     "text": [
      "Processing texts:  70%|█████████████████████████████████████████▉                  | 6780/9694 [25:23<10:54,  4.45it/s]"
     ]
    },
    {
     "name": "stdout",
     "output_type": "stream",
     "text": [
      "6750\n",
      "Wed Jul 31 19:14:30 2024\n"
     ]
    },
    {
     "name": "stderr",
     "output_type": "stream",
     "text": [
      "Processing texts:  70%|██████████████████████████████████████████▏                 | 6810/9694 [25:30<10:47,  4.45it/s]"
     ]
    },
    {
     "name": "stdout",
     "output_type": "stream",
     "text": [
      "6780\n",
      "Wed Jul 31 19:14:37 2024\n"
     ]
    },
    {
     "name": "stderr",
     "output_type": "stream",
     "text": [
      "Processing texts:  71%|██████████████████████████████████████████▎                 | 6840/9694 [25:36<10:40,  4.46it/s]"
     ]
    },
    {
     "name": "stdout",
     "output_type": "stream",
     "text": [
      "6810\n",
      "Wed Jul 31 19:14:44 2024\n"
     ]
    },
    {
     "name": "stderr",
     "output_type": "stream",
     "text": [
      "Processing texts:  71%|██████████████████████████████████████████▌                 | 6870/9694 [25:43<10:32,  4.47it/s]"
     ]
    },
    {
     "name": "stdout",
     "output_type": "stream",
     "text": [
      "6840\n",
      "Wed Jul 31 19:14:50 2024\n"
     ]
    },
    {
     "name": "stderr",
     "output_type": "stream",
     "text": [
      "Processing texts:  71%|██████████████████████████████████████████▋                 | 6900/9694 [25:50<10:26,  4.46it/s]"
     ]
    },
    {
     "name": "stdout",
     "output_type": "stream",
     "text": [
      "6870\n",
      "Wed Jul 31 19:14:57 2024\n"
     ]
    },
    {
     "name": "stderr",
     "output_type": "stream",
     "text": [
      "Processing texts:  71%|██████████████████████████████████████████▉                 | 6930/9694 [25:57<10:23,  4.44it/s]"
     ]
    },
    {
     "name": "stdout",
     "output_type": "stream",
     "text": [
      "6900\n",
      "Wed Jul 31 19:15:04 2024\n"
     ]
    },
    {
     "name": "stderr",
     "output_type": "stream",
     "text": [
      "Processing texts:  72%|███████████████████████████████████████████                 | 6960/9694 [26:03<10:15,  4.44it/s]"
     ]
    },
    {
     "name": "stdout",
     "output_type": "stream",
     "text": [
      "6930\n",
      "Wed Jul 31 19:15:11 2024\n"
     ]
    },
    {
     "name": "stderr",
     "output_type": "stream",
     "text": [
      "Processing texts:  72%|███████████████████████████████████████████▎                | 6990/9694 [26:10<10:08,  4.45it/s]"
     ]
    },
    {
     "name": "stdout",
     "output_type": "stream",
     "text": [
      "6960\n",
      "Wed Jul 31 19:15:17 2024\n"
     ]
    },
    {
     "name": "stderr",
     "output_type": "stream",
     "text": [
      "Processing texts:  72%|███████████████████████████████████████████▍                | 7020/9694 [26:17<09:59,  4.46it/s]"
     ]
    },
    {
     "name": "stdout",
     "output_type": "stream",
     "text": [
      "6990\n",
      "Wed Jul 31 19:15:24 2024\n"
     ]
    },
    {
     "name": "stderr",
     "output_type": "stream",
     "text": [
      "Processing texts:  73%|███████████████████████████████████████████▋                | 7050/9694 [26:23<09:52,  4.46it/s]"
     ]
    },
    {
     "name": "stdout",
     "output_type": "stream",
     "text": [
      "7020\n",
      "Wed Jul 31 19:15:31 2024\n"
     ]
    },
    {
     "name": "stderr",
     "output_type": "stream",
     "text": [
      "Processing texts:  73%|███████████████████████████████████████████▊                | 7080/9694 [26:30<09:46,  4.46it/s]"
     ]
    },
    {
     "name": "stdout",
     "output_type": "stream",
     "text": [
      "7050\n",
      "Wed Jul 31 19:15:38 2024\n"
     ]
    },
    {
     "name": "stderr",
     "output_type": "stream",
     "text": [
      "Processing texts:  73%|████████████████████████████████████████████                | 7110/9694 [26:37<09:39,  4.46it/s]"
     ]
    },
    {
     "name": "stdout",
     "output_type": "stream",
     "text": [
      "7080\n",
      "Wed Jul 31 19:15:44 2024\n"
     ]
    },
    {
     "name": "stderr",
     "output_type": "stream",
     "text": [
      "Processing texts:  74%|████████████████████████████████████████████▏               | 7140/9694 [26:44<09:32,  4.46it/s]"
     ]
    },
    {
     "name": "stdout",
     "output_type": "stream",
     "text": [
      "7110\n",
      "Wed Jul 31 19:15:51 2024\n"
     ]
    },
    {
     "name": "stderr",
     "output_type": "stream",
     "text": [
      "Processing texts:  74%|████████████████████████████████████████████▍               | 7170/9694 [26:50<09:26,  4.45it/s]"
     ]
    },
    {
     "name": "stdout",
     "output_type": "stream",
     "text": [
      "7140\n",
      "Wed Jul 31 19:15:58 2024\n"
     ]
    },
    {
     "name": "stderr",
     "output_type": "stream",
     "text": [
      "Processing texts:  74%|████████████████████████████████████████████▌               | 7200/9694 [26:57<09:24,  4.42it/s]"
     ]
    },
    {
     "name": "stdout",
     "output_type": "stream",
     "text": [
      "7170\n",
      "Wed Jul 31 19:16:05 2024\n"
     ]
    },
    {
     "name": "stderr",
     "output_type": "stream",
     "text": [
      "Processing texts:  75%|████████████████████████████████████████████▋               | 7230/9694 [27:04<09:19,  4.40it/s]"
     ]
    },
    {
     "name": "stdout",
     "output_type": "stream",
     "text": [
      "7200\n",
      "Wed Jul 31 19:16:12 2024\n"
     ]
    },
    {
     "name": "stderr",
     "output_type": "stream",
     "text": [
      "Processing texts:  75%|████████████████████████████████████████████▉               | 7260/9694 [27:11<09:11,  4.42it/s]"
     ]
    },
    {
     "name": "stdout",
     "output_type": "stream",
     "text": [
      "7230\n",
      "Wed Jul 31 19:16:18 2024\n"
     ]
    },
    {
     "name": "stderr",
     "output_type": "stream",
     "text": [
      "Processing texts:  75%|█████████████████████████████████████████████               | 7290/9694 [27:18<09:02,  4.43it/s]"
     ]
    },
    {
     "name": "stdout",
     "output_type": "stream",
     "text": [
      "7260\n",
      "Wed Jul 31 19:16:25 2024\n"
     ]
    },
    {
     "name": "stderr",
     "output_type": "stream",
     "text": [
      "Processing texts:  76%|█████████████████████████████████████████████▎              | 7320/9694 [27:24<08:54,  4.44it/s]"
     ]
    },
    {
     "name": "stdout",
     "output_type": "stream",
     "text": [
      "7290\n",
      "Wed Jul 31 19:16:32 2024\n"
     ]
    },
    {
     "name": "stderr",
     "output_type": "stream",
     "text": [
      "Processing texts:  76%|█████████████████████████████████████████████▍              | 7350/9694 [27:31<08:46,  4.45it/s]"
     ]
    },
    {
     "name": "stdout",
     "output_type": "stream",
     "text": [
      "7320\n",
      "Wed Jul 31 19:16:38 2024\n"
     ]
    },
    {
     "name": "stderr",
     "output_type": "stream",
     "text": [
      "Processing texts:  76%|█████████████████████████████████████████████▋              | 7380/9694 [27:38<08:39,  4.45it/s]"
     ]
    },
    {
     "name": "stdout",
     "output_type": "stream",
     "text": [
      "7350\n",
      "Wed Jul 31 19:16:45 2024\n"
     ]
    },
    {
     "name": "stderr",
     "output_type": "stream",
     "text": [
      "Processing texts:  76%|█████████████████████████████████████████████▊              | 7410/9694 [27:45<08:33,  4.45it/s]"
     ]
    },
    {
     "name": "stdout",
     "output_type": "stream",
     "text": [
      "7380\n",
      "Wed Jul 31 19:16:52 2024\n"
     ]
    },
    {
     "name": "stderr",
     "output_type": "stream",
     "text": [
      "Processing texts:  77%|██████████████████████████████████████████████              | 7440/9694 [27:51<08:26,  4.45it/s]"
     ]
    },
    {
     "name": "stdout",
     "output_type": "stream",
     "text": [
      "7410\n",
      "Wed Jul 31 19:16:59 2024\n"
     ]
    },
    {
     "name": "stderr",
     "output_type": "stream",
     "text": [
      "Processing texts:  77%|██████████████████████████████████████████████▏             | 7470/9694 [27:58<08:20,  4.44it/s]"
     ]
    },
    {
     "name": "stdout",
     "output_type": "stream",
     "text": [
      "7440\n",
      "Wed Jul 31 19:17:05 2024\n"
     ]
    },
    {
     "name": "stderr",
     "output_type": "stream",
     "text": [
      "Processing texts:  77%|██████████████████████████████████████████████▍             | 7500/9694 [28:05<08:13,  4.44it/s]"
     ]
    },
    {
     "name": "stdout",
     "output_type": "stream",
     "text": [
      "7470\n",
      "Wed Jul 31 19:17:12 2024\n"
     ]
    },
    {
     "name": "stderr",
     "output_type": "stream",
     "text": [
      "Processing texts:  78%|██████████████████████████████████████████████▌             | 7530/9694 [28:12<08:09,  4.42it/s]"
     ]
    },
    {
     "name": "stdout",
     "output_type": "stream",
     "text": [
      "7500\n",
      "Wed Jul 31 19:17:19 2024\n"
     ]
    },
    {
     "name": "stderr",
     "output_type": "stream",
     "text": [
      "Processing texts:  78%|██████████████████████████████████████████████▊             | 7560/9694 [28:19<08:03,  4.41it/s]"
     ]
    },
    {
     "name": "stdout",
     "output_type": "stream",
     "text": [
      "7530\n",
      "Wed Jul 31 19:17:26 2024\n"
     ]
    },
    {
     "name": "stderr",
     "output_type": "stream",
     "text": [
      "Processing texts:  78%|██████████████████████████████████████████████▉             | 7590/9694 [28:25<07:55,  4.42it/s]"
     ]
    },
    {
     "name": "stdout",
     "output_type": "stream",
     "text": [
      "7560\n",
      "Wed Jul 31 19:17:33 2024\n"
     ]
    },
    {
     "name": "stderr",
     "output_type": "stream",
     "text": [
      "Processing texts:  79%|███████████████████████████████████████████████▏            | 7620/9694 [28:32<07:48,  4.43it/s]"
     ]
    },
    {
     "name": "stdout",
     "output_type": "stream",
     "text": [
      "7590\n",
      "Wed Jul 31 19:17:39 2024\n"
     ]
    },
    {
     "name": "stderr",
     "output_type": "stream",
     "text": [
      "Processing texts:  79%|███████████████████████████████████████████████▎            | 7650/9694 [28:39<07:39,  4.45it/s]"
     ]
    },
    {
     "name": "stdout",
     "output_type": "stream",
     "text": [
      "7620\n",
      "Wed Jul 31 19:17:46 2024\n"
     ]
    },
    {
     "name": "stderr",
     "output_type": "stream",
     "text": [
      "Processing texts:  79%|███████████████████████████████████████████████▌            | 7680/9694 [28:45<07:32,  4.45it/s]"
     ]
    },
    {
     "name": "stdout",
     "output_type": "stream",
     "text": [
      "7650\n",
      "Wed Jul 31 19:17:53 2024\n"
     ]
    },
    {
     "name": "stderr",
     "output_type": "stream",
     "text": [
      "Processing texts:  80%|███████████████████████████████████████████████▋            | 7710/9694 [28:52<07:27,  4.43it/s]"
     ]
    },
    {
     "name": "stdout",
     "output_type": "stream",
     "text": [
      "7680\n",
      "Wed Jul 31 19:18:00 2024\n"
     ]
    },
    {
     "name": "stderr",
     "output_type": "stream",
     "text": [
      "Processing texts:  80%|███████████████████████████████████████████████▉            | 7740/9694 [28:59<07:20,  4.44it/s]"
     ]
    },
    {
     "name": "stdout",
     "output_type": "stream",
     "text": [
      "7710\n",
      "Wed Jul 31 19:18:06 2024\n"
     ]
    },
    {
     "name": "stderr",
     "output_type": "stream",
     "text": [
      "Processing texts:  80%|████████████████████████████████████████████████            | 7770/9694 [29:06<07:12,  4.44it/s]"
     ]
    },
    {
     "name": "stdout",
     "output_type": "stream",
     "text": [
      "7740\n",
      "Wed Jul 31 19:18:13 2024\n"
     ]
    },
    {
     "name": "stderr",
     "output_type": "stream",
     "text": [
      "Processing texts:  80%|████████████████████████████████████████████████▎           | 7800/9694 [29:12<07:05,  4.45it/s]"
     ]
    },
    {
     "name": "stdout",
     "output_type": "stream",
     "text": [
      "7770\n",
      "Wed Jul 31 19:18:20 2024\n"
     ]
    },
    {
     "name": "stderr",
     "output_type": "stream",
     "text": [
      "Processing texts:  81%|████████████████████████████████████████████████▍           | 7830/9694 [29:19<07:00,  4.43it/s]"
     ]
    },
    {
     "name": "stdout",
     "output_type": "stream",
     "text": [
      "7800\n",
      "Wed Jul 31 19:18:27 2024\n"
     ]
    },
    {
     "name": "stderr",
     "output_type": "stream",
     "text": [
      "Processing texts:  81%|████████████████████████████████████████████████▋           | 7860/9694 [29:26<06:53,  4.43it/s]"
     ]
    },
    {
     "name": "stdout",
     "output_type": "stream",
     "text": [
      "7830\n",
      "Wed Jul 31 19:18:33 2024\n"
     ]
    },
    {
     "name": "stderr",
     "output_type": "stream",
     "text": [
      "Processing texts:  81%|████████████████████████████████████████████████▊           | 7890/9694 [29:33<06:47,  4.42it/s]"
     ]
    },
    {
     "name": "stdout",
     "output_type": "stream",
     "text": [
      "7860\n",
      "Wed Jul 31 19:18:40 2024\n"
     ]
    },
    {
     "name": "stderr",
     "output_type": "stream",
     "text": [
      "Processing texts:  82%|█████████████████████████████████████████████████           | 7920/9694 [29:40<06:40,  4.42it/s]"
     ]
    },
    {
     "name": "stdout",
     "output_type": "stream",
     "text": [
      "7890\n",
      "Wed Jul 31 19:18:47 2024\n"
     ]
    },
    {
     "name": "stderr",
     "output_type": "stream",
     "text": [
      "Processing texts:  82%|█████████████████████████████████████████████████▏          | 7950/9694 [29:46<06:33,  4.43it/s]"
     ]
    },
    {
     "name": "stdout",
     "output_type": "stream",
     "text": [
      "7920\n",
      "Wed Jul 31 19:18:54 2024\n"
     ]
    },
    {
     "name": "stderr",
     "output_type": "stream",
     "text": [
      "Processing texts:  82%|█████████████████████████████████████████████████▍          | 7980/9694 [29:53<06:26,  4.44it/s]"
     ]
    },
    {
     "name": "stdout",
     "output_type": "stream",
     "text": [
      "7950\n",
      "Wed Jul 31 19:19:00 2024\n"
     ]
    },
    {
     "name": "stderr",
     "output_type": "stream",
     "text": [
      "Processing texts:  83%|█████████████████████████████████████████████████▌          | 8010/9694 [30:00<06:19,  4.44it/s]"
     ]
    },
    {
     "name": "stdout",
     "output_type": "stream",
     "text": [
      "7980\n",
      "Wed Jul 31 19:19:07 2024\n"
     ]
    },
    {
     "name": "stderr",
     "output_type": "stream",
     "text": [
      "Processing texts:  83%|█████████████████████████████████████████████████▊          | 8040/9694 [30:07<06:13,  4.43it/s]"
     ]
    },
    {
     "name": "stdout",
     "output_type": "stream",
     "text": [
      "8010\n",
      "Wed Jul 31 19:19:14 2024\n"
     ]
    },
    {
     "name": "stderr",
     "output_type": "stream",
     "text": [
      "Processing texts:  83%|█████████████████████████████████████████████████▉          | 8070/9694 [30:13<06:06,  4.43it/s]"
     ]
    },
    {
     "name": "stdout",
     "output_type": "stream",
     "text": [
      "8040\n",
      "Wed Jul 31 19:19:21 2024\n"
     ]
    },
    {
     "name": "stderr",
     "output_type": "stream",
     "text": [
      "Processing texts:  84%|██████████████████████████████████████████████████▏         | 8100/9694 [30:20<05:59,  4.43it/s]"
     ]
    },
    {
     "name": "stdout",
     "output_type": "stream",
     "text": [
      "8070\n",
      "Wed Jul 31 19:19:28 2024\n"
     ]
    },
    {
     "name": "stderr",
     "output_type": "stream",
     "text": [
      "Processing texts:  84%|██████████████████████████████████████████████████▎         | 8130/9694 [30:27<05:53,  4.43it/s]"
     ]
    },
    {
     "name": "stdout",
     "output_type": "stream",
     "text": [
      "8100\n",
      "Wed Jul 31 19:19:34 2024\n"
     ]
    },
    {
     "name": "stderr",
     "output_type": "stream",
     "text": [
      "Processing texts:  84%|██████████████████████████████████████████████████▌         | 8160/9694 [30:34<05:46,  4.43it/s]"
     ]
    },
    {
     "name": "stdout",
     "output_type": "stream",
     "text": [
      "8130\n",
      "Wed Jul 31 19:19:41 2024\n"
     ]
    },
    {
     "name": "stderr",
     "output_type": "stream",
     "text": [
      "Processing texts:  84%|██████████████████████████████████████████████████▋         | 8190/9694 [30:41<05:41,  4.41it/s]"
     ]
    },
    {
     "name": "stdout",
     "output_type": "stream",
     "text": [
      "8160\n",
      "Wed Jul 31 19:19:48 2024\n"
     ]
    },
    {
     "name": "stderr",
     "output_type": "stream",
     "text": [
      "Processing texts:  85%|██████████████████████████████████████████████████▉         | 8220/9694 [30:48<05:34,  4.40it/s]"
     ]
    },
    {
     "name": "stdout",
     "output_type": "stream",
     "text": [
      "8190\n",
      "Wed Jul 31 19:19:55 2024\n"
     ]
    },
    {
     "name": "stderr",
     "output_type": "stream",
     "text": [
      "Processing texts:  85%|███████████████████████████████████████████████████         | 8250/9694 [30:54<05:26,  4.42it/s]"
     ]
    },
    {
     "name": "stdout",
     "output_type": "stream",
     "text": [
      "8220\n",
      "Wed Jul 31 19:20:02 2024\n"
     ]
    },
    {
     "name": "stderr",
     "output_type": "stream",
     "text": [
      "Processing texts:  85%|███████████████████████████████████████████████████▏        | 8280/9694 [31:01<05:19,  4.43it/s]"
     ]
    },
    {
     "name": "stdout",
     "output_type": "stream",
     "text": [
      "8250\n",
      "Wed Jul 31 19:20:08 2024\n"
     ]
    },
    {
     "name": "stderr",
     "output_type": "stream",
     "text": [
      "Processing texts:  86%|███████████████████████████████████████████████████▍        | 8310/9694 [31:08<05:12,  4.43it/s]"
     ]
    },
    {
     "name": "stdout",
     "output_type": "stream",
     "text": [
      "8280\n",
      "Wed Jul 31 19:20:15 2024\n"
     ]
    },
    {
     "name": "stderr",
     "output_type": "stream",
     "text": [
      "Processing texts:  86%|███████████████████████████████████████████████████▌        | 8340/9694 [31:14<05:04,  4.45it/s]"
     ]
    },
    {
     "name": "stdout",
     "output_type": "stream",
     "text": [
      "8310\n",
      "Wed Jul 31 19:20:22 2024\n"
     ]
    },
    {
     "name": "stderr",
     "output_type": "stream",
     "text": [
      "Processing texts:  86%|███████████████████████████████████████████████████▊        | 8370/9694 [31:21<04:57,  4.45it/s]"
     ]
    },
    {
     "name": "stdout",
     "output_type": "stream",
     "text": [
      "8340\n",
      "Wed Jul 31 19:20:29 2024\n"
     ]
    },
    {
     "name": "stderr",
     "output_type": "stream",
     "text": [
      "Processing texts:  87%|███████████████████████████████████████████████████▉        | 8400/9694 [31:28<04:53,  4.42it/s]"
     ]
    },
    {
     "name": "stdout",
     "output_type": "stream",
     "text": [
      "8370\n",
      "Wed Jul 31 19:20:35 2024\n"
     ]
    },
    {
     "name": "stderr",
     "output_type": "stream",
     "text": [
      "Processing texts:  87%|████████████████████████████████████████████████████▏       | 8430/9694 [31:35<04:45,  4.42it/s]"
     ]
    },
    {
     "name": "stdout",
     "output_type": "stream",
     "text": [
      "8400\n",
      "Wed Jul 31 19:20:42 2024\n"
     ]
    },
    {
     "name": "stderr",
     "output_type": "stream",
     "text": [
      "Processing texts:  87%|████████████████████████████████████████████████████▎       | 8460/9694 [31:42<04:38,  4.43it/s]"
     ]
    },
    {
     "name": "stdout",
     "output_type": "stream",
     "text": [
      "8430\n",
      "Wed Jul 31 19:20:49 2024\n"
     ]
    },
    {
     "name": "stderr",
     "output_type": "stream",
     "text": [
      "Processing texts:  88%|████████████████████████████████████████████████████▌       | 8490/9694 [31:48<04:30,  4.44it/s]"
     ]
    },
    {
     "name": "stdout",
     "output_type": "stream",
     "text": [
      "8460\n",
      "Wed Jul 31 19:20:56 2024\n"
     ]
    },
    {
     "name": "stderr",
     "output_type": "stream",
     "text": [
      "Processing texts:  88%|████████████████████████████████████████████████████▋       | 8520/9694 [31:55<04:25,  4.43it/s]"
     ]
    },
    {
     "name": "stdout",
     "output_type": "stream",
     "text": [
      "8490\n",
      "Wed Jul 31 19:21:02 2024\n"
     ]
    },
    {
     "name": "stderr",
     "output_type": "stream",
     "text": [
      "Processing texts:  88%|████████████████████████████████████████████████████▉       | 8550/9694 [32:02<04:21,  4.37it/s]"
     ]
    },
    {
     "name": "stdout",
     "output_type": "stream",
     "text": [
      "8520\n",
      "Wed Jul 31 19:21:10 2024\n"
     ]
    },
    {
     "name": "stderr",
     "output_type": "stream",
     "text": [
      "Processing texts:  89%|█████████████████████████████████████████████████████       | 8580/9694 [32:09<04:14,  4.38it/s]"
     ]
    },
    {
     "name": "stdout",
     "output_type": "stream",
     "text": [
      "8550\n",
      "Wed Jul 31 19:21:16 2024\n"
     ]
    },
    {
     "name": "stderr",
     "output_type": "stream",
     "text": [
      "Processing texts:  89%|█████████████████████████████████████████████████████▎      | 8610/9694 [32:16<04:06,  4.40it/s]"
     ]
    },
    {
     "name": "stdout",
     "output_type": "stream",
     "text": [
      "8580\n",
      "Wed Jul 31 19:21:23 2024\n"
     ]
    },
    {
     "name": "stderr",
     "output_type": "stream",
     "text": [
      "Processing texts:  89%|█████████████████████████████████████████████████████▍      | 8640/9694 [32:23<03:58,  4.41it/s]"
     ]
    },
    {
     "name": "stdout",
     "output_type": "stream",
     "text": [
      "8610\n",
      "Wed Jul 31 19:21:30 2024\n"
     ]
    },
    {
     "name": "stderr",
     "output_type": "stream",
     "text": [
      "Processing texts:  89%|█████████████████████████████████████████████████████▋      | 8670/9694 [32:29<03:51,  4.42it/s]"
     ]
    },
    {
     "name": "stdout",
     "output_type": "stream",
     "text": [
      "8640\n",
      "Wed Jul 31 19:21:37 2024\n"
     ]
    },
    {
     "name": "stderr",
     "output_type": "stream",
     "text": [
      "Processing texts:  90%|█████████████████████████████████████████████████████▊      | 8700/9694 [32:36<03:44,  4.42it/s]"
     ]
    },
    {
     "name": "stdout",
     "output_type": "stream",
     "text": [
      "8670\n",
      "Wed Jul 31 19:21:43 2024\n"
     ]
    },
    {
     "name": "stderr",
     "output_type": "stream",
     "text": [
      "Processing texts:  90%|██████████████████████████████████████████████████████      | 8730/9694 [32:43<03:41,  4.35it/s]"
     ]
    },
    {
     "name": "stdout",
     "output_type": "stream",
     "text": [
      "8700\n",
      "Wed Jul 31 19:21:51 2024\n"
     ]
    },
    {
     "name": "stderr",
     "output_type": "stream",
     "text": [
      "Processing texts:  90%|██████████████████████████████████████████████████████▏     | 8760/9694 [32:50<03:38,  4.28it/s]"
     ]
    },
    {
     "name": "stdout",
     "output_type": "stream",
     "text": [
      "8730\n",
      "Wed Jul 31 19:21:58 2024\n"
     ]
    },
    {
     "name": "stderr",
     "output_type": "stream",
     "text": [
      "Processing texts:  91%|██████████████████████████████████████████████████████▍     | 8790/9694 [32:58<03:31,  4.27it/s]"
     ]
    },
    {
     "name": "stdout",
     "output_type": "stream",
     "text": [
      "8760\n",
      "Wed Jul 31 19:22:05 2024\n"
     ]
    },
    {
     "name": "stderr",
     "output_type": "stream",
     "text": [
      "Processing texts:  91%|██████████████████████████████████████████████████████▌     | 8820/9694 [33:05<03:28,  4.19it/s]"
     ]
    },
    {
     "name": "stdout",
     "output_type": "stream",
     "text": [
      "8790\n",
      "Wed Jul 31 19:22:12 2024\n"
     ]
    },
    {
     "name": "stderr",
     "output_type": "stream",
     "text": [
      "Processing texts:  91%|██████████████████████████████████████████████████████▊     | 8850/9694 [33:12<03:22,  4.16it/s]"
     ]
    },
    {
     "name": "stdout",
     "output_type": "stream",
     "text": [
      "8820\n",
      "Wed Jul 31 19:22:20 2024\n"
     ]
    },
    {
     "name": "stderr",
     "output_type": "stream",
     "text": [
      "Processing texts:  92%|██████████████████████████████████████████████████████▉     | 8880/9694 [33:19<03:14,  4.18it/s]"
     ]
    },
    {
     "name": "stdout",
     "output_type": "stream",
     "text": [
      "8850\n",
      "Wed Jul 31 19:22:27 2024\n"
     ]
    },
    {
     "name": "stderr",
     "output_type": "stream",
     "text": [
      "Processing texts:  92%|███████████████████████████████████████████████████████▏    | 8910/9694 [33:27<03:08,  4.16it/s]"
     ]
    },
    {
     "name": "stdout",
     "output_type": "stream",
     "text": [
      "8880\n",
      "Wed Jul 31 19:22:34 2024\n"
     ]
    },
    {
     "name": "stderr",
     "output_type": "stream",
     "text": [
      "Processing texts:  92%|███████████████████████████████████████████████████████▎    | 8940/9694 [33:34<03:00,  4.18it/s]"
     ]
    },
    {
     "name": "stdout",
     "output_type": "stream",
     "text": [
      "8910\n",
      "Wed Jul 31 19:22:41 2024\n"
     ]
    },
    {
     "name": "stderr",
     "output_type": "stream",
     "text": [
      "Processing texts:  93%|███████████████████████████████████████████████████████▌    | 8970/9694 [33:41<02:51,  4.23it/s]"
     ]
    },
    {
     "name": "stdout",
     "output_type": "stream",
     "text": [
      "8940\n",
      "Wed Jul 31 19:22:48 2024\n"
     ]
    },
    {
     "name": "stderr",
     "output_type": "stream",
     "text": [
      "Processing texts:  93%|███████████████████████████████████████████████████████▋    | 9000/9694 [33:47<02:41,  4.30it/s]"
     ]
    },
    {
     "name": "stdout",
     "output_type": "stream",
     "text": [
      "8970\n",
      "Wed Jul 31 19:22:55 2024\n"
     ]
    },
    {
     "name": "stderr",
     "output_type": "stream",
     "text": [
      "Processing texts:  93%|███████████████████████████████████████████████████████▉    | 9030/9694 [33:54<02:33,  4.32it/s]"
     ]
    },
    {
     "name": "stdout",
     "output_type": "stream",
     "text": [
      "9000\n",
      "Wed Jul 31 19:23:02 2024\n"
     ]
    },
    {
     "name": "stderr",
     "output_type": "stream",
     "text": [
      "Processing texts:  93%|████████████████████████████████████████████████████████    | 9060/9694 [34:01<02:25,  4.36it/s]"
     ]
    },
    {
     "name": "stdout",
     "output_type": "stream",
     "text": [
      "9030\n",
      "Wed Jul 31 19:23:08 2024\n"
     ]
    },
    {
     "name": "stderr",
     "output_type": "stream",
     "text": [
      "Processing texts:  94%|████████████████████████████████████████████████████████▎   | 9090/9694 [34:08<02:18,  4.37it/s]"
     ]
    },
    {
     "name": "stdout",
     "output_type": "stream",
     "text": [
      "9060\n",
      "Wed Jul 31 19:23:15 2024\n"
     ]
    },
    {
     "name": "stderr",
     "output_type": "stream",
     "text": [
      "Processing texts:  94%|████████████████████████████████████████████████████████▍   | 9120/9694 [34:15<02:10,  4.39it/s]"
     ]
    },
    {
     "name": "stdout",
     "output_type": "stream",
     "text": [
      "9090\n",
      "Wed Jul 31 19:23:22 2024\n"
     ]
    },
    {
     "name": "stderr",
     "output_type": "stream",
     "text": [
      "Processing texts:  94%|████████████████████████████████████████████████████████▋   | 9150/9694 [34:22<02:04,  4.39it/s]"
     ]
    },
    {
     "name": "stdout",
     "output_type": "stream",
     "text": [
      "9120\n",
      "Wed Jul 31 19:23:29 2024\n"
     ]
    },
    {
     "name": "stderr",
     "output_type": "stream",
     "text": [
      "Processing texts:  95%|████████████████████████████████████████████████████████▊   | 9180/9694 [34:28<01:57,  4.37it/s]"
     ]
    },
    {
     "name": "stdout",
     "output_type": "stream",
     "text": [
      "9150\n",
      "Wed Jul 31 19:23:36 2024\n"
     ]
    },
    {
     "name": "stderr",
     "output_type": "stream",
     "text": [
      "Processing texts:  95%|█████████████████████████████████████████████████████████   | 9210/9694 [34:35<01:50,  4.39it/s]"
     ]
    },
    {
     "name": "stdout",
     "output_type": "stream",
     "text": [
      "9180\n",
      "Wed Jul 31 19:23:43 2024\n"
     ]
    },
    {
     "name": "stderr",
     "output_type": "stream",
     "text": [
      "Processing texts:  95%|█████████████████████████████████████████████████████████▏  | 9240/9694 [34:42<01:43,  4.37it/s]"
     ]
    },
    {
     "name": "stdout",
     "output_type": "stream",
     "text": [
      "9210\n",
      "Wed Jul 31 19:23:49 2024\n"
     ]
    },
    {
     "name": "stderr",
     "output_type": "stream",
     "text": [
      "Processing texts:  96%|█████████████████████████████████████████████████████████▍  | 9270/9694 [34:49<01:36,  4.38it/s]"
     ]
    },
    {
     "name": "stdout",
     "output_type": "stream",
     "text": [
      "9240\n",
      "Wed Jul 31 19:23:56 2024\n"
     ]
    },
    {
     "name": "stderr",
     "output_type": "stream",
     "text": [
      "Processing texts:  96%|█████████████████████████████████████████████████████████▌  | 9300/9694 [34:56<01:31,  4.33it/s]"
     ]
    },
    {
     "name": "stdout",
     "output_type": "stream",
     "text": [
      "9270\n",
      "Wed Jul 31 19:24:03 2024\n"
     ]
    },
    {
     "name": "stderr",
     "output_type": "stream",
     "text": [
      "Processing texts:  96%|█████████████████████████████████████████████████████████▋  | 9330/9694 [35:04<01:27,  4.18it/s]"
     ]
    },
    {
     "name": "stdout",
     "output_type": "stream",
     "text": [
      "9300\n",
      "Wed Jul 31 19:24:11 2024\n"
     ]
    },
    {
     "name": "stderr",
     "output_type": "stream",
     "text": [
      "Processing texts:  97%|█████████████████████████████████████████████████████████▉  | 9360/9694 [35:11<01:21,  4.11it/s]"
     ]
    },
    {
     "name": "stdout",
     "output_type": "stream",
     "text": [
      "9330\n",
      "Wed Jul 31 19:24:19 2024\n"
     ]
    },
    {
     "name": "stderr",
     "output_type": "stream",
     "text": [
      "Processing texts:  97%|██████████████████████████████████████████████████████████  | 9390/9694 [35:18<01:13,  4.16it/s]"
     ]
    },
    {
     "name": "stdout",
     "output_type": "stream",
     "text": [
      "9360\n",
      "Wed Jul 31 19:24:26 2024\n"
     ]
    },
    {
     "name": "stderr",
     "output_type": "stream",
     "text": [
      "Processing texts:  97%|██████████████████████████████████████████████████████████▎ | 9420/9694 [35:25<01:05,  4.19it/s]"
     ]
    },
    {
     "name": "stdout",
     "output_type": "stream",
     "text": [
      "9390\n",
      "Wed Jul 31 19:24:33 2024\n"
     ]
    },
    {
     "name": "stderr",
     "output_type": "stream",
     "text": [
      "Processing texts:  97%|██████████████████████████████████████████████████████████▍ | 9450/9694 [35:33<00:58,  4.20it/s]"
     ]
    },
    {
     "name": "stdout",
     "output_type": "stream",
     "text": [
      "9420\n",
      "Wed Jul 31 19:24:40 2024\n"
     ]
    },
    {
     "name": "stderr",
     "output_type": "stream",
     "text": [
      "Processing texts:  98%|██████████████████████████████████████████████████████████▋ | 9480/9694 [35:40<00:50,  4.21it/s]"
     ]
    },
    {
     "name": "stdout",
     "output_type": "stream",
     "text": [
      "9450\n",
      "Wed Jul 31 19:24:47 2024\n"
     ]
    },
    {
     "name": "stderr",
     "output_type": "stream",
     "text": [
      "Processing texts:  98%|██████████████████████████████████████████████████████████▊ | 9510/9694 [35:46<00:43,  4.27it/s]"
     ]
    },
    {
     "name": "stdout",
     "output_type": "stream",
     "text": [
      "9480\n",
      "Wed Jul 31 19:24:54 2024\n"
     ]
    },
    {
     "name": "stderr",
     "output_type": "stream",
     "text": [
      "Processing texts:  98%|███████████████████████████████████████████████████████████ | 9540/9694 [35:53<00:35,  4.31it/s]"
     ]
    },
    {
     "name": "stdout",
     "output_type": "stream",
     "text": [
      "9510\n",
      "Wed Jul 31 19:25:01 2024\n"
     ]
    },
    {
     "name": "stderr",
     "output_type": "stream",
     "text": [
      "Processing texts:  99%|███████████████████████████████████████████████████████████▏| 9570/9694 [36:00<00:28,  4.28it/s]"
     ]
    },
    {
     "name": "stdout",
     "output_type": "stream",
     "text": [
      "9540\n",
      "Wed Jul 31 19:25:08 2024\n"
     ]
    },
    {
     "name": "stderr",
     "output_type": "stream",
     "text": [
      "Processing texts:  99%|███████████████████████████████████████████████████████████▍| 9600/9694 [36:07<00:21,  4.30it/s]"
     ]
    },
    {
     "name": "stdout",
     "output_type": "stream",
     "text": [
      "9570\n",
      "Wed Jul 31 19:25:15 2024\n"
     ]
    },
    {
     "name": "stderr",
     "output_type": "stream",
     "text": [
      "Processing texts:  99%|███████████████████████████████████████████████████████████▌| 9630/9694 [36:14<00:14,  4.29it/s]"
     ]
    },
    {
     "name": "stdout",
     "output_type": "stream",
     "text": [
      "9600\n",
      "Wed Jul 31 19:25:22 2024\n"
     ]
    },
    {
     "name": "stderr",
     "output_type": "stream",
     "text": [
      "Processing texts: 100%|███████████████████████████████████████████████████████████▊| 9660/9694 [36:21<00:07,  4.31it/s]"
     ]
    },
    {
     "name": "stdout",
     "output_type": "stream",
     "text": [
      "9630\n",
      "Wed Jul 31 19:25:29 2024\n"
     ]
    },
    {
     "name": "stderr",
     "output_type": "stream",
     "text": [
      "Processing texts: 100%|███████████████████████████████████████████████████████████▉| 9690/9694 [36:28<00:00,  4.34it/s]"
     ]
    },
    {
     "name": "stdout",
     "output_type": "stream",
     "text": [
      "9660\n",
      "Wed Jul 31 19:25:35 2024\n"
     ]
    },
    {
     "name": "stderr",
     "output_type": "stream",
     "text": [
      "Processing texts: 9720it [36:29,  4.44it/s]                                                                            "
     ]
    },
    {
     "name": "stdout",
     "output_type": "stream",
     "text": [
      "9690\n",
      "Wed Jul 31 19:25:37 2024\n",
      "Model processing time: 2189.714115858078 seconds\n"
     ]
    },
    {
     "name": "stderr",
     "output_type": "stream",
     "text": [
      "\n"
     ]
    }
   ],
   "source": [
    "import gc\n",
    "import torch\n",
    "from transformers import AutoTokenizer, AutoModel\n",
    "from tqdm import tqdm\n",
    "import time\n",
    "import pandas as pd\n",
    "import re\n",
    "\n",
    "device = torch.device('cuda') if torch.cuda.is_available() else torch.device('cpu')\n",
    "print(f\"Using device: {device}\")\n",
    "print(time.ctime())\n",
    "\n",
    "texts = new_name_df['combined_vector'].tolist()\n",
    "\n",
    "tokenizer = AutoTokenizer.from_pretrained(\"DeepPavlov/rubert-base-cased\")\n",
    "model = AutoModel.from_pretrained(\"DeepPavlov/rubert-base-cased\").to('cuda')\n",
    "\n",
    "batch_size = 30\n",
    "output_file_avg = \"./my_df2/trainmyname1avg.pkl\"\n",
    "output_file_median = \"./my_df2/trainmyname1median.pkl\"\n",
    "max_length = 512\n",
    "\n",
    "def process_text(text, tokenizer, model, max_length):\n",
    "    encoded_inputs_list = []\n",
    "\n",
    "    # Разбиваем текст на части по 512 токенов\n",
    "    for i in range(0, len(text), max_length):\n",
    "        part_text = text[i:i + max_length]\n",
    "        encoded_inputs = tokenizer(part_text, return_tensors=\"pt\", padding='max_length', truncation=True, max_length=512)\n",
    "        encoded_inputs_list.append(encoded_inputs)\n",
    "\n",
    "    del encoded_inputs, part_text\n",
    "    gc.collect()\n",
    "\n",
    "    part_outputs = []\n",
    "    for inputs in encoded_inputs_list:\n",
    "#         inputs = {k: v.to('cuda') for k, v in inputs.items()}\n",
    "        inputs = {k: v.clone().detach().to(device) for k, v in inputs.items()}\n",
    "        with torch.no_grad():\n",
    "            output = model(**inputs)\n",
    "#             part_outputs.append(output.pooler_output)\n",
    "            part_outputs.append(output.pooler_output.clone().detach())\n",
    "    \n",
    "    del inputs, output\n",
    "    gc.collect()\n",
    "\n",
    "    avg_pooler_output = torch.mean(torch.stack(part_outputs), dim=0)\n",
    "    median_pooler_output = torch.median(torch.stack(part_outputs), dim=0).values\n",
    "    \n",
    "    del part_outputs, encoded_inputs_list\n",
    "    gc.collect()\n",
    "    \n",
    "    return avg_pooler_output, median_pooler_output\n",
    "\n",
    "start_time = time.time()\n",
    "all_pooler_outputs_avg = []\n",
    "all_pooler_outputs_median = []\n",
    "\n",
    "with tqdm(total=len(texts), desc=\"Processing texts\") as pbar:\n",
    "    for start_idx in range(0, len(texts), batch_size):\n",
    "        batch_texts = texts[start_idx:start_idx + batch_size]\n",
    "        batch_pooler_outputs_avg = []\n",
    "        batch_pooler_outputs_median = []\n",
    "\n",
    "        for text in batch_texts:\n",
    "            avg_pooler_output, median_pooler_output = process_text(text, tokenizer, model, max_length)\n",
    "            batch_pooler_outputs_avg.append(avg_pooler_output.cpu().detach().numpy())\n",
    "            batch_pooler_outputs_median.append(median_pooler_output.cpu().detach().numpy())\n",
    "\n",
    "        iddocs = new_name_df['iddoc'].iloc[start_idx:start_idx + batch_size].tolist()\n",
    "        df_batch_avg = pd.DataFrame({'iddoc': iddocs, 'pooler_output_avg': batch_pooler_outputs_avg})\n",
    "        df_batch_median = pd.DataFrame({'iddoc': iddocs, 'pooler_output_median': batch_pooler_outputs_median})\n",
    "        \n",
    "        if start_idx == 0:\n",
    "            df_batch_avg.to_pickle(output_file_avg)\n",
    "            df_batch_median.to_pickle(output_file_median)\n",
    "        else:\n",
    "            existing_df_avg = pd.read_pickle(output_file_avg)\n",
    "            existing_df_median = pd.read_pickle(output_file_median)\n",
    "            new_df_avg = pd.concat([existing_df_avg, df_batch_avg])\n",
    "            new_df_median = pd.concat([existing_df_median, df_batch_median])\n",
    "            new_df_avg.to_pickle(output_file_avg)\n",
    "            new_df_median.to_pickle(output_file_median)\n",
    "            del existing_df_avg, new_df_avg, existing_df_median, new_df_median\n",
    "\n",
    "        del batch_texts, batch_pooler_outputs_avg, batch_pooler_outputs_median, df_batch_avg, df_batch_median\n",
    "        gc.collect()\n",
    "\n",
    "        pbar.update(batch_size)\n",
    "        print(start_idx)\n",
    "        print(time.ctime())\n",
    "\n",
    "end_time = time.time()\n",
    "print(f\"Model processing time: {end_time - start_time} seconds\")\n"
   ]
  },
  {
   "cell_type": "markdown",
   "id": "294dd914",
   "metadata": {},
   "source": [
    "## New Name"
   ]
  },
  {
   "cell_type": "code",
   "execution_count": 18,
   "id": "5951c137",
   "metadata": {},
   "outputs": [
    {
     "data": {
      "text/html": [
       "<div>\n",
       "<style scoped>\n",
       "    .dataframe tbody tr th:only-of-type {\n",
       "        vertical-align: middle;\n",
       "    }\n",
       "\n",
       "    .dataframe tbody tr th {\n",
       "        vertical-align: top;\n",
       "    }\n",
       "\n",
       "    .dataframe thead th {\n",
       "        text-align: right;\n",
       "    }\n",
       "</style>\n",
       "<table border=\"1\" class=\"dataframe\">\n",
       "  <thead>\n",
       "    <tr style=\"text-align: right;\">\n",
       "      <th></th>\n",
       "      <th>iddoc</th>\n",
       "      <th>name</th>\n",
       "      <th>1186</th>\n",
       "    </tr>\n",
       "  </thead>\n",
       "  <tbody>\n",
       "    <tr>\n",
       "      <th>0</th>\n",
       "      <td>140004</td>\n",
       "      <td>МУК 4.1.656-96 Методические указания по газохр...</td>\n",
       "      <td>NaN</td>\n",
       "    </tr>\n",
       "    <tr>\n",
       "      <th>1</th>\n",
       "      <td>140005</td>\n",
       "      <td>Санитарные правила для предприятий по обработк...</td>\n",
       "      <td>NaN</td>\n",
       "    </tr>\n",
       "    <tr>\n",
       "      <th>2</th>\n",
       "      <td>190074</td>\n",
       "      <td>Европейское Соглашение, касающееся работы экип...</td>\n",
       "      <td>NaN</td>\n",
       "    </tr>\n",
       "    <tr>\n",
       "      <th>3</th>\n",
       "      <td>190084</td>\n",
       "      <td>Конвенция об указании веса тяжелых грузов, пер...</td>\n",
       "      <td>NaN</td>\n",
       "    </tr>\n",
       "    <tr>\n",
       "      <th>4</th>\n",
       "      <td>190105</td>\n",
       "      <td>Конвенция об оплачиваемых отпусках (пересмотре...</td>\n",
       "      <td>Конвенция 1970 года об оплачиваемых отпусках (...</td>\n",
       "    </tr>\n",
       "    <tr>\n",
       "      <th>...</th>\n",
       "      <td>...</td>\n",
       "      <td>...</td>\n",
       "      <td>...</td>\n",
       "    </tr>\n",
       "    <tr>\n",
       "      <th>9689</th>\n",
       "      <td>130668748</td>\n",
       "      <td>НД № 2-020101-176 Правила классификации и пост...</td>\n",
       "      <td>NaN</td>\n",
       "    </tr>\n",
       "    <tr>\n",
       "      <th>9690</th>\n",
       "      <td>130671048</td>\n",
       "      <td>О внесении изменений в некоторые акты Правител...</td>\n",
       "      <td>Особенности проведения проверок правил формиро...</td>\n",
       "    </tr>\n",
       "    <tr>\n",
       "      <th>9691</th>\n",
       "      <td>130674299</td>\n",
       "      <td>О внесении изменений в Порядок формирования и ...</td>\n",
       "      <td>NaN</td>\n",
       "    </tr>\n",
       "    <tr>\n",
       "      <th>9692</th>\n",
       "      <td>130676021</td>\n",
       "      <td>Об утверждении профессионального стандарта \"Сп...</td>\n",
       "      <td>Деятельность по организации и проведению конгр...</td>\n",
       "    </tr>\n",
       "    <tr>\n",
       "      <th>9693</th>\n",
       "      <td>130676021</td>\n",
       "      <td>Об утверждении профессионального стандарта \"Сп...</td>\n",
       "      <td>NaN</td>\n",
       "    </tr>\n",
       "  </tbody>\n",
       "</table>\n",
       "<p>9694 rows × 3 columns</p>\n",
       "</div>"
      ],
      "text/plain": [
       "          iddoc                                               name  \\\n",
       "0        140004  МУК 4.1.656-96 Методические указания по газохр...   \n",
       "1        140005  Санитарные правила для предприятий по обработк...   \n",
       "2        190074  Европейское Соглашение, касающееся работы экип...   \n",
       "3        190084  Конвенция об указании веса тяжелых грузов, пер...   \n",
       "4        190105  Конвенция об оплачиваемых отпусках (пересмотре...   \n",
       "...         ...                                                ...   \n",
       "9689  130668748  НД № 2-020101-176 Правила классификации и пост...   \n",
       "9690  130671048  О внесении изменений в некоторые акты Правител...   \n",
       "9691  130674299  О внесении изменений в Порядок формирования и ...   \n",
       "9692  130676021  Об утверждении профессионального стандарта \"Сп...   \n",
       "9693  130676021  Об утверждении профессионального стандарта \"Сп...   \n",
       "\n",
       "                                                   1186  \n",
       "0                                                   NaN  \n",
       "1                                                   NaN  \n",
       "2                                                   NaN  \n",
       "3                                                   NaN  \n",
       "4     Конвенция 1970 года об оплачиваемых отпусках (...  \n",
       "...                                                 ...  \n",
       "9689                                                NaN  \n",
       "9690  Особенности проведения проверок правил формиро...  \n",
       "9691                                                NaN  \n",
       "9692  Деятельность по организации и проведению конгр...  \n",
       "9693                                                NaN  \n",
       "\n",
       "[9694 rows x 3 columns]"
      ]
     },
     "execution_count": 18,
     "metadata": {},
     "output_type": "execute_result"
    }
   ],
   "source": [
    "new_name_df=pd.read_csv('./work_data/name_task_1_part_2.csv',sep=\";\",encoding='windows-1251',quotechar=\"'\",)\n",
    "new_name_df = new_name_df.rename(columns={'id': 'iddoc'})\n",
    "\n",
    "new_name_df"
   ]
  },
  {
   "cell_type": "code",
   "execution_count": 19,
   "id": "3e68ad92",
   "metadata": {},
   "outputs": [
    {
     "data": {
      "text/plain": [
       "0       МУК 4.1.656-96 Методические указания по газохр...\n",
       "1       Санитарные правила для предприятий по обработк...\n",
       "2       Европейское Соглашение, касающееся работы экип...\n",
       "3       Конвенция об указании веса тяжелых грузов, пер...\n",
       "4       Конвенция об оплачиваемых отпусках (пересмотре...\n",
       "                              ...                        \n",
       "9689    НД № 2-020101-176 Правила классификации и пост...\n",
       "9690    О внесении изменений в некоторые акты Правител...\n",
       "9691    О внесении изменений в Порядок формирования и ...\n",
       "9692    Об утверждении профессионального стандарта \"Сп...\n",
       "9693    Об утверждении профессионального стандарта \"Сп...\n",
       "Name: combined_vector, Length: 9694, dtype: object"
      ]
     },
     "execution_count": 19,
     "metadata": {},
     "output_type": "execute_result"
    }
   ],
   "source": [
    "import pandas as pd\n",
    "import numpy as np\n",
    "\n",
    "new_name_df['combined_vector'] = new_name_df[['name', '1186']].fillna('').agg(lambda x: '.'.join(filter(None, x)), axis=1)\n",
    "new_name_df.rename(columns={'id': 'iddoc'}, inplace=True)\n",
    "new_name_df['combined_vector']"
   ]
  },
  {
   "cell_type": "code",
   "execution_count": 20,
   "id": "7c6e1652-876b-428c-bb06-e085b20adf8e",
   "metadata": {},
   "outputs": [
    {
     "data": {
      "text/html": [
       "<div>\n",
       "<style scoped>\n",
       "    .dataframe tbody tr th:only-of-type {\n",
       "        vertical-align: middle;\n",
       "    }\n",
       "\n",
       "    .dataframe tbody tr th {\n",
       "        vertical-align: top;\n",
       "    }\n",
       "\n",
       "    .dataframe thead th {\n",
       "        text-align: right;\n",
       "    }\n",
       "</style>\n",
       "<table border=\"1\" class=\"dataframe\">\n",
       "  <thead>\n",
       "    <tr style=\"text-align: right;\">\n",
       "      <th></th>\n",
       "      <th>iddoc</th>\n",
       "      <th>pooler_output_avg</th>\n",
       "    </tr>\n",
       "  </thead>\n",
       "  <tbody>\n",
       "    <tr>\n",
       "      <th>0</th>\n",
       "      <td>140004</td>\n",
       "      <td>[0.3533614, -0.24332023, 0.05609652, 0.1153601...</td>\n",
       "    </tr>\n",
       "    <tr>\n",
       "      <th>1</th>\n",
       "      <td>140005</td>\n",
       "      <td>[0.32593527, -0.23999172, 0.28076676, 0.152409...</td>\n",
       "    </tr>\n",
       "    <tr>\n",
       "      <th>2</th>\n",
       "      <td>190074</td>\n",
       "      <td>[0.08047133, -0.039777726, 0.06488275, 0.35665...</td>\n",
       "    </tr>\n",
       "    <tr>\n",
       "      <th>3</th>\n",
       "      <td>190084</td>\n",
       "      <td>[0.39877644, -0.37896392, 0.3478066, -0.059260...</td>\n",
       "    </tr>\n",
       "    <tr>\n",
       "      <th>4</th>\n",
       "      <td>190105</td>\n",
       "      <td>[0.15064745, -0.27369267, 0.13626704, 0.016533...</td>\n",
       "    </tr>\n",
       "    <tr>\n",
       "      <th>...</th>\n",
       "      <td>...</td>\n",
       "      <td>...</td>\n",
       "    </tr>\n",
       "    <tr>\n",
       "      <th>9689</th>\n",
       "      <td>130668748</td>\n",
       "      <td>[0.22188985, -0.40385714, 0.18229052, -0.12515...</td>\n",
       "    </tr>\n",
       "    <tr>\n",
       "      <th>9690</th>\n",
       "      <td>130671048</td>\n",
       "      <td>[0.06462571, -0.029448021, 0.19465742, 0.20484...</td>\n",
       "    </tr>\n",
       "    <tr>\n",
       "      <th>9691</th>\n",
       "      <td>130674299</td>\n",
       "      <td>[0.14669056, -0.11798106, 0.15181158, 0.096872...</td>\n",
       "    </tr>\n",
       "    <tr>\n",
       "      <th>9692</th>\n",
       "      <td>130676021</td>\n",
       "      <td>[0.038171273, -0.004897422, 0.039102685, 0.258...</td>\n",
       "    </tr>\n",
       "    <tr>\n",
       "      <th>9693</th>\n",
       "      <td>130676021</td>\n",
       "      <td>[0.22256109, -0.23866361, 0.16280305, 0.233732...</td>\n",
       "    </tr>\n",
       "  </tbody>\n",
       "</table>\n",
       "<p>9694 rows × 2 columns</p>\n",
       "</div>"
      ],
      "text/plain": [
       "          iddoc                                  pooler_output_avg\n",
       "0        140004  [0.3533614, -0.24332023, 0.05609652, 0.1153601...\n",
       "1        140005  [0.32593527, -0.23999172, 0.28076676, 0.152409...\n",
       "2        190074  [0.08047133, -0.039777726, 0.06488275, 0.35665...\n",
       "3        190084  [0.39877644, -0.37896392, 0.3478066, -0.059260...\n",
       "4        190105  [0.15064745, -0.27369267, 0.13626704, 0.016533...\n",
       "...         ...                                                ...\n",
       "9689  130668748  [0.22188985, -0.40385714, 0.18229052, -0.12515...\n",
       "9690  130671048  [0.06462571, -0.029448021, 0.19465742, 0.20484...\n",
       "9691  130674299  [0.14669056, -0.11798106, 0.15181158, 0.096872...\n",
       "9692  130676021  [0.038171273, -0.004897422, 0.039102685, 0.258...\n",
       "9693  130676021  [0.22256109, -0.23866361, 0.16280305, 0.233732...\n",
       "\n",
       "[9694 rows x 2 columns]"
      ]
     },
     "execution_count": 20,
     "metadata": {},
     "output_type": "execute_result"
    }
   ],
   "source": [
    "trainmynameavg = pd.read_pickle(\"./my_df2/trainmyname1avg.pkl\")\n",
    "trainmynameavg['pooler_output_avg'] = trainmynameavg['pooler_output_avg'].apply(lambda x: x.reshape(768))\n",
    "trainmynameavg = trainmynameavg.reset_index(drop=True)\n",
    "\n",
    "trainmynameavg"
   ]
  },
  {
   "cell_type": "markdown",
   "id": "e007c0dc",
   "metadata": {},
   "source": [
    "## Добавим новые признаки organ and name(train dataset)"
   ]
  },
  {
   "cell_type": "code",
   "execution_count": 26,
   "id": "fdec8872",
   "metadata": {},
   "outputs": [],
   "source": [
    "organ_df=pd.read_csv('./work_data/organ.csv',sep=\";\",encoding='cp1251')\n",
    "organ_df = organ_df.rename(columns={'Organ': 'organ'})\n",
    "organ_df.drop(columns=['idorgan'], inplace=True)"
   ]
  },
  {
   "cell_type": "code",
   "execution_count": 27,
   "id": "cdd0b456",
   "metadata": {},
   "outputs": [],
   "source": [
    "name_df=pd.read_csv('./work_data/name.csv',sep=\";\",encoding='cp1251')\n",
    "name_df.drop(columns=['Unnamed: 2', 'Unnamed: 3','Unnamed: 4'], inplace=True)"
   ]
  },
  {
   "cell_type": "code",
   "execution_count": 28,
   "id": "a12d9eb5",
   "metadata": {},
   "outputs": [],
   "source": [
    "name_df['iddoc'] = name_df['iddoc'].astype(str)\n",
    "organ_df['iddoc'] = organ_df['iddoc'].astype(str)\n",
    "dffull_train = pd.merge(name_df, organ_df, on='iddoc', how='inner')"
   ]
  },
  {
   "cell_type": "code",
   "execution_count": 29,
   "id": "25453ee8",
   "metadata": {},
   "outputs": [],
   "source": [
    "df_label_train = pd.read_csv('./work_data/DS_TechReg-140624.csv', encoding=\"windows-1251\",sep=';')\n",
    "df_label_train = df_label_train.rename(columns={'ID': 'iddoc'})"
   ]
  },
  {
   "cell_type": "code",
   "execution_count": 30,
   "id": "6cc5df42",
   "metadata": {},
   "outputs": [],
   "source": [
    "df_label_train['iddoc'] = df_label_train['iddoc'].astype(str)\n",
    "dffull_train = pd.merge(dffull_train, df_label_train, on='iddoc', how='inner')"
   ]
  },
  {
   "cell_type": "code",
   "execution_count": 31,
   "id": "7cb8a2a2",
   "metadata": {},
   "outputs": [],
   "source": [
    "trainorganvec = pd.read_pickle(\"./my_df/trainorganvec.pkl\")\n",
    "trainorganvec = trainorganvec.rename(columns={'namevec': 'trainorganvec'})"
   ]
  },
  {
   "cell_type": "code",
   "execution_count": 32,
   "id": "0bf9c4a8",
   "metadata": {},
   "outputs": [],
   "source": [
    "trainnamevec = pd.read_pickle(\"./my_df/trainnamevec.pkl\")\n",
    "trainnamevec = trainnamevec.rename(columns={'namevec': 'trainnamevec'})"
   ]
  },
  {
   "cell_type": "code",
   "execution_count": 33,
   "id": "9cd3d2b6",
   "metadata": {},
   "outputs": [],
   "source": [
    "trainnamevec['iddoc'] = trainnamevec['iddoc'].astype(str)\n",
    "trainorganvec['iddoc'] = trainorganvec['iddoc'].astype(str)\n",
    "trainnameorganvec = pd.merge(trainnamevec, trainorganvec, on='iddoc', how='inner')\n",
    "dffull_train = pd.merge(dffull_train, trainnameorganvec, on='iddoc', how='inner')"
   ]
  },
  {
   "cell_type": "code",
   "execution_count": 34,
   "id": "51102bb8",
   "metadata": {},
   "outputs": [],
   "source": [
    "trainruupunkavg = pd.read_pickle(\"./my_df/trainruupunkavg.pkl\")\n",
    "trainruupunkavg['iddoc'] = trainruupunkavg['iddoc'].astype(str)\n",
    "trainruupunkavg = trainruupunkavg.rename(columns={'pooler_output': 'vect'})\n",
    "trainruupunkavg['vect'] = trainruupunkavg['vect'].apply(lambda x: x.reshape(768))\n",
    "dffull_train = pd.merge(dffull_train, trainruupunkavg, on='iddoc', how='inner')"
   ]
  },
  {
   "cell_type": "code",
   "execution_count": 35,
   "id": "2b03553b",
   "metadata": {},
   "outputs": [
    {
     "data": {
      "text/html": [
       "<div>\n",
       "<style scoped>\n",
       "    .dataframe tbody tr th:only-of-type {\n",
       "        vertical-align: middle;\n",
       "    }\n",
       "\n",
       "    .dataframe tbody tr th {\n",
       "        vertical-align: top;\n",
       "    }\n",
       "\n",
       "    .dataframe thead th {\n",
       "        text-align: right;\n",
       "    }\n",
       "</style>\n",
       "<table border=\"1\" class=\"dataframe\">\n",
       "  <thead>\n",
       "    <tr style=\"text-align: right;\">\n",
       "      <th></th>\n",
       "      <th>iddoc</th>\n",
       "      <th>name</th>\n",
       "      <th>organ</th>\n",
       "      <th>Label</th>\n",
       "      <th>trainnamevec</th>\n",
       "      <th>trainorganvec</th>\n",
       "      <th>vect</th>\n",
       "    </tr>\n",
       "  </thead>\n",
       "  <tbody>\n",
       "    <tr>\n",
       "      <th>0</th>\n",
       "      <td>1400051</td>\n",
       "      <td>'Санитарные правила для предприятий по обработ...</td>\n",
       "      <td>Заместитель главного государственного санитарн...</td>\n",
       "      <td>Санитарные нормы и правила</td>\n",
       "      <td>[0.3289106, -0.3153046, 0.19357339, 0.20849438...</td>\n",
       "      <td>[0.37863722, -0.12031019, 0.20947607, 0.258135...</td>\n",
       "      <td>[0.12359218, -0.16039869, 0.12760171, 0.029699...</td>\n",
       "    </tr>\n",
       "    <tr>\n",
       "      <th>1</th>\n",
       "      <td>5200228</td>\n",
       "      <td>'ГОСТ 12.2.061-81 Система стандартов безопасно...</td>\n",
       "      <td>Госстандарт СССР</td>\n",
       "      <td>Охрана и безопасность труда</td>\n",
       "      <td>[0.20333531, -0.18829913, 0.022558536, 0.32277...</td>\n",
       "      <td>[0.14245707, -0.12429103, 0.122207195, 0.14406...</td>\n",
       "      <td>[0.10657137, -0.14859758, 0.11362507, 0.030690...</td>\n",
       "    </tr>\n",
       "    <tr>\n",
       "      <th>2</th>\n",
       "      <td>5200275</td>\n",
       "      <td>'ГОСТ 12.1.008-76 Система стандартов безопасно...</td>\n",
       "      <td>Госстандарт СССР</td>\n",
       "      <td>Охрана и безопасность труда</td>\n",
       "      <td>[0.23374136, -0.20337054, 0.0030277222, 0.2893...</td>\n",
       "      <td>[0.14245707, -0.12429103, 0.122207195, 0.14406...</td>\n",
       "      <td>[0.18051448, -0.19030748, 0.11437332, 0.008232...</td>\n",
       "    </tr>\n",
       "    <tr>\n",
       "      <th>3</th>\n",
       "      <td>5200277</td>\n",
       "      <td>'ГОСТ 12.4.155-85 Система стандартов безопасно...</td>\n",
       "      <td>Госстандарт СССР</td>\n",
       "      <td>Охрана и безопасность труда</td>\n",
       "      <td>[0.22064964, -0.22460273, 0.042272247, 0.29843...</td>\n",
       "      <td>[0.14245707, -0.12429103, 0.122207195, 0.14406...</td>\n",
       "      <td>[0.10624106, -0.20068084, 0.06754017, 0.087890...</td>\n",
       "    </tr>\n",
       "    <tr>\n",
       "      <th>4</th>\n",
       "      <td>5200292</td>\n",
       "      <td>'ГОСТ 12.1.029-80 Система стандартов безопасно...</td>\n",
       "      <td>Госстандарт СССР</td>\n",
       "      <td>Охрана и безопасность труда</td>\n",
       "      <td>[0.23646508, -0.158473, 0.022069393, 0.2968053...</td>\n",
       "      <td>[0.14245707, -0.12429103, 0.122207195, 0.14406...</td>\n",
       "      <td>[0.09985344, -0.19155689, 0.051527206, 0.10834...</td>\n",
       "    </tr>\n",
       "    <tr>\n",
       "      <th>...</th>\n",
       "      <td>...</td>\n",
       "      <td>...</td>\n",
       "      <td>...</td>\n",
       "      <td>...</td>\n",
       "      <td>...</td>\n",
       "      <td>...</td>\n",
       "      <td>...</td>\n",
       "    </tr>\n",
       "    <tr>\n",
       "      <th>1366</th>\n",
       "      <td>1300338507</td>\n",
       "      <td>'О применении дистанционных технологий при обу...</td>\n",
       "      <td>Минтруд России</td>\n",
       "      <td>Охрана и безопасность труда</td>\n",
       "      <td>[0.2653267, -0.27229616, 0.077737056, 0.272881...</td>\n",
       "      <td>[0.19772974, -0.12900108, 0.098861955, 0.14717...</td>\n",
       "      <td>[0.026345547, -0.15162246, 0.069065, 0.1603872...</td>\n",
       "    </tr>\n",
       "    <tr>\n",
       "      <th>1367</th>\n",
       "      <td>1300457189</td>\n",
       "      <td>'О внесении изменений в Правила обучения по ох...</td>\n",
       "      <td>Правительство РФ</td>\n",
       "      <td>Охрана и безопасность труда</td>\n",
       "      <td>[0.23206042, -0.27537432, 0.06759465, 0.217285...</td>\n",
       "      <td>[0.20131747, -0.14124425, 0.16144168, 0.097356...</td>\n",
       "      <td>[0.05934743, -0.1224509, 0.07805726, 0.1610681...</td>\n",
       "    </tr>\n",
       "    <tr>\n",
       "      <th>1368</th>\n",
       "      <td>1300583925</td>\n",
       "      <td>'Об организации обучения требованиям охраны тр...</td>\n",
       "      <td>Минтруд России</td>\n",
       "      <td>Охрана и безопасность труда</td>\n",
       "      <td>[0.23494183, -0.32122934, 0.11517173, 0.434092...</td>\n",
       "      <td>[0.19772974, -0.12900108, 0.098861955, 0.14717...</td>\n",
       "      <td>[0.048510328, -0.10868763, 0.06287158, 0.18918...</td>\n",
       "    </tr>\n",
       "    <tr>\n",
       "      <th>1369</th>\n",
       "      <td>1300598905</td>\n",
       "      <td>'Об аттестации в области промышленной безопасн...</td>\n",
       "      <td>Правительство РФ</td>\n",
       "      <td>Промышленная безопасность</td>\n",
       "      <td>[0.25426373, -0.19592108, 0.072047524, 0.48183...</td>\n",
       "      <td>[0.20131747, -0.14124425, 0.16144168, 0.097356...</td>\n",
       "      <td>[0.059145734, -0.03285611, 0.065415256, 0.1477...</td>\n",
       "    </tr>\n",
       "    <tr>\n",
       "      <th>1370</th>\n",
       "      <td>1300666795</td>\n",
       "      <td>'О Правилах обучения по охране труда и проверк...</td>\n",
       "      <td>Минтруд России</td>\n",
       "      <td>Охрана и безопасность труда</td>\n",
       "      <td>[0.24981105, -0.33258584, 0.072318524, 0.28974...</td>\n",
       "      <td>[0.19772978, -0.12900107, 0.098861985, 0.14717...</td>\n",
       "      <td>[0.010859113, -0.09585116, 0.046153374, 0.1227...</td>\n",
       "    </tr>\n",
       "  </tbody>\n",
       "</table>\n",
       "<p>1371 rows × 7 columns</p>\n",
       "</div>"
      ],
      "text/plain": [
       "           iddoc                                               name  \\\n",
       "0        1400051  'Санитарные правила для предприятий по обработ...   \n",
       "1        5200228  'ГОСТ 12.2.061-81 Система стандартов безопасно...   \n",
       "2        5200275  'ГОСТ 12.1.008-76 Система стандартов безопасно...   \n",
       "3        5200277  'ГОСТ 12.4.155-85 Система стандартов безопасно...   \n",
       "4        5200292  'ГОСТ 12.1.029-80 Система стандартов безопасно...   \n",
       "...          ...                                                ...   \n",
       "1366  1300338507  'О применении дистанционных технологий при обу...   \n",
       "1367  1300457189  'О внесении изменений в Правила обучения по ох...   \n",
       "1368  1300583925  'Об организации обучения требованиям охраны тр...   \n",
       "1369  1300598905  'Об аттестации в области промышленной безопасн...   \n",
       "1370  1300666795  'О Правилах обучения по охране труда и проверк...   \n",
       "\n",
       "                                                  organ  \\\n",
       "0     Заместитель главного государственного санитарн...   \n",
       "1                                      Госстандарт СССР   \n",
       "2                                      Госстандарт СССР   \n",
       "3                                      Госстандарт СССР   \n",
       "4                                      Госстандарт СССР   \n",
       "...                                                 ...   \n",
       "1366                                     Минтруд России   \n",
       "1367                                   Правительство РФ   \n",
       "1368                                     Минтруд России   \n",
       "1369                                   Правительство РФ   \n",
       "1370                                     Минтруд России   \n",
       "\n",
       "                            Label  \\\n",
       "0      Санитарные нормы и правила   \n",
       "1     Охрана и безопасность труда   \n",
       "2     Охрана и безопасность труда   \n",
       "3     Охрана и безопасность труда   \n",
       "4     Охрана и безопасность труда   \n",
       "...                           ...   \n",
       "1366  Охрана и безопасность труда   \n",
       "1367  Охрана и безопасность труда   \n",
       "1368  Охрана и безопасность труда   \n",
       "1369    Промышленная безопасность   \n",
       "1370  Охрана и безопасность труда   \n",
       "\n",
       "                                           trainnamevec  \\\n",
       "0     [0.3289106, -0.3153046, 0.19357339, 0.20849438...   \n",
       "1     [0.20333531, -0.18829913, 0.022558536, 0.32277...   \n",
       "2     [0.23374136, -0.20337054, 0.0030277222, 0.2893...   \n",
       "3     [0.22064964, -0.22460273, 0.042272247, 0.29843...   \n",
       "4     [0.23646508, -0.158473, 0.022069393, 0.2968053...   \n",
       "...                                                 ...   \n",
       "1366  [0.2653267, -0.27229616, 0.077737056, 0.272881...   \n",
       "1367  [0.23206042, -0.27537432, 0.06759465, 0.217285...   \n",
       "1368  [0.23494183, -0.32122934, 0.11517173, 0.434092...   \n",
       "1369  [0.25426373, -0.19592108, 0.072047524, 0.48183...   \n",
       "1370  [0.24981105, -0.33258584, 0.072318524, 0.28974...   \n",
       "\n",
       "                                          trainorganvec  \\\n",
       "0     [0.37863722, -0.12031019, 0.20947607, 0.258135...   \n",
       "1     [0.14245707, -0.12429103, 0.122207195, 0.14406...   \n",
       "2     [0.14245707, -0.12429103, 0.122207195, 0.14406...   \n",
       "3     [0.14245707, -0.12429103, 0.122207195, 0.14406...   \n",
       "4     [0.14245707, -0.12429103, 0.122207195, 0.14406...   \n",
       "...                                                 ...   \n",
       "1366  [0.19772974, -0.12900108, 0.098861955, 0.14717...   \n",
       "1367  [0.20131747, -0.14124425, 0.16144168, 0.097356...   \n",
       "1368  [0.19772974, -0.12900108, 0.098861955, 0.14717...   \n",
       "1369  [0.20131747, -0.14124425, 0.16144168, 0.097356...   \n",
       "1370  [0.19772978, -0.12900107, 0.098861985, 0.14717...   \n",
       "\n",
       "                                                   vect  \n",
       "0     [0.12359218, -0.16039869, 0.12760171, 0.029699...  \n",
       "1     [0.10657137, -0.14859758, 0.11362507, 0.030690...  \n",
       "2     [0.18051448, -0.19030748, 0.11437332, 0.008232...  \n",
       "3     [0.10624106, -0.20068084, 0.06754017, 0.087890...  \n",
       "4     [0.09985344, -0.19155689, 0.051527206, 0.10834...  \n",
       "...                                                 ...  \n",
       "1366  [0.026345547, -0.15162246, 0.069065, 0.1603872...  \n",
       "1367  [0.05934743, -0.1224509, 0.07805726, 0.1610681...  \n",
       "1368  [0.048510328, -0.10868763, 0.06287158, 0.18918...  \n",
       "1369  [0.059145734, -0.03285611, 0.065415256, 0.1477...  \n",
       "1370  [0.010859113, -0.09585116, 0.046153374, 0.1227...  \n",
       "\n",
       "[1371 rows x 7 columns]"
      ]
     },
     "execution_count": 35,
     "metadata": {},
     "output_type": "execute_result"
    }
   ],
   "source": [
    "dffull_train.to_pickle('./my_df/dffull_train.pkl')\n",
    "dffull_train"
   ]
  },
  {
   "cell_type": "markdown",
   "id": "d49cfef0",
   "metadata": {},
   "source": [
    "## Добавим новые признаки organ and name(test dataset)"
   ]
  },
  {
   "cell_type": "code",
   "execution_count": 36,
   "id": "11fd7922",
   "metadata": {},
   "outputs": [],
   "source": [
    "organ_df=pd.read_csv('./work_data/organ.csv',sep=\";\",encoding='cp1251')\n",
    "organ_df = organ_df.rename(columns={'Organ': 'organ'})\n",
    "organ_df.drop(columns=['idorgan'], inplace=True)"
   ]
  },
  {
   "cell_type": "code",
   "execution_count": 37,
   "id": "5b272b7a",
   "metadata": {},
   "outputs": [],
   "source": [
    "name_df=pd.read_csv('./work_data/name.csv',sep=\";\",encoding='cp1251')\n",
    "name_df.drop(columns=['Unnamed: 2', 'Unnamed: 3','Unnamed: 4'], inplace=True)"
   ]
  },
  {
   "cell_type": "code",
   "execution_count": 38,
   "id": "350ee1de",
   "metadata": {},
   "outputs": [],
   "source": [
    "name_df['iddoc'] = name_df['iddoc'].astype(str)\n",
    "organ_df['iddoc'] = organ_df['iddoc'].astype(str)"
   ]
  },
  {
   "cell_type": "code",
   "execution_count": 39,
   "id": "92fb0e1e",
   "metadata": {},
   "outputs": [],
   "source": [
    "df_fulltest = pd.merge(name_df, organ_df, on='iddoc', how='inner')"
   ]
  },
  {
   "cell_type": "code",
   "execution_count": 40,
   "id": "2beaf7de",
   "metadata": {},
   "outputs": [],
   "source": [
    "df_label_test = pd.read_csv('./work_data/DS_check_quality.csv', encoding=\"windows-1251\",sep=';')\n",
    "df_label_test = df_label_test.rename(columns={'ID': 'iddoc'})\n",
    "df_label_test['iddoc'] = df_label_test['iddoc'].astype(str)\n",
    "df_fulltest = pd.merge(df_fulltest, df_label_test, on='iddoc', how='inner')"
   ]
  },
  {
   "cell_type": "code",
   "execution_count": 41,
   "id": "b02d35ab",
   "metadata": {},
   "outputs": [],
   "source": [
    "testorganvec = pd.read_pickle(\"./my_df/testorganvec.pkl\")\n",
    "testorganvec = testorganvec.rename(columns={'namevec': 'testorganvec'})"
   ]
  },
  {
   "cell_type": "code",
   "execution_count": 42,
   "id": "ce4143c9",
   "metadata": {},
   "outputs": [],
   "source": [
    "testnamevec = pd.read_pickle(\"./my_df/testnamevec.pkl\")\n",
    "testnamevec = testnamevec.rename(columns={'namevec': 'testnamevec'})"
   ]
  },
  {
   "cell_type": "code",
   "execution_count": 43,
   "id": "54307d1d",
   "metadata": {},
   "outputs": [],
   "source": [
    "testorganvec['iddoc'] = testorganvec['iddoc'].astype(str)\n",
    "testnamevec['iddoc'] = testnamevec['iddoc'].astype(str)"
   ]
  },
  {
   "cell_type": "code",
   "execution_count": 44,
   "id": "129b897a",
   "metadata": {},
   "outputs": [],
   "source": [
    "testorgannamevec = pd.merge(testorganvec, testnamevec, on='iddoc', how='inner')\n",
    "df_fulltest = pd.merge(df_fulltest, testorgannamevec, on='iddoc', how='inner')"
   ]
  },
  {
   "cell_type": "code",
   "execution_count": 45,
   "id": "9b94114e",
   "metadata": {},
   "outputs": [],
   "source": [
    "testruupunkavg = pd.read_pickle(\"./my_df/testruupunkavg.pkl\")\n",
    "testruupunkavg['iddoc'] = testruupunkavg['iddoc'].astype(str)\n",
    "testruupunkavg = testruupunkavg.rename(columns={'pooler_output': 'vect'})\n",
    "testruupunkavg['vect'] = testruupunkavg['vect'].apply(lambda x: x.reshape(768))\n",
    "df_fulltest = pd.merge(df_fulltest, testruupunkavg, on='iddoc', how='inner')"
   ]
  },
  {
   "cell_type": "code",
   "execution_count": 46,
   "id": "462e2dc0",
   "metadata": {},
   "outputs": [
    {
     "data": {
      "text/html": [
       "<div>\n",
       "<style scoped>\n",
       "    .dataframe tbody tr th:only-of-type {\n",
       "        vertical-align: middle;\n",
       "    }\n",
       "\n",
       "    .dataframe tbody tr th {\n",
       "        vertical-align: top;\n",
       "    }\n",
       "\n",
       "    .dataframe thead th {\n",
       "        text-align: right;\n",
       "    }\n",
       "</style>\n",
       "<table border=\"1\" class=\"dataframe\">\n",
       "  <thead>\n",
       "    <tr style=\"text-align: right;\">\n",
       "      <th></th>\n",
       "      <th>iddoc</th>\n",
       "      <th>name</th>\n",
       "      <th>organ</th>\n",
       "      <th>Label</th>\n",
       "      <th>testorganvec</th>\n",
       "      <th>testnamevec</th>\n",
       "      <th>vect</th>\n",
       "    </tr>\n",
       "  </thead>\n",
       "  <tbody>\n",
       "    <tr>\n",
       "      <th>0</th>\n",
       "      <td>1400051</td>\n",
       "      <td>'Санитарные правила для предприятий по обработ...</td>\n",
       "      <td>Заместитель главного государственного санитарн...</td>\n",
       "      <td>Санитарные нормы и правила</td>\n",
       "      <td>[0.3786372, -0.120310254, 0.20947564, 0.258135...</td>\n",
       "      <td>[0.3289096, -0.31530365, 0.19357279, 0.2084960...</td>\n",
       "      <td>[0.12359218, -0.16039869, 0.12760171, 0.029699...</td>\n",
       "    </tr>\n",
       "    <tr>\n",
       "      <th>1</th>\n",
       "      <td>5200086</td>\n",
       "      <td>'ГОСТ 17.5.3.02-90 Охрана природы (ССОП). Земл...</td>\n",
       "      <td>Госкомприроды СССР</td>\n",
       "      <td>Охрана окружающей среды</td>\n",
       "      <td>[0.1664121, -0.117298484, 0.15260126, 0.138540...</td>\n",
       "      <td>[0.31862393, -0.3411005, 0.1831128, 0.04432468...</td>\n",
       "      <td>[0.1412907, -0.17420973, 0.13162301, 0.0465316...</td>\n",
       "    </tr>\n",
       "    <tr>\n",
       "      <th>2</th>\n",
       "      <td>5200208</td>\n",
       "      <td>'РДС 10-232-94 Порядок проведения сертификации...</td>\n",
       "      <td>Минстрой России</td>\n",
       "      <td>Оценка соответствия</td>\n",
       "      <td>[0.23798057, -0.13816689, 0.16876133, 0.081330...</td>\n",
       "      <td>[0.16993566, -0.18714105, 0.10934698, 0.321882...</td>\n",
       "      <td>[0.11319316, -0.1464605, 0.0960037, 0.07665943...</td>\n",
       "    </tr>\n",
       "    <tr>\n",
       "      <th>3</th>\n",
       "      <td>5200209</td>\n",
       "      <td>'РДС 10-233-94 Требования к органам по сертифи...</td>\n",
       "      <td>Минстрой России</td>\n",
       "      <td>Оценка соответствия</td>\n",
       "      <td>[0.23798057, -0.13816689, 0.16876133, 0.081330...</td>\n",
       "      <td>[0.11356673, -0.13251105, -0.017487448, 0.3879...</td>\n",
       "      <td>[0.1253605, -0.17264639, 0.13933165, 0.0150382...</td>\n",
       "    </tr>\n",
       "    <tr>\n",
       "      <th>4</th>\n",
       "      <td>5200228</td>\n",
       "      <td>'ГОСТ 12.2.061-81 Система стандартов безопасно...</td>\n",
       "      <td>Госстандарт СССР</td>\n",
       "      <td>Охрана и безопасность труда</td>\n",
       "      <td>[0.14245716, -0.12429103, 0.12220717, 0.144069...</td>\n",
       "      <td>[0.20333536, -0.18829906, 0.022558402, 0.32277...</td>\n",
       "      <td>[0.10657137, -0.14859758, 0.11362507, 0.030690...</td>\n",
       "    </tr>\n",
       "    <tr>\n",
       "      <th>...</th>\n",
       "      <td>...</td>\n",
       "      <td>...</td>\n",
       "      <td>...</td>\n",
       "      <td>...</td>\n",
       "      <td>...</td>\n",
       "      <td>...</td>\n",
       "      <td>...</td>\n",
       "    </tr>\n",
       "    <tr>\n",
       "      <th>3950</th>\n",
       "      <td>1300583291</td>\n",
       "      <td>'СТО СРО-С 60542960 00065-2022 Объекты использ...</td>\n",
       "      <td>СРО \"СОЮЗАТОМСТРОЙ\"</td>\n",
       "      <td>Промышленная безопасность</td>\n",
       "      <td>[0.23033588, -0.26847515, 0.11073253, 0.029051...</td>\n",
       "      <td>[0.22904277, -0.17296153, 0.13700251, 0.168385...</td>\n",
       "      <td>[0.07641777, -0.14503886, 0.19336572, -0.13411...</td>\n",
       "    </tr>\n",
       "    <tr>\n",
       "      <th>3951</th>\n",
       "      <td>1300584509</td>\n",
       "      <td>'Санитарные правила пассажирских перевозок на ...</td>\n",
       "      <td>СЖТ СНГ</td>\n",
       "      <td>Санитарные нормы и правила</td>\n",
       "      <td>[0.23887007, -0.18820181, 0.20838569, 0.092722...</td>\n",
       "      <td>[0.102712706, -0.17922917, -0.048411377, 0.338...</td>\n",
       "      <td>[0.08611536, -0.13373595, 0.2053212, -0.159156...</td>\n",
       "    </tr>\n",
       "    <tr>\n",
       "      <th>3952</th>\n",
       "      <td>1300666186</td>\n",
       "      <td>'СТО 56910145-009-2014 Полотно нетканое геотек...</td>\n",
       "      <td>ЗАО \"Техполимер\"</td>\n",
       "      <td>Охрана и безопасность труда</td>\n",
       "      <td>[0.20924278, -0.2000265, 0.14009938, 0.0941980...</td>\n",
       "      <td>[0.23160122, -0.23618263, 0.061281107, 0.16934...</td>\n",
       "      <td>[0.039838407, -0.068976656, 0.13506916, 0.0211...</td>\n",
       "    </tr>\n",
       "    <tr>\n",
       "      <th>3953</th>\n",
       "      <td>1300739796</td>\n",
       "      <td>'Р 1323565.2.002-2022 Государственная система ...</td>\n",
       "      <td>Росстандарт</td>\n",
       "      <td>Метрология</td>\n",
       "      <td>[0.13282306, -0.109270684, 0.13190684, 0.15616...</td>\n",
       "      <td>[0.07561759, -0.07892581, 0.0060531166, 0.2106...</td>\n",
       "      <td>[0.10631539, -0.10371773, 0.19646613, -0.15908...</td>\n",
       "    </tr>\n",
       "    <tr>\n",
       "      <th>3954</th>\n",
       "      <td>1300774531</td>\n",
       "      <td>'СП 88.13330.2022 СНиП II-11-77* Защитные соор...</td>\n",
       "      <td>Министерство строительства и жилищно-коммуналь...</td>\n",
       "      <td>Пожарная безопасность</td>\n",
       "      <td>[0.34044278, -0.36799037, 0.2447347, -0.040650...</td>\n",
       "      <td>[0.09251735, -0.06474302, 0.07518331, 0.369910...</td>\n",
       "      <td>[0.062041108, -0.09439972, 0.17164372, -0.0785...</td>\n",
       "    </tr>\n",
       "  </tbody>\n",
       "</table>\n",
       "<p>3955 rows × 7 columns</p>\n",
       "</div>"
      ],
      "text/plain": [
       "           iddoc                                               name  \\\n",
       "0        1400051  'Санитарные правила для предприятий по обработ...   \n",
       "1        5200086  'ГОСТ 17.5.3.02-90 Охрана природы (ССОП). Земл...   \n",
       "2        5200208  'РДС 10-232-94 Порядок проведения сертификации...   \n",
       "3        5200209  'РДС 10-233-94 Требования к органам по сертифи...   \n",
       "4        5200228  'ГОСТ 12.2.061-81 Система стандартов безопасно...   \n",
       "...          ...                                                ...   \n",
       "3950  1300583291  'СТО СРО-С 60542960 00065-2022 Объекты использ...   \n",
       "3951  1300584509  'Санитарные правила пассажирских перевозок на ...   \n",
       "3952  1300666186  'СТО 56910145-009-2014 Полотно нетканое геотек...   \n",
       "3953  1300739796  'Р 1323565.2.002-2022 Государственная система ...   \n",
       "3954  1300774531  'СП 88.13330.2022 СНиП II-11-77* Защитные соор...   \n",
       "\n",
       "                                                  organ  \\\n",
       "0     Заместитель главного государственного санитарн...   \n",
       "1                                    Госкомприроды СССР   \n",
       "2                                       Минстрой России   \n",
       "3                                       Минстрой России   \n",
       "4                                      Госстандарт СССР   \n",
       "...                                                 ...   \n",
       "3950                                СРО \"СОЮЗАТОМСТРОЙ\"   \n",
       "3951                                            СЖТ СНГ   \n",
       "3952                                   ЗАО \"Техполимер\"   \n",
       "3953                                        Росстандарт   \n",
       "3954  Министерство строительства и жилищно-коммуналь...   \n",
       "\n",
       "                            Label  \\\n",
       "0      Санитарные нормы и правила   \n",
       "1         Охрана окружающей среды   \n",
       "2             Оценка соответствия   \n",
       "3             Оценка соответствия   \n",
       "4     Охрана и безопасность труда   \n",
       "...                           ...   \n",
       "3950    Промышленная безопасность   \n",
       "3951   Санитарные нормы и правила   \n",
       "3952  Охрана и безопасность труда   \n",
       "3953                   Метрология   \n",
       "3954        Пожарная безопасность   \n",
       "\n",
       "                                           testorganvec  \\\n",
       "0     [0.3786372, -0.120310254, 0.20947564, 0.258135...   \n",
       "1     [0.1664121, -0.117298484, 0.15260126, 0.138540...   \n",
       "2     [0.23798057, -0.13816689, 0.16876133, 0.081330...   \n",
       "3     [0.23798057, -0.13816689, 0.16876133, 0.081330...   \n",
       "4     [0.14245716, -0.12429103, 0.12220717, 0.144069...   \n",
       "...                                                 ...   \n",
       "3950  [0.23033588, -0.26847515, 0.11073253, 0.029051...   \n",
       "3951  [0.23887007, -0.18820181, 0.20838569, 0.092722...   \n",
       "3952  [0.20924278, -0.2000265, 0.14009938, 0.0941980...   \n",
       "3953  [0.13282306, -0.109270684, 0.13190684, 0.15616...   \n",
       "3954  [0.34044278, -0.36799037, 0.2447347, -0.040650...   \n",
       "\n",
       "                                            testnamevec  \\\n",
       "0     [0.3289096, -0.31530365, 0.19357279, 0.2084960...   \n",
       "1     [0.31862393, -0.3411005, 0.1831128, 0.04432468...   \n",
       "2     [0.16993566, -0.18714105, 0.10934698, 0.321882...   \n",
       "3     [0.11356673, -0.13251105, -0.017487448, 0.3879...   \n",
       "4     [0.20333536, -0.18829906, 0.022558402, 0.32277...   \n",
       "...                                                 ...   \n",
       "3950  [0.22904277, -0.17296153, 0.13700251, 0.168385...   \n",
       "3951  [0.102712706, -0.17922917, -0.048411377, 0.338...   \n",
       "3952  [0.23160122, -0.23618263, 0.061281107, 0.16934...   \n",
       "3953  [0.07561759, -0.07892581, 0.0060531166, 0.2106...   \n",
       "3954  [0.09251735, -0.06474302, 0.07518331, 0.369910...   \n",
       "\n",
       "                                                   vect  \n",
       "0     [0.12359218, -0.16039869, 0.12760171, 0.029699...  \n",
       "1     [0.1412907, -0.17420973, 0.13162301, 0.0465316...  \n",
       "2     [0.11319316, -0.1464605, 0.0960037, 0.07665943...  \n",
       "3     [0.1253605, -0.17264639, 0.13933165, 0.0150382...  \n",
       "4     [0.10657137, -0.14859758, 0.11362507, 0.030690...  \n",
       "...                                                 ...  \n",
       "3950  [0.07641777, -0.14503886, 0.19336572, -0.13411...  \n",
       "3951  [0.08611536, -0.13373595, 0.2053212, -0.159156...  \n",
       "3952  [0.039838407, -0.068976656, 0.13506916, 0.0211...  \n",
       "3953  [0.10631539, -0.10371773, 0.19646613, -0.15908...  \n",
       "3954  [0.062041108, -0.09439972, 0.17164372, -0.0785...  \n",
       "\n",
       "[3955 rows x 7 columns]"
      ]
     },
     "execution_count": 46,
     "metadata": {},
     "output_type": "execute_result"
    }
   ],
   "source": [
    "df_fulltest.to_pickle('./my_df/df_fulltest.pkl')\n",
    "df_fulltest"
   ]
  },
  {
   "cell_type": "markdown",
   "id": "c48b1ace",
   "metadata": {},
   "source": [
    "## Проверка качества на тестовом файле + своя нейронная сеть"
   ]
  },
  {
   "cell_type": "code",
   "execution_count": 47,
   "id": "d4a87cc8",
   "metadata": {
    "scrolled": true
   },
   "outputs": [
    {
     "data": {
      "text/html": [
       "<div>\n",
       "<style scoped>\n",
       "    .dataframe tbody tr th:only-of-type {\n",
       "        vertical-align: middle;\n",
       "    }\n",
       "\n",
       "    .dataframe tbody tr th {\n",
       "        vertical-align: top;\n",
       "    }\n",
       "\n",
       "    .dataframe thead th {\n",
       "        text-align: right;\n",
       "    }\n",
       "</style>\n",
       "<table border=\"1\" class=\"dataframe\">\n",
       "  <thead>\n",
       "    <tr style=\"text-align: right;\">\n",
       "      <th></th>\n",
       "      <th>iddoc</th>\n",
       "      <th>name</th>\n",
       "      <th>organ</th>\n",
       "      <th>Label</th>\n",
       "      <th>testorganvec</th>\n",
       "      <th>testnamevec</th>\n",
       "      <th>vect</th>\n",
       "    </tr>\n",
       "  </thead>\n",
       "  <tbody>\n",
       "    <tr>\n",
       "      <th>0</th>\n",
       "      <td>1400051</td>\n",
       "      <td>'Санитарные правила для предприятий по обработ...</td>\n",
       "      <td>Заместитель главного государственного санитарн...</td>\n",
       "      <td>Санитарные нормы и правила</td>\n",
       "      <td>[0.3786372, -0.120310254, 0.20947564, 0.258135...</td>\n",
       "      <td>[0.3289096, -0.31530365, 0.19357279, 0.2084960...</td>\n",
       "      <td>[0.12359218, -0.16039869, 0.12760171, 0.029699...</td>\n",
       "    </tr>\n",
       "    <tr>\n",
       "      <th>1</th>\n",
       "      <td>5200086</td>\n",
       "      <td>'ГОСТ 17.5.3.02-90 Охрана природы (ССОП). Земл...</td>\n",
       "      <td>Госкомприроды СССР</td>\n",
       "      <td>Охрана окружающей среды</td>\n",
       "      <td>[0.1664121, -0.117298484, 0.15260126, 0.138540...</td>\n",
       "      <td>[0.31862393, -0.3411005, 0.1831128, 0.04432468...</td>\n",
       "      <td>[0.1412907, -0.17420973, 0.13162301, 0.0465316...</td>\n",
       "    </tr>\n",
       "    <tr>\n",
       "      <th>2</th>\n",
       "      <td>5200208</td>\n",
       "      <td>'РДС 10-232-94 Порядок проведения сертификации...</td>\n",
       "      <td>Минстрой России</td>\n",
       "      <td>Оценка соответствия</td>\n",
       "      <td>[0.23798057, -0.13816689, 0.16876133, 0.081330...</td>\n",
       "      <td>[0.16993566, -0.18714105, 0.10934698, 0.321882...</td>\n",
       "      <td>[0.11319316, -0.1464605, 0.0960037, 0.07665943...</td>\n",
       "    </tr>\n",
       "    <tr>\n",
       "      <th>3</th>\n",
       "      <td>5200209</td>\n",
       "      <td>'РДС 10-233-94 Требования к органам по сертифи...</td>\n",
       "      <td>Минстрой России</td>\n",
       "      <td>Оценка соответствия</td>\n",
       "      <td>[0.23798057, -0.13816689, 0.16876133, 0.081330...</td>\n",
       "      <td>[0.11356673, -0.13251105, -0.017487448, 0.3879...</td>\n",
       "      <td>[0.1253605, -0.17264639, 0.13933165, 0.0150382...</td>\n",
       "    </tr>\n",
       "    <tr>\n",
       "      <th>4</th>\n",
       "      <td>5200228</td>\n",
       "      <td>'ГОСТ 12.2.061-81 Система стандартов безопасно...</td>\n",
       "      <td>Госстандарт СССР</td>\n",
       "      <td>Охрана и безопасность труда</td>\n",
       "      <td>[0.14245716, -0.12429103, 0.12220717, 0.144069...</td>\n",
       "      <td>[0.20333536, -0.18829906, 0.022558402, 0.32277...</td>\n",
       "      <td>[0.10657137, -0.14859758, 0.11362507, 0.030690...</td>\n",
       "    </tr>\n",
       "    <tr>\n",
       "      <th>...</th>\n",
       "      <td>...</td>\n",
       "      <td>...</td>\n",
       "      <td>...</td>\n",
       "      <td>...</td>\n",
       "      <td>...</td>\n",
       "      <td>...</td>\n",
       "      <td>...</td>\n",
       "    </tr>\n",
       "    <tr>\n",
       "      <th>3950</th>\n",
       "      <td>1300583291</td>\n",
       "      <td>'СТО СРО-С 60542960 00065-2022 Объекты использ...</td>\n",
       "      <td>СРО \"СОЮЗАТОМСТРОЙ\"</td>\n",
       "      <td>Промышленная безопасность</td>\n",
       "      <td>[0.23033588, -0.26847515, 0.11073253, 0.029051...</td>\n",
       "      <td>[0.22904277, -0.17296153, 0.13700251, 0.168385...</td>\n",
       "      <td>[0.07641777, -0.14503886, 0.19336572, -0.13411...</td>\n",
       "    </tr>\n",
       "    <tr>\n",
       "      <th>3951</th>\n",
       "      <td>1300584509</td>\n",
       "      <td>'Санитарные правила пассажирских перевозок на ...</td>\n",
       "      <td>СЖТ СНГ</td>\n",
       "      <td>Санитарные нормы и правила</td>\n",
       "      <td>[0.23887007, -0.18820181, 0.20838569, 0.092722...</td>\n",
       "      <td>[0.102712706, -0.17922917, -0.048411377, 0.338...</td>\n",
       "      <td>[0.08611536, -0.13373595, 0.2053212, -0.159156...</td>\n",
       "    </tr>\n",
       "    <tr>\n",
       "      <th>3952</th>\n",
       "      <td>1300666186</td>\n",
       "      <td>'СТО 56910145-009-2014 Полотно нетканое геотек...</td>\n",
       "      <td>ЗАО \"Техполимер\"</td>\n",
       "      <td>Охрана и безопасность труда</td>\n",
       "      <td>[0.20924278, -0.2000265, 0.14009938, 0.0941980...</td>\n",
       "      <td>[0.23160122, -0.23618263, 0.061281107, 0.16934...</td>\n",
       "      <td>[0.039838407, -0.068976656, 0.13506916, 0.0211...</td>\n",
       "    </tr>\n",
       "    <tr>\n",
       "      <th>3953</th>\n",
       "      <td>1300739796</td>\n",
       "      <td>'Р 1323565.2.002-2022 Государственная система ...</td>\n",
       "      <td>Росстандарт</td>\n",
       "      <td>Метрология</td>\n",
       "      <td>[0.13282306, -0.109270684, 0.13190684, 0.15616...</td>\n",
       "      <td>[0.07561759, -0.07892581, 0.0060531166, 0.2106...</td>\n",
       "      <td>[0.10631539, -0.10371773, 0.19646613, -0.15908...</td>\n",
       "    </tr>\n",
       "    <tr>\n",
       "      <th>3954</th>\n",
       "      <td>1300774531</td>\n",
       "      <td>'СП 88.13330.2022 СНиП II-11-77* Защитные соор...</td>\n",
       "      <td>Министерство строительства и жилищно-коммуналь...</td>\n",
       "      <td>Пожарная безопасность</td>\n",
       "      <td>[0.34044278, -0.36799037, 0.2447347, -0.040650...</td>\n",
       "      <td>[0.09251735, -0.06474302, 0.07518331, 0.369910...</td>\n",
       "      <td>[0.062041108, -0.09439972, 0.17164372, -0.0785...</td>\n",
       "    </tr>\n",
       "  </tbody>\n",
       "</table>\n",
       "<p>3955 rows × 7 columns</p>\n",
       "</div>"
      ],
      "text/plain": [
       "           iddoc                                               name  \\\n",
       "0        1400051  'Санитарные правила для предприятий по обработ...   \n",
       "1        5200086  'ГОСТ 17.5.3.02-90 Охрана природы (ССОП). Земл...   \n",
       "2        5200208  'РДС 10-232-94 Порядок проведения сертификации...   \n",
       "3        5200209  'РДС 10-233-94 Требования к органам по сертифи...   \n",
       "4        5200228  'ГОСТ 12.2.061-81 Система стандартов безопасно...   \n",
       "...          ...                                                ...   \n",
       "3950  1300583291  'СТО СРО-С 60542960 00065-2022 Объекты использ...   \n",
       "3951  1300584509  'Санитарные правила пассажирских перевозок на ...   \n",
       "3952  1300666186  'СТО 56910145-009-2014 Полотно нетканое геотек...   \n",
       "3953  1300739796  'Р 1323565.2.002-2022 Государственная система ...   \n",
       "3954  1300774531  'СП 88.13330.2022 СНиП II-11-77* Защитные соор...   \n",
       "\n",
       "                                                  organ  \\\n",
       "0     Заместитель главного государственного санитарн...   \n",
       "1                                    Госкомприроды СССР   \n",
       "2                                       Минстрой России   \n",
       "3                                       Минстрой России   \n",
       "4                                      Госстандарт СССР   \n",
       "...                                                 ...   \n",
       "3950                                СРО \"СОЮЗАТОМСТРОЙ\"   \n",
       "3951                                            СЖТ СНГ   \n",
       "3952                                   ЗАО \"Техполимер\"   \n",
       "3953                                        Росстандарт   \n",
       "3954  Министерство строительства и жилищно-коммуналь...   \n",
       "\n",
       "                            Label  \\\n",
       "0      Санитарные нормы и правила   \n",
       "1         Охрана окружающей среды   \n",
       "2             Оценка соответствия   \n",
       "3             Оценка соответствия   \n",
       "4     Охрана и безопасность труда   \n",
       "...                           ...   \n",
       "3950    Промышленная безопасность   \n",
       "3951   Санитарные нормы и правила   \n",
       "3952  Охрана и безопасность труда   \n",
       "3953                   Метрология   \n",
       "3954        Пожарная безопасность   \n",
       "\n",
       "                                           testorganvec  \\\n",
       "0     [0.3786372, -0.120310254, 0.20947564, 0.258135...   \n",
       "1     [0.1664121, -0.117298484, 0.15260126, 0.138540...   \n",
       "2     [0.23798057, -0.13816689, 0.16876133, 0.081330...   \n",
       "3     [0.23798057, -0.13816689, 0.16876133, 0.081330...   \n",
       "4     [0.14245716, -0.12429103, 0.12220717, 0.144069...   \n",
       "...                                                 ...   \n",
       "3950  [0.23033588, -0.26847515, 0.11073253, 0.029051...   \n",
       "3951  [0.23887007, -0.18820181, 0.20838569, 0.092722...   \n",
       "3952  [0.20924278, -0.2000265, 0.14009938, 0.0941980...   \n",
       "3953  [0.13282306, -0.109270684, 0.13190684, 0.15616...   \n",
       "3954  [0.34044278, -0.36799037, 0.2447347, -0.040650...   \n",
       "\n",
       "                                            testnamevec  \\\n",
       "0     [0.3289096, -0.31530365, 0.19357279, 0.2084960...   \n",
       "1     [0.31862393, -0.3411005, 0.1831128, 0.04432468...   \n",
       "2     [0.16993566, -0.18714105, 0.10934698, 0.321882...   \n",
       "3     [0.11356673, -0.13251105, -0.017487448, 0.3879...   \n",
       "4     [0.20333536, -0.18829906, 0.022558402, 0.32277...   \n",
       "...                                                 ...   \n",
       "3950  [0.22904277, -0.17296153, 0.13700251, 0.168385...   \n",
       "3951  [0.102712706, -0.17922917, -0.048411377, 0.338...   \n",
       "3952  [0.23160122, -0.23618263, 0.061281107, 0.16934...   \n",
       "3953  [0.07561759, -0.07892581, 0.0060531166, 0.2106...   \n",
       "3954  [0.09251735, -0.06474302, 0.07518331, 0.369910...   \n",
       "\n",
       "                                                   vect  \n",
       "0     [0.12359218, -0.16039869, 0.12760171, 0.029699...  \n",
       "1     [0.1412907, -0.17420973, 0.13162301, 0.0465316...  \n",
       "2     [0.11319316, -0.1464605, 0.0960037, 0.07665943...  \n",
       "3     [0.1253605, -0.17264639, 0.13933165, 0.0150382...  \n",
       "4     [0.10657137, -0.14859758, 0.11362507, 0.030690...  \n",
       "...                                                 ...  \n",
       "3950  [0.07641777, -0.14503886, 0.19336572, -0.13411...  \n",
       "3951  [0.08611536, -0.13373595, 0.2053212, -0.159156...  \n",
       "3952  [0.039838407, -0.068976656, 0.13506916, 0.0211...  \n",
       "3953  [0.10631539, -0.10371773, 0.19646613, -0.15908...  \n",
       "3954  [0.062041108, -0.09439972, 0.17164372, -0.0785...  \n",
       "\n",
       "[3955 rows x 7 columns]"
      ]
     },
     "execution_count": 47,
     "metadata": {},
     "output_type": "execute_result"
    }
   ],
   "source": [
    "df_fulltest = pd.read_pickle(\"./my_df/df_fulltest.pkl\")\n",
    "df_fulltest"
   ]
  },
  {
   "cell_type": "code",
   "execution_count": 48,
   "id": "d954f6f8",
   "metadata": {
    "scrolled": true
   },
   "outputs": [
    {
     "data": {
      "text/html": [
       "<div>\n",
       "<style scoped>\n",
       "    .dataframe tbody tr th:only-of-type {\n",
       "        vertical-align: middle;\n",
       "    }\n",
       "\n",
       "    .dataframe tbody tr th {\n",
       "        vertical-align: top;\n",
       "    }\n",
       "\n",
       "    .dataframe thead th {\n",
       "        text-align: right;\n",
       "    }\n",
       "</style>\n",
       "<table border=\"1\" class=\"dataframe\">\n",
       "  <thead>\n",
       "    <tr style=\"text-align: right;\">\n",
       "      <th></th>\n",
       "      <th>iddoc</th>\n",
       "      <th>name</th>\n",
       "      <th>organ</th>\n",
       "      <th>Label</th>\n",
       "      <th>trainnamevec</th>\n",
       "      <th>trainorganvec</th>\n",
       "      <th>vect</th>\n",
       "    </tr>\n",
       "  </thead>\n",
       "  <tbody>\n",
       "    <tr>\n",
       "      <th>0</th>\n",
       "      <td>1400051</td>\n",
       "      <td>'Санитарные правила для предприятий по обработ...</td>\n",
       "      <td>Заместитель главного государственного санитарн...</td>\n",
       "      <td>Санитарные нормы и правила</td>\n",
       "      <td>[0.3289106, -0.3153046, 0.19357339, 0.20849438...</td>\n",
       "      <td>[0.37863722, -0.12031019, 0.20947607, 0.258135...</td>\n",
       "      <td>[0.12359218, -0.16039869, 0.12760171, 0.029699...</td>\n",
       "    </tr>\n",
       "    <tr>\n",
       "      <th>1</th>\n",
       "      <td>5200228</td>\n",
       "      <td>'ГОСТ 12.2.061-81 Система стандартов безопасно...</td>\n",
       "      <td>Госстандарт СССР</td>\n",
       "      <td>Охрана и безопасность труда</td>\n",
       "      <td>[0.20333531, -0.18829913, 0.022558536, 0.32277...</td>\n",
       "      <td>[0.14245707, -0.12429103, 0.122207195, 0.14406...</td>\n",
       "      <td>[0.10657137, -0.14859758, 0.11362507, 0.030690...</td>\n",
       "    </tr>\n",
       "    <tr>\n",
       "      <th>2</th>\n",
       "      <td>5200275</td>\n",
       "      <td>'ГОСТ 12.1.008-76 Система стандартов безопасно...</td>\n",
       "      <td>Госстандарт СССР</td>\n",
       "      <td>Охрана и безопасность труда</td>\n",
       "      <td>[0.23374136, -0.20337054, 0.0030277222, 0.2893...</td>\n",
       "      <td>[0.14245707, -0.12429103, 0.122207195, 0.14406...</td>\n",
       "      <td>[0.18051448, -0.19030748, 0.11437332, 0.008232...</td>\n",
       "    </tr>\n",
       "    <tr>\n",
       "      <th>3</th>\n",
       "      <td>5200277</td>\n",
       "      <td>'ГОСТ 12.4.155-85 Система стандартов безопасно...</td>\n",
       "      <td>Госстандарт СССР</td>\n",
       "      <td>Охрана и безопасность труда</td>\n",
       "      <td>[0.22064964, -0.22460273, 0.042272247, 0.29843...</td>\n",
       "      <td>[0.14245707, -0.12429103, 0.122207195, 0.14406...</td>\n",
       "      <td>[0.10624106, -0.20068084, 0.06754017, 0.087890...</td>\n",
       "    </tr>\n",
       "    <tr>\n",
       "      <th>4</th>\n",
       "      <td>5200292</td>\n",
       "      <td>'ГОСТ 12.1.029-80 Система стандартов безопасно...</td>\n",
       "      <td>Госстандарт СССР</td>\n",
       "      <td>Охрана и безопасность труда</td>\n",
       "      <td>[0.23646508, -0.158473, 0.022069393, 0.2968053...</td>\n",
       "      <td>[0.14245707, -0.12429103, 0.122207195, 0.14406...</td>\n",
       "      <td>[0.09985344, -0.19155689, 0.051527206, 0.10834...</td>\n",
       "    </tr>\n",
       "    <tr>\n",
       "      <th>...</th>\n",
       "      <td>...</td>\n",
       "      <td>...</td>\n",
       "      <td>...</td>\n",
       "      <td>...</td>\n",
       "      <td>...</td>\n",
       "      <td>...</td>\n",
       "      <td>...</td>\n",
       "    </tr>\n",
       "    <tr>\n",
       "      <th>1366</th>\n",
       "      <td>1300338507</td>\n",
       "      <td>'О применении дистанционных технологий при обу...</td>\n",
       "      <td>Минтруд России</td>\n",
       "      <td>Охрана и безопасность труда</td>\n",
       "      <td>[0.2653267, -0.27229616, 0.077737056, 0.272881...</td>\n",
       "      <td>[0.19772974, -0.12900108, 0.098861955, 0.14717...</td>\n",
       "      <td>[0.026345547, -0.15162246, 0.069065, 0.1603872...</td>\n",
       "    </tr>\n",
       "    <tr>\n",
       "      <th>1367</th>\n",
       "      <td>1300457189</td>\n",
       "      <td>'О внесении изменений в Правила обучения по ох...</td>\n",
       "      <td>Правительство РФ</td>\n",
       "      <td>Охрана и безопасность труда</td>\n",
       "      <td>[0.23206042, -0.27537432, 0.06759465, 0.217285...</td>\n",
       "      <td>[0.20131747, -0.14124425, 0.16144168, 0.097356...</td>\n",
       "      <td>[0.05934743, -0.1224509, 0.07805726, 0.1610681...</td>\n",
       "    </tr>\n",
       "    <tr>\n",
       "      <th>1368</th>\n",
       "      <td>1300583925</td>\n",
       "      <td>'Об организации обучения требованиям охраны тр...</td>\n",
       "      <td>Минтруд России</td>\n",
       "      <td>Охрана и безопасность труда</td>\n",
       "      <td>[0.23494183, -0.32122934, 0.11517173, 0.434092...</td>\n",
       "      <td>[0.19772974, -0.12900108, 0.098861955, 0.14717...</td>\n",
       "      <td>[0.048510328, -0.10868763, 0.06287158, 0.18918...</td>\n",
       "    </tr>\n",
       "    <tr>\n",
       "      <th>1369</th>\n",
       "      <td>1300598905</td>\n",
       "      <td>'Об аттестации в области промышленной безопасн...</td>\n",
       "      <td>Правительство РФ</td>\n",
       "      <td>Промышленная безопасность</td>\n",
       "      <td>[0.25426373, -0.19592108, 0.072047524, 0.48183...</td>\n",
       "      <td>[0.20131747, -0.14124425, 0.16144168, 0.097356...</td>\n",
       "      <td>[0.059145734, -0.03285611, 0.065415256, 0.1477...</td>\n",
       "    </tr>\n",
       "    <tr>\n",
       "      <th>1370</th>\n",
       "      <td>1300666795</td>\n",
       "      <td>'О Правилах обучения по охране труда и проверк...</td>\n",
       "      <td>Минтруд России</td>\n",
       "      <td>Охрана и безопасность труда</td>\n",
       "      <td>[0.24981105, -0.33258584, 0.072318524, 0.28974...</td>\n",
       "      <td>[0.19772978, -0.12900107, 0.098861985, 0.14717...</td>\n",
       "      <td>[0.010859113, -0.09585116, 0.046153374, 0.1227...</td>\n",
       "    </tr>\n",
       "  </tbody>\n",
       "</table>\n",
       "<p>1371 rows × 7 columns</p>\n",
       "</div>"
      ],
      "text/plain": [
       "           iddoc                                               name  \\\n",
       "0        1400051  'Санитарные правила для предприятий по обработ...   \n",
       "1        5200228  'ГОСТ 12.2.061-81 Система стандартов безопасно...   \n",
       "2        5200275  'ГОСТ 12.1.008-76 Система стандартов безопасно...   \n",
       "3        5200277  'ГОСТ 12.4.155-85 Система стандартов безопасно...   \n",
       "4        5200292  'ГОСТ 12.1.029-80 Система стандартов безопасно...   \n",
       "...          ...                                                ...   \n",
       "1366  1300338507  'О применении дистанционных технологий при обу...   \n",
       "1367  1300457189  'О внесении изменений в Правила обучения по ох...   \n",
       "1368  1300583925  'Об организации обучения требованиям охраны тр...   \n",
       "1369  1300598905  'Об аттестации в области промышленной безопасн...   \n",
       "1370  1300666795  'О Правилах обучения по охране труда и проверк...   \n",
       "\n",
       "                                                  organ  \\\n",
       "0     Заместитель главного государственного санитарн...   \n",
       "1                                      Госстандарт СССР   \n",
       "2                                      Госстандарт СССР   \n",
       "3                                      Госстандарт СССР   \n",
       "4                                      Госстандарт СССР   \n",
       "...                                                 ...   \n",
       "1366                                     Минтруд России   \n",
       "1367                                   Правительство РФ   \n",
       "1368                                     Минтруд России   \n",
       "1369                                   Правительство РФ   \n",
       "1370                                     Минтруд России   \n",
       "\n",
       "                            Label  \\\n",
       "0      Санитарные нормы и правила   \n",
       "1     Охрана и безопасность труда   \n",
       "2     Охрана и безопасность труда   \n",
       "3     Охрана и безопасность труда   \n",
       "4     Охрана и безопасность труда   \n",
       "...                           ...   \n",
       "1366  Охрана и безопасность труда   \n",
       "1367  Охрана и безопасность труда   \n",
       "1368  Охрана и безопасность труда   \n",
       "1369    Промышленная безопасность   \n",
       "1370  Охрана и безопасность труда   \n",
       "\n",
       "                                           trainnamevec  \\\n",
       "0     [0.3289106, -0.3153046, 0.19357339, 0.20849438...   \n",
       "1     [0.20333531, -0.18829913, 0.022558536, 0.32277...   \n",
       "2     [0.23374136, -0.20337054, 0.0030277222, 0.2893...   \n",
       "3     [0.22064964, -0.22460273, 0.042272247, 0.29843...   \n",
       "4     [0.23646508, -0.158473, 0.022069393, 0.2968053...   \n",
       "...                                                 ...   \n",
       "1366  [0.2653267, -0.27229616, 0.077737056, 0.272881...   \n",
       "1367  [0.23206042, -0.27537432, 0.06759465, 0.217285...   \n",
       "1368  [0.23494183, -0.32122934, 0.11517173, 0.434092...   \n",
       "1369  [0.25426373, -0.19592108, 0.072047524, 0.48183...   \n",
       "1370  [0.24981105, -0.33258584, 0.072318524, 0.28974...   \n",
       "\n",
       "                                          trainorganvec  \\\n",
       "0     [0.37863722, -0.12031019, 0.20947607, 0.258135...   \n",
       "1     [0.14245707, -0.12429103, 0.122207195, 0.14406...   \n",
       "2     [0.14245707, -0.12429103, 0.122207195, 0.14406...   \n",
       "3     [0.14245707, -0.12429103, 0.122207195, 0.14406...   \n",
       "4     [0.14245707, -0.12429103, 0.122207195, 0.14406...   \n",
       "...                                                 ...   \n",
       "1366  [0.19772974, -0.12900108, 0.098861955, 0.14717...   \n",
       "1367  [0.20131747, -0.14124425, 0.16144168, 0.097356...   \n",
       "1368  [0.19772974, -0.12900108, 0.098861955, 0.14717...   \n",
       "1369  [0.20131747, -0.14124425, 0.16144168, 0.097356...   \n",
       "1370  [0.19772978, -0.12900107, 0.098861985, 0.14717...   \n",
       "\n",
       "                                                   vect  \n",
       "0     [0.12359218, -0.16039869, 0.12760171, 0.029699...  \n",
       "1     [0.10657137, -0.14859758, 0.11362507, 0.030690...  \n",
       "2     [0.18051448, -0.19030748, 0.11437332, 0.008232...  \n",
       "3     [0.10624106, -0.20068084, 0.06754017, 0.087890...  \n",
       "4     [0.09985344, -0.19155689, 0.051527206, 0.10834...  \n",
       "...                                                 ...  \n",
       "1366  [0.026345547, -0.15162246, 0.069065, 0.1603872...  \n",
       "1367  [0.05934743, -0.1224509, 0.07805726, 0.1610681...  \n",
       "1368  [0.048510328, -0.10868763, 0.06287158, 0.18918...  \n",
       "1369  [0.059145734, -0.03285611, 0.065415256, 0.1477...  \n",
       "1370  [0.010859113, -0.09585116, 0.046153374, 0.1227...  \n",
       "\n",
       "[1371 rows x 7 columns]"
      ]
     },
     "execution_count": 48,
     "metadata": {},
     "output_type": "execute_result"
    }
   ],
   "source": [
    "dffull_train = pd.read_pickle(\"./my_df/dffull_train.pkl\")\n",
    "dffull_train"
   ]
  },
  {
   "cell_type": "code",
   "execution_count": 49,
   "id": "bef01247",
   "metadata": {},
   "outputs": [],
   "source": [
    "from sklearn.utils import shuffle\n",
    "\n",
    "df_fulltest= shuffle(df_fulltest, random_state=42)\n",
    "df_fulltest_copy = df_fulltest.copy()\n",
    "\n",
    "dffull_train= shuffle(dffull_train, random_state=42)\n",
    "dffull_train_copy = dffull_train.copy()"
   ]
  },
  {
   "cell_type": "code",
   "execution_count": 50,
   "id": "6c0e6a4f",
   "metadata": {},
   "outputs": [],
   "source": [
    "X_name_train1 = pd.DataFrame(dffull_train['trainnamevec'].tolist())\n",
    "X_name_test1 = pd.DataFrame(df_fulltest['testnamevec'].tolist())"
   ]
  },
  {
   "cell_type": "code",
   "execution_count": 51,
   "id": "f7341e78",
   "metadata": {},
   "outputs": [
    {
     "name": "stdout",
     "output_type": "stream",
     "text": [
      "Component 1: Explained Variance = 0.7383, Cumulative Explained Variance = 0.7383\n",
      "Component 2: Explained Variance = 0.0685, Cumulative Explained Variance = 0.8067\n",
      "Component 3: Explained Variance = 0.0313, Cumulative Explained Variance = 0.8380\n",
      "Component 4: Explained Variance = 0.0155, Cumulative Explained Variance = 0.8536\n",
      "Component 5: Explained Variance = 0.0133, Cumulative Explained Variance = 0.8669\n",
      "Component 6: Explained Variance = 0.0114, Cumulative Explained Variance = 0.8783\n",
      "Component 7: Explained Variance = 0.0089, Cumulative Explained Variance = 0.8872\n",
      "Component 8: Explained Variance = 0.0078, Cumulative Explained Variance = 0.8949\n",
      "Component 9: Explained Variance = 0.0065, Cumulative Explained Variance = 0.9014\n",
      "Component 10: Explained Variance = 0.0063, Cumulative Explained Variance = 0.9077\n",
      "Component 11: Explained Variance = 0.0052, Cumulative Explained Variance = 0.9129\n",
      "Component 12: Explained Variance = 0.0044, Cumulative Explained Variance = 0.9173\n",
      "Component 13: Explained Variance = 0.0041, Cumulative Explained Variance = 0.9214\n",
      "Component 14: Explained Variance = 0.0037, Cumulative Explained Variance = 0.9251\n",
      "Component 15: Explained Variance = 0.0032, Cumulative Explained Variance = 0.9283\n",
      "Component 16: Explained Variance = 0.0031, Cumulative Explained Variance = 0.9314\n",
      "Component 17: Explained Variance = 0.0029, Cumulative Explained Variance = 0.9343\n",
      "Component 18: Explained Variance = 0.0027, Cumulative Explained Variance = 0.9369\n",
      "Component 19: Explained Variance = 0.0025, Cumulative Explained Variance = 0.9394\n",
      "Component 20: Explained Variance = 0.0022, Cumulative Explained Variance = 0.9416\n",
      "Component 21: Explained Variance = 0.0022, Cumulative Explained Variance = 0.9438\n",
      "Component 22: Explained Variance = 0.0021, Cumulative Explained Variance = 0.9458\n",
      "Component 23: Explained Variance = 0.0018, Cumulative Explained Variance = 0.9476\n",
      "Component 24: Explained Variance = 0.0016, Cumulative Explained Variance = 0.9493\n",
      "Component 25: Explained Variance = 0.0016, Cumulative Explained Variance = 0.9509\n",
      "Component 26: Explained Variance = 0.0015, Cumulative Explained Variance = 0.9524\n",
      "Component 27: Explained Variance = 0.0014, Cumulative Explained Variance = 0.9538\n",
      "Component 28: Explained Variance = 0.0013, Cumulative Explained Variance = 0.9551\n",
      "Component 29: Explained Variance = 0.0013, Cumulative Explained Variance = 0.9564\n",
      "Component 30: Explained Variance = 0.0012, Cumulative Explained Variance = 0.9576\n"
     ]
    }
   ],
   "source": [
    "import numpy as np\n",
    "import pandas as pd\n",
    "from sklearn.decomposition import PCA\n",
    "import matplotlib.pyplot as plt\n",
    "\n",
    "pca = PCA(n_components=30)\n",
    "X_name_train = pca.fit_transform(X_name_train1)\n",
    "\n",
    "explained_variance_ratio = pca.explained_variance_ratio_\n",
    "\n",
    "cumulative_variance = np.cumsum(explained_variance_ratio)\n",
    "\n",
    "for i, (var, cum_var) in enumerate(zip(explained_variance_ratio, cumulative_variance)):\n",
    "    print(f\"Component {i+1}: Explained Variance = {var:.4f}, Cumulative Explained Variance = {cum_var:.4f}\")"
   ]
  },
  {
   "cell_type": "code",
   "execution_count": 52,
   "id": "10720d33",
   "metadata": {},
   "outputs": [],
   "source": [
    "X_name_test = pca.fit_transform(X_name_test1)"
   ]
  },
  {
   "cell_type": "code",
   "execution_count": 53,
   "id": "6afeec95",
   "metadata": {},
   "outputs": [
    {
     "name": "stdout",
     "output_type": "stream",
     "text": [
      "используем GPU\n"
     ]
    }
   ],
   "source": [
    "import pandas as pd\n",
    "import numpy as np\n",
    "import tensorflow as tf\n",
    "import random\n",
    "from sklearn.preprocessing import MultiLabelBinarizer\n",
    "from sklearn.model_selection import train_test_split\n",
    "from sklearn.metrics import f1_score\n",
    "from sklearn.preprocessing import StandardScaler\n",
    "from tensorflow.keras.models import Model\n",
    "from tensorflow.keras.layers import Input, Concatenate, Dense, BatchNormalization, Dropout\n",
    "import numpy as np\n",
    "import tensorflow as tf\n",
    "from tensorflow.keras.callbacks import EarlyStopping, Callback\n",
    "import gc\n",
    "from tensorflow.keras.initializers import GlorotUniform\n",
    "\n",
    "physical_devices = tf.config.list_physical_devices('GPU')\n",
    "if physical_devices:\n",
    "    tf.config.experimental.set_visible_devices(physical_devices[0], 'GPU')\n",
    "    print(\"используем GPU\")\n",
    "tf.keras.backend.clear_session()\n",
    "gc.collect()\n",
    "start_time=time.time()\n",
    "np.random.seed(42)\n",
    "tf.random.set_seed(42)\n",
    "random.seed(42)\n",
    "dffull_train['Label'] = dffull_train['Label'].apply(lambda x: x.split(', '))\n",
    "mlbfull = MultiLabelBinarizer()\n",
    "y_train = mlbfull.fit_transform(dffull_train['Label'])\n",
    "y_train = pd.DataFrame(y_train, columns=mlbfull.classes_)\n",
    "\n",
    "df_fulltest['Label'] = df_fulltest['Label'].apply(lambda x: x.split(', '))\n",
    "y_test = mlbfull.transform(df_fulltest['Label'])\n",
    "y_test = pd.DataFrame(y_test, columns=mlbfull.classes_)\n",
    "\n",
    "X_vect_train = pd.DataFrame(dffull_train['vect'].tolist())\n",
    "X_vect_test = pd.DataFrame(df_fulltest['vect'].tolist())\n",
    "\n",
    "X_organ_train = pd.DataFrame(dffull_train['organ'])\n",
    "X_organ_test = pd.DataFrame(df_fulltest['organ'])\n",
    "\n",
    "# Разделение на обучающую и валидационную выборки для векторных данных и органов\n",
    "X_vect_train, X_vect_val, X_organ_train, X_organ_val,X_name_train, X_name_val, y_train, y_val = train_test_split(X_vect_train, X_organ_train,X_name_train, y_train, test_size=0.2, random_state=42)\n",
    "\n",
    "\n",
    "freq_encoding_train = X_organ_train['organ'].value_counts(normalize=True)\n",
    "X_organ_train['xfull_organ_encoded'] = X_organ_train['organ'].map(freq_encoding_train)\n",
    "X_train_organ = X_organ_train[['xfull_organ_encoded']].values\n",
    "\n",
    "\n",
    "X_organ_val['xfull_organ_encoded'] = X_organ_val['organ'].map(freq_encoding_train)\n",
    "X_organ_val['xfull_organ_encoded'].fillna(X_organ_val['xfull_organ_encoded'].median(), inplace=True)\n",
    "X_organ_val = X_organ_val[['xfull_organ_encoded']].values\n",
    "\n",
    "X_organ_test['xfull_organ_encoded'] = X_organ_test['organ'].map(freq_encoding_train)\n",
    "X_organ_test['xfull_organ_encoded'].fillna(X_organ_test['xfull_organ_encoded'].median(), inplace=True)\n",
    "X_test_organ = X_organ_test[['xfull_organ_encoded']].values\n",
    "\n",
    "\n",
    "scaler_vect = StandardScaler()\n",
    "\n",
    "X_vect_train = scaler_vect.fit_transform(X_vect_train)\n",
    "X_vect_val = scaler_vect.transform(X_vect_val)\n",
    "X_vect_test = scaler_vect.transform(X_vect_test)\n",
    "\n",
    "# Создаем экземпляр StandardScaler для органов\n",
    "scaler_organ = StandardScaler()\n",
    "\n",
    "# Применяем scaler к числовым данным органов\n",
    "X_train_organ = scaler_organ.fit_transform(X_train_organ)\n",
    "X_organ_val = scaler_organ.transform(X_organ_val)\n",
    "X_test_organ = scaler_organ.transform(X_test_organ)\n",
    "\n",
    "# ###\n",
    "input_vect = Input(shape=(768,))\n",
    "input_organ = Input(shape=(1,))\n",
    "input_name = Input(shape=(30,))\n",
    "\n",
    "merged = Concatenate()([input_vect,input_organ])\n",
    "\n",
    "dense = Dense(256, activation='relu', kernel_initializer=GlorotUniform(seed=42))(merged)\n",
    "dense = BatchNormalization()(dense)\n",
    "dense = Dropout(0.2)(dense)\n",
    "dense = Dense(512, activation='relu', kernel_initializer=GlorotUniform(seed=42))(merged)\n",
    "dense = BatchNormalization()(dense)\n",
    "dense = Dropout(0.2)(dense)\n",
    "output = Dense(y_test.shape[1], activation='sigmoid')(dense)\n",
    "\n",
    "model = Model(inputs=[input_vect,input_organ], outputs=output)\n",
    "\n",
    "early_stopping = EarlyStopping(monitor='val_loss', patience=20, mode='min', verbose=1, restore_best_weights=True)\n",
    "\n",
    "class BestMetrics(Callback):\n",
    "    def __init__(self, validation_data, thresholds):\n",
    "        super(BestMetrics, self).__init__()\n",
    "        self.validation_data = validation_data\n",
    "        self.thresholds = thresholds\n",
    "        self.best_val_loss = np.Inf\n",
    "        self.best_f1 = 0\n",
    "        self.best_threshold = 0\n",
    "\n",
    "    def on_epoch_end(self, epoch, logs=None):\n",
    "        current_val_loss = logs.get('val_loss')\n",
    "        \n",
    "        if current_val_loss < self.best_val_loss:\n",
    "            self.best_val_loss = current_val_loss\n",
    "        \n",
    "        X_val, y_val = self.validation_data\n",
    "        y_pred_prob = self.model.predict(X_val)\n",
    "        \n",
    "        best_f1_epoch = 0\n",
    "        best_threshold_epoch = 0\n",
    "\n",
    "        for threshold in self.thresholds:\n",
    "            y_pred = (y_pred_prob > threshold).astype(int)\n",
    "            f1 = f1_score(y_val, y_pred, average='micro')\n",
    "            print(f'Epoch {epoch+1} - Threshold {threshold} - F1 Score: {f1}')\n",
    "            \n",
    "            if f1 > best_f1_epoch:\n",
    "                best_f1_epoch = f1\n",
    "                best_threshold_epoch = threshold\n",
    "\n",
    "        print(f'Epoch {epoch+1} - Best Threshold: {best_threshold_epoch} - Best F1 Score: {best_f1_epoch}')\n",
    "\n",
    "        if best_f1_epoch > self.best_f1:\n",
    "            self.best_f1 = best_f1_epoch\n",
    "            self.best_threshold = best_threshold_epoch\n",
    "\n",
    "# model.compile(optimizer=tf.keras.optimizers.Adam(learning_rate=0.01), \n",
    "#               loss='binary_crossentropy', \n",
    "#               metrics=['accuracy'])\n",
    "thresholds = [0.3, 0.4, 0.5, 0.6, 0.7]\n",
    "f1_callback = BestMetrics(validation_data=([X_vect_val,X_organ_val], y_val), thresholds=thresholds)"
   ]
  },
  {
   "cell_type": "code",
   "execution_count": 1,
   "id": "9a639408",
   "metadata": {},
   "outputs": [],
   "source": [
    "np.random.seed(42)\n",
    "tf.random.set_seed(42)\n",
    "random.seed(42)\n",
    "\n",
    "# Определение модели\n",
    "input_vect = Input(shape=(768,))\n",
    "input_organ = Input(shape=(1,))\n",
    "input_name = Input(shape=(30,))\n",
    "\n",
    "merged = Concatenate()([input_vect,input_organ])\n",
    "dense = Dense(256, activation='relu', kernel_initializer=tf.keras.initializers.GlorotUniform(seed=42))(merged)\n",
    "dense = BatchNormalization()(dense)\n",
    "dense = Dropout(0.2)(dense)\n",
    "dense = Dense(512, activation='relu', kernel_initializer=tf.keras.initializers.GlorotUniform(seed=42))(dense)\n",
    "dense = BatchNormalization()(dense)\n",
    "dense = Dropout(0.2)(dense)\n",
    "output = Dense(y_test.shape[1], activation='sigmoid')(dense)\n",
    "\n",
    "model = Model(inputs=[input_vect,input_organ], outputs=output)\n",
    "\n",
    "import gc\n",
    "from bayes_opt import BayesianOptimization\n",
    "\n",
    "physical_devices = tf.config.list_physical_devices('GPU')\n",
    "if physical_devices:\n",
    "    tf.config.experimental.set_visible_devices(physical_devices[0], 'GPU')\n",
    "    print(\"используем GPU\")\n",
    "\n",
    "# Компилируем модель\n",
    "def compile_model(learning_rate):\n",
    "    optimizer = tf.keras.optimizers.Adam(learning_rate=learning_rate)\n",
    "    model.compile(optimizer=optimizer, \n",
    "                  loss='binary_crossentropy', \n",
    "                  metrics=['accuracy'])\n",
    "\n",
    "# Определяем функцию для оптимизации\n",
    "def train_evaluate(batch_size, learning_rate,patience):\n",
    "    batch_size = int(batch_size)\n",
    "    patience = int(patience)\n",
    "\n",
    "    compile_model(learning_rate)\n",
    "    \n",
    "    early_stopping = EarlyStopping(monitor='val_loss', patience=patience, mode='min', verbose=1, restore_best_weights=True)\n",
    "    f1_callback = BestMetrics(validation_data=([X_vect_val,X_organ_val], y_val), thresholds=[0.3, 0.4, 0.5, 0.6, 0.7])\n",
    "\n",
    "    history = model.fit([X_vect_train,X_train_organ], y_train, \n",
    "                        epochs=1000, \n",
    "                        batch_size=batch_size, \n",
    "                        validation_data=([X_vect_train,X_train_organ], y_train), \n",
    "                        callbacks=[f1_callback, early_stopping],\n",
    "                        verbose=0)  # Устанавливаем verbose на 0, чтобы не печатать прогресс по эпохам\n",
    "\n",
    "    # Возвращаем лучший F1 score на валидации\n",
    "    return f1_callback.best_f1\n",
    "\n",
    "# Определяем пространство поиска для байесовской оптимизации\n",
    "pbounds = {'batch_size': (64, 1000),  'learning_rate': (0.001, 0.01),'patience': (5, 30)}\n",
    "\n",
    "# Инициализируем байесовскую оптимизацию\n",
    "optimizer = BayesianOptimization(\n",
    "    f=train_evaluate,\n",
    "    pbounds=pbounds,\n",
    "    random_state=42,\n",
    ")\n",
    "\n",
    "# Запускаем оптимизацию\n",
    "optimizer.maximize(\n",
    "    init_points=10,\n",
    "    n_iter=17,\n",
    ")\n",
    "\n",
    "# Выводим лучшие результаты\n",
    "print(optimizer.max)"
   ]
  },
  {
   "cell_type": "code",
   "execution_count": 54,
   "id": "22ea2ab2",
   "metadata": {},
   "outputs": [],
   "source": [
    "# model = Model(inputs=[input_vect, input_organ], outputs=output)\n",
    "optimizer = tf.keras.optimizers.Adam(learning_rate=0.001)\n",
    "model.compile(optimizer=optimizer, loss='binary_crossentropy', metrics=['accuracy'])\n"
   ]
  },
  {
   "cell_type": "code",
   "execution_count": 55,
   "id": "0239d558",
   "metadata": {
    "scrolled": true
   },
   "outputs": [
    {
     "name": "stdout",
     "output_type": "stream",
     "text": [
      "используем GPU\n",
      "Epoch 1/1000\n",
      "9/9 [==============================] - 0s 3ms/steposs: 0.9962 - accuracy: 0.11\n",
      "Epoch 1 - Threshold 0.3 - F1 Score: 0.300174520069808\n",
      "Epoch 1 - Threshold 0.4 - F1 Score: 0.351931330472103\n",
      "Epoch 1 - Threshold 0.5 - F1 Score: 0.41973094170403585\n",
      "Epoch 1 - Threshold 0.6 - F1 Score: 0.5076741440377803\n",
      "Epoch 1 - Threshold 0.7 - F1 Score: 0.56\n",
      "Epoch 1 - Best Threshold: 0.7 - Best F1 Score: 0.56\n",
      "4/4 [==============================] - 1s 145ms/step - loss: 0.8727 - accuracy: 0.3485 - val_loss: 0.6267 - val_accuracy: 0.6145\n",
      "Epoch 2/1000\n",
      "9/9 [==============================] - 0s 2ms/steposs: 0.6244 - accuracy: 0.62\n",
      "Epoch 2 - Threshold 0.3 - F1 Score: 0.3223090799759471\n",
      "Epoch 2 - Threshold 0.4 - F1 Score: 0.40396341463414637\n",
      "Epoch 2 - Threshold 0.5 - F1 Score: 0.48871442590775266\n",
      "Epoch 2 - Threshold 0.6 - F1 Score: 0.5924999999999999\n",
      "Epoch 2 - Threshold 0.7 - F1 Score: 0.6549520766773163\n",
      "Epoch 2 - Best Threshold: 0.7 - Best F1 Score: 0.6549520766773163\n",
      "4/4 [==============================] - 0s 54ms/step - loss: 0.6009 - accuracy: 0.6724 - val_loss: 0.5635 - val_accuracy: 0.7091\n",
      "Epoch 3/1000\n",
      "9/9 [==============================] - 0s 2ms/steposs: 0.5337 - accuracy: 0.79\n",
      "Epoch 3 - Threshold 0.3 - F1 Score: 0.34947643979057597\n",
      "Epoch 3 - Threshold 0.4 - F1 Score: 0.42267206477732794\n",
      "Epoch 3 - Threshold 0.5 - F1 Score: 0.5178389398572885\n",
      "Epoch 3 - Threshold 0.6 - F1 Score: 0.6004962779156328\n",
      "Epoch 3 - Threshold 0.7 - F1 Score: 0.6707692307692308\n",
      "Epoch 3 - Best Threshold: 0.7 - Best F1 Score: 0.6707692307692308\n",
      "4/4 [==============================] - 0s 51ms/step - loss: 0.5330 - accuracy: 0.7609 - val_loss: 0.5362 - val_accuracy: 0.7527\n",
      "Epoch 4/1000\n",
      "9/9 [==============================] - 0s 2ms/steposs: 0.4822 - accuracy: 0.84\n",
      "Epoch 4 - Threshold 0.3 - F1 Score: 0.3698164513936098\n",
      "Epoch 4 - Threshold 0.4 - F1 Score: 0.44296419650291424\n",
      "Epoch 4 - Threshold 0.5 - F1 Score: 0.5219999999999999\n",
      "Epoch 4 - Threshold 0.6 - F1 Score: 0.6108374384236454\n",
      "Epoch 4 - Threshold 0.7 - F1 Score: 0.6805349182763745\n",
      "Epoch 4 - Best Threshold: 0.7 - Best F1 Score: 0.6805349182763745\n",
      "4/4 [==============================] - 0s 54ms/step - loss: 0.4837 - accuracy: 0.8084 - val_loss: 0.5369 - val_accuracy: 0.7709\n",
      "Epoch 5/1000\n",
      "9/9 [==============================] - 0s 2ms/steposs: 0.4380 - accuracy: 0.84\n",
      "Epoch 5 - Threshold 0.3 - F1 Score: 0.38243626062322944\n",
      "Epoch 5 - Threshold 0.4 - F1 Score: 0.4664926022628373\n",
      "Epoch 5 - Threshold 0.5 - F1 Score: 0.5394190871369294\n",
      "Epoch 5 - Threshold 0.6 - F1 Score: 0.6340852130325814\n",
      "Epoch 5 - Threshold 0.7 - F1 Score: 0.7240356083086054\n",
      "Epoch 5 - Best Threshold: 0.7 - Best F1 Score: 0.7240356083086054\n",
      "4/4 [==============================] - 0s 56ms/step - loss: 0.4434 - accuracy: 0.8139 - val_loss: 0.5011 - val_accuracy: 0.8109\n",
      "Epoch 6/1000\n",
      "9/9 [==============================] - 0s 2ms/steposs: 0.4184 - accuracy: 0.85\n",
      "Epoch 6 - Threshold 0.3 - F1 Score: 0.4168582375478927\n",
      "Epoch 6 - Threshold 0.4 - F1 Score: 0.5004651162790698\n",
      "Epoch 6 - Threshold 0.5 - F1 Score: 0.5963718820861678\n",
      "Epoch 6 - Threshold 0.6 - F1 Score: 0.6792452830188679\n",
      "Epoch 6 - Threshold 0.7 - F1 Score: 0.7543581616481775\n",
      "Epoch 6 - Best Threshold: 0.7 - Best F1 Score: 0.7543581616481775\n",
      "4/4 [==============================] - 0s 56ms/step - loss: 0.4180 - accuracy: 0.8339 - val_loss: 0.4442 - val_accuracy: 0.8145\n",
      "Epoch 7/1000\n",
      "9/9 [==============================] - 0s 2ms/steposs: 0.4056 - accuracy: 0.83\n",
      "Epoch 7 - Threshold 0.3 - F1 Score: 0.44867549668874174\n",
      "Epoch 7 - Threshold 0.4 - F1 Score: 0.5438066465256798\n",
      "Epoch 7 - Threshold 0.5 - F1 Score: 0.655819774718398\n",
      "Epoch 7 - Threshold 0.6 - F1 Score: 0.7459618208516887\n",
      "Epoch 7 - Threshold 0.7 - F1 Score: 0.8080808080808082\n",
      "Epoch 7 - Best Threshold: 0.7 - Best F1 Score: 0.8080808080808082\n",
      "4/4 [==============================] - 0s 55ms/step - loss: 0.3869 - accuracy: 0.8513 - val_loss: 0.3871 - val_accuracy: 0.8545\n",
      "Epoch 8/1000\n",
      "9/9 [==============================] - 0s 2ms/steposs: 0.3743 - accuracy: 0.88\n",
      "Epoch 8 - Threshold 0.3 - F1 Score: 0.4537114261884905\n",
      "Epoch 8 - Threshold 0.4 - F1 Score: 0.5458248472505093\n",
      "Epoch 8 - Threshold 0.5 - F1 Score: 0.6582597730138715\n",
      "Epoch 8 - Threshold 0.6 - F1 Score: 0.744807121661721\n",
      "Epoch 8 - Threshold 0.7 - F1 Score: 0.7925801011804384\n",
      "Epoch 8 - Best Threshold: 0.7 - Best F1 Score: 0.7925801011804384\n",
      "4/4 [==============================] - 0s 56ms/step - loss: 0.3655 - accuracy: 0.8814 - val_loss: 0.3818 - val_accuracy: 0.8473\n",
      "Epoch 9/1000\n",
      "9/9 [==============================] - 0s 3ms/steposs: 0.3683 - accuracy: 0.87\n",
      "Epoch 9 - Threshold 0.3 - F1 Score: 0.4599659284497445\n",
      "Epoch 9 - Threshold 0.4 - F1 Score: 0.5775862068965517\n",
      "Epoch 9 - Threshold 0.5 - F1 Score: 0.6930171277997365\n",
      "Epoch 9 - Threshold 0.6 - F1 Score: 0.7666151468315302\n",
      "Epoch 9 - Threshold 0.7 - F1 Score: 0.8034188034188033\n",
      "Epoch 9 - Best Threshold: 0.7 - Best F1 Score: 0.8034188034188033\n",
      "4/4 [==============================] - 0s 57ms/step - loss: 0.3458 - accuracy: 0.8932 - val_loss: 0.3692 - val_accuracy: 0.8582\n",
      "Epoch 10/1000\n",
      "9/9 [==============================] - 0s 2ms/steposs: 0.3265 - accuracy: 0.92\n",
      "Epoch 10 - Threshold 0.3 - F1 Score: 0.4847942754919499\n",
      "Epoch 10 - Threshold 0.4 - F1 Score: 0.5957918050941307\n",
      "Epoch 10 - Threshold 0.5 - F1 Score: 0.7058823529411763\n",
      "Epoch 10 - Threshold 0.6 - F1 Score: 0.7649769585253456\n",
      "Epoch 10 - Threshold 0.7 - F1 Score: 0.8027210884353743\n",
      "Epoch 10 - Best Threshold: 0.7 - Best F1 Score: 0.8027210884353743\n",
      "4/4 [==============================] - 0s 56ms/step - loss: 0.3289 - accuracy: 0.9060 - val_loss: 0.3532 - val_accuracy: 0.8545\n",
      "Epoch 11/1000\n",
      "9/9 [==============================] - 0s 2ms/steposs: 0.3006 - accuracy: 0.89\n",
      "Epoch 11 - Threshold 0.3 - F1 Score: 0.528375733855186\n",
      "Epoch 11 - Threshold 0.4 - F1 Score: 0.6625310173697271\n",
      "Epoch 11 - Threshold 0.5 - F1 Score: 0.7565217391304349\n",
      "Epoch 11 - Threshold 0.6 - F1 Score: 0.7839999999999999\n",
      "Epoch 11 - Threshold 0.7 - F1 Score: 0.8154657293497364\n",
      "Epoch 11 - Best Threshold: 0.7 - Best F1 Score: 0.8154657293497364\n",
      "4/4 [==============================] - 0s 56ms/step - loss: 0.3076 - accuracy: 0.8987 - val_loss: 0.3206 - val_accuracy: 0.8618\n",
      "Epoch 12/1000\n",
      "9/9 [==============================] - 0s 2ms/steposs: 0.2804 - accuracy: 0.90\n",
      "Epoch 12 - Threshold 0.3 - F1 Score: 0.5299313052011776\n",
      "Epoch 12 - Threshold 0.4 - F1 Score: 0.6675\n",
      "Epoch 12 - Threshold 0.5 - F1 Score: 0.7338129496402876\n",
      "Epoch 12 - Threshold 0.6 - F1 Score: 0.7948303715670436\n",
      "Epoch 12 - Threshold 0.7 - F1 Score: 0.8136200716845877\n",
      "Epoch 12 - Best Threshold: 0.7 - Best F1 Score: 0.8136200716845877\n",
      "4/4 [==============================] - 0s 55ms/step - loss: 0.2820 - accuracy: 0.9097 - val_loss: 0.3158 - val_accuracy: 0.8400\n",
      "Epoch 13/1000\n",
      "9/9 [==============================] - 0s 3ms/steposs: 0.2700 - accuracy: 0.90\n",
      "Epoch 13 - Threshold 0.3 - F1 Score: 0.5684210526315789\n",
      "Epoch 13 - Threshold 0.4 - F1 Score: 0.6993377483443709\n",
      "Epoch 13 - Threshold 0.5 - F1 Score: 0.7722473604826545\n",
      "Epoch 13 - Threshold 0.6 - F1 Score: 0.823920265780731\n",
      "Epoch 13 - Threshold 0.7 - F1 Score: 0.8387096774193549\n",
      "Epoch 13 - Best Threshold: 0.7 - Best F1 Score: 0.8387096774193549\n",
      "4/4 [==============================] - 0s 57ms/step - loss: 0.2678 - accuracy: 0.9197 - val_loss: 0.2886 - val_accuracy: 0.8727\n",
      "Epoch 14/1000\n",
      "9/9 [==============================] - 0s 3ms/steposs: 0.2561 - accuracy: 0.93\n",
      "Epoch 14 - Threshold 0.3 - F1 Score: 0.5705128205128205\n",
      "Epoch 14 - Threshold 0.4 - F1 Score: 0.6969292389853139\n",
      "Epoch 14 - Threshold 0.5 - F1 Score: 0.7664122137404581\n",
      "Epoch 14 - Threshold 0.6 - F1 Score: 0.8087986463620982\n",
      "Epoch 14 - Threshold 0.7 - F1 Score: 0.8306010928961748\n",
      "Epoch 14 - Best Threshold: 0.7 - Best F1 Score: 0.8306010928961748\n",
      "4/4 [==============================] - 0s 56ms/step - loss: 0.2508 - accuracy: 0.9188 - val_loss: 0.2874 - val_accuracy: 0.8509\n",
      "Epoch 15/1000\n",
      "9/9 [==============================] - 0s 3ms/steposs: 0.2297 - accuracy: 0.94\n",
      "Epoch 15 - Threshold 0.3 - F1 Score: 0.6254375729288214\n",
      "Epoch 15 - Threshold 0.4 - F1 Score: 0.7531734837799717\n",
      "Epoch 15 - Threshold 0.5 - F1 Score: 0.8025078369905957\n",
      "Epoch 15 - Threshold 0.6 - F1 Score: 0.8424657534246576\n",
      "Epoch 15 - Threshold 0.7 - F1 Score: 0.8451730418943533\n",
      "Epoch 15 - Best Threshold: 0.7 - Best F1 Score: 0.8451730418943533\n",
      "4/4 [==============================] - 0s 56ms/step - loss: 0.2367 - accuracy: 0.9279 - val_loss: 0.2626 - val_accuracy: 0.8764\n",
      "Epoch 16/1000\n",
      "9/9 [==============================] - 0s 3ms/steposs: 0.2359 - accuracy: 0.93\n",
      "Epoch 16 - Threshold 0.3 - F1 Score: 0.6346153846153846\n",
      "Epoch 16 - Threshold 0.4 - F1 Score: 0.7403156384505022\n",
      "Epoch 16 - Threshold 0.5 - F1 Score: 0.7974068071312804\n",
      "Epoch 16 - Threshold 0.6 - F1 Score: 0.8301225919439579\n",
      "Epoch 16 - Threshold 0.7 - F1 Score: 0.8539741219963031\n",
      "Epoch 16 - Best Threshold: 0.7 - Best F1 Score: 0.8539741219963031\n",
      "4/4 [==============================] - 0s 56ms/step - loss: 0.2223 - accuracy: 0.9370 - val_loss: 0.2497 - val_accuracy: 0.8618\n",
      "Epoch 17/1000\n",
      "9/9 [==============================] - 0s 3ms/steposs: 0.2048 - accuracy: 0.94\n",
      "Epoch 17 - Threshold 0.3 - F1 Score: 0.703125\n",
      "Epoch 17 - Threshold 0.4 - F1 Score: 0.7828655834564255\n",
      "Epoch 17 - Threshold 0.5 - F1 Score: 0.8311688311688311\n",
      "Epoch 17 - Threshold 0.6 - F1 Score: 0.8621908127208482\n",
      "Epoch 17 - Threshold 0.7 - F1 Score: 0.8550185873605949\n",
      "Epoch 17 - Best Threshold: 0.6 - Best F1 Score: 0.8621908127208482\n",
      "4/4 [==============================] - 0s 56ms/step - loss: 0.2019 - accuracy: 0.9398 - val_loss: 0.2252 - val_accuracy: 0.8873\n",
      "Epoch 18/1000\n",
      "9/9 [==============================] - 0s 3ms/steposs: 0.1914 - accuracy: 0.93\n",
      "Epoch 18 - Threshold 0.3 - F1 Score: 0.7114093959731544\n",
      "Epoch 18 - Threshold 0.4 - F1 Score: 0.7944358578052552\n",
      "Epoch 18 - Threshold 0.5 - F1 Score: 0.8392554991539763\n",
      "Epoch 18 - Threshold 0.6 - F1 Score: 0.8447653429602888\n",
      "Epoch 18 - Threshold 0.7 - F1 Score: 0.8452830188679246\n",
      "Epoch 18 - Best Threshold: 0.7 - Best F1 Score: 0.8452830188679246\n",
      "4/4 [==============================] - 0s 56ms/step - loss: 0.1883 - accuracy: 0.9380 - val_loss: 0.2132 - val_accuracy: 0.8836\n",
      "Epoch 19/1000\n",
      "9/9 [==============================] - 0s 2ms/steposs: 0.1723 - accuracy: 0.96\n",
      "Epoch 19 - Threshold 0.3 - F1 Score: 0.7403314917127072\n",
      "Epoch 19 - Threshold 0.4 - F1 Score: 0.8188976377952756\n",
      "Epoch 19 - Threshold 0.5 - F1 Score: 0.8488964346349746\n",
      "Epoch 19 - Threshold 0.6 - F1 Score: 0.8571428571428571\n",
      "Epoch 19 - Threshold 0.7 - F1 Score: 0.8566037735849057\n",
      "Epoch 19 - Best Threshold: 0.6 - Best F1 Score: 0.8571428571428571\n",
      "4/4 [==============================] - 0s 56ms/step - loss: 0.1743 - accuracy: 0.9471 - val_loss: 0.1991 - val_accuracy: 0.8873\n",
      "Epoch 20/1000\n",
      "9/9 [==============================] - 0s 3ms/steposs: 0.1644 - accuracy: 0.93\n",
      "Epoch 20 - Threshold 0.3 - F1 Score: 0.7419804741980474\n",
      "Epoch 20 - Threshold 0.4 - F1 Score: 0.8214849921011058\n",
      "Epoch 20 - Threshold 0.5 - F1 Score: 0.8532423208191126\n",
      "Epoch 20 - Threshold 0.6 - F1 Score: 0.859180035650624\n",
      "Epoch 20 - Threshold 0.7 - F1 Score: 0.8695652173913043\n",
      "Epoch 20 - Best Threshold: 0.7 - Best F1 Score: 0.8695652173913043\n",
      "4/4 [==============================] - 0s 56ms/step - loss: 0.1628 - accuracy: 0.9425 - val_loss: 0.1937 - val_accuracy: 0.8873\n",
      "Epoch 21/1000\n",
      "9/9 [==============================] - 0s 2ms/steposs: 0.1479 - accuracy: 0.94\n",
      "Epoch 21 - Threshold 0.3 - F1 Score: 0.7396870554765291\n",
      "Epoch 21 - Threshold 0.4 - F1 Score: 0.8038585209003216\n",
      "Epoch 21 - Threshold 0.5 - F1 Score: 0.8281786941580755\n",
      "Epoch 21 - Threshold 0.6 - F1 Score: 0.8468468468468467\n",
      "Epoch 21 - Threshold 0.7 - F1 Score: 0.8522727272727274\n",
      "Epoch 21 - Best Threshold: 0.7 - Best F1 Score: 0.8522727272727274\n",
      "4/4 [==============================] - 0s 54ms/step - loss: 0.1491 - accuracy: 0.9498 - val_loss: 0.1941 - val_accuracy: 0.8727\n",
      "Epoch 22/1000\n",
      "9/9 [==============================] - 0s 2ms/steposs: 0.1401 - accuracy: 0.96\n",
      "Epoch 22 - Threshold 0.3 - F1 Score: 0.8012139605462821\n",
      "Epoch 22 - Threshold 0.4 - F1 Score: 0.8519134775374376\n",
      "Epoch 22 - Threshold 0.5 - F1 Score: 0.8591304347826086\n",
      "Epoch 22 - Threshold 0.6 - F1 Score: 0.8628158844765343\n",
      "Epoch 22 - Threshold 0.7 - F1 Score: 0.8637236084452975\n",
      "Epoch 22 - Best Threshold: 0.7 - Best F1 Score: 0.8637236084452975\n",
      "4/4 [==============================] - 0s 55ms/step - loss: 0.1390 - accuracy: 0.9571 - val_loss: 0.1713 - val_accuracy: 0.9018\n",
      "Epoch 23/1000\n",
      "9/9 [==============================] - 0s 3ms/steposs: 0.1243 - accuracy: 0.95\n",
      "Epoch 23 - Threshold 0.3 - F1 Score: 0.7830045523520486\n",
      "Epoch 23 - Threshold 0.4 - F1 Score: 0.8358208955223881\n",
      "Epoch 23 - Threshold 0.5 - F1 Score: 0.856637168141593\n",
      "Epoch 23 - Threshold 0.6 - F1 Score: 0.8634686346863468\n",
      "Epoch 23 - Threshold 0.7 - F1 Score: 0.8571428571428571\n",
      "Epoch 23 - Best Threshold: 0.6 - Best F1 Score: 0.8634686346863468\n",
      "4/4 [==============================] - 0s 57ms/step - loss: 0.1317 - accuracy: 0.9480 - val_loss: 0.1675 - val_accuracy: 0.8800\n",
      "Epoch 24/1000\n",
      "9/9 [==============================] - 0s 3ms/steposs: 0.1178 - accuracy: 0.96\n",
      "Epoch 24 - Threshold 0.3 - F1 Score: 0.8113207547169811\n",
      "Epoch 24 - Threshold 0.4 - F1 Score: 0.8619528619528619\n",
      "Epoch 24 - Threshold 0.5 - F1 Score: 0.8778761061946903\n",
      "Epoch 24 - Threshold 0.6 - F1 Score: 0.8807339449541284\n",
      "Epoch 24 - Threshold 0.7 - F1 Score: 0.8660194174757281\n",
      "Epoch 24 - Best Threshold: 0.6 - Best F1 Score: 0.8807339449541284\n",
      "4/4 [==============================] - 0s 56ms/step - loss: 0.1220 - accuracy: 0.9553 - val_loss: 0.1558 - val_accuracy: 0.9091\n",
      "Epoch 25/1000\n",
      "9/9 [==============================] - 0s 2ms/steposs: 0.1311 - accuracy: 0.95\n",
      "Epoch 25 - Threshold 0.3 - F1 Score: 0.8291139240506329\n",
      "Epoch 25 - Threshold 0.4 - F1 Score: 0.8532883642495784\n",
      "Epoch 25 - Threshold 0.5 - F1 Score: 0.8707964601769911\n",
      "Epoch 25 - Threshold 0.6 - F1 Score: 0.8742964352720449\n",
      "Epoch 25 - Threshold 0.7 - F1 Score: 0.86328125\n",
      "Epoch 25 - Best Threshold: 0.6 - Best F1 Score: 0.8742964352720449\n",
      "4/4 [==============================] - 0s 55ms/step - loss: 0.1170 - accuracy: 0.9653 - val_loss: 0.1495 - val_accuracy: 0.9018\n",
      "Epoch 26/1000\n",
      "9/9 [==============================] - 0s 2ms/steposs: 0.1032 - accuracy: 0.96\n",
      "Epoch 26 - Threshold 0.3 - F1 Score: 0.8309178743961353\n",
      "Epoch 26 - Threshold 0.4 - F1 Score: 0.859106529209622\n",
      "Epoch 26 - Threshold 0.5 - F1 Score: 0.8797127468581688\n",
      "Epoch 26 - Threshold 0.6 - F1 Score: 0.8775894538606404\n",
      "Epoch 26 - Threshold 0.7 - F1 Score: 0.8599605522682446\n",
      "Epoch 26 - Best Threshold: 0.5 - Best F1 Score: 0.8797127468581688\n",
      "4/4 [==============================] - 0s 55ms/step - loss: 0.1037 - accuracy: 0.9653 - val_loss: 0.1415 - val_accuracy: 0.9091\n",
      "Epoch 27/1000\n",
      "9/9 [==============================] - 0s 3ms/steposs: 0.0954 - accuracy: 0.99\n",
      "Epoch 27 - Threshold 0.3 - F1 Score: 0.8338658146964856\n",
      "Epoch 27 - Threshold 0.4 - F1 Score: 0.8512820512820514\n",
      "Epoch 27 - Threshold 0.5 - F1 Score: 0.8669064748201438\n",
      "Epoch 27 - Threshold 0.6 - F1 Score: 0.8759398496240602\n",
      "Epoch 27 - Threshold 0.7 - F1 Score: 0.8503937007874016\n",
      "Epoch 27 - Best Threshold: 0.6 - Best F1 Score: 0.8759398496240602\n",
      "4/4 [==============================] - 0s 56ms/step - loss: 0.0967 - accuracy: 0.9717 - val_loss: 0.1361 - val_accuracy: 0.8873\n",
      "Epoch 28/1000\n",
      "9/9 [==============================] - 0s 3ms/steposs: 0.0880 - accuracy: 0.96\n",
      "Epoch 28 - Threshold 0.3 - F1 Score: 0.8447999999999999\n",
      "Epoch 28 - Threshold 0.4 - F1 Score: 0.8786324786324785\n",
      "Epoch 28 - Threshold 0.5 - F1 Score: 0.8864864864864865\n",
      "Epoch 28 - Threshold 0.6 - F1 Score: 0.8818011257035648\n",
      "Epoch 28 - Threshold 0.7 - F1 Score: 0.868369351669941\n",
      "Epoch 28 - Best Threshold: 0.5 - Best F1 Score: 0.8864864864864865\n",
      "4/4 [==============================] - 0s 58ms/step - loss: 0.0871 - accuracy: 0.9763 - val_loss: 0.1296 - val_accuracy: 0.9091\n",
      "Epoch 29/1000\n",
      "9/9 [==============================] - 0s 3ms/steposs: 0.0813 - accuracy: 0.97\n",
      "Epoch 29 - Threshold 0.3 - F1 Score: 0.840064620355412\n",
      "Epoch 29 - Threshold 0.4 - F1 Score: 0.8689655172413794\n",
      "Epoch 29 - Threshold 0.5 - F1 Score: 0.8860759493670886\n",
      "Epoch 29 - Threshold 0.6 - F1 Score: 0.8723809523809524\n",
      "Epoch 29 - Threshold 0.7 - F1 Score: 0.863905325443787\n",
      "Epoch 29 - Best Threshold: 0.5 - Best F1 Score: 0.8860759493670886\n",
      "4/4 [==============================] - 0s 54ms/step - loss: 0.0831 - accuracy: 0.9745 - val_loss: 0.1305 - val_accuracy: 0.8909\n",
      "Epoch 30/1000\n",
      "9/9 [==============================] - 0s 3ms/steposs: 0.0696 - accuracy: 0.99\n",
      "Epoch 30 - Threshold 0.3 - F1 Score: 0.862876254180602\n",
      "Epoch 30 - Threshold 0.4 - F1 Score: 0.8920353982300884\n",
      "Epoch 30 - Threshold 0.5 - F1 Score: 0.8839779005524862\n",
      "Epoch 30 - Threshold 0.6 - F1 Score: 0.8790786948176584\n",
      "Epoch 30 - Threshold 0.7 - F1 Score: 0.8617234468937875\n",
      "Epoch 30 - Best Threshold: 0.4 - Best F1 Score: 0.8920353982300884\n",
      "4/4 [==============================] - 0s 57ms/step - loss: 0.0769 - accuracy: 0.9808 - val_loss: 0.1192 - val_accuracy: 0.9164\n",
      "Epoch 31/1000\n",
      "9/9 [==============================] - 0s 2ms/steposs: 0.0796 - accuracy: 0.97\n",
      "Epoch 31 - Threshold 0.3 - F1 Score: 0.8619528619528619\n",
      "Epoch 31 - Threshold 0.4 - F1 Score: 0.886120996441281\n",
      "Epoch 31 - Threshold 0.5 - F1 Score: 0.8925925925925925\n",
      "Epoch 31 - Threshold 0.6 - F1 Score: 0.8832684824902725\n",
      "Epoch 31 - Threshold 0.7 - F1 Score: 0.8617234468937875\n",
      "Epoch 31 - Best Threshold: 0.5 - Best F1 Score: 0.8925925925925925\n",
      "4/4 [==============================] - 0s 56ms/step - loss: 0.0737 - accuracy: 0.9790 - val_loss: 0.1150 - val_accuracy: 0.9055\n",
      "Epoch 32/1000\n",
      "9/9 [==============================] - 0s 3ms/steposs: 0.0678 - accuracy: 0.99\n",
      "Epoch 32 - Threshold 0.3 - F1 Score: 0.8698630136986302\n",
      "Epoch 32 - Threshold 0.4 - F1 Score: 0.8853046594982079\n",
      "Epoch 32 - Threshold 0.5 - F1 Score: 0.8888888888888888\n",
      "Epoch 32 - Threshold 0.6 - F1 Score: 0.8832684824902725\n",
      "Epoch 32 - Threshold 0.7 - F1 Score: 0.8702594810379242\n",
      "Epoch 32 - Best Threshold: 0.5 - Best F1 Score: 0.8888888888888888\n",
      "4/4 [==============================] - 0s 55ms/step - loss: 0.0678 - accuracy: 0.9836 - val_loss: 0.1112 - val_accuracy: 0.9127\n",
      "Epoch 33/1000\n",
      "9/9 [==============================] - 0s 2ms/steposs: 0.0603 - accuracy: 0.99\n",
      "Epoch 33 - Threshold 0.3 - F1 Score: 0.8619528619528619\n",
      "Epoch 33 - Threshold 0.4 - F1 Score: 0.8928571428571428\n",
      "Epoch 33 - Threshold 0.5 - F1 Score: 0.8970588235294118\n",
      "Epoch 33 - Threshold 0.6 - F1 Score: 0.8884615384615383\n",
      "Epoch 33 - Threshold 0.7 - F1 Score: 0.8707753479125249\n",
      "Epoch 33 - Best Threshold: 0.5 - Best F1 Score: 0.8970588235294118\n",
      "4/4 [==============================] - 0s 55ms/step - loss: 0.0626 - accuracy: 0.9845 - val_loss: 0.1084 - val_accuracy: 0.8982\n",
      "Epoch 34/1000\n",
      "9/9 [==============================] - 0s 2ms/steposs: 0.0597 - accuracy: 0.98\n",
      "Epoch 34 - Threshold 0.3 - F1 Score: 0.8653198653198653\n",
      "Epoch 34 - Threshold 0.4 - F1 Score: 0.8964285714285715\n",
      "Epoch 34 - Threshold 0.5 - F1 Score: 0.895910780669145\n",
      "Epoch 34 - Threshold 0.6 - F1 Score: 0.8914728682170542\n",
      "Epoch 34 - Threshold 0.7 - F1 Score: 0.8629032258064515\n",
      "Epoch 34 - Best Threshold: 0.4 - Best F1 Score: 0.8964285714285715\n",
      "4/4 [==============================] - 0s 56ms/step - loss: 0.0601 - accuracy: 0.9808 - val_loss: 0.1076 - val_accuracy: 0.8982\n",
      "Epoch 35/1000\n",
      "9/9 [==============================] - 0s 2ms/steposs: 0.0545 - accuracy: 0.98\n",
      "Epoch 35 - Threshold 0.3 - F1 Score: 0.8683760683760683\n",
      "Epoch 35 - Threshold 0.4 - F1 Score: 0.8953068592057761\n",
      "Epoch 35 - Threshold 0.5 - F1 Score: 0.8855534709193245\n",
      "Epoch 35 - Threshold 0.6 - F1 Score: 0.8710937500000001\n",
      "Epoch 35 - Threshold 0.7 - F1 Score: 0.8531187122736418\n",
      "Epoch 35 - Best Threshold: 0.4 - Best F1 Score: 0.8953068592057761\n",
      "4/4 [==============================] - 0s 56ms/step - loss: 0.0549 - accuracy: 0.9863 - val_loss: 0.1033 - val_accuracy: 0.8982\n",
      "Epoch 36/1000\n",
      "9/9 [==============================] - 0s 3ms/steposs: 0.0501 - accuracy: 0.99\n",
      "Epoch 36 - Threshold 0.3 - F1 Score: 0.8830715532286214\n",
      "Epoch 36 - Threshold 0.4 - F1 Score: 0.8957952468007313\n",
      "Epoch 36 - Threshold 0.5 - F1 Score: 0.8897338403041826\n",
      "Epoch 36 - Threshold 0.6 - F1 Score: 0.8722986247544203\n",
      "Epoch 36 - Threshold 0.7 - F1 Score: 0.8629032258064515\n",
      "Epoch 36 - Best Threshold: 0.4 - Best F1 Score: 0.8957952468007313\n",
      "4/4 [==============================] - 0s 56ms/step - loss: 0.0519 - accuracy: 0.9863 - val_loss: 0.1011 - val_accuracy: 0.9091\n",
      "Epoch 37/1000\n",
      "9/9 [==============================] - 0s 3ms/steposs: 0.0477 - accuracy: 0.98\n",
      "Epoch 37 - Threshold 0.3 - F1 Score: 0.8873239436619719\n",
      "Epoch 37 - Threshold 0.4 - F1 Score: 0.9038112522686025\n",
      "Epoch 37 - Threshold 0.5 - F1 Score: 0.8851224105461394\n",
      "Epoch 37 - Threshold 0.6 - F1 Score: 0.8710937500000001\n",
      "Epoch 37 - Threshold 0.7 - F1 Score: 0.8669354838709677\n",
      "Epoch 37 - Best Threshold: 0.4 - Best F1 Score: 0.9038112522686025\n",
      "4/4 [==============================] - 0s 57ms/step - loss: 0.0496 - accuracy: 0.9872 - val_loss: 0.0995 - val_accuracy: 0.8982\n",
      "Epoch 38/1000\n",
      "9/9 [==============================] - 0s 3ms/steposs: 0.0416 - accuracy: 0.99\n",
      "Epoch 38 - Threshold 0.3 - F1 Score: 0.8877551020408163\n",
      "Epoch 38 - Threshold 0.4 - F1 Score: 0.8953068592057761\n",
      "Epoch 38 - Threshold 0.5 - F1 Score: 0.8913857677902621\n",
      "Epoch 38 - Threshold 0.6 - F1 Score: 0.8807692307692309\n",
      "Epoch 38 - Threshold 0.7 - F1 Score: 0.8634538152610441\n",
      "Epoch 38 - Best Threshold: 0.4 - Best F1 Score: 0.8953068592057761\n",
      "4/4 [==============================] - 0s 56ms/step - loss: 0.0469 - accuracy: 0.9854 - val_loss: 0.0969 - val_accuracy: 0.9091\n",
      "Epoch 39/1000\n",
      "9/9 [==============================] - 0s 3ms/steposs: 0.0487 - accuracy: 0.98\n",
      "Epoch 39 - Threshold 0.3 - F1 Score: 0.8795811518324607\n",
      "Epoch 39 - Threshold 0.4 - F1 Score: 0.8933823529411765\n",
      "Epoch 39 - Threshold 0.5 - F1 Score: 0.8867924528301887\n",
      "Epoch 39 - Threshold 0.6 - F1 Score: 0.8767123287671232\n",
      "Epoch 39 - Threshold 0.7 - F1 Score: 0.8611670020120725\n",
      "Epoch 39 - Best Threshold: 0.4 - Best F1 Score: 0.8933823529411765\n",
      "4/4 [==============================] - 0s 55ms/step - loss: 0.0438 - accuracy: 0.9881 - val_loss: 0.0971 - val_accuracy: 0.9018\n",
      "Epoch 40/1000\n",
      "9/9 [==============================] - 0s 2ms/steposs: 0.0389 - accuracy: 0.98\n",
      "Epoch 40 - Threshold 0.3 - F1 Score: 0.8763250883392226\n",
      "Epoch 40 - Threshold 0.4 - F1 Score: 0.8851851851851853\n",
      "Epoch 40 - Threshold 0.5 - F1 Score: 0.8783269961977186\n",
      "Epoch 40 - Threshold 0.6 - F1 Score: 0.8649706457925634\n",
      "Epoch 40 - Threshold 0.7 - F1 Score: 0.8577235772357723\n",
      "Epoch 40 - Best Threshold: 0.4 - Best F1 Score: 0.8851851851851853\n",
      "4/4 [==============================] - 0s 54ms/step - loss: 0.0421 - accuracy: 0.9863 - val_loss: 0.0970 - val_accuracy: 0.8945\n",
      "Epoch 41/1000\n",
      "9/9 [==============================] - 0s 2ms/steposs: 0.0397 - accuracy: 0.99\n",
      "Epoch 41 - Threshold 0.3 - F1 Score: 0.8880866425992779\n",
      "Epoch 41 - Threshold 0.4 - F1 Score: 0.9013035381750465\n",
      "Epoch 41 - Threshold 0.5 - F1 Score: 0.887189292543021\n",
      "Epoch 41 - Threshold 0.6 - F1 Score: 0.8823529411764706\n",
      "Epoch 41 - Threshold 0.7 - F1 Score: 0.8571428571428571\n",
      "Epoch 41 - Best Threshold: 0.4 - Best F1 Score: 0.9013035381750465\n",
      "4/4 [==============================] - 0s 56ms/step - loss: 0.0410 - accuracy: 0.9918 - val_loss: 0.0952 - val_accuracy: 0.9091\n",
      "Epoch 42/1000\n",
      "9/9 [==============================] - 0s 3ms/steposs: 0.0417 - accuracy: 0.98\n",
      "Epoch 42 - Threshold 0.3 - F1 Score: 0.8900523560209425\n",
      "Epoch 42 - Threshold 0.4 - F1 Score: 0.9018181818181819\n",
      "Epoch 42 - Threshold 0.5 - F1 Score: 0.900562851782364\n",
      "Epoch 42 - Threshold 0.6 - F1 Score: 0.8849902534113062\n",
      "Epoch 42 - Threshold 0.7 - F1 Score: 0.8714859437751004\n",
      "Epoch 42 - Best Threshold: 0.4 - Best F1 Score: 0.9018181818181819\n",
      "4/4 [==============================] - 0s 55ms/step - loss: 0.0399 - accuracy: 0.9918 - val_loss: 0.0906 - val_accuracy: 0.9127\n",
      "Epoch 43/1000\n",
      "9/9 [==============================] - 0s 3ms/steposs: 0.0421 - accuracy: 0.97\n",
      "Epoch 43 - Threshold 0.3 - F1 Score: 0.8982456140350877\n",
      "Epoch 43 - Threshold 0.4 - F1 Score: 0.9094202898550725\n",
      "Epoch 43 - Threshold 0.5 - F1 Score: 0.9018867924528302\n",
      "Epoch 43 - Threshold 0.6 - F1 Score: 0.8875968992248062\n",
      "Epoch 43 - Threshold 0.7 - F1 Score: 0.8646464646464647\n",
      "Epoch 43 - Best Threshold: 0.4 - Best F1 Score: 0.9094202898550725\n",
      "4/4 [==============================] - 0s 56ms/step - loss: 0.0391 - accuracy: 0.9872 - val_loss: 0.0859 - val_accuracy: 0.9127\n",
      "Epoch 44/1000\n",
      "9/9 [==============================] - 0s 3ms/steposs: 0.0398 - accuracy: 0.98\n",
      "Epoch 44 - Threshold 0.3 - F1 Score: 0.8881118881118881\n",
      "Epoch 44 - Threshold 0.4 - F1 Score: 0.896678966789668\n",
      "Epoch 44 - Threshold 0.5 - F1 Score: 0.8909774436090225\n",
      "Epoch 44 - Threshold 0.6 - F1 Score: 0.8745098039215686\n",
      "Epoch 44 - Threshold 0.7 - F1 Score: 0.8669354838709677\n",
      "Epoch 44 - Best Threshold: 0.4 - Best F1 Score: 0.896678966789668\n",
      "4/4 [==============================] - 0s 55ms/step - loss: 0.0351 - accuracy: 0.9900 - val_loss: 0.0898 - val_accuracy: 0.9055\n",
      "Epoch 45/1000\n",
      "9/9 [==============================] - 0s 3ms/steposs: 0.0350 - accuracy: 0.99\n",
      "Epoch 45 - Threshold 0.3 - F1 Score: 0.8771929824561402\n",
      "Epoch 45 - Threshold 0.4 - F1 Score: 0.8802946593001842\n",
      "Epoch 45 - Threshold 0.5 - F1 Score: 0.8759398496240602\n",
      "Epoch 45 - Threshold 0.6 - F1 Score: 0.8754863813229573\n",
      "Epoch 45 - Threshold 0.7 - F1 Score: 0.8634538152610441\n",
      "Epoch 45 - Best Threshold: 0.4 - Best F1 Score: 0.8802946593001842\n",
      "4/4 [==============================] - 0s 55ms/step - loss: 0.0343 - accuracy: 0.9872 - val_loss: 0.0948 - val_accuracy: 0.9164\n",
      "Epoch 46/1000\n",
      "9/9 [==============================] - 0s 3ms/steposs: 0.0356 - accuracy: 0.98\n",
      "Epoch 46 - Threshold 0.3 - F1 Score: 0.8996415770609318\n",
      "Epoch 46 - Threshold 0.4 - F1 Score: 0.8934579439252337\n",
      "Epoch 46 - Threshold 0.5 - F1 Score: 0.8876190476190478\n",
      "Epoch 46 - Threshold 0.6 - F1 Score: 0.8840864440078586\n",
      "Epoch 46 - Threshold 0.7 - F1 Score: 0.8623481781376519\n",
      "Epoch 46 - Best Threshold: 0.3 - Best F1 Score: 0.8996415770609318\n",
      "4/4 [==============================] - 0s 56ms/step - loss: 0.0346 - accuracy: 0.9881 - val_loss: 0.0871 - val_accuracy: 0.9091\n",
      "Epoch 47/1000\n",
      "9/9 [==============================] - 0s 2ms/steposs: 0.0313 - accuracy: 0.99\n",
      "Epoch 47 - Threshold 0.3 - F1 Score: 0.893992932862191\n",
      "Epoch 47 - Threshold 0.4 - F1 Score: 0.8957952468007313\n",
      "Epoch 47 - Threshold 0.5 - F1 Score: 0.8977272727272728\n",
      "Epoch 47 - Threshold 0.6 - F1 Score: 0.88715953307393\n",
      "Epoch 47 - Threshold 0.7 - F1 Score: 0.8697394789579158\n",
      "Epoch 47 - Best Threshold: 0.5 - Best F1 Score: 0.8977272727272728\n",
      "4/4 [==============================] - 0s 54ms/step - loss: 0.0328 - accuracy: 0.9945 - val_loss: 0.0838 - val_accuracy: 0.9127\n",
      "Epoch 48/1000\n",
      "9/9 [==============================] - 0s 3ms/steposs: 0.0289 - accuracy: 0.99\n",
      "Epoch 48 - Threshold 0.3 - F1 Score: 0.8824593128390597\n",
      "Epoch 48 - Threshold 0.4 - F1 Score: 0.8901303538175046\n",
      "Epoch 48 - Threshold 0.5 - F1 Score: 0.8956356736242884\n",
      "Epoch 48 - Threshold 0.6 - F1 Score: 0.8840864440078586\n",
      "Epoch 48 - Threshold 0.7 - F1 Score: 0.8732394366197183\n",
      "Epoch 48 - Best Threshold: 0.5 - Best F1 Score: 0.8956356736242884\n",
      "4/4 [==============================] - 0s 53ms/step - loss: 0.0298 - accuracy: 0.9900 - val_loss: 0.0913 - val_accuracy: 0.8982\n",
      "Epoch 49/1000\n",
      "9/9 [==============================] - 0s 3ms/steposs: 0.0317 - accuracy: 0.99\n",
      "Epoch 49 - Threshold 0.3 - F1 Score: 0.8928571428571428\n",
      "Epoch 49 - Threshold 0.4 - F1 Score: 0.8987108655616943\n",
      "Epoch 49 - Threshold 0.5 - F1 Score: 0.8926553672316384\n",
      "Epoch 49 - Threshold 0.6 - F1 Score: 0.8863198458574181\n",
      "Epoch 49 - Threshold 0.7 - F1 Score: 0.8714859437751004\n",
      "Epoch 49 - Best Threshold: 0.4 - Best F1 Score: 0.8987108655616943\n",
      "4/4 [==============================] - 0s 54ms/step - loss: 0.0315 - accuracy: 0.9918 - val_loss: 0.0854 - val_accuracy: 0.9018\n",
      "Epoch 50/1000\n",
      "9/9 [==============================] - 0s 3ms/steposs: 0.0292 - accuracy: 0.99\n",
      "Epoch 50 - Threshold 0.3 - F1 Score: 0.8964285714285715\n",
      "Epoch 50 - Threshold 0.4 - F1 Score: 0.9007352941176471\n",
      "Epoch 50 - Threshold 0.5 - F1 Score: 0.8939393939393939\n",
      "Epoch 50 - Threshold 0.6 - F1 Score: 0.8914728682170542\n",
      "Epoch 50 - Threshold 0.7 - F1 Score: 0.8651911468812877\n",
      "Epoch 50 - Best Threshold: 0.4 - Best F1 Score: 0.9007352941176471\n",
      "4/4 [==============================] - 0s 55ms/step - loss: 0.0301 - accuracy: 0.9900 - val_loss: 0.0851 - val_accuracy: 0.9164\n",
      "Epoch 51/1000\n",
      "9/9 [==============================] - 0s 3ms/steposs: 0.0295 - accuracy: 0.99\n",
      "Epoch 51 - Threshold 0.3 - F1 Score: 0.8913043478260869\n",
      "Epoch 51 - Threshold 0.4 - F1 Score: 0.8868274582560296\n",
      "Epoch 51 - Threshold 0.5 - F1 Score: 0.8952380952380952\n",
      "Epoch 51 - Threshold 0.6 - F1 Score: 0.8810916179337231\n",
      "Epoch 51 - Threshold 0.7 - F1 Score: 0.8702594810379242\n",
      "Epoch 51 - Best Threshold: 0.5 - Best F1 Score: 0.8952380952380952\n",
      "4/4 [==============================] - 0s 55ms/step - loss: 0.0312 - accuracy: 0.9891 - val_loss: 0.0883 - val_accuracy: 0.9018\n",
      "Epoch 52/1000\n",
      "9/9 [==============================] - 0s 3ms/steposs: 0.0240 - accuracy: 1.00\n",
      "Epoch 52 - Threshold 0.3 - F1 Score: 0.897887323943662\n",
      "Epoch 52 - Threshold 0.4 - F1 Score: 0.8994515539305302\n",
      "Epoch 52 - Threshold 0.5 - F1 Score: 0.9026217228464419\n",
      "Epoch 52 - Threshold 0.6 - F1 Score: 0.8944337811900192\n",
      "Epoch 52 - Threshold 0.7 - F1 Score: 0.8818897637795275\n",
      "Epoch 52 - Best Threshold: 0.5 - Best F1 Score: 0.9026217228464419\n",
      "4/4 [==============================] - 0s 57ms/step - loss: 0.0295 - accuracy: 0.9900 - val_loss: 0.0817 - val_accuracy: 0.9127\n",
      "Epoch 53/1000\n",
      "9/9 [==============================] - 0s 2ms/steposs: 0.0260 - accuracy: 0.99\n",
      "Epoch 53 - Threshold 0.3 - F1 Score: 0.8991150442477877\n",
      "Epoch 53 - Threshold 0.4 - F1 Score: 0.904059040590406\n",
      "Epoch 53 - Threshold 0.5 - F1 Score: 0.9001883239171374\n",
      "Epoch 53 - Threshold 0.6 - F1 Score: 0.8841698841698842\n",
      "Epoch 53 - Threshold 0.7 - F1 Score: 0.8853754940711464\n",
      "Epoch 53 - Best Threshold: 0.4 - Best F1 Score: 0.904059040590406\n",
      "4/4 [==============================] - 0s 54ms/step - loss: 0.0284 - accuracy: 0.9909 - val_loss: 0.0830 - val_accuracy: 0.9200\n",
      "Epoch 54/1000\n",
      "9/9 [==============================] - 0s 2ms/steposs: 0.0268 - accuracy: 0.99\n",
      "Epoch 54 - Threshold 0.3 - F1 Score: 0.9025270758122744\n",
      "Epoch 54 - Threshold 0.4 - F1 Score: 0.9013035381750465\n",
      "Epoch 54 - Threshold 0.5 - F1 Score: 0.8850574712643677\n",
      "Epoch 54 - Threshold 0.6 - F1 Score: 0.8784313725490197\n",
      "Epoch 54 - Threshold 0.7 - F1 Score: 0.8554216867469879\n",
      "Epoch 54 - Best Threshold: 0.3 - Best F1 Score: 0.9025270758122744\n",
      "4/4 [==============================] - 0s 55ms/step - loss: 0.0277 - accuracy: 0.9936 - val_loss: 0.0818 - val_accuracy: 0.9236\n",
      "Epoch 55/1000\n",
      "9/9 [==============================] - 0s 2ms/steposs: 0.0239 - accuracy: 0.99\n",
      "Epoch 55 - Threshold 0.3 - F1 Score: 0.8937728937728937\n",
      "Epoch 55 - Threshold 0.4 - F1 Score: 0.8913857677902621\n",
      "Epoch 55 - Threshold 0.5 - F1 Score: 0.8833652007648183\n",
      "Epoch 55 - Threshold 0.6 - F1 Score: 0.8750000000000001\n",
      "Epoch 55 - Threshold 0.7 - F1 Score: 0.8657314629258518\n",
      "Epoch 55 - Best Threshold: 0.3 - Best F1 Score: 0.8937728937728937\n",
      "4/4 [==============================] - 0s 55ms/step - loss: 0.0244 - accuracy: 0.9927 - val_loss: 0.0899 - val_accuracy: 0.8909\n",
      "Epoch 56/1000\n",
      "9/9 [==============================] - 0s 3ms/steposs: 0.0224 - accuracy: 0.99\n",
      "Epoch 56 - Threshold 0.3 - F1 Score: 0.9081081081081082\n",
      "Epoch 56 - Threshold 0.4 - F1 Score: 0.900369003690037\n",
      "Epoch 56 - Threshold 0.5 - F1 Score: 0.899810964083176\n",
      "Epoch 56 - Threshold 0.6 - F1 Score: 0.8978805394990366\n",
      "Epoch 56 - Threshold 0.7 - F1 Score: 0.8804780876494024\n",
      "Epoch 56 - Best Threshold: 0.3 - Best F1 Score: 0.9081081081081082\n",
      "4/4 [==============================] - 0s 56ms/step - loss: 0.0240 - accuracy: 0.9936 - val_loss: 0.0795 - val_accuracy: 0.9273\n",
      "Epoch 57/1000\n",
      "9/9 [==============================] - 0s 3ms/steposs: 0.0229 - accuracy: 0.98\n",
      "Epoch 57 - Threshold 0.3 - F1 Score: 0.9048473967684022\n",
      "Epoch 57 - Threshold 0.4 - F1 Score: 0.904059040590406\n",
      "Epoch 57 - Threshold 0.5 - F1 Score: 0.8977272727272728\n",
      "Epoch 57 - Threshold 0.6 - F1 Score: 0.8940269749518305\n",
      "Epoch 57 - Threshold 0.7 - F1 Score: 0.8787276341948309\n",
      "Epoch 57 - Best Threshold: 0.3 - Best F1 Score: 0.9048473967684022\n",
      "4/4 [==============================] - 0s 56ms/step - loss: 0.0220 - accuracy: 0.9936 - val_loss: 0.0782 - val_accuracy: 0.9127\n",
      "Epoch 58/1000\n",
      "9/9 [==============================] - 0s 3ms/steposs: 0.0202 - accuracy: 0.99\n",
      "Epoch 58 - Threshold 0.3 - F1 Score: 0.9005424954792042\n",
      "Epoch 58 - Threshold 0.4 - F1 Score: 0.8934579439252337\n",
      "Epoch 58 - Threshold 0.5 - F1 Score: 0.8838095238095238\n",
      "Epoch 58 - Threshold 0.6 - F1 Score: 0.8875968992248062\n",
      "Epoch 58 - Threshold 0.7 - F1 Score: 0.868\n",
      "Epoch 58 - Best Threshold: 0.3 - Best F1 Score: 0.9005424954792042\n",
      "4/4 [==============================] - 0s 54ms/step - loss: 0.0208 - accuracy: 0.9964 - val_loss: 0.0798 - val_accuracy: 0.9127\n",
      "Epoch 59/1000\n",
      "9/9 [==============================] - 0s 3ms/steposs: 0.0203 - accuracy: 0.99\n",
      "Epoch 59 - Threshold 0.3 - F1 Score: 0.9038112522686025\n",
      "Epoch 59 - Threshold 0.4 - F1 Score: 0.8992537313432836\n",
      "Epoch 59 - Threshold 0.5 - F1 Score: 0.8935361216730038\n",
      "Epoch 59 - Threshold 0.6 - F1 Score: 0.8932038834951457\n",
      "Epoch 59 - Threshold 0.7 - F1 Score: 0.868\n",
      "Epoch 59 - Best Threshold: 0.3 - Best F1 Score: 0.9038112522686025\n",
      "4/4 [==============================] - 0s 54ms/step - loss: 0.0194 - accuracy: 0.9945 - val_loss: 0.0817 - val_accuracy: 0.9309\n",
      "Epoch 60/1000\n",
      "9/9 [==============================] - 0s 3ms/steposs: 0.0220 - accuracy: 0.99\n",
      "Epoch 60 - Threshold 0.3 - F1 Score: 0.9067641681901281\n",
      "Epoch 60 - Threshold 0.4 - F1 Score: 0.898876404494382\n",
      "Epoch 60 - Threshold 0.5 - F1 Score: 0.8918406072106262\n",
      "Epoch 60 - Threshold 0.6 - F1 Score: 0.8818897637795275\n",
      "Epoch 60 - Threshold 0.7 - F1 Score: 0.8651911468812877\n",
      "Epoch 60 - Best Threshold: 0.3 - Best F1 Score: 0.9067641681901281\n",
      "4/4 [==============================] - 0s 55ms/step - loss: 0.0192 - accuracy: 0.9936 - val_loss: 0.0803 - val_accuracy: 0.9236\n",
      "Epoch 61/1000\n",
      "9/9 [==============================] - 0s 3ms/steposs: 0.0180 - accuracy: 0.99\n",
      "Epoch 61 - Threshold 0.3 - F1 Score: 0.9130434782608695\n",
      "Epoch 61 - Threshold 0.4 - F1 Score: 0.9074074074074073\n",
      "Epoch 61 - Threshold 0.5 - F1 Score: 0.909433962264151\n",
      "Epoch 61 - Threshold 0.6 - F1 Score: 0.894941634241245\n",
      "Epoch 61 - Threshold 0.7 - F1 Score: 0.8697394789579158\n",
      "Epoch 61 - Best Threshold: 0.3 - Best F1 Score: 0.9130434782608695\n",
      "4/4 [==============================] - 0s 55ms/step - loss: 0.0188 - accuracy: 0.9945 - val_loss: 0.0760 - val_accuracy: 0.9309\n",
      "Epoch 62/1000\n",
      "9/9 [==============================] - 0s 3ms/steposs: 0.0150 - accuracy: 0.99\n",
      "Epoch 62 - Threshold 0.3 - F1 Score: 0.9110707803992739\n",
      "Epoch 62 - Threshold 0.4 - F1 Score: 0.9067164179104478\n",
      "Epoch 62 - Threshold 0.5 - F1 Score: 0.9007633587786259\n",
      "Epoch 62 - Threshold 0.6 - F1 Score: 0.8992248062015503\n",
      "Epoch 62 - Threshold 0.7 - F1 Score: 0.8764940239043825\n",
      "Epoch 62 - Best Threshold: 0.3 - Best F1 Score: 0.9110707803992739\n",
      "4/4 [==============================] - 0s 54ms/step - loss: 0.0181 - accuracy: 0.9954 - val_loss: 0.0773 - val_accuracy: 0.9236\n",
      "Epoch 63/1000\n",
      "9/9 [==============================] - 0s 2ms/steposs: 0.0172 - accuracy: 0.99\n",
      "Epoch 63 - Threshold 0.3 - F1 Score: 0.9048473967684022\n",
      "Epoch 63 - Threshold 0.4 - F1 Score: 0.9033457249070632\n",
      "Epoch 63 - Threshold 0.5 - F1 Score: 0.8964218455743879\n",
      "Epoch 63 - Threshold 0.6 - F1 Score: 0.888030888030888\n",
      "Epoch 63 - Threshold 0.7 - F1 Score: 0.8764940239043825\n",
      "Epoch 63 - Best Threshold: 0.3 - Best F1 Score: 0.9048473967684022\n",
      "4/4 [==============================] - 0s 53ms/step - loss: 0.0180 - accuracy: 0.9927 - val_loss: 0.0775 - val_accuracy: 0.9236\n",
      "Epoch 64/1000\n",
      "9/9 [==============================] - 0s 2ms/steposs: 0.0241 - accuracy: 0.99\n",
      "Epoch 64 - Threshold 0.3 - F1 Score: 0.9143897996357013\n",
      "Epoch 64 - Threshold 0.4 - F1 Score: 0.9104477611940298\n",
      "Epoch 64 - Threshold 0.5 - F1 Score: 0.9017341040462428\n",
      "Epoch 64 - Threshold 0.6 - F1 Score: 0.889763779527559\n",
      "Epoch 64 - Threshold 0.7 - F1 Score: 0.8777555110220441\n",
      "Epoch 64 - Best Threshold: 0.3 - Best F1 Score: 0.9143897996357013\n",
      "4/4 [==============================] - 0s 55ms/step - loss: 0.0191 - accuracy: 0.9954 - val_loss: 0.0782 - val_accuracy: 0.9382\n",
      "Epoch 65/1000\n",
      "9/9 [==============================] - 0s 3ms/steposs: 0.0182 - accuracy: 1.00\n",
      "Epoch 65 - Threshold 0.3 - F1 Score: 0.8974358974358974\n",
      "Epoch 65 - Threshold 0.4 - F1 Score: 0.9053030303030304\n",
      "Epoch 65 - Threshold 0.5 - F1 Score: 0.8936170212765958\n",
      "Epoch 65 - Threshold 0.6 - F1 Score: 0.8784313725490197\n",
      "Epoch 65 - Threshold 0.7 - F1 Score: 0.8742514970059879\n",
      "Epoch 65 - Best Threshold: 0.4 - Best F1 Score: 0.9053030303030304\n",
      "4/4 [==============================] - 0s 54ms/step - loss: 0.0172 - accuracy: 0.9964 - val_loss: 0.0814 - val_accuracy: 0.9273\n",
      "Epoch 66/1000\n",
      "9/9 [==============================] - 0s 2ms/steposs: 0.0220 - accuracy: 0.99\n",
      "Epoch 66 - Threshold 0.3 - F1 Score: 0.9049295774647887\n",
      "Epoch 66 - Threshold 0.4 - F1 Score: 0.9147005444646098\n",
      "Epoch 66 - Threshold 0.5 - F1 Score: 0.9117647058823529\n",
      "Epoch 66 - Threshold 0.6 - F1 Score: 0.9121495327102804\n",
      "Epoch 66 - Threshold 0.7 - F1 Score: 0.8940269749518305\n",
      "Epoch 66 - Best Threshold: 0.4 - Best F1 Score: 0.9147005444646098\n",
      "4/4 [==============================] - 0s 54ms/step - loss: 0.0164 - accuracy: 0.9964 - val_loss: 0.0785 - val_accuracy: 0.9273\n",
      "Epoch 67/1000\n",
      "9/9 [==============================] - 0s 2ms/steposs: 0.0163 - accuracy: 0.99\n",
      "Epoch 67 - Threshold 0.3 - F1 Score: 0.8896925858951175\n",
      "Epoch 67 - Threshold 0.4 - F1 Score: 0.896678966789668\n",
      "Epoch 67 - Threshold 0.5 - F1 Score: 0.899810964083176\n",
      "Epoch 67 - Threshold 0.6 - F1 Score: 0.8944337811900192\n",
      "Epoch 67 - Threshold 0.7 - F1 Score: 0.8814229249011857\n",
      "Epoch 67 - Best Threshold: 0.5 - Best F1 Score: 0.899810964083176\n",
      "4/4 [==============================] - 0s 53ms/step - loss: 0.0173 - accuracy: 0.9954 - val_loss: 0.0799 - val_accuracy: 0.9091\n",
      "Epoch 68/1000\n",
      "9/9 [==============================] - 0s 3ms/steposs: 0.0147 - accuracy: 0.99\n",
      "Epoch 68 - Threshold 0.3 - F1 Score: 0.9117647058823529\n",
      "Epoch 68 - Threshold 0.4 - F1 Score: 0.9011406844106463\n",
      "Epoch 68 - Threshold 0.5 - F1 Score: 0.9038461538461537\n",
      "Epoch 68 - Threshold 0.6 - F1 Score: 0.8901960784313725\n",
      "Epoch 68 - Threshold 0.7 - F1 Score: 0.8787276341948309\n",
      "Epoch 68 - Best Threshold: 0.3 - Best F1 Score: 0.9117647058823529\n",
      "4/4 [==============================] - 0s 53ms/step - loss: 0.0174 - accuracy: 0.9945 - val_loss: 0.0797 - val_accuracy: 0.9273\n",
      "Epoch 69/1000\n",
      "9/9 [==============================] - 0s 3ms/steposs: 0.0145 - accuracy: 0.99\n",
      "Epoch 69 - Threshold 0.3 - F1 Score: 0.8970331588132635\n",
      "Epoch 69 - Threshold 0.4 - F1 Score: 0.9021739130434782\n",
      "Epoch 69 - Threshold 0.5 - F1 Score: 0.9067164179104478\n",
      "Epoch 69 - Threshold 0.6 - F1 Score: 0.8982725527831094\n",
      "Epoch 69 - Threshold 0.7 - F1 Score: 0.88671875\n",
      "Epoch 69 - Best Threshold: 0.5 - Best F1 Score: 0.9067164179104478\n",
      "4/4 [==============================] - 0s 56ms/step - loss: 0.0156 - accuracy: 0.9954 - val_loss: 0.0760 - val_accuracy: 0.9309\n",
      "Epoch 70/1000\n",
      "9/9 [==============================] - 0s 3ms/steposs: 0.0195 - accuracy: 0.99\n",
      "Epoch 70 - Threshold 0.3 - F1 Score: 0.8901303538175046\n",
      "Epoch 70 - Threshold 0.4 - F1 Score: 0.8910133843212238\n",
      "Epoch 70 - Threshold 0.5 - F1 Score: 0.8897485493230174\n",
      "Epoch 70 - Threshold 0.6 - F1 Score: 0.8901960784313725\n",
      "Epoch 70 - Threshold 0.7 - F1 Score: 0.884920634920635\n",
      "Epoch 70 - Best Threshold: 0.4 - Best F1 Score: 0.8910133843212238\n",
      "4/4 [==============================] - 0s 55ms/step - loss: 0.0162 - accuracy: 0.9954 - val_loss: 0.0923 - val_accuracy: 0.9236\n",
      "Epoch 71/1000\n",
      "9/9 [==============================] - 0s 3ms/steposs: 0.0189 - accuracy: 1.00\n",
      "Epoch 71 - Threshold 0.3 - F1 Score: 0.9202898550724639\n",
      "Epoch 71 - Threshold 0.4 - F1 Score: 0.9097605893186004\n",
      "Epoch 71 - Threshold 0.5 - F1 Score: 0.9056603773584905\n",
      "Epoch 71 - Threshold 0.6 - F1 Score: 0.9038461538461537\n",
      "Epoch 71 - Threshold 0.7 - F1 Score: 0.8809523809523808\n",
      "Epoch 71 - Best Threshold: 0.3 - Best F1 Score: 0.9202898550724639\n",
      "4/4 [==============================] - 0s 57ms/step - loss: 0.0159 - accuracy: 0.9964 - val_loss: 0.0714 - val_accuracy: 0.9418\n",
      "Epoch 72/1000\n",
      "9/9 [==============================] - 0s 3ms/steposs: 0.0154 - accuracy: 0.99\n",
      "Epoch 72 - Threshold 0.3 - F1 Score: 0.9041591320072333\n",
      "Epoch 72 - Threshold 0.4 - F1 Score: 0.9074074074074073\n",
      "Epoch 72 - Threshold 0.5 - F1 Score: 0.9111531190926275\n",
      "Epoch 72 - Threshold 0.6 - F1 Score: 0.8966861598440546\n",
      "Epoch 72 - Threshold 0.7 - F1 Score: 0.876\n",
      "Epoch 72 - Best Threshold: 0.5 - Best F1 Score: 0.9111531190926275\n",
      "4/4 [==============================] - 0s 55ms/step - loss: 0.0139 - accuracy: 0.9973 - val_loss: 0.0752 - val_accuracy: 0.9382\n",
      "Epoch 73/1000\n",
      "9/9 [==============================] - 0s 3ms/steposs: 0.0165 - accuracy: 0.99\n",
      "Epoch 73 - Threshold 0.3 - F1 Score: 0.9074410163339383\n",
      "Epoch 73 - Threshold 0.4 - F1 Score: 0.9067164179104478\n",
      "Epoch 73 - Threshold 0.5 - F1 Score: 0.8956356736242884\n",
      "Epoch 73 - Threshold 0.6 - F1 Score: 0.8932038834951457\n",
      "Epoch 73 - Threshold 0.7 - F1 Score: 0.8958742632612966\n",
      "Epoch 73 - Best Threshold: 0.3 - Best F1 Score: 0.9074410163339383\n",
      "4/4 [==============================] - 0s 58ms/step - loss: 0.0147 - accuracy: 0.9973 - val_loss: 0.0755 - val_accuracy: 0.9418\n",
      "Epoch 74/1000\n",
      "9/9 [==============================] - 0s 2ms/steposs: 0.0140 - accuracy: 0.99\n",
      "Epoch 74 - Threshold 0.3 - F1 Score: 0.9169675090252707\n",
      "Epoch 74 - Threshold 0.4 - F1 Score: 0.9211009174311926\n",
      "Epoch 74 - Threshold 0.5 - F1 Score: 0.9182156133828997\n",
      "Epoch 74 - Threshold 0.6 - F1 Score: 0.9125475285171104\n",
      "Epoch 74 - Threshold 0.7 - F1 Score: 0.9009708737864078\n",
      "Epoch 74 - Best Threshold: 0.4 - Best F1 Score: 0.9211009174311926\n",
      "4/4 [==============================] - 0s 56ms/step - loss: 0.0141 - accuracy: 0.9945 - val_loss: 0.0708 - val_accuracy: 0.9418\n",
      "Epoch 75/1000\n",
      "9/9 [==============================] - 0s 3ms/steposs: 0.0132 - accuracy: 0.99\n",
      "Epoch 75 - Threshold 0.3 - F1 Score: 0.9136690647482014\n",
      "Epoch 75 - Threshold 0.4 - F1 Score: 0.9044117647058822\n",
      "Epoch 75 - Threshold 0.5 - F1 Score: 0.9080675422138837\n",
      "Epoch 75 - Threshold 0.6 - F1 Score: 0.8936170212765958\n",
      "Epoch 75 - Threshold 0.7 - F1 Score: 0.8875739644970415\n",
      "Epoch 75 - Best Threshold: 0.3 - Best F1 Score: 0.9136690647482014\n",
      "4/4 [==============================] - 0s 55ms/step - loss: 0.0143 - accuracy: 0.9964 - val_loss: 0.0734 - val_accuracy: 0.9382\n",
      "Epoch 76/1000\n",
      "9/9 [==============================] - 0s 2ms/steposs: 0.0147 - accuracy: 0.99\n",
      "Epoch 76 - Threshold 0.3 - F1 Score: 0.91500904159132\n",
      "Epoch 76 - Threshold 0.4 - F1 Score: 0.9077490774907749\n",
      "Epoch 76 - Threshold 0.5 - F1 Score: 0.8960302457466918\n",
      "Epoch 76 - Threshold 0.6 - F1 Score: 0.894941634241245\n",
      "Epoch 76 - Threshold 0.7 - F1 Score: 0.8862745098039216\n",
      "Epoch 76 - Best Threshold: 0.3 - Best F1 Score: 0.91500904159132\n",
      "4/4 [==============================] - 0s 55ms/step - loss: 0.0129 - accuracy: 0.9954 - val_loss: 0.0743 - val_accuracy: 0.9345\n",
      "Epoch 77/1000\n",
      "9/9 [==============================] - 0s 3ms/steposs: 0.0117 - accuracy: 1.00\n",
      "Epoch 77 - Threshold 0.3 - F1 Score: 0.9094202898550725\n",
      "Epoch 77 - Threshold 0.4 - F1 Score: 0.9090909090909091\n",
      "Epoch 77 - Threshold 0.5 - F1 Score: 0.9080675422138837\n",
      "Epoch 77 - Threshold 0.6 - F1 Score: 0.9024856596558317\n",
      "Epoch 77 - Threshold 0.7 - F1 Score: 0.8927875243664719\n",
      "Epoch 77 - Best Threshold: 0.3 - Best F1 Score: 0.9094202898550725\n",
      "4/4 [==============================] - 0s 54ms/step - loss: 0.0124 - accuracy: 0.9973 - val_loss: 0.0738 - val_accuracy: 0.9382\n",
      "Epoch 78/1000\n",
      "9/9 [==============================] - 0s 2ms/steposs: 0.0089 - accuracy: 1.00\n",
      "Epoch 78 - Threshold 0.3 - F1 Score: 0.9068100358422939\n",
      "Epoch 78 - Threshold 0.4 - F1 Score: 0.9077490774907749\n",
      "Epoch 78 - Threshold 0.5 - F1 Score: 0.9135338345864662\n",
      "Epoch 78 - Threshold 0.6 - F1 Score: 0.897485493230174\n",
      "Epoch 78 - Threshold 0.7 - F1 Score: 0.8875739644970415\n",
      "Epoch 78 - Best Threshold: 0.5 - Best F1 Score: 0.9135338345864662\n",
      "4/4 [==============================] - 0s 54ms/step - loss: 0.0104 - accuracy: 0.9973 - val_loss: 0.0748 - val_accuracy: 0.9418\n",
      "Epoch 79/1000\n",
      "9/9 [==============================] - 0s 3ms/steposs: 0.0090 - accuracy: 1.00\n",
      "Epoch 79 - Threshold 0.3 - F1 Score: 0.9126559714795008\n",
      "Epoch 79 - Threshold 0.4 - F1 Score: 0.9097605893186004\n",
      "Epoch 79 - Threshold 0.5 - F1 Score: 0.9101123595505618\n",
      "Epoch 79 - Threshold 0.6 - F1 Score: 0.9045801526717557\n",
      "Epoch 79 - Threshold 0.7 - F1 Score: 0.8915187376725838\n",
      "Epoch 79 - Best Threshold: 0.3 - Best F1 Score: 0.9126559714795008\n",
      "4/4 [==============================] - 0s 55ms/step - loss: 0.0116 - accuracy: 0.9964 - val_loss: 0.0730 - val_accuracy: 0.9418\n",
      "Epoch 80/1000\n",
      "9/9 [==============================] - 0s 2ms/steposs: 0.0100 - accuracy: 1.00\n",
      "Epoch 80 - Threshold 0.3 - F1 Score: 0.8983364140480591\n",
      "Epoch 80 - Threshold 0.4 - F1 Score: 0.8984962406015038\n",
      "Epoch 80 - Threshold 0.5 - F1 Score: 0.8956356736242884\n",
      "Epoch 80 - Threshold 0.6 - F1 Score: 0.8932038834951457\n",
      "Epoch 80 - Threshold 0.7 - F1 Score: 0.8831683168316831\n",
      "Epoch 80 - Best Threshold: 0.4 - Best F1 Score: 0.8984962406015038\n",
      "4/4 [==============================] - 0s 54ms/step - loss: 0.0123 - accuracy: 0.9945 - val_loss: 0.0804 - val_accuracy: 0.9345\n",
      "Epoch 81/1000\n",
      "9/9 [==============================] - 0s 2ms/steposs: 0.0132 - accuracy: 0.99\n",
      "Epoch 81 - Threshold 0.3 - F1 Score: 0.9012567324955116\n",
      "Epoch 81 - Threshold 0.4 - F1 Score: 0.9027522935779817\n",
      "Epoch 81 - Threshold 0.5 - F1 Score: 0.9101123595505618\n",
      "Epoch 81 - Threshold 0.6 - F1 Score: 0.8961538461538462\n",
      "Epoch 81 - Threshold 0.7 - F1 Score: 0.8828125\n",
      "Epoch 81 - Best Threshold: 0.5 - Best F1 Score: 0.9101123595505618\n",
      "4/4 [==============================] - 0s 53ms/step - loss: 0.0115 - accuracy: 0.9954 - val_loss: 0.0734 - val_accuracy: 0.9382\n",
      "Epoch 82/1000\n",
      "9/9 [==============================] - 0s 3ms/steposs: 0.0108 - accuracy: 0.99\n",
      "Epoch 82 - Threshold 0.3 - F1 Score: 0.9225225225225224\n",
      "Epoch 82 - Threshold 0.4 - F1 Score: 0.9131238447319779\n",
      "Epoch 82 - Threshold 0.5 - F1 Score: 0.909090909090909\n",
      "Epoch 82 - Threshold 0.6 - F1 Score: 0.9055876685934489\n",
      "Epoch 82 - Threshold 0.7 - F1 Score: 0.8962818003913894\n",
      "Epoch 82 - Best Threshold: 0.3 - Best F1 Score: 0.9225225225225224\n",
      "4/4 [==============================] - 0s 54ms/step - loss: 0.0119 - accuracy: 0.9954 - val_loss: 0.0760 - val_accuracy: 0.9491\n",
      "Epoch 83/1000\n",
      "9/9 [==============================] - 0s 2ms/steposs: 0.0089 - accuracy: 0.99\n",
      "Epoch 83 - Threshold 0.3 - F1 Score: 0.9032258064516129\n",
      "Epoch 83 - Threshold 0.4 - F1 Score: 0.8983364140480591\n",
      "Epoch 83 - Threshold 0.5 - F1 Score: 0.8964218455743879\n",
      "Epoch 83 - Threshold 0.6 - F1 Score: 0.8944337811900192\n",
      "Epoch 83 - Threshold 0.7 - F1 Score: 0.8927875243664719\n",
      "Epoch 83 - Best Threshold: 0.3 - Best F1 Score: 0.9032258064516129\n",
      "4/4 [==============================] - 0s 53ms/step - loss: 0.0102 - accuracy: 0.9945 - val_loss: 0.0796 - val_accuracy: 0.9127\n",
      "Epoch 84/1000\n",
      "9/9 [==============================] - 0s 3ms/steposs: 0.0099 - accuracy: 0.99\n",
      "Epoch 84 - Threshold 0.3 - F1 Score: 0.9213893967093236\n",
      "Epoch 84 - Threshold 0.4 - F1 Score: 0.9121495327102804\n",
      "Epoch 84 - Threshold 0.5 - F1 Score: 0.9024856596558317\n",
      "Epoch 84 - Threshold 0.6 - F1 Score: 0.9031007751937985\n",
      "Epoch 84 - Threshold 0.7 - F1 Score: 0.8958742632612966\n",
      "Epoch 84 - Best Threshold: 0.3 - Best F1 Score: 0.9213893967093236\n",
      "4/4 [==============================] - 0s 54ms/step - loss: 0.0114 - accuracy: 0.9945 - val_loss: 0.0747 - val_accuracy: 0.9418\n",
      "Epoch 85/1000\n",
      "9/9 [==============================] - 0s 3ms/steposs: 0.0094 - accuracy: 1.00\n",
      "Epoch 85 - Threshold 0.3 - F1 Score: 0.9139784946236559\n",
      "Epoch 85 - Threshold 0.4 - F1 Score: 0.9124087591240875\n",
      "Epoch 85 - Threshold 0.5 - F1 Score: 0.9080675422138837\n",
      "Epoch 85 - Threshold 0.6 - F1 Score: 0.9017341040462428\n",
      "Epoch 85 - Threshold 0.7 - F1 Score: 0.8923679060665362\n",
      "Epoch 85 - Best Threshold: 0.3 - Best F1 Score: 0.9139784946236559\n",
      "4/4 [==============================] - 0s 53ms/step - loss: 0.0100 - accuracy: 0.9973 - val_loss: 0.0746 - val_accuracy: 0.9345\n",
      "Epoch 86/1000\n",
      "9/9 [==============================] - 0s 3ms/steposs: 0.0120 - accuracy: 1.00\n",
      "Epoch 86 - Threshold 0.3 - F1 Score: 0.8999999999999999\n",
      "Epoch 86 - Threshold 0.4 - F1 Score: 0.8990825688073394\n",
      "Epoch 86 - Threshold 0.5 - F1 Score: 0.8964218455743879\n",
      "Epoch 86 - Threshold 0.6 - F1 Score: 0.8944337811900192\n",
      "Epoch 86 - Threshold 0.7 - F1 Score: 0.890625\n",
      "Epoch 86 - Best Threshold: 0.3 - Best F1 Score: 0.8999999999999999\n",
      "4/4 [==============================] - 0s 54ms/step - loss: 0.0110 - accuracy: 0.9954 - val_loss: 0.0771 - val_accuracy: 0.9382\n",
      "Epoch 87/1000\n",
      "9/9 [==============================] - 0s 3ms/steposs: 0.0133 - accuracy: 0.99\n",
      "Epoch 87 - Threshold 0.3 - F1 Score: 0.9041591320072333\n",
      "Epoch 87 - Threshold 0.4 - F1 Score: 0.9053803339517625\n",
      "Epoch 87 - Threshold 0.5 - F1 Score: 0.8939393939393939\n",
      "Epoch 87 - Threshold 0.6 - F1 Score: 0.900383141762452\n",
      "Epoch 87 - Threshold 0.7 - F1 Score: 0.9005847953216375\n",
      "Epoch 87 - Best Threshold: 0.4 - Best F1 Score: 0.9053803339517625\n",
      "4/4 [==============================] - 0s 53ms/step - loss: 0.0114 - accuracy: 0.9945 - val_loss: 0.0825 - val_accuracy: 0.9345\n",
      "Epoch 88/1000\n",
      "9/9 [==============================] - 0s 3ms/steposs: 0.0110 - accuracy: 1.00\n",
      "Epoch 88 - Threshold 0.3 - F1 Score: 0.9074410163339383\n",
      "Epoch 88 - Threshold 0.4 - F1 Score: 0.9104477611940298\n",
      "Epoch 88 - Threshold 0.5 - F1 Score: 0.9028571428571429\n",
      "Epoch 88 - Threshold 0.6 - F1 Score: 0.8988326848249026\n",
      "Epoch 88 - Threshold 0.7 - F1 Score: 0.884920634920635\n",
      "Epoch 88 - Best Threshold: 0.4 - Best F1 Score: 0.9104477611940298\n",
      "4/4 [==============================] - 0s 54ms/step - loss: 0.0107 - accuracy: 0.9973 - val_loss: 0.0759 - val_accuracy: 0.9382\n",
      "Epoch 89/1000\n",
      "9/9 [==============================] - 0s 2ms/steposs: 0.0085 - accuracy: 0.99\n",
      "Epoch 89 - Threshold 0.3 - F1 Score: 0.9087656529516993\n",
      "Epoch 89 - Threshold 0.4 - F1 Score: 0.9057301293900184\n",
      "Epoch 89 - Threshold 0.5 - F1 Score: 0.9077212806026365\n",
      "Epoch 89 - Threshold 0.6 - F1 Score: 0.9042145593869731\n",
      "Epoch 89 - Threshold 0.7 - F1 Score: 0.889763779527559\n",
      "Epoch 89 - Best Threshold: 0.3 - Best F1 Score: 0.9087656529516993\n",
      "4/4 [==============================] - 0s 54ms/step - loss: 0.0100 - accuracy: 0.9945 - val_loss: 0.0737 - val_accuracy: 0.9345\n",
      "Epoch 90/1000\n",
      "9/9 [==============================] - 0s 3ms/steposs: 0.0089 - accuracy: 0.99\n",
      "Epoch 90 - Threshold 0.3 - F1 Score: 0.9047619047619047\n",
      "Epoch 90 - Threshold 0.4 - F1 Score: 0.898876404494382\n",
      "Epoch 90 - Threshold 0.5 - F1 Score: 0.8994307400379506\n",
      "Epoch 90 - Threshold 0.6 - F1 Score: 0.8982725527831094\n",
      "Epoch 90 - Threshold 0.7 - F1 Score: 0.8976377952755906\n",
      "Epoch 90 - Best Threshold: 0.3 - Best F1 Score: 0.9047619047619047\n",
      "4/4 [==============================] - 0s 54ms/step - loss: 0.0106 - accuracy: 0.9945 - val_loss: 0.0865 - val_accuracy: 0.9273\n",
      "Epoch 91/1000\n",
      "9/9 [==============================] - 0s 3ms/steposs: 0.0108 - accuracy: 0.99\n",
      "Epoch 91 - Threshold 0.3 - F1 Score: 0.9153153153153153\n",
      "Epoch 91 - Threshold 0.4 - F1 Score: 0.9120879120879121\n",
      "Epoch 91 - Threshold 0.5 - F1 Score: 0.9087523277467413\n",
      "Epoch 91 - Threshold 0.6 - F1 Score: 0.9015151515151515\n",
      "Epoch 91 - Threshold 0.7 - F1 Score: 0.9045801526717557\n",
      "Epoch 91 - Best Threshold: 0.3 - Best F1 Score: 0.9153153153153153\n",
      "4/4 [==============================] - 0s 55ms/step - loss: 0.0106 - accuracy: 0.9964 - val_loss: 0.0745 - val_accuracy: 0.9455\n",
      "Epoch 92/1000\n",
      "9/9 [==============================] - 0s 3ms/steposs: 0.0122 - accuracy: 0.99\n",
      "Epoch 92 - Threshold 0.3 - F1 Score: 0.915129151291513\n",
      "Epoch 92 - Threshold 0.4 - F1 Score: 0.9026217228464419\n",
      "Epoch 92 - Threshold 0.5 - F1 Score: 0.8969465648854961\n",
      "Epoch 92 - Threshold 0.6 - F1 Score: 0.8996138996138997\n",
      "Epoch 92 - Threshold 0.7 - F1 Score: 0.9001956947162426\n",
      "Epoch 92 - Best Threshold: 0.3 - Best F1 Score: 0.915129151291513\n",
      "4/4 [==============================] - 0s 53ms/step - loss: 0.0106 - accuracy: 0.9973 - val_loss: 0.0783 - val_accuracy: 0.9309\n",
      "Epoch 93/1000\n",
      "9/9 [==============================] - 0s 3ms/steposs: 0.0085 - accuracy: 0.99\n",
      "Epoch 93 - Threshold 0.3 - F1 Score: 0.9045936395759718\n",
      "Epoch 93 - Threshold 0.4 - F1 Score: 0.9136690647482014\n",
      "Epoch 93 - Threshold 0.5 - F1 Score: 0.9174311926605504\n",
      "Epoch 93 - Threshold 0.6 - F1 Score: 0.909090909090909\n",
      "Epoch 93 - Threshold 0.7 - F1 Score: 0.9059500959692899\n",
      "Epoch 93 - Best Threshold: 0.5 - Best F1 Score: 0.9174311926605504\n",
      "4/4 [==============================] - 0s 53ms/step - loss: 0.0100 - accuracy: 0.9954 - val_loss: 0.0753 - val_accuracy: 0.9382\n",
      "Epoch 94/1000\n",
      "9/9 [==============================] - 0s 3ms/steposs: 0.0069 - accuracy: 1.00\n",
      "Epoch 94 - Threshold 0.3 - F1 Score: 0.9054545454545454\n",
      "Epoch 94 - Threshold 0.4 - F1 Score: 0.898876404494382\n",
      "Epoch 94 - Threshold 0.5 - F1 Score: 0.9028571428571429\n",
      "Epoch 94 - Threshold 0.6 - F1 Score: 0.9013539651837524\n",
      "Epoch 94 - Threshold 0.7 - F1 Score: 0.8941176470588235\n",
      "Epoch 94 - Best Threshold: 0.3 - Best F1 Score: 0.9054545454545454\n",
      "Restoring model weights from the end of the best epoch: 74.\n",
      "4/4 [==============================] - 0s 57ms/step - loss: 0.0101 - accuracy: 0.9954 - val_loss: 0.0811 - val_accuracy: 0.9309\n",
      "Epoch 94: early stopping\n",
      "Best F1 Score: 0.9225225225225224\n",
      "Best Threshold: 0.3\n",
      "Best val_loss: 0.07077356427907944\n",
      "Model processing time: 21.731289625167847 seconds\n"
     ]
    }
   ],
   "source": [
    "physical_devices = tf.config.list_physical_devices('GPU')\n",
    "if physical_devices:\n",
    "    tf.config.experimental.set_visible_devices(physical_devices[0], 'GPU')\n",
    "    print(\"используем GPU\")\n",
    "import numpy as np\n",
    "import tensorflow as tf\n",
    "import random\n",
    "np.random.seed(42)\n",
    "tf.random.set_seed(42)\n",
    "random.seed(42)\n",
    "history = model.fit([X_vect_train,X_train_organ], y_train, \n",
    "                    epochs=1000, \n",
    "                    batch_size=310,\n",
    "                    validation_data=([X_vect_val,X_organ_val], y_val),\n",
    "                    callbacks=[f1_callback, early_stopping])\n",
    "end_time = time.time()\n",
    "\n",
    "print(f\"Best F1 Score: {f1_callback.best_f1}\")\n",
    "print(f\"Best Threshold: {f1_callback.best_threshold}\")\n",
    "print(f\"Best val_loss: {f1_callback.best_val_loss}\")\n",
    "print(f\"Model processing time: {end_time - start_time} seconds\")"
   ]
  },
  {
   "cell_type": "code",
   "execution_count": 56,
   "id": "52ecf8cf",
   "metadata": {},
   "outputs": [
    {
     "name": "stdout",
     "output_type": "stream",
     "text": [
      "124/124 [==============================] - 0s 3ms/step\n",
      "Final F1 Score on Test Data: 0.838358872960949\n"
     ]
    }
   ],
   "source": [
    "test_predictions = model.predict([X_vect_test,X_test_organ])\n",
    "final_f1 = f1_score(y_test, (test_predictions > f1_callback.best_threshold).astype(int), average='micro')\n",
    "print(f\"Final F1 Score on Test Data: {final_f1}\")"
   ]
  },
  {
   "cell_type": "code",
   "execution_count": null,
   "id": "a037a110",
   "metadata": {},
   "outputs": [],
   "source": [
    "# epochs = 1000, batch = 800 # patience 20 organ and vect"
   ]
  },
  {
   "cell_type": "markdown",
   "id": "db8e1e21",
   "metadata": {},
   "source": [
    "## TF-IDF new Name"
   ]
  },
  {
   "cell_type": "code",
   "execution_count": 59,
   "id": "0416219b",
   "metadata": {},
   "outputs": [
    {
     "data": {
      "text/html": [
       "<div>\n",
       "<style scoped>\n",
       "    .dataframe tbody tr th:only-of-type {\n",
       "        vertical-align: middle;\n",
       "    }\n",
       "\n",
       "    .dataframe tbody tr th {\n",
       "        vertical-align: top;\n",
       "    }\n",
       "\n",
       "    .dataframe thead th {\n",
       "        text-align: right;\n",
       "    }\n",
       "</style>\n",
       "<table border=\"1\" class=\"dataframe\">\n",
       "  <thead>\n",
       "    <tr style=\"text-align: right;\">\n",
       "      <th></th>\n",
       "      <th>iddoc</th>\n",
       "      <th>name</th>\n",
       "      <th>organ</th>\n",
       "      <th>Label</th>\n",
       "      <th>namevec</th>\n",
       "      <th>trainorganvec</th>\n",
       "      <th>vect</th>\n",
       "      <th>testorganvec</th>\n",
       "    </tr>\n",
       "  </thead>\n",
       "  <tbody>\n",
       "    <tr>\n",
       "      <th>0</th>\n",
       "      <td>1400051</td>\n",
       "      <td>'Санитарные правила для предприятий по обработ...</td>\n",
       "      <td>Заместитель главного государственного санитарн...</td>\n",
       "      <td>Санитарные нормы и правила</td>\n",
       "      <td>[0.3289106, -0.3153046, 0.19357339, 0.20849438...</td>\n",
       "      <td>[0.37863722, -0.12031019, 0.20947607, 0.258135...</td>\n",
       "      <td>[0.12359218, -0.16039869, 0.12760171, 0.029699...</td>\n",
       "      <td>NaN</td>\n",
       "    </tr>\n",
       "    <tr>\n",
       "      <th>1</th>\n",
       "      <td>5200228</td>\n",
       "      <td>'ГОСТ 12.2.061-81 Система стандартов безопасно...</td>\n",
       "      <td>Госстандарт СССР</td>\n",
       "      <td>Охрана и безопасность труда</td>\n",
       "      <td>[0.20333531, -0.18829913, 0.022558536, 0.32277...</td>\n",
       "      <td>[0.14245707, -0.12429103, 0.122207195, 0.14406...</td>\n",
       "      <td>[0.10657137, -0.14859758, 0.11362507, 0.030690...</td>\n",
       "      <td>NaN</td>\n",
       "    </tr>\n",
       "    <tr>\n",
       "      <th>2</th>\n",
       "      <td>5200275</td>\n",
       "      <td>'ГОСТ 12.1.008-76 Система стандартов безопасно...</td>\n",
       "      <td>Госстандарт СССР</td>\n",
       "      <td>Охрана и безопасность труда</td>\n",
       "      <td>[0.23374136, -0.20337054, 0.0030277222, 0.2893...</td>\n",
       "      <td>[0.14245707, -0.12429103, 0.122207195, 0.14406...</td>\n",
       "      <td>[0.18051448, -0.19030748, 0.11437332, 0.008232...</td>\n",
       "      <td>NaN</td>\n",
       "    </tr>\n",
       "    <tr>\n",
       "      <th>3</th>\n",
       "      <td>5200277</td>\n",
       "      <td>'ГОСТ 12.4.155-85 Система стандартов безопасно...</td>\n",
       "      <td>Госстандарт СССР</td>\n",
       "      <td>Охрана и безопасность труда</td>\n",
       "      <td>[0.22064964, -0.22460273, 0.042272247, 0.29843...</td>\n",
       "      <td>[0.14245707, -0.12429103, 0.122207195, 0.14406...</td>\n",
       "      <td>[0.10624106, -0.20068084, 0.06754017, 0.087890...</td>\n",
       "      <td>NaN</td>\n",
       "    </tr>\n",
       "    <tr>\n",
       "      <th>4</th>\n",
       "      <td>5200292</td>\n",
       "      <td>'ГОСТ 12.1.029-80 Система стандартов безопасно...</td>\n",
       "      <td>Госстандарт СССР</td>\n",
       "      <td>Охрана и безопасность труда</td>\n",
       "      <td>[0.23646508, -0.158473, 0.022069393, 0.2968053...</td>\n",
       "      <td>[0.14245707, -0.12429103, 0.122207195, 0.14406...</td>\n",
       "      <td>[0.09985344, -0.19155689, 0.051527206, 0.10834...</td>\n",
       "      <td>NaN</td>\n",
       "    </tr>\n",
       "    <tr>\n",
       "      <th>...</th>\n",
       "      <td>...</td>\n",
       "      <td>...</td>\n",
       "      <td>...</td>\n",
       "      <td>...</td>\n",
       "      <td>...</td>\n",
       "      <td>...</td>\n",
       "      <td>...</td>\n",
       "      <td>...</td>\n",
       "    </tr>\n",
       "    <tr>\n",
       "      <th>4716</th>\n",
       "      <td>1300583291</td>\n",
       "      <td>'СТО СРО-С 60542960 00065-2022 Объекты использ...</td>\n",
       "      <td>СРО \"СОЮЗАТОМСТРОЙ\"</td>\n",
       "      <td>Промышленная безопасность</td>\n",
       "      <td>[0.22904277, -0.17296153, 0.13700251, 0.168385...</td>\n",
       "      <td>NaN</td>\n",
       "      <td>[0.07641777, -0.14503886, 0.19336572, -0.13411...</td>\n",
       "      <td>[0.23033588, -0.26847515, 0.11073253, 0.029051...</td>\n",
       "    </tr>\n",
       "    <tr>\n",
       "      <th>4717</th>\n",
       "      <td>1300584509</td>\n",
       "      <td>'Санитарные правила пассажирских перевозок на ...</td>\n",
       "      <td>СЖТ СНГ</td>\n",
       "      <td>Санитарные нормы и правила</td>\n",
       "      <td>[0.102712706, -0.17922917, -0.048411377, 0.338...</td>\n",
       "      <td>NaN</td>\n",
       "      <td>[0.08611536, -0.13373595, 0.2053212, -0.159156...</td>\n",
       "      <td>[0.23887007, -0.18820181, 0.20838569, 0.092722...</td>\n",
       "    </tr>\n",
       "    <tr>\n",
       "      <th>4718</th>\n",
       "      <td>1300666186</td>\n",
       "      <td>'СТО 56910145-009-2014 Полотно нетканое геотек...</td>\n",
       "      <td>ЗАО \"Техполимер\"</td>\n",
       "      <td>Охрана и безопасность труда</td>\n",
       "      <td>[0.23160122, -0.23618263, 0.061281107, 0.16934...</td>\n",
       "      <td>NaN</td>\n",
       "      <td>[0.039838407, -0.068976656, 0.13506916, 0.0211...</td>\n",
       "      <td>[0.20924278, -0.2000265, 0.14009938, 0.0941980...</td>\n",
       "    </tr>\n",
       "    <tr>\n",
       "      <th>4719</th>\n",
       "      <td>1300739796</td>\n",
       "      <td>'Р 1323565.2.002-2022 Государственная система ...</td>\n",
       "      <td>Росстандарт</td>\n",
       "      <td>Метрология</td>\n",
       "      <td>[0.07561759, -0.07892581, 0.0060531166, 0.2106...</td>\n",
       "      <td>NaN</td>\n",
       "      <td>[0.10631539, -0.10371773, 0.19646613, -0.15908...</td>\n",
       "      <td>[0.13282306, -0.109270684, 0.13190684, 0.15616...</td>\n",
       "    </tr>\n",
       "    <tr>\n",
       "      <th>4720</th>\n",
       "      <td>1300774531</td>\n",
       "      <td>'СП 88.13330.2022 СНиП II-11-77* Защитные соор...</td>\n",
       "      <td>Министерство строительства и жилищно-коммуналь...</td>\n",
       "      <td>Пожарная безопасность</td>\n",
       "      <td>[0.09251735, -0.06474302, 0.07518331, 0.369910...</td>\n",
       "      <td>NaN</td>\n",
       "      <td>[0.062041108, -0.09439972, 0.17164372, -0.0785...</td>\n",
       "      <td>[0.34044278, -0.36799037, 0.2447347, -0.040650...</td>\n",
       "    </tr>\n",
       "  </tbody>\n",
       "</table>\n",
       "<p>4721 rows × 8 columns</p>\n",
       "</div>"
      ],
      "text/plain": [
       "           iddoc                                               name  \\\n",
       "0        1400051  'Санитарные правила для предприятий по обработ...   \n",
       "1        5200228  'ГОСТ 12.2.061-81 Система стандартов безопасно...   \n",
       "2        5200275  'ГОСТ 12.1.008-76 Система стандартов безопасно...   \n",
       "3        5200277  'ГОСТ 12.4.155-85 Система стандартов безопасно...   \n",
       "4        5200292  'ГОСТ 12.1.029-80 Система стандартов безопасно...   \n",
       "...          ...                                                ...   \n",
       "4716  1300583291  'СТО СРО-С 60542960 00065-2022 Объекты использ...   \n",
       "4717  1300584509  'Санитарные правила пассажирских перевозок на ...   \n",
       "4718  1300666186  'СТО 56910145-009-2014 Полотно нетканое геотек...   \n",
       "4719  1300739796  'Р 1323565.2.002-2022 Государственная система ...   \n",
       "4720  1300774531  'СП 88.13330.2022 СНиП II-11-77* Защитные соор...   \n",
       "\n",
       "                                                  organ  \\\n",
       "0     Заместитель главного государственного санитарн...   \n",
       "1                                      Госстандарт СССР   \n",
       "2                                      Госстандарт СССР   \n",
       "3                                      Госстандарт СССР   \n",
       "4                                      Госстандарт СССР   \n",
       "...                                                 ...   \n",
       "4716                                СРО \"СОЮЗАТОМСТРОЙ\"   \n",
       "4717                                            СЖТ СНГ   \n",
       "4718                                   ЗАО \"Техполимер\"   \n",
       "4719                                        Росстандарт   \n",
       "4720  Министерство строительства и жилищно-коммуналь...   \n",
       "\n",
       "                            Label  \\\n",
       "0      Санитарные нормы и правила   \n",
       "1     Охрана и безопасность труда   \n",
       "2     Охрана и безопасность труда   \n",
       "3     Охрана и безопасность труда   \n",
       "4     Охрана и безопасность труда   \n",
       "...                           ...   \n",
       "4716    Промышленная безопасность   \n",
       "4717   Санитарные нормы и правила   \n",
       "4718  Охрана и безопасность труда   \n",
       "4719                   Метрология   \n",
       "4720        Пожарная безопасность   \n",
       "\n",
       "                                                namevec  \\\n",
       "0     [0.3289106, -0.3153046, 0.19357339, 0.20849438...   \n",
       "1     [0.20333531, -0.18829913, 0.022558536, 0.32277...   \n",
       "2     [0.23374136, -0.20337054, 0.0030277222, 0.2893...   \n",
       "3     [0.22064964, -0.22460273, 0.042272247, 0.29843...   \n",
       "4     [0.23646508, -0.158473, 0.022069393, 0.2968053...   \n",
       "...                                                 ...   \n",
       "4716  [0.22904277, -0.17296153, 0.13700251, 0.168385...   \n",
       "4717  [0.102712706, -0.17922917, -0.048411377, 0.338...   \n",
       "4718  [0.23160122, -0.23618263, 0.061281107, 0.16934...   \n",
       "4719  [0.07561759, -0.07892581, 0.0060531166, 0.2106...   \n",
       "4720  [0.09251735, -0.06474302, 0.07518331, 0.369910...   \n",
       "\n",
       "                                          trainorganvec  \\\n",
       "0     [0.37863722, -0.12031019, 0.20947607, 0.258135...   \n",
       "1     [0.14245707, -0.12429103, 0.122207195, 0.14406...   \n",
       "2     [0.14245707, -0.12429103, 0.122207195, 0.14406...   \n",
       "3     [0.14245707, -0.12429103, 0.122207195, 0.14406...   \n",
       "4     [0.14245707, -0.12429103, 0.122207195, 0.14406...   \n",
       "...                                                 ...   \n",
       "4716                                                NaN   \n",
       "4717                                                NaN   \n",
       "4718                                                NaN   \n",
       "4719                                                NaN   \n",
       "4720                                                NaN   \n",
       "\n",
       "                                                   vect  \\\n",
       "0     [0.12359218, -0.16039869, 0.12760171, 0.029699...   \n",
       "1     [0.10657137, -0.14859758, 0.11362507, 0.030690...   \n",
       "2     [0.18051448, -0.19030748, 0.11437332, 0.008232...   \n",
       "3     [0.10624106, -0.20068084, 0.06754017, 0.087890...   \n",
       "4     [0.09985344, -0.19155689, 0.051527206, 0.10834...   \n",
       "...                                                 ...   \n",
       "4716  [0.07641777, -0.14503886, 0.19336572, -0.13411...   \n",
       "4717  [0.08611536, -0.13373595, 0.2053212, -0.159156...   \n",
       "4718  [0.039838407, -0.068976656, 0.13506916, 0.0211...   \n",
       "4719  [0.10631539, -0.10371773, 0.19646613, -0.15908...   \n",
       "4720  [0.062041108, -0.09439972, 0.17164372, -0.0785...   \n",
       "\n",
       "                                           testorganvec  \n",
       "0                                                   NaN  \n",
       "1                                                   NaN  \n",
       "2                                                   NaN  \n",
       "3                                                   NaN  \n",
       "4                                                   NaN  \n",
       "...                                                 ...  \n",
       "4716  [0.23033588, -0.26847515, 0.11073253, 0.029051...  \n",
       "4717  [0.23887007, -0.18820181, 0.20838569, 0.092722...  \n",
       "4718  [0.20924278, -0.2000265, 0.14009938, 0.0941980...  \n",
       "4719  [0.13282306, -0.109270684, 0.13190684, 0.15616...  \n",
       "4720  [0.34044278, -0.36799037, 0.2447347, -0.040650...  \n",
       "\n",
       "[4721 rows x 8 columns]"
      ]
     },
     "execution_count": 59,
     "metadata": {},
     "output_type": "execute_result"
    }
   ],
   "source": [
    "dffull_train = dffull_train.rename(columns={'trainnamevec': 'namevec'})\n",
    "df_fulltest = df_fulltest.rename(columns={'testnamevec': 'namevec'})\n",
    "\n",
    "merged_df_tfidf = pd.concat([dffull_train, df_fulltest]).drop_duplicates(subset=['iddoc']).reset_index(drop=True)\n",
    "merged_df_tfidf"
   ]
  },
  {
   "cell_type": "code",
   "execution_count": null,
   "id": "6fc986ec",
   "metadata": {},
   "outputs": [],
   "source": [
    "from sklearn.decomposition import TruncatedSVD\n",
    "from sklearn.feature_extraction.text import TfidfVectorizer\n",
    "import pandas as pd\n",
    "\n",
    "# Объединение данных и удаление дубликатов\n",
    "\n",
    "merged_df_tfidf = pd.concat([dffull_train, df_fulltest]).drop_duplicates(subset=['iddoc']).reset_index(drop=True)\n",
    "\n",
    "# Извлечение необходимых данных\n",
    "documents = merged_df_tfidf['name'].tolist()\n",
    "iddocs = merged_df_tfidf['iddoc'].tolist()\n",
    "labels = merged_df_tfidf['Label'].tolist()\n",
    "\n",
    "# Применение TF-IDF векторайзера\n",
    "tfidf_vectorizer = TfidfVectorizer()\n",
    "tfidf_matrix = tfidf_vectorizer.fit_transform(documents)\n",
    "\n",
    "# Применение TruncatedSVD\n",
    "n_components = 300\n",
    "svd = TruncatedSVD(n_components=n_components)\n",
    "svd_result = svd.fit_transform(tfidf_matrix)\n",
    "\n",
    "# Создание DataFrame с результатами SVD\n",
    "svd_result_df = pd.DataFrame(svd_result, columns=[f\"component_{i}\" for i in range(n_components)])\n",
    "\n",
    "# Проверка длины данных перед добавлением\n",
    "svd_result_df['iddoc'] = iddocs\n",
    "svd_result_df['Label'] = labels\n",
    "\n",
    "# Печать информации\n",
    "print(f\"Исходный размер TF-IDF матрицы: {tfidf_matrix.shape}\")\n",
    "print(f\"Размерность матрицы после TruncatedSVD: {svd_result.shape}\")\n",
    "print(\"\\nРезультаты SVD с идентификаторами документов:\")\n",
    "print(svd_result_df.head())\n"
   ]
  },
  {
   "cell_type": "code",
   "execution_count": null,
   "id": "05db91e4",
   "metadata": {},
   "outputs": [],
   "source": [
    "svd_result_df_ = pd.DataFrame(svd_result_df)\n",
    "svd_result_df_"
   ]
  },
  {
   "cell_type": "code",
   "execution_count": null,
   "id": "53605205",
   "metadata": {},
   "outputs": [],
   "source": [
    "from sklearn.utils import shuffle\n",
    "\n",
    "svd_result_df_= shuffle(svd_result_df_, random_state=42)"
   ]
  },
  {
   "cell_type": "code",
   "execution_count": null,
   "id": "86efdab9",
   "metadata": {},
   "outputs": [],
   "source": [
    "from sklearn.model_selection import train_test_split\n",
    "svd_result_df_train, svd_result_df_test = train_test_split(svd_result_df_, test_size=0.2, random_state=42)"
   ]
  },
  {
   "cell_type": "code",
   "execution_count": null,
   "id": "2da927bf",
   "metadata": {},
   "outputs": [],
   "source": [
    "svd_result_df_train_x = svd_result_df_train.drop(['iddoc', 'Label'], axis=1)\n",
    "svd_result_df_test_x = svd_result_df_test.drop(['iddoc', 'Label'], axis=1)\n",
    "from sklearn.preprocessing import MultiLabelBinarizer\n",
    "# svd_result_df_train['Label'] = svd_result_df_train['Label'].apply(lambda x: x.split(', '))\n",
    "\n",
    "mlbTfIdfTrain = MultiLabelBinarizer()\n",
    "yTfIdfTrain = mlbTfIdfTrain.fit_transform(svd_result_df_train['Label'])\n",
    "yTfIdfTrain = pd.DataFrame(yTfIdfTrain, columns=mlbTfIdfTrain.classes_)\n",
    "\n",
    "XTfIdfTrain = svd_result_df_train_x\n",
    "\n",
    "# svd_result_df_test['Label'] = svd_result_df_test['Label'].apply(lambda x: x.split(', '))\n",
    "\n",
    "yTfIdfTest = mlbTfIdfTrain.transform(svd_result_df_test['Label'])\n",
    "yTfIdfTest = pd.DataFrame(yTfIdfTest, columns=mlbTfIdfTrain.classes_)\n",
    "\n",
    "XTfIdfTest = svd_result_df_test_x"
   ]
  },
  {
   "cell_type": "code",
   "execution_count": null,
   "id": "88127895",
   "metadata": {},
   "outputs": [],
   "source": [
    "import numpy as np\n",
    "from sklearn.neural_network import MLPClassifier\n",
    "from sklearn.model_selection import GridSearchCV, train_test_split\n",
    "from sklearn.metrics import classification_report\n",
    "from sklearn.preprocessing import StandardScaler\n",
    "from sklearn.pipeline import Pipeline\n",
    "from sklearn.multioutput import MultiOutputClassifier\n",
    "from imblearn.over_sampling import RandomOverSampler\n",
    "from sklearn.multioutput import ClassifierChain\n",
    "\n",
    "X_train = XTfIdfTrain\n",
    "X_test = XTfIdfTest\n",
    "y_train = yTfIdfTrain\n",
    "y_test = yTfIdfTest\n",
    "\n",
    "X_train, X_val, y_train, y_val = train_test_split(X_train, y_train, test_size=0.2, random_state=42)\n",
    "\n",
    "param_grid = {\n",
    "    'hidden_layer_sizes': [(256, 512)],\n",
    "    'activation': ['relu'],\n",
    "    'solver': ['adam'],\n",
    "    'alpha': [0.01],\n",
    "    'learning_rate': ['adaptive'],\n",
    "    'max_iter': [1000],\n",
    "    'batch_size': [200],\n",
    "    'momentum': [0.90],\n",
    "    'learning_rate_init': [0.002],\n",
    "}\n",
    "\n",
    "mlp = MLPClassifier()\n",
    "\n",
    "grid_search = GridSearchCV(estimator=mlp, param_grid=param_grid, n_jobs=-1, cv=3, scoring='f1_samples', verbose=1)\n",
    "grid_search.fit(X_val, y_val)\n",
    "\n",
    "results = grid_search.cv_results_\n",
    "for mean_score, params in zip(results['mean_test_score'], results['params']):\n",
    "    print(f\"Mean f1_samples score: {mean_score:.4f}\")\n",
    "    print(f\"Parameters: {params}\")\n",
    "    print()\n",
    "\n",
    "print(\"Лучшие параметры: \", grid_search.best_params_)\n",
    "\n",
    "best_mlp_params = grid_search.best_params_\n",
    "mlp_classifier = MLPClassifier(**best_mlp_params)\n",
    "\n",
    "pipeline = Pipeline([\n",
    "    ('scaler', StandardScaler()),\n",
    "    ('clf', ClassifierChain(mlp_classifier))\n",
    "])\n",
    "\n",
    "pipeline.fit(X_train, y_train)\n",
    "\n",
    "y_pred = pipeline.predict(X_test)\n",
    "\n",
    "print(\"Классификационный отчет:\\n\", classification_report(y_test, y_pred))\n"
   ]
  },
  {
   "cell_type": "markdown",
   "id": "3e2f5ad4",
   "metadata": {},
   "source": [
    "## Проверка качества на тестовом файле + sklearn"
   ]
  },
  {
   "cell_type": "code",
   "execution_count": 2,
   "id": "8ac17d61",
   "metadata": {},
   "outputs": [],
   "source": [
    "from sklearn.multioutput import MultiOutputClassifier\n",
    "from sklearn.svm import SVC\n",
    "from lightgbm import LGBMClassifier\n",
    "from sklearn.neural_network import MLPClassifier\n",
    "from sklearn.ensemble import BaggingClassifier, AdaBoostClassifier, StackingClassifier\n",
    "from sklearn.linear_model import LogisticRegression\n",
    "from sklearn.ensemble import RandomForestClassifier\n",
    "\n",
    "models = []\n",
    "# models.append(('SVM', MultiOutputClassifier(SVC(C=1.0,  # штраф за ошибки классификации\n",
    "#     kernel = 'rbf',  # радиально-базисная функция ядра\n",
    "#     gamma='scale'))))\n",
    "# models.append(('OvR_LGBM', MultiOutputClassifier(LGBMClassifier(n_estimators=25))))\n",
    "models.append(('MLP', MultiOutputClassifier(MLPClassifier(\n",
    "    hidden_layer_sizes = (256,512),\n",
    "    activation = 'relu',\n",
    "    solver = 'adam',\n",
    "    alpha = 0.01,\n",
    "    learning_rate = 'adaptive',\n",
    "    max_iter = 1000,\n",
    "    batch_size = 200,\n",
    "    momentum = 0.90,\n",
    "    learning_rate_init = 0.002))))\n",
    "# models.append(('Bagging', MultiOutputClassifier(BaggingClassifier(n_estimators=25))))\n",
    "# models.append(('OvR_AdaBoost', MultiOutputClassifier(AdaBoostClassifier(n_estimators=25))))\n",
    "# estimators = [\n",
    "#     ('lr', LogisticRegression(max_iter=1000)),\n",
    "#     ('rf', RandomForestClassifier(n_estimators=25))\n",
    "# ]\n",
    "# stacking = StackingClassifier(estimators=estimators, final_estimator=LogisticRegression())\n",
    "# models.append(('Stacking', MultiOutputClassifier(stacking)))\n",
    "\n",
    "\n",
    "# models.append(('Log_Reg', MultiOutputClassifier(LogisticRegression(\n",
    "#     penalty='l2',\n",
    "#     C=1.0,\n",
    "#     solver='lbfgs',\n",
    "#     max_iter=1000,\n",
    "#     class_weight='balanced'\n",
    "# ))))\n",
    "\n",
    "models.append(('SGD_LogLoss', MultiOutputClassifier(SGDClassifier(loss='log_loss', max_iter=100, learning_rate='constant', eta0=0.01, random_state=42))))\n",
    "# models.append(('LDA', MultiOutputClassifier(LinearDiscriminantAnalysis())))\n",
    "# models.append(('KNN', MultiOutputClassifier(KNeighborsClassifier())))\n",
    "# models.append(('TREE', MultiOutputClassifier(DecisionTreeClassifier())))\n",
    "# models.append(('NB', MultiOutputClassifier(GaussianNB())))\n",
    "# models.append(('RF', MultiOutputClassifier(RandomForestClassifier(n_estimators=25))))\n",
    "\n",
    "# models.append(('OvR_GBM', MultiOutputClassifier(GradientBoostingClassifier(n_estimators=25))))\n",
    "# models.append(('OvR_XGB', MultiOutputClassifier(XGBClassifier(n_estimators=25, eval_metric='logloss',))))\n",
    "# models.append(('OvR_CAT', MultiOutputClassifier(CatBoostClassifier(silent=True, n_estimators=25))))\n",
    "# models.append(('OvR_RF', MultiOutputClassifier(RandomForestClassifier(n_estimators=25))))"
   ]
  },
  {
   "cell_type": "code",
   "execution_count": 60,
   "id": "456dd88e",
   "metadata": {},
   "outputs": [],
   "source": [
    "def modelEval1(X_train=None, X_eval=None, y_train=None, y_eval=None,test_value=None,eval_id=[True,True,True,True],\n",
    "              n_fold=5,scoring='f1_micro'):\n",
    "    global lst_y_predict\n",
    "\n",
    "    print('Evaluation Function')\n",
    "    print(f'Cross Validation Activated, n_splits : {n_fold}, scoring metric: {scoring}')\n",
    "    \n",
    "    ''' 1. Split Train/Validate <DataFrame> Set Split '''\n",
    "#     X_train, X_eval, y_train, y_eval = train_test_split(vectors, labels, test_size=test_value, random_state=42)\n",
    "\n",
    "    ''' 2. All dataframe '''\n",
    "    \n",
    "    X_one = pd.concat([X_train,X_eval],axis=0)\n",
    "    y_one = pd.concat([y_train,y_eval],axis=0)\n",
    "\n",
    "    \n",
    "    ''' 4. Cross Validation, Training/Evaluation, one evaluation'''\n",
    "    lst_res = []; names = []; lst_train = []; lst_eval = []; lst_one = []; lst_res_mean = []; lst_y_predict = []\n",
    "    if(any(eval_id)):\n",
    "        for name, model in models:  # cycle through models & evaluate either cv or train/test\n",
    "            names.append(name)\n",
    "            \n",
    "            # Cross Validation Model on Training Se\n",
    "            if(eval_id[0]):\n",
    "                t0=time.time()\n",
    "                kfold = KFold(n_splits=n_fold)\n",
    "                cv_res = cross_val_score(model,X_train,y_train, cv=kfold, scoring=scoring)\n",
    "                t1 = time.time()\n",
    "                lst_res.append(cv_res)\n",
    "                tt1 = t1-t0 # total time for n_fold cross evaluation\n",
    "                \n",
    "            # Evaluate Fit Model on Training Data\n",
    "            t2 = time.time()\n",
    "            if(eval_id[1]):\n",
    "                t2 = time.time()\n",
    "                res = model.fit(X_train,y_train)\n",
    "                train_res = f1_score(res.predict(X_train),y_train, average='micro'); lst_train.append(train_res)\n",
    "            if(eval_id[2]):\n",
    "                if(eval_id[1] is False):  # If training hasn't been called yet\n",
    "                    res = model.fit(X_train,y_train)\n",
    "                eval_res = f1_score(res.predict(X_eval),y_eval, average='micro'); lst_eval.append(eval_res)\n",
    "                y_predict=model.predict(X_eval)\n",
    "                lst_y_predict.append(y_predict)\n",
    "            t3 = time.time()\n",
    "            tt2 = t3-t2 # total time for training/evaluation train/prediction\n",
    "            \n",
    "            # Evaluate model on entire dataset\n",
    "            if(eval_id[3]):\n",
    "                t4 = time.time()\n",
    "                res = model.fit(X_one,y_one)\n",
    "                one_res = f1_score(res.predict(X_one),y_one, average='micro'); lst_one.append(one_res)\n",
    "                t5 = time.time()\n",
    "                tt3 = t5-t4 # total time for training & evaluation on whole dataframe\n",
    "            \n",
    "            ''' [out] Verbal Outputs '''\n",
    "            # Cross Validation / Training / Evaluation Model Evaluation / Section Times\n",
    "            lst_res_mean.append(cv_res.mean())\n",
    "            fn1 = cv_res.mean(); fn2 = cv_res.std();\n",
    "            fn3 = train_res; fn4 = eval_res; fn5 = one_res\n",
    "            print(f\"{name} : {fn1:.3f}({fn2:.3f}) -> {tt1:.2f}s | {fn3:.3f} & {fn4:.3f} -> {tt2:.2f}s | {fn5:.3f} -> {tt3:.2}s\")\n",
    "    s0 = pd.Series(np.array(lst_res_mean),index=names)\n",
    "    s1 = pd.Series(np.array(lst_train),index=names)\n",
    "    s2 = pd.Series(np.array(lst_eval),index=names)\n",
    "    s3 = pd.Series(np.array(lst_one),index=names)\n",
    "    pdf = pd.concat([s0,s1,s2,s3],axis=1)\n",
    "    pdf.columns = ['cv_average','train','test','all']\n",
    "        \n",
    "    sns.set(style=\"whitegrid\")\n",
    "    fig,ax = plt.subplots(1,2,figsize=(15,4))\n",
    "    ax[0].set_title(f'{n_fold} Cross Validation Results')\n",
    "    sns.boxplot(data=lst_res, ax=ax[0], orient=\"v\",width=0.3)\n",
    "    ax[0].set_xticklabels(names, rotation=45, ha=\"right\", fontsize=10)\n",
    "    sns.stripplot(data=lst_res,ax=ax[0], orient='v',color=\".3\")\n",
    "    \n",
    "    sns.heatmap(pdf,ax=ax[1],annot=True,fmt='.3f',cmap='Blues')\n",
    "    ax[1].set_title('F1 Scores')\n",
    "    plt.show()"
   ]
  },
  {
   "cell_type": "markdown",
   "id": "aade620f-ac80-4c23-beb6-d1c1cb4bb3df",
   "metadata": {},
   "source": [
    "## Проверяем на готовой модели файл name"
   ]
  },
  {
   "cell_type": "code",
   "execution_count": 40,
   "id": "37d6542e",
   "metadata": {},
   "outputs": [],
   "source": [
    "df_fulltest = pd.read_pickle(\"./my_df/df_fulltest.pkl\")\n",
    "dffull_train = pd.read_pickle(\"./my_df/dffull_train.pkl\")"
   ]
  },
  {
   "cell_type": "code",
   "execution_count": 41,
   "id": "ea25615f",
   "metadata": {
    "scrolled": true
   },
   "outputs": [
    {
     "data": {
      "text/html": [
       "<div>\n",
       "<style scoped>\n",
       "    .dataframe tbody tr th:only-of-type {\n",
       "        vertical-align: middle;\n",
       "    }\n",
       "\n",
       "    .dataframe tbody tr th {\n",
       "        vertical-align: top;\n",
       "    }\n",
       "\n",
       "    .dataframe thead th {\n",
       "        text-align: right;\n",
       "    }\n",
       "</style>\n",
       "<table border=\"1\" class=\"dataframe\">\n",
       "  <thead>\n",
       "    <tr style=\"text-align: right;\">\n",
       "      <th></th>\n",
       "      <th>iddoc</th>\n",
       "      <th>name</th>\n",
       "      <th>organ</th>\n",
       "      <th>Label</th>\n",
       "      <th>trainnamevec</th>\n",
       "      <th>trainorganvec</th>\n",
       "      <th>vect</th>\n",
       "    </tr>\n",
       "  </thead>\n",
       "  <tbody>\n",
       "    <tr>\n",
       "      <th>430</th>\n",
       "      <td>1200127764</td>\n",
       "      <td>'ГОСТ Р 22.2.09-2015 Безопасность в чрезвычайн...</td>\n",
       "      <td>Росстандарт</td>\n",
       "      <td>Промышленная безопасность</td>\n",
       "      <td>[0.2855563, -0.21450047, -0.04713926, 0.273567...</td>\n",
       "      <td>[0.13282314, -0.109270625, 0.13190684, 0.15616...</td>\n",
       "      <td>[0.12172554, -0.13963664, 0.10546741, 0.116718...</td>\n",
       "    </tr>\n",
       "    <tr>\n",
       "      <th>588</th>\n",
       "      <td>1200194486</td>\n",
       "      <td>'ГОСТ Р 70511-2022 Оценка соответствия. Оценка...</td>\n",
       "      <td>Росстандарт</td>\n",
       "      <td>Оценка соответствия</td>\n",
       "      <td>[0.2104687, -0.2030449, 0.027465701, 0.1649854...</td>\n",
       "      <td>[0.13282314, -0.109270625, 0.13190684, 0.15616...</td>\n",
       "      <td>[-0.010893639, -0.074213706, 0.059765805, 0.22...</td>\n",
       "    </tr>\n",
       "    <tr>\n",
       "      <th>296</th>\n",
       "      <td>1200039301</td>\n",
       "      <td>'Методические рекомендации по разработке инстр...</td>\n",
       "      <td>Министерство труда и социального развития РФ</td>\n",
       "      <td>Охрана и безопасность труда</td>\n",
       "      <td>[0.19567186, -0.2711483, 0.031164335, 0.281890...</td>\n",
       "      <td>[0.43245092, -0.38509068, 0.28445598, -0.10898...</td>\n",
       "      <td>[0.11810719, -0.17636447, 0.10695609, -0.02466...</td>\n",
       "    </tr>\n",
       "    <tr>\n",
       "      <th>184</th>\n",
       "      <td>1200005469</td>\n",
       "      <td>'ГОСТ 8.411-81 Государственная система обеспеч...</td>\n",
       "      <td>Госстандарт СССР</td>\n",
       "      <td>Метрология</td>\n",
       "      <td>[0.15742917, -0.19496186, -0.0123731345, 0.238...</td>\n",
       "      <td>[0.14245707, -0.12429103, 0.122207195, 0.14406...</td>\n",
       "      <td>[-0.004232607, -0.107141346, 0.0384272, 0.2198...</td>\n",
       "    </tr>\n",
       "    <tr>\n",
       "      <th>244</th>\n",
       "      <td>1200014561</td>\n",
       "      <td>'ГОСТ 8.118-85 Государственная система обеспеч...</td>\n",
       "      <td>Госстандарт СССР</td>\n",
       "      <td>Метрология</td>\n",
       "      <td>[0.17407742, -0.1864671, 0.019858504, 0.308225...</td>\n",
       "      <td>[0.14245707, -0.12429103, 0.122207195, 0.14406...</td>\n",
       "      <td>[0.061051276, -0.1535358, 0.08718315, 0.086728...</td>\n",
       "    </tr>\n",
       "    <tr>\n",
       "      <th>...</th>\n",
       "      <td>...</td>\n",
       "      <td>...</td>\n",
       "      <td>...</td>\n",
       "      <td>...</td>\n",
       "      <td>...</td>\n",
       "      <td>...</td>\n",
       "      <td>...</td>\n",
       "    </tr>\n",
       "    <tr>\n",
       "      <th>1095</th>\n",
       "      <td>901742613</td>\n",
       "      <td>'Организация санитарно-гигиенического и дезинф...</td>\n",
       "      <td>Госкомсанэпиднадзор России</td>\n",
       "      <td>Санитарные нормы и правила</td>\n",
       "      <td>[0.2815536, -0.31136575, 0.14645906, 0.2368792...</td>\n",
       "      <td>[0.35630396, -0.18284945, 0.24060962, 0.133622...</td>\n",
       "      <td>[0.14924094, -0.16554461, 0.15193097, 0.001433...</td>\n",
       "    </tr>\n",
       "    <tr>\n",
       "      <th>1130</th>\n",
       "      <td>901868614</td>\n",
       "      <td>'О совершенствовании противотуберкулезных меро...</td>\n",
       "      <td>Минздрав России</td>\n",
       "      <td>Санитарные нормы и правила</td>\n",
       "      <td>[0.13238095, -0.17949449, -0.0809301, 0.450526...</td>\n",
       "      <td>[0.26503417, -0.13458908, 0.15122692, 0.060389...</td>\n",
       "      <td>[0.10679596, -0.10799509, 0.059806034, 0.02845...</td>\n",
       "    </tr>\n",
       "    <tr>\n",
       "      <th>1294</th>\n",
       "      <td>1200060936</td>\n",
       "      <td>'ГОСТ Р 12.4.239-2007 Система стандартов безоп...</td>\n",
       "      <td>Росстандарт</td>\n",
       "      <td>Охрана и безопасность труда</td>\n",
       "      <td>[0.17739098, -0.18805346, 0.092756666, 0.28207...</td>\n",
       "      <td>[0.13282314, -0.109270625, 0.13190684, 0.15616...</td>\n",
       "      <td>[0.051642727, -0.110040665, 0.043895114, 0.208...</td>\n",
       "    </tr>\n",
       "    <tr>\n",
       "      <th>860</th>\n",
       "      <td>499010049</td>\n",
       "      <td>'Об утверждении перечней учреждений, созданных...</td>\n",
       "      <td>МЧС России</td>\n",
       "      <td>Пожарная безопасность</td>\n",
       "      <td>[-0.0057764584, -0.018996404, -0.047635127, 0....</td>\n",
       "      <td>[0.31532097, -0.18113564, 0.19666392, 0.043992...</td>\n",
       "      <td>[0.23697138, -0.15449947, 0.079502665, 0.05008...</td>\n",
       "    </tr>\n",
       "    <tr>\n",
       "      <th>1126</th>\n",
       "      <td>901865885</td>\n",
       "      <td>'Об утверждении Положения о проведении эксперт...</td>\n",
       "      <td>Госгортехнадзор России#-</td>\n",
       "      <td>Промышленная безопасность</td>\n",
       "      <td>[-0.03972371, 0.011717104, -0.19522403, 0.5652...</td>\n",
       "      <td>[0.16725785, -0.06372521, 0.16240185, 0.314985...</td>\n",
       "      <td>[0.16143481, -0.13953254, 0.07038431, 0.119810...</td>\n",
       "    </tr>\n",
       "  </tbody>\n",
       "</table>\n",
       "<p>1371 rows × 7 columns</p>\n",
       "</div>"
      ],
      "text/plain": [
       "           iddoc                                               name  \\\n",
       "430   1200127764  'ГОСТ Р 22.2.09-2015 Безопасность в чрезвычайн...   \n",
       "588   1200194486  'ГОСТ Р 70511-2022 Оценка соответствия. Оценка...   \n",
       "296   1200039301  'Методические рекомендации по разработке инстр...   \n",
       "184   1200005469  'ГОСТ 8.411-81 Государственная система обеспеч...   \n",
       "244   1200014561  'ГОСТ 8.118-85 Государственная система обеспеч...   \n",
       "...          ...                                                ...   \n",
       "1095   901742613  'Организация санитарно-гигиенического и дезинф...   \n",
       "1130   901868614  'О совершенствовании противотуберкулезных меро...   \n",
       "1294  1200060936  'ГОСТ Р 12.4.239-2007 Система стандартов безоп...   \n",
       "860    499010049  'Об утверждении перечней учреждений, созданных...   \n",
       "1126   901865885  'Об утверждении Положения о проведении эксперт...   \n",
       "\n",
       "                                             organ  \\\n",
       "430                                    Росстандарт   \n",
       "588                                    Росстандарт   \n",
       "296   Министерство труда и социального развития РФ   \n",
       "184                               Госстандарт СССР   \n",
       "244                               Госстандарт СССР   \n",
       "...                                            ...   \n",
       "1095                    Госкомсанэпиднадзор России   \n",
       "1130                               Минздрав России   \n",
       "1294                                   Росстандарт   \n",
       "860                                     МЧС России   \n",
       "1126                      Госгортехнадзор России#-   \n",
       "\n",
       "                            Label  \\\n",
       "430     Промышленная безопасность   \n",
       "588           Оценка соответствия   \n",
       "296   Охрана и безопасность труда   \n",
       "184                    Метрология   \n",
       "244                    Метрология   \n",
       "...                           ...   \n",
       "1095   Санитарные нормы и правила   \n",
       "1130   Санитарные нормы и правила   \n",
       "1294  Охрана и безопасность труда   \n",
       "860         Пожарная безопасность   \n",
       "1126    Промышленная безопасность   \n",
       "\n",
       "                                           trainnamevec  \\\n",
       "430   [0.2855563, -0.21450047, -0.04713926, 0.273567...   \n",
       "588   [0.2104687, -0.2030449, 0.027465701, 0.1649854...   \n",
       "296   [0.19567186, -0.2711483, 0.031164335, 0.281890...   \n",
       "184   [0.15742917, -0.19496186, -0.0123731345, 0.238...   \n",
       "244   [0.17407742, -0.1864671, 0.019858504, 0.308225...   \n",
       "...                                                 ...   \n",
       "1095  [0.2815536, -0.31136575, 0.14645906, 0.2368792...   \n",
       "1130  [0.13238095, -0.17949449, -0.0809301, 0.450526...   \n",
       "1294  [0.17739098, -0.18805346, 0.092756666, 0.28207...   \n",
       "860   [-0.0057764584, -0.018996404, -0.047635127, 0....   \n",
       "1126  [-0.03972371, 0.011717104, -0.19522403, 0.5652...   \n",
       "\n",
       "                                          trainorganvec  \\\n",
       "430   [0.13282314, -0.109270625, 0.13190684, 0.15616...   \n",
       "588   [0.13282314, -0.109270625, 0.13190684, 0.15616...   \n",
       "296   [0.43245092, -0.38509068, 0.28445598, -0.10898...   \n",
       "184   [0.14245707, -0.12429103, 0.122207195, 0.14406...   \n",
       "244   [0.14245707, -0.12429103, 0.122207195, 0.14406...   \n",
       "...                                                 ...   \n",
       "1095  [0.35630396, -0.18284945, 0.24060962, 0.133622...   \n",
       "1130  [0.26503417, -0.13458908, 0.15122692, 0.060389...   \n",
       "1294  [0.13282314, -0.109270625, 0.13190684, 0.15616...   \n",
       "860   [0.31532097, -0.18113564, 0.19666392, 0.043992...   \n",
       "1126  [0.16725785, -0.06372521, 0.16240185, 0.314985...   \n",
       "\n",
       "                                                   vect  \n",
       "430   [0.12172554, -0.13963664, 0.10546741, 0.116718...  \n",
       "588   [-0.010893639, -0.074213706, 0.059765805, 0.22...  \n",
       "296   [0.11810719, -0.17636447, 0.10695609, -0.02466...  \n",
       "184   [-0.004232607, -0.107141346, 0.0384272, 0.2198...  \n",
       "244   [0.061051276, -0.1535358, 0.08718315, 0.086728...  \n",
       "...                                                 ...  \n",
       "1095  [0.14924094, -0.16554461, 0.15193097, 0.001433...  \n",
       "1130  [0.10679596, -0.10799509, 0.059806034, 0.02845...  \n",
       "1294  [0.051642727, -0.110040665, 0.043895114, 0.208...  \n",
       "860   [0.23697138, -0.15449947, 0.079502665, 0.05008...  \n",
       "1126  [0.16143481, -0.13953254, 0.07038431, 0.119810...  \n",
       "\n",
       "[1371 rows x 7 columns]"
      ]
     },
     "execution_count": 41,
     "metadata": {},
     "output_type": "execute_result"
    }
   ],
   "source": [
    "from sklearn.utils import shuffle\n",
    "\n",
    "df_fulltest= shuffle(df_fulltest, random_state=42)\n",
    "dffull_train= shuffle(dffull_train, random_state=42)\n",
    "dffull_train"
   ]
  },
  {
   "cell_type": "code",
   "execution_count": 42,
   "id": "052a7752-8cf7-44bc-9549-71408bd29b90",
   "metadata": {},
   "outputs": [
    {
     "data": {
      "text/html": [
       "<div>\n",
       "<style scoped>\n",
       "    .dataframe tbody tr th:only-of-type {\n",
       "        vertical-align: middle;\n",
       "    }\n",
       "\n",
       "    .dataframe tbody tr th {\n",
       "        vertical-align: top;\n",
       "    }\n",
       "\n",
       "    .dataframe thead th {\n",
       "        text-align: right;\n",
       "    }\n",
       "</style>\n",
       "<table border=\"1\" class=\"dataframe\">\n",
       "  <thead>\n",
       "    <tr style=\"text-align: right;\">\n",
       "      <th></th>\n",
       "      <th>iddoc</th>\n",
       "      <th>pooler_output_avg</th>\n",
       "    </tr>\n",
       "  </thead>\n",
       "  <tbody>\n",
       "    <tr>\n",
       "      <th>0</th>\n",
       "      <td>140004</td>\n",
       "      <td>[0.3533614, -0.24332023, 0.05609652, 0.1153601...</td>\n",
       "    </tr>\n",
       "    <tr>\n",
       "      <th>1</th>\n",
       "      <td>140005</td>\n",
       "      <td>[0.32593527, -0.23999172, 0.28076676, 0.152409...</td>\n",
       "    </tr>\n",
       "    <tr>\n",
       "      <th>2</th>\n",
       "      <td>190074</td>\n",
       "      <td>[0.08047133, -0.039777726, 0.06488275, 0.35665...</td>\n",
       "    </tr>\n",
       "    <tr>\n",
       "      <th>3</th>\n",
       "      <td>190084</td>\n",
       "      <td>[0.39877644, -0.37896392, 0.3478066, -0.059260...</td>\n",
       "    </tr>\n",
       "    <tr>\n",
       "      <th>4</th>\n",
       "      <td>190105</td>\n",
       "      <td>[0.15064745, -0.27369267, 0.13626704, 0.016533...</td>\n",
       "    </tr>\n",
       "    <tr>\n",
       "      <th>...</th>\n",
       "      <td>...</td>\n",
       "      <td>...</td>\n",
       "    </tr>\n",
       "    <tr>\n",
       "      <th>9689</th>\n",
       "      <td>130668748</td>\n",
       "      <td>[0.22188985, -0.40385714, 0.18229052, -0.12515...</td>\n",
       "    </tr>\n",
       "    <tr>\n",
       "      <th>9690</th>\n",
       "      <td>130671048</td>\n",
       "      <td>[0.06462571, -0.029448021, 0.19465742, 0.20484...</td>\n",
       "    </tr>\n",
       "    <tr>\n",
       "      <th>9691</th>\n",
       "      <td>130674299</td>\n",
       "      <td>[0.14669056, -0.11798106, 0.15181158, 0.096872...</td>\n",
       "    </tr>\n",
       "    <tr>\n",
       "      <th>9692</th>\n",
       "      <td>130676021</td>\n",
       "      <td>[0.038171273, -0.004897422, 0.039102685, 0.258...</td>\n",
       "    </tr>\n",
       "    <tr>\n",
       "      <th>9693</th>\n",
       "      <td>130676021</td>\n",
       "      <td>[0.22256109, -0.23866361, 0.16280305, 0.233732...</td>\n",
       "    </tr>\n",
       "  </tbody>\n",
       "</table>\n",
       "<p>9694 rows × 2 columns</p>\n",
       "</div>"
      ],
      "text/plain": [
       "          iddoc                                  pooler_output_avg\n",
       "0        140004  [0.3533614, -0.24332023, 0.05609652, 0.1153601...\n",
       "1        140005  [0.32593527, -0.23999172, 0.28076676, 0.152409...\n",
       "2        190074  [0.08047133, -0.039777726, 0.06488275, 0.35665...\n",
       "3        190084  [0.39877644, -0.37896392, 0.3478066, -0.059260...\n",
       "4        190105  [0.15064745, -0.27369267, 0.13626704, 0.016533...\n",
       "...         ...                                                ...\n",
       "9689  130668748  [0.22188985, -0.40385714, 0.18229052, -0.12515...\n",
       "9690  130671048  [0.06462571, -0.029448021, 0.19465742, 0.20484...\n",
       "9691  130674299  [0.14669056, -0.11798106, 0.15181158, 0.096872...\n",
       "9692  130676021  [0.038171273, -0.004897422, 0.039102685, 0.258...\n",
       "9693  130676021  [0.22256109, -0.23866361, 0.16280305, 0.233732...\n",
       "\n",
       "[9694 rows x 2 columns]"
      ]
     },
     "execution_count": 42,
     "metadata": {},
     "output_type": "execute_result"
    }
   ],
   "source": [
    "trainmynameavg = pd.read_pickle(\"./my_df2/trainmyname1avg.pkl\")\n",
    "trainmynameavg['pooler_output_avg'] = trainmynameavg['pooler_output_avg'].apply(lambda x: x.reshape(768))\n",
    "trainmynameavg = trainmynameavg.reset_index(drop=True)\n",
    "trainmynameavg\n"
   ]
  },
  {
   "cell_type": "code",
   "execution_count": 43,
   "id": "18dc477f-3467-4b9a-b2dd-da2ce848cfd6",
   "metadata": {
    "scrolled": true
   },
   "outputs": [],
   "source": [
    "# import numpy as np\n",
    "# import pandas as pd\n",
    "# from sklearn.decomposition import PCA\n",
    "# import matplotlib.pyplot as plt\n",
    "\n",
    "# pca2 = PCA(n_components=100)\n",
    "# XnameTrain_pca = pca2.fit_transform(XtransformerTest)\n",
    "\n",
    "# explained_variance_ratio = pca2.explained_variance_ratio_\n",
    "\n",
    "# cumulative_variance = np.cumsum(explained_variance_ratio)\n",
    "\n",
    "# for i, (var, cum_var) in enumerate(zip(explained_variance_ratio, cumulative_variance)):\n",
    "#     print(f\"Component {i+1}: Explained Variance = {var:.4f}, Cumulative Explained Variance = {cum_var:.4f}\")"
   ]
  },
  {
   "cell_type": "code",
   "execution_count": 44,
   "id": "d6db3372-aba8-423b-b390-ff1b7d4befc7",
   "metadata": {},
   "outputs": [],
   "source": [
    "# XtransformerTest = pca2.transform(XtransformerTest)"
   ]
  },
  {
   "cell_type": "code",
   "execution_count": 45,
   "id": "d354b7e9",
   "metadata": {},
   "outputs": [],
   "source": [
    "dffull_train_x = dffull_train.drop('Label', axis=1)\n",
    "df_fulltest_x = df_fulltest.drop('Label', axis=1)"
   ]
  },
  {
   "cell_type": "code",
   "execution_count": 46,
   "id": "80ffa9f7-bb94-4f2b-8e79-90753e2ba012",
   "metadata": {
    "scrolled": true
   },
   "outputs": [
    {
     "data": {
      "text/html": [
       "<div>\n",
       "<style scoped>\n",
       "    .dataframe tbody tr th:only-of-type {\n",
       "        vertical-align: middle;\n",
       "    }\n",
       "\n",
       "    .dataframe tbody tr th {\n",
       "        vertical-align: top;\n",
       "    }\n",
       "\n",
       "    .dataframe thead th {\n",
       "        text-align: right;\n",
       "    }\n",
       "</style>\n",
       "<table border=\"1\" class=\"dataframe\">\n",
       "  <thead>\n",
       "    <tr style=\"text-align: right;\">\n",
       "      <th></th>\n",
       "      <th>iddoc</th>\n",
       "      <th>name</th>\n",
       "      <th>organ</th>\n",
       "      <th>trainnamevec</th>\n",
       "      <th>trainorganvec</th>\n",
       "      <th>vect</th>\n",
       "    </tr>\n",
       "  </thead>\n",
       "  <tbody>\n",
       "    <tr>\n",
       "      <th>430</th>\n",
       "      <td>1200127764</td>\n",
       "      <td>'ГОСТ Р 22.2.09-2015 Безопасность в чрезвычайн...</td>\n",
       "      <td>Росстандарт</td>\n",
       "      <td>[0.2855563, -0.21450047, -0.04713926, 0.273567...</td>\n",
       "      <td>[0.13282314, -0.109270625, 0.13190684, 0.15616...</td>\n",
       "      <td>[0.12172554, -0.13963664, 0.10546741, 0.116718...</td>\n",
       "    </tr>\n",
       "    <tr>\n",
       "      <th>588</th>\n",
       "      <td>1200194486</td>\n",
       "      <td>'ГОСТ Р 70511-2022 Оценка соответствия. Оценка...</td>\n",
       "      <td>Росстандарт</td>\n",
       "      <td>[0.2104687, -0.2030449, 0.027465701, 0.1649854...</td>\n",
       "      <td>[0.13282314, -0.109270625, 0.13190684, 0.15616...</td>\n",
       "      <td>[-0.010893639, -0.074213706, 0.059765805, 0.22...</td>\n",
       "    </tr>\n",
       "    <tr>\n",
       "      <th>296</th>\n",
       "      <td>1200039301</td>\n",
       "      <td>'Методические рекомендации по разработке инстр...</td>\n",
       "      <td>Министерство труда и социального развития РФ</td>\n",
       "      <td>[0.19567186, -0.2711483, 0.031164335, 0.281890...</td>\n",
       "      <td>[0.43245092, -0.38509068, 0.28445598, -0.10898...</td>\n",
       "      <td>[0.11810719, -0.17636447, 0.10695609, -0.02466...</td>\n",
       "    </tr>\n",
       "    <tr>\n",
       "      <th>184</th>\n",
       "      <td>1200005469</td>\n",
       "      <td>'ГОСТ 8.411-81 Государственная система обеспеч...</td>\n",
       "      <td>Госстандарт СССР</td>\n",
       "      <td>[0.15742917, -0.19496186, -0.0123731345, 0.238...</td>\n",
       "      <td>[0.14245707, -0.12429103, 0.122207195, 0.14406...</td>\n",
       "      <td>[-0.004232607, -0.107141346, 0.0384272, 0.2198...</td>\n",
       "    </tr>\n",
       "    <tr>\n",
       "      <th>244</th>\n",
       "      <td>1200014561</td>\n",
       "      <td>'ГОСТ 8.118-85 Государственная система обеспеч...</td>\n",
       "      <td>Госстандарт СССР</td>\n",
       "      <td>[0.17407742, -0.1864671, 0.019858504, 0.308225...</td>\n",
       "      <td>[0.14245707, -0.12429103, 0.122207195, 0.14406...</td>\n",
       "      <td>[0.061051276, -0.1535358, 0.08718315, 0.086728...</td>\n",
       "    </tr>\n",
       "    <tr>\n",
       "      <th>...</th>\n",
       "      <td>...</td>\n",
       "      <td>...</td>\n",
       "      <td>...</td>\n",
       "      <td>...</td>\n",
       "      <td>...</td>\n",
       "      <td>...</td>\n",
       "    </tr>\n",
       "    <tr>\n",
       "      <th>1095</th>\n",
       "      <td>901742613</td>\n",
       "      <td>'Организация санитарно-гигиенического и дезинф...</td>\n",
       "      <td>Госкомсанэпиднадзор России</td>\n",
       "      <td>[0.2815536, -0.31136575, 0.14645906, 0.2368792...</td>\n",
       "      <td>[0.35630396, -0.18284945, 0.24060962, 0.133622...</td>\n",
       "      <td>[0.14924094, -0.16554461, 0.15193097, 0.001433...</td>\n",
       "    </tr>\n",
       "    <tr>\n",
       "      <th>1130</th>\n",
       "      <td>901868614</td>\n",
       "      <td>'О совершенствовании противотуберкулезных меро...</td>\n",
       "      <td>Минздрав России</td>\n",
       "      <td>[0.13238095, -0.17949449, -0.0809301, 0.450526...</td>\n",
       "      <td>[0.26503417, -0.13458908, 0.15122692, 0.060389...</td>\n",
       "      <td>[0.10679596, -0.10799509, 0.059806034, 0.02845...</td>\n",
       "    </tr>\n",
       "    <tr>\n",
       "      <th>1294</th>\n",
       "      <td>1200060936</td>\n",
       "      <td>'ГОСТ Р 12.4.239-2007 Система стандартов безоп...</td>\n",
       "      <td>Росстандарт</td>\n",
       "      <td>[0.17739098, -0.18805346, 0.092756666, 0.28207...</td>\n",
       "      <td>[0.13282314, -0.109270625, 0.13190684, 0.15616...</td>\n",
       "      <td>[0.051642727, -0.110040665, 0.043895114, 0.208...</td>\n",
       "    </tr>\n",
       "    <tr>\n",
       "      <th>860</th>\n",
       "      <td>499010049</td>\n",
       "      <td>'Об утверждении перечней учреждений, созданных...</td>\n",
       "      <td>МЧС России</td>\n",
       "      <td>[-0.0057764584, -0.018996404, -0.047635127, 0....</td>\n",
       "      <td>[0.31532097, -0.18113564, 0.19666392, 0.043992...</td>\n",
       "      <td>[0.23697138, -0.15449947, 0.079502665, 0.05008...</td>\n",
       "    </tr>\n",
       "    <tr>\n",
       "      <th>1126</th>\n",
       "      <td>901865885</td>\n",
       "      <td>'Об утверждении Положения о проведении эксперт...</td>\n",
       "      <td>Госгортехнадзор России#-</td>\n",
       "      <td>[-0.03972371, 0.011717104, -0.19522403, 0.5652...</td>\n",
       "      <td>[0.16725785, -0.06372521, 0.16240185, 0.314985...</td>\n",
       "      <td>[0.16143481, -0.13953254, 0.07038431, 0.119810...</td>\n",
       "    </tr>\n",
       "  </tbody>\n",
       "</table>\n",
       "<p>1371 rows × 6 columns</p>\n",
       "</div>"
      ],
      "text/plain": [
       "           iddoc                                               name  \\\n",
       "430   1200127764  'ГОСТ Р 22.2.09-2015 Безопасность в чрезвычайн...   \n",
       "588   1200194486  'ГОСТ Р 70511-2022 Оценка соответствия. Оценка...   \n",
       "296   1200039301  'Методические рекомендации по разработке инстр...   \n",
       "184   1200005469  'ГОСТ 8.411-81 Государственная система обеспеч...   \n",
       "244   1200014561  'ГОСТ 8.118-85 Государственная система обеспеч...   \n",
       "...          ...                                                ...   \n",
       "1095   901742613  'Организация санитарно-гигиенического и дезинф...   \n",
       "1130   901868614  'О совершенствовании противотуберкулезных меро...   \n",
       "1294  1200060936  'ГОСТ Р 12.4.239-2007 Система стандартов безоп...   \n",
       "860    499010049  'Об утверждении перечней учреждений, созданных...   \n",
       "1126   901865885  'Об утверждении Положения о проведении эксперт...   \n",
       "\n",
       "                                             organ  \\\n",
       "430                                    Росстандарт   \n",
       "588                                    Росстандарт   \n",
       "296   Министерство труда и социального развития РФ   \n",
       "184                               Госстандарт СССР   \n",
       "244                               Госстандарт СССР   \n",
       "...                                            ...   \n",
       "1095                    Госкомсанэпиднадзор России   \n",
       "1130                               Минздрав России   \n",
       "1294                                   Росстандарт   \n",
       "860                                     МЧС России   \n",
       "1126                      Госгортехнадзор России#-   \n",
       "\n",
       "                                           trainnamevec  \\\n",
       "430   [0.2855563, -0.21450047, -0.04713926, 0.273567...   \n",
       "588   [0.2104687, -0.2030449, 0.027465701, 0.1649854...   \n",
       "296   [0.19567186, -0.2711483, 0.031164335, 0.281890...   \n",
       "184   [0.15742917, -0.19496186, -0.0123731345, 0.238...   \n",
       "244   [0.17407742, -0.1864671, 0.019858504, 0.308225...   \n",
       "...                                                 ...   \n",
       "1095  [0.2815536, -0.31136575, 0.14645906, 0.2368792...   \n",
       "1130  [0.13238095, -0.17949449, -0.0809301, 0.450526...   \n",
       "1294  [0.17739098, -0.18805346, 0.092756666, 0.28207...   \n",
       "860   [-0.0057764584, -0.018996404, -0.047635127, 0....   \n",
       "1126  [-0.03972371, 0.011717104, -0.19522403, 0.5652...   \n",
       "\n",
       "                                          trainorganvec  \\\n",
       "430   [0.13282314, -0.109270625, 0.13190684, 0.15616...   \n",
       "588   [0.13282314, -0.109270625, 0.13190684, 0.15616...   \n",
       "296   [0.43245092, -0.38509068, 0.28445598, -0.10898...   \n",
       "184   [0.14245707, -0.12429103, 0.122207195, 0.14406...   \n",
       "244   [0.14245707, -0.12429103, 0.122207195, 0.14406...   \n",
       "...                                                 ...   \n",
       "1095  [0.35630396, -0.18284945, 0.24060962, 0.133622...   \n",
       "1130  [0.26503417, -0.13458908, 0.15122692, 0.060389...   \n",
       "1294  [0.13282314, -0.109270625, 0.13190684, 0.15616...   \n",
       "860   [0.31532097, -0.18113564, 0.19666392, 0.043992...   \n",
       "1126  [0.16725785, -0.06372521, 0.16240185, 0.314985...   \n",
       "\n",
       "                                                   vect  \n",
       "430   [0.12172554, -0.13963664, 0.10546741, 0.116718...  \n",
       "588   [-0.010893639, -0.074213706, 0.059765805, 0.22...  \n",
       "296   [0.11810719, -0.17636447, 0.10695609, -0.02466...  \n",
       "184   [-0.004232607, -0.107141346, 0.0384272, 0.2198...  \n",
       "244   [0.061051276, -0.1535358, 0.08718315, 0.086728...  \n",
       "...                                                 ...  \n",
       "1095  [0.14924094, -0.16554461, 0.15193097, 0.001433...  \n",
       "1130  [0.10679596, -0.10799509, 0.059806034, 0.02845...  \n",
       "1294  [0.051642727, -0.110040665, 0.043895114, 0.208...  \n",
       "860   [0.23697138, -0.15449947, 0.079502665, 0.05008...  \n",
       "1126  [0.16143481, -0.13953254, 0.07038431, 0.119810...  \n",
       "\n",
       "[1371 rows x 6 columns]"
      ]
     },
     "execution_count": 46,
     "metadata": {},
     "output_type": "execute_result"
    }
   ],
   "source": [
    "dffull_train_x"
   ]
  },
  {
   "cell_type": "code",
   "execution_count": 47,
   "id": "30d1564c",
   "metadata": {},
   "outputs": [],
   "source": [
    "# from sklearn.decomposition import PCA\n",
    "# pca = PCA(n_components=20)  # Уменьшаем до 100 компонент\n"
   ]
  },
  {
   "cell_type": "code",
   "execution_count": 48,
   "id": "9e79a4a4",
   "metadata": {
    "scrolled": true
   },
   "outputs": [],
   "source": [
    "# import numpy as np\n",
    "# import pandas as pd\n",
    "# from sklearn.decomposition import PCA\n",
    "# import matplotlib.pyplot as plt\n",
    "\n",
    "# pca = PCA(n_components=5)\n",
    "# XnameTrain_pca = pca.fit_transform(XnameTrain)\n",
    "\n",
    "# explained_variance_ratio = pca.explained_variance_ratio_\n",
    "\n",
    "# cumulative_variance = np.cumsum(explained_variance_ratio)\n",
    "\n",
    "# for i, (var, cum_var) in enumerate(zip(explained_variance_ratio, cumulative_variance)):\n",
    "#     print(f\"Component {i+1}: Explained Variance = {var:.4f}, Cumulative Explained Variance = {cum_var:.4f}\")\n",
    "\n",
    "# plt.figure(figsize=(10, 6))\n",
    "# plt.bar(range(1, len(explained_variance_ratio) + 1), explained_variance_ratio, alpha=0.6, align='center', label='Individual explained variance')\n",
    "# plt.step(range(1, len(cumulative_variance) + 1), cumulative_variance, where='mid', label='Cumulative explained variance')\n",
    "# plt.xlabel('Principal Components')\n",
    "# plt.ylabel('Explained Variance Ratio')\n",
    "# plt.legend(loc='best')\n",
    "# plt.tight_layout()\n",
    "# plt.show()\n"
   ]
  },
  {
   "cell_type": "code",
   "execution_count": 49,
   "id": "fe8e507e",
   "metadata": {},
   "outputs": [],
   "source": [
    "dffull_train['Label'] = dffull_train['Label'].apply(lambda x: x.split(', '))\n",
    "\n",
    "mlbtransformerTrain = MultiLabelBinarizer()\n",
    "ytransformerTrain = mlbtransformerTrain.fit_transform(dffull_train['Label'])\n",
    "ytransformerTrain = pd.DataFrame(ytransformerTrain, columns=mlbtransformerTrain.classes_)\n",
    "\n",
    "# freq_encoding_train = dffull_train['organ'].value_counts(normalize=True)\n",
    "# dffull_train['xfull_organ_encoded'] = dffull_train['organ'].map(freq_encoding_train)\n",
    "# XorganTrain = dffull_train[['xfull_organ_encoded']]\n",
    "# XorganTrain = pd.DataFrame(dffull_train_x['trainorganvec'].tolist())\n",
    "# Преобразуем 'vect' в DataFrame\n",
    "# XnameTrain = pd.DataFrame(dffull_train_x['trainnamevec'].tolist())\n",
    "# XnameTrain = pca.fit_transform(XnameTrain)\n",
    "# XnameTrain = pd.DataFrame(XnameTrain)\n",
    "\n",
    "XvectTrain = pd.DataFrame(dffull_train_x['vect'].tolist())\n",
    "\n",
    "\n",
    "# Объединяем векторный и числовой признаки\n",
    "# XvectTrain[768] = XorganTrain['xfull_organ_encoded']\n",
    "# XtransformerTrain = pd.concat([XvectTrain,XnameTrain], axis=1)\n",
    "XtransformerTrain = XvectTrain"
   ]
  },
  {
   "cell_type": "code",
   "execution_count": 25,
   "id": "4d3ae248-2e40-476c-8fe8-2dcade1dd9e0",
   "metadata": {},
   "outputs": [
    {
     "data": {
      "text/html": [
       "<div>\n",
       "<style scoped>\n",
       "    .dataframe tbody tr th:only-of-type {\n",
       "        vertical-align: middle;\n",
       "    }\n",
       "\n",
       "    .dataframe tbody tr th {\n",
       "        vertical-align: top;\n",
       "    }\n",
       "\n",
       "    .dataframe thead th {\n",
       "        text-align: right;\n",
       "    }\n",
       "</style>\n",
       "<table border=\"1\" class=\"dataframe\">\n",
       "  <thead>\n",
       "    <tr style=\"text-align: right;\">\n",
       "      <th></th>\n",
       "      <th>0</th>\n",
       "      <th>1</th>\n",
       "      <th>2</th>\n",
       "      <th>3</th>\n",
       "      <th>4</th>\n",
       "      <th>5</th>\n",
       "      <th>6</th>\n",
       "      <th>7</th>\n",
       "      <th>8</th>\n",
       "      <th>9</th>\n",
       "      <th>...</th>\n",
       "      <th>758</th>\n",
       "      <th>759</th>\n",
       "      <th>760</th>\n",
       "      <th>761</th>\n",
       "      <th>762</th>\n",
       "      <th>763</th>\n",
       "      <th>764</th>\n",
       "      <th>765</th>\n",
       "      <th>766</th>\n",
       "      <th>767</th>\n",
       "    </tr>\n",
       "  </thead>\n",
       "  <tbody>\n",
       "    <tr>\n",
       "      <th>0</th>\n",
       "      <td>0.121726</td>\n",
       "      <td>-0.139637</td>\n",
       "      <td>0.105467</td>\n",
       "      <td>0.116718</td>\n",
       "      <td>-0.138442</td>\n",
       "      <td>0.171796</td>\n",
       "      <td>0.086891</td>\n",
       "      <td>0.247419</td>\n",
       "      <td>-0.196890</td>\n",
       "      <td>0.244275</td>\n",
       "      <td>...</td>\n",
       "      <td>0.239344</td>\n",
       "      <td>0.162732</td>\n",
       "      <td>0.172720</td>\n",
       "      <td>0.607553</td>\n",
       "      <td>0.198131</td>\n",
       "      <td>0.164274</td>\n",
       "      <td>0.163796</td>\n",
       "      <td>-0.140672</td>\n",
       "      <td>0.171242</td>\n",
       "      <td>0.087659</td>\n",
       "    </tr>\n",
       "    <tr>\n",
       "      <th>1</th>\n",
       "      <td>-0.010894</td>\n",
       "      <td>-0.074214</td>\n",
       "      <td>0.059766</td>\n",
       "      <td>0.223222</td>\n",
       "      <td>0.003726</td>\n",
       "      <td>0.154238</td>\n",
       "      <td>0.019068</td>\n",
       "      <td>0.156855</td>\n",
       "      <td>-0.063713</td>\n",
       "      <td>0.147598</td>\n",
       "      <td>...</td>\n",
       "      <td>0.177975</td>\n",
       "      <td>0.221565</td>\n",
       "      <td>0.161663</td>\n",
       "      <td>0.416273</td>\n",
       "      <td>0.165902</td>\n",
       "      <td>0.188105</td>\n",
       "      <td>0.111185</td>\n",
       "      <td>0.024148</td>\n",
       "      <td>0.138927</td>\n",
       "      <td>0.027045</td>\n",
       "    </tr>\n",
       "    <tr>\n",
       "      <th>2</th>\n",
       "      <td>0.118107</td>\n",
       "      <td>-0.176364</td>\n",
       "      <td>0.106956</td>\n",
       "      <td>-0.024669</td>\n",
       "      <td>-0.089009</td>\n",
       "      <td>0.271752</td>\n",
       "      <td>0.141189</td>\n",
       "      <td>0.233489</td>\n",
       "      <td>-0.222650</td>\n",
       "      <td>0.281777</td>\n",
       "      <td>...</td>\n",
       "      <td>0.278163</td>\n",
       "      <td>0.205149</td>\n",
       "      <td>0.192192</td>\n",
       "      <td>0.719188</td>\n",
       "      <td>0.201962</td>\n",
       "      <td>0.262751</td>\n",
       "      <td>0.164834</td>\n",
       "      <td>-0.071327</td>\n",
       "      <td>0.170451</td>\n",
       "      <td>0.135198</td>\n",
       "    </tr>\n",
       "    <tr>\n",
       "      <th>3</th>\n",
       "      <td>-0.004233</td>\n",
       "      <td>-0.107141</td>\n",
       "      <td>0.038427</td>\n",
       "      <td>0.219802</td>\n",
       "      <td>-0.077852</td>\n",
       "      <td>0.192271</td>\n",
       "      <td>-0.011471</td>\n",
       "      <td>0.254946</td>\n",
       "      <td>-0.064583</td>\n",
       "      <td>0.198149</td>\n",
       "      <td>...</td>\n",
       "      <td>0.188420</td>\n",
       "      <td>0.138761</td>\n",
       "      <td>0.173365</td>\n",
       "      <td>0.473599</td>\n",
       "      <td>0.120555</td>\n",
       "      <td>0.117501</td>\n",
       "      <td>0.165556</td>\n",
       "      <td>-0.065006</td>\n",
       "      <td>0.169420</td>\n",
       "      <td>0.075558</td>\n",
       "    </tr>\n",
       "    <tr>\n",
       "      <th>4</th>\n",
       "      <td>0.061051</td>\n",
       "      <td>-0.153536</td>\n",
       "      <td>0.087183</td>\n",
       "      <td>0.086729</td>\n",
       "      <td>-0.162839</td>\n",
       "      <td>0.279136</td>\n",
       "      <td>0.062300</td>\n",
       "      <td>0.309271</td>\n",
       "      <td>-0.167022</td>\n",
       "      <td>0.296705</td>\n",
       "      <td>...</td>\n",
       "      <td>0.230675</td>\n",
       "      <td>0.229146</td>\n",
       "      <td>0.222634</td>\n",
       "      <td>0.695143</td>\n",
       "      <td>0.189551</td>\n",
       "      <td>0.240718</td>\n",
       "      <td>0.192767</td>\n",
       "      <td>-0.160626</td>\n",
       "      <td>0.224266</td>\n",
       "      <td>0.125205</td>\n",
       "    </tr>\n",
       "    <tr>\n",
       "      <th>...</th>\n",
       "      <td>...</td>\n",
       "      <td>...</td>\n",
       "      <td>...</td>\n",
       "      <td>...</td>\n",
       "      <td>...</td>\n",
       "      <td>...</td>\n",
       "      <td>...</td>\n",
       "      <td>...</td>\n",
       "      <td>...</td>\n",
       "      <td>...</td>\n",
       "      <td>...</td>\n",
       "      <td>...</td>\n",
       "      <td>...</td>\n",
       "      <td>...</td>\n",
       "      <td>...</td>\n",
       "      <td>...</td>\n",
       "      <td>...</td>\n",
       "      <td>...</td>\n",
       "      <td>...</td>\n",
       "      <td>...</td>\n",
       "      <td>...</td>\n",
       "    </tr>\n",
       "    <tr>\n",
       "      <th>1366</th>\n",
       "      <td>0.149241</td>\n",
       "      <td>-0.165545</td>\n",
       "      <td>0.151931</td>\n",
       "      <td>0.001434</td>\n",
       "      <td>-0.092638</td>\n",
       "      <td>0.222943</td>\n",
       "      <td>0.090030</td>\n",
       "      <td>0.338888</td>\n",
       "      <td>-0.123098</td>\n",
       "      <td>0.227670</td>\n",
       "      <td>...</td>\n",
       "      <td>0.299340</td>\n",
       "      <td>0.199624</td>\n",
       "      <td>0.183652</td>\n",
       "      <td>0.728257</td>\n",
       "      <td>0.186052</td>\n",
       "      <td>0.176734</td>\n",
       "      <td>0.274569</td>\n",
       "      <td>-0.084907</td>\n",
       "      <td>0.225606</td>\n",
       "      <td>0.109070</td>\n",
       "    </tr>\n",
       "    <tr>\n",
       "      <th>1367</th>\n",
       "      <td>0.106796</td>\n",
       "      <td>-0.107995</td>\n",
       "      <td>0.059806</td>\n",
       "      <td>0.028456</td>\n",
       "      <td>-0.050119</td>\n",
       "      <td>0.210295</td>\n",
       "      <td>0.072868</td>\n",
       "      <td>0.317302</td>\n",
       "      <td>-0.037756</td>\n",
       "      <td>0.195803</td>\n",
       "      <td>...</td>\n",
       "      <td>0.212416</td>\n",
       "      <td>0.183545</td>\n",
       "      <td>0.156812</td>\n",
       "      <td>0.595112</td>\n",
       "      <td>0.110992</td>\n",
       "      <td>0.109386</td>\n",
       "      <td>0.218040</td>\n",
       "      <td>-0.055425</td>\n",
       "      <td>0.181718</td>\n",
       "      <td>0.077668</td>\n",
       "    </tr>\n",
       "    <tr>\n",
       "      <th>1368</th>\n",
       "      <td>0.051643</td>\n",
       "      <td>-0.110041</td>\n",
       "      <td>0.043895</td>\n",
       "      <td>0.208366</td>\n",
       "      <td>-0.020146</td>\n",
       "      <td>0.177437</td>\n",
       "      <td>0.031646</td>\n",
       "      <td>0.235830</td>\n",
       "      <td>-0.091081</td>\n",
       "      <td>0.211307</td>\n",
       "      <td>...</td>\n",
       "      <td>0.167349</td>\n",
       "      <td>0.108359</td>\n",
       "      <td>0.174380</td>\n",
       "      <td>0.361474</td>\n",
       "      <td>0.121572</td>\n",
       "      <td>0.076706</td>\n",
       "      <td>0.163226</td>\n",
       "      <td>0.028289</td>\n",
       "      <td>0.130318</td>\n",
       "      <td>0.043417</td>\n",
       "    </tr>\n",
       "    <tr>\n",
       "      <th>1369</th>\n",
       "      <td>0.236971</td>\n",
       "      <td>-0.154499</td>\n",
       "      <td>0.079503</td>\n",
       "      <td>0.050087</td>\n",
       "      <td>-0.088909</td>\n",
       "      <td>0.302036</td>\n",
       "      <td>0.218016</td>\n",
       "      <td>0.203265</td>\n",
       "      <td>-0.208471</td>\n",
       "      <td>0.352824</td>\n",
       "      <td>...</td>\n",
       "      <td>0.258523</td>\n",
       "      <td>0.097886</td>\n",
       "      <td>0.182620</td>\n",
       "      <td>0.715239</td>\n",
       "      <td>0.170742</td>\n",
       "      <td>0.240365</td>\n",
       "      <td>0.231905</td>\n",
       "      <td>-0.021895</td>\n",
       "      <td>0.301403</td>\n",
       "      <td>0.194796</td>\n",
       "    </tr>\n",
       "    <tr>\n",
       "      <th>1370</th>\n",
       "      <td>0.161435</td>\n",
       "      <td>-0.139533</td>\n",
       "      <td>0.070384</td>\n",
       "      <td>0.119810</td>\n",
       "      <td>-0.063616</td>\n",
       "      <td>0.207485</td>\n",
       "      <td>0.106916</td>\n",
       "      <td>0.250689</td>\n",
       "      <td>-0.216251</td>\n",
       "      <td>0.252776</td>\n",
       "      <td>...</td>\n",
       "      <td>0.230903</td>\n",
       "      <td>0.163808</td>\n",
       "      <td>0.170047</td>\n",
       "      <td>0.632129</td>\n",
       "      <td>0.224341</td>\n",
       "      <td>0.234527</td>\n",
       "      <td>0.181952</td>\n",
       "      <td>-0.103341</td>\n",
       "      <td>0.142658</td>\n",
       "      <td>0.096729</td>\n",
       "    </tr>\n",
       "  </tbody>\n",
       "</table>\n",
       "<p>1371 rows × 768 columns</p>\n",
       "</div>"
      ],
      "text/plain": [
       "           0         1         2         3         4         5         6    \\\n",
       "0     0.121726 -0.139637  0.105467  0.116718 -0.138442  0.171796  0.086891   \n",
       "1    -0.010894 -0.074214  0.059766  0.223222  0.003726  0.154238  0.019068   \n",
       "2     0.118107 -0.176364  0.106956 -0.024669 -0.089009  0.271752  0.141189   \n",
       "3    -0.004233 -0.107141  0.038427  0.219802 -0.077852  0.192271 -0.011471   \n",
       "4     0.061051 -0.153536  0.087183  0.086729 -0.162839  0.279136  0.062300   \n",
       "...        ...       ...       ...       ...       ...       ...       ...   \n",
       "1366  0.149241 -0.165545  0.151931  0.001434 -0.092638  0.222943  0.090030   \n",
       "1367  0.106796 -0.107995  0.059806  0.028456 -0.050119  0.210295  0.072868   \n",
       "1368  0.051643 -0.110041  0.043895  0.208366 -0.020146  0.177437  0.031646   \n",
       "1369  0.236971 -0.154499  0.079503  0.050087 -0.088909  0.302036  0.218016   \n",
       "1370  0.161435 -0.139533  0.070384  0.119810 -0.063616  0.207485  0.106916   \n",
       "\n",
       "           7         8         9    ...       758       759       760  \\\n",
       "0     0.247419 -0.196890  0.244275  ...  0.239344  0.162732  0.172720   \n",
       "1     0.156855 -0.063713  0.147598  ...  0.177975  0.221565  0.161663   \n",
       "2     0.233489 -0.222650  0.281777  ...  0.278163  0.205149  0.192192   \n",
       "3     0.254946 -0.064583  0.198149  ...  0.188420  0.138761  0.173365   \n",
       "4     0.309271 -0.167022  0.296705  ...  0.230675  0.229146  0.222634   \n",
       "...        ...       ...       ...  ...       ...       ...       ...   \n",
       "1366  0.338888 -0.123098  0.227670  ...  0.299340  0.199624  0.183652   \n",
       "1367  0.317302 -0.037756  0.195803  ...  0.212416  0.183545  0.156812   \n",
       "1368  0.235830 -0.091081  0.211307  ...  0.167349  0.108359  0.174380   \n",
       "1369  0.203265 -0.208471  0.352824  ...  0.258523  0.097886  0.182620   \n",
       "1370  0.250689 -0.216251  0.252776  ...  0.230903  0.163808  0.170047   \n",
       "\n",
       "           761       762       763       764       765       766       767  \n",
       "0     0.607553  0.198131  0.164274  0.163796 -0.140672  0.171242  0.087659  \n",
       "1     0.416273  0.165902  0.188105  0.111185  0.024148  0.138927  0.027045  \n",
       "2     0.719188  0.201962  0.262751  0.164834 -0.071327  0.170451  0.135198  \n",
       "3     0.473599  0.120555  0.117501  0.165556 -0.065006  0.169420  0.075558  \n",
       "4     0.695143  0.189551  0.240718  0.192767 -0.160626  0.224266  0.125205  \n",
       "...        ...       ...       ...       ...       ...       ...       ...  \n",
       "1366  0.728257  0.186052  0.176734  0.274569 -0.084907  0.225606  0.109070  \n",
       "1367  0.595112  0.110992  0.109386  0.218040 -0.055425  0.181718  0.077668  \n",
       "1368  0.361474  0.121572  0.076706  0.163226  0.028289  0.130318  0.043417  \n",
       "1369  0.715239  0.170742  0.240365  0.231905 -0.021895  0.301403  0.194796  \n",
       "1370  0.632129  0.224341  0.234527  0.181952 -0.103341  0.142658  0.096729  \n",
       "\n",
       "[1371 rows x 768 columns]"
      ]
     },
     "execution_count": 25,
     "metadata": {},
     "output_type": "execute_result"
    }
   ],
   "source": [
    "XvectTrain"
   ]
  },
  {
   "cell_type": "code",
   "execution_count": 50,
   "id": "5993d176",
   "metadata": {},
   "outputs": [],
   "source": [
    "# df_fulltest['Label'] = df_fulltest['Label'].apply(lambda x: x.split(', '))\n",
    "\n",
    "# mlbtransformerTest = MultiLabelBinarizer()\n",
    "# ytransformerTest = mlbtransformerTrain.transform(df_fulltest['Label'])\n",
    "# ytransformerTest = pd.DataFrame(ytransformerTest, columns=mlbtransformerTrain.classes_)\n",
    "\n",
    "# df_fulltest['xfull_organ_encoded'] = df_fulltest['organ'].map(freq_encoding_train)\n",
    "# XorganTest = df_fulltest[['xfull_organ_encoded']]\n",
    "\n",
    "# Преобразуем 'vect' в DataFrame\n",
    "\n",
    "# XvectTest = pd.DataFrame(df_fulltest_x['vect'].tolist())\n",
    "XvectTest = pd.DataFrame(trainmynameavg['pooler_output_avg'].tolist())\n",
    "\n",
    "# XnameTest = pd.DataFrame(df_fulltest_x['testnamevec'].tolist())\n",
    "# XnameTest = pca.transform(XnameTest)\n",
    "# XnameTest = pd.DataFrame(XnameTest)\n",
    "\n",
    "# XorganTest = pd.DataFrame(df_fulltest_x['testorganvec'].tolist())\n",
    "\n",
    "\n",
    "# Объединяем векторный и числовой признаки\n",
    "# XvectTest[768] = XorganTest['xfull_organ_encoded']\n",
    "# XvectTest[768].fillna(XvectTest[768].mean(), inplace=True)\n",
    "# XtransformerTest = pd.concat([XvectTest,XnameTest], axis=1)\n",
    "XtransformerTest = XvectTest"
   ]
  },
  {
   "cell_type": "code",
   "execution_count": 51,
   "id": "9851df2f-f6b3-4e80-8742-58ce690599e1",
   "metadata": {},
   "outputs": [
    {
     "data": {
      "text/html": [
       "<div>\n",
       "<style scoped>\n",
       "    .dataframe tbody tr th:only-of-type {\n",
       "        vertical-align: middle;\n",
       "    }\n",
       "\n",
       "    .dataframe tbody tr th {\n",
       "        vertical-align: top;\n",
       "    }\n",
       "\n",
       "    .dataframe thead th {\n",
       "        text-align: right;\n",
       "    }\n",
       "</style>\n",
       "<table border=\"1\" class=\"dataframe\">\n",
       "  <thead>\n",
       "    <tr style=\"text-align: right;\">\n",
       "      <th></th>\n",
       "      <th>0</th>\n",
       "      <th>1</th>\n",
       "      <th>2</th>\n",
       "      <th>3</th>\n",
       "      <th>4</th>\n",
       "      <th>5</th>\n",
       "      <th>6</th>\n",
       "      <th>7</th>\n",
       "      <th>8</th>\n",
       "      <th>9</th>\n",
       "      <th>...</th>\n",
       "      <th>758</th>\n",
       "      <th>759</th>\n",
       "      <th>760</th>\n",
       "      <th>761</th>\n",
       "      <th>762</th>\n",
       "      <th>763</th>\n",
       "      <th>764</th>\n",
       "      <th>765</th>\n",
       "      <th>766</th>\n",
       "      <th>767</th>\n",
       "    </tr>\n",
       "  </thead>\n",
       "  <tbody>\n",
       "    <tr>\n",
       "      <th>0</th>\n",
       "      <td>0.353361</td>\n",
       "      <td>-0.243320</td>\n",
       "      <td>0.056097</td>\n",
       "      <td>0.115360</td>\n",
       "      <td>-0.032791</td>\n",
       "      <td>0.398964</td>\n",
       "      <td>0.301549</td>\n",
       "      <td>0.404506</td>\n",
       "      <td>-0.237792</td>\n",
       "      <td>0.364938</td>\n",
       "      <td>...</td>\n",
       "      <td>0.147442</td>\n",
       "      <td>0.174253</td>\n",
       "      <td>0.112246</td>\n",
       "      <td>0.858475</td>\n",
       "      <td>0.286932</td>\n",
       "      <td>0.286815</td>\n",
       "      <td>0.252810</td>\n",
       "      <td>-0.182178</td>\n",
       "      <td>0.195503</td>\n",
       "      <td>0.093186</td>\n",
       "    </tr>\n",
       "    <tr>\n",
       "      <th>1</th>\n",
       "      <td>0.325935</td>\n",
       "      <td>-0.239992</td>\n",
       "      <td>0.280767</td>\n",
       "      <td>0.152410</td>\n",
       "      <td>0.015082</td>\n",
       "      <td>0.282491</td>\n",
       "      <td>0.364922</td>\n",
       "      <td>0.154419</td>\n",
       "      <td>-0.194627</td>\n",
       "      <td>0.162829</td>\n",
       "      <td>...</td>\n",
       "      <td>0.064095</td>\n",
       "      <td>0.280048</td>\n",
       "      <td>0.064118</td>\n",
       "      <td>0.568542</td>\n",
       "      <td>0.047745</td>\n",
       "      <td>0.242388</td>\n",
       "      <td>0.178616</td>\n",
       "      <td>0.015276</td>\n",
       "      <td>0.197861</td>\n",
       "      <td>0.091460</td>\n",
       "    </tr>\n",
       "    <tr>\n",
       "      <th>2</th>\n",
       "      <td>0.080471</td>\n",
       "      <td>-0.039778</td>\n",
       "      <td>0.064883</td>\n",
       "      <td>0.356651</td>\n",
       "      <td>0.033170</td>\n",
       "      <td>0.238256</td>\n",
       "      <td>0.223000</td>\n",
       "      <td>0.019053</td>\n",
       "      <td>-0.048515</td>\n",
       "      <td>0.092934</td>\n",
       "      <td>...</td>\n",
       "      <td>0.002017</td>\n",
       "      <td>0.130841</td>\n",
       "      <td>0.069298</td>\n",
       "      <td>0.528059</td>\n",
       "      <td>0.188968</td>\n",
       "      <td>0.192756</td>\n",
       "      <td>-0.035181</td>\n",
       "      <td>0.025941</td>\n",
       "      <td>0.018656</td>\n",
       "      <td>-0.014280</td>\n",
       "    </tr>\n",
       "    <tr>\n",
       "      <th>3</th>\n",
       "      <td>0.398776</td>\n",
       "      <td>-0.378964</td>\n",
       "      <td>0.347807</td>\n",
       "      <td>-0.059261</td>\n",
       "      <td>-0.130373</td>\n",
       "      <td>0.290891</td>\n",
       "      <td>0.475221</td>\n",
       "      <td>0.310504</td>\n",
       "      <td>-0.223411</td>\n",
       "      <td>0.426864</td>\n",
       "      <td>...</td>\n",
       "      <td>0.299909</td>\n",
       "      <td>0.261459</td>\n",
       "      <td>0.337460</td>\n",
       "      <td>0.984841</td>\n",
       "      <td>0.320758</td>\n",
       "      <td>0.347120</td>\n",
       "      <td>0.317649</td>\n",
       "      <td>-0.280297</td>\n",
       "      <td>0.190008</td>\n",
       "      <td>0.273208</td>\n",
       "    </tr>\n",
       "    <tr>\n",
       "      <th>4</th>\n",
       "      <td>0.150647</td>\n",
       "      <td>-0.273693</td>\n",
       "      <td>0.136267</td>\n",
       "      <td>0.016533</td>\n",
       "      <td>-0.134183</td>\n",
       "      <td>0.321138</td>\n",
       "      <td>0.304455</td>\n",
       "      <td>0.241956</td>\n",
       "      <td>-0.310449</td>\n",
       "      <td>0.476910</td>\n",
       "      <td>...</td>\n",
       "      <td>0.320894</td>\n",
       "      <td>0.150388</td>\n",
       "      <td>0.354280</td>\n",
       "      <td>0.968229</td>\n",
       "      <td>0.286009</td>\n",
       "      <td>0.408255</td>\n",
       "      <td>0.170743</td>\n",
       "      <td>-0.168815</td>\n",
       "      <td>0.142104</td>\n",
       "      <td>0.210360</td>\n",
       "    </tr>\n",
       "    <tr>\n",
       "      <th>...</th>\n",
       "      <td>...</td>\n",
       "      <td>...</td>\n",
       "      <td>...</td>\n",
       "      <td>...</td>\n",
       "      <td>...</td>\n",
       "      <td>...</td>\n",
       "      <td>...</td>\n",
       "      <td>...</td>\n",
       "      <td>...</td>\n",
       "      <td>...</td>\n",
       "      <td>...</td>\n",
       "      <td>...</td>\n",
       "      <td>...</td>\n",
       "      <td>...</td>\n",
       "      <td>...</td>\n",
       "      <td>...</td>\n",
       "      <td>...</td>\n",
       "      <td>...</td>\n",
       "      <td>...</td>\n",
       "      <td>...</td>\n",
       "      <td>...</td>\n",
       "    </tr>\n",
       "    <tr>\n",
       "      <th>9689</th>\n",
       "      <td>0.221890</td>\n",
       "      <td>-0.403857</td>\n",
       "      <td>0.182291</td>\n",
       "      <td>-0.125159</td>\n",
       "      <td>-0.238897</td>\n",
       "      <td>0.340836</td>\n",
       "      <td>0.412804</td>\n",
       "      <td>0.321552</td>\n",
       "      <td>-0.414632</td>\n",
       "      <td>0.538610</td>\n",
       "      <td>...</td>\n",
       "      <td>0.335821</td>\n",
       "      <td>0.195817</td>\n",
       "      <td>0.457760</td>\n",
       "      <td>0.918972</td>\n",
       "      <td>0.308688</td>\n",
       "      <td>0.384629</td>\n",
       "      <td>0.185223</td>\n",
       "      <td>-0.159558</td>\n",
       "      <td>0.285970</td>\n",
       "      <td>0.197536</td>\n",
       "    </tr>\n",
       "    <tr>\n",
       "      <th>9690</th>\n",
       "      <td>0.064626</td>\n",
       "      <td>-0.029448</td>\n",
       "      <td>0.194657</td>\n",
       "      <td>0.204840</td>\n",
       "      <td>0.137827</td>\n",
       "      <td>0.045111</td>\n",
       "      <td>0.052437</td>\n",
       "      <td>0.104115</td>\n",
       "      <td>-0.071366</td>\n",
       "      <td>-0.065642</td>\n",
       "      <td>...</td>\n",
       "      <td>0.053031</td>\n",
       "      <td>-0.024066</td>\n",
       "      <td>0.065922</td>\n",
       "      <td>0.062281</td>\n",
       "      <td>0.072315</td>\n",
       "      <td>0.004780</td>\n",
       "      <td>0.062291</td>\n",
       "      <td>0.205900</td>\n",
       "      <td>0.046987</td>\n",
       "      <td>0.054727</td>\n",
       "    </tr>\n",
       "    <tr>\n",
       "      <th>9691</th>\n",
       "      <td>0.146691</td>\n",
       "      <td>-0.117981</td>\n",
       "      <td>0.151812</td>\n",
       "      <td>0.096872</td>\n",
       "      <td>-0.021042</td>\n",
       "      <td>0.172170</td>\n",
       "      <td>0.152595</td>\n",
       "      <td>0.148357</td>\n",
       "      <td>-0.154452</td>\n",
       "      <td>0.189064</td>\n",
       "      <td>...</td>\n",
       "      <td>0.158616</td>\n",
       "      <td>0.015169</td>\n",
       "      <td>0.101122</td>\n",
       "      <td>0.668805</td>\n",
       "      <td>0.130857</td>\n",
       "      <td>0.149886</td>\n",
       "      <td>0.158873</td>\n",
       "      <td>0.029864</td>\n",
       "      <td>0.067642</td>\n",
       "      <td>-0.056346</td>\n",
       "    </tr>\n",
       "    <tr>\n",
       "      <th>9692</th>\n",
       "      <td>0.038171</td>\n",
       "      <td>-0.004897</td>\n",
       "      <td>0.039103</td>\n",
       "      <td>0.258549</td>\n",
       "      <td>0.078052</td>\n",
       "      <td>0.228774</td>\n",
       "      <td>0.225885</td>\n",
       "      <td>0.141474</td>\n",
       "      <td>-0.158111</td>\n",
       "      <td>0.181955</td>\n",
       "      <td>...</td>\n",
       "      <td>0.251964</td>\n",
       "      <td>0.018961</td>\n",
       "      <td>0.257157</td>\n",
       "      <td>0.376767</td>\n",
       "      <td>0.251073</td>\n",
       "      <td>0.166744</td>\n",
       "      <td>0.168914</td>\n",
       "      <td>0.134019</td>\n",
       "      <td>-0.054821</td>\n",
       "      <td>0.059107</td>\n",
       "    </tr>\n",
       "    <tr>\n",
       "      <th>9693</th>\n",
       "      <td>0.222561</td>\n",
       "      <td>-0.238664</td>\n",
       "      <td>0.162803</td>\n",
       "      <td>0.233733</td>\n",
       "      <td>0.041191</td>\n",
       "      <td>0.207151</td>\n",
       "      <td>0.311652</td>\n",
       "      <td>0.149450</td>\n",
       "      <td>-0.096494</td>\n",
       "      <td>0.044447</td>\n",
       "      <td>...</td>\n",
       "      <td>0.019212</td>\n",
       "      <td>0.075507</td>\n",
       "      <td>0.216187</td>\n",
       "      <td>0.253608</td>\n",
       "      <td>0.147499</td>\n",
       "      <td>0.233616</td>\n",
       "      <td>0.223726</td>\n",
       "      <td>0.011073</td>\n",
       "      <td>0.127341</td>\n",
       "      <td>0.142925</td>\n",
       "    </tr>\n",
       "  </tbody>\n",
       "</table>\n",
       "<p>9694 rows × 768 columns</p>\n",
       "</div>"
      ],
      "text/plain": [
       "           0         1         2         3         4         5         6    \\\n",
       "0     0.353361 -0.243320  0.056097  0.115360 -0.032791  0.398964  0.301549   \n",
       "1     0.325935 -0.239992  0.280767  0.152410  0.015082  0.282491  0.364922   \n",
       "2     0.080471 -0.039778  0.064883  0.356651  0.033170  0.238256  0.223000   \n",
       "3     0.398776 -0.378964  0.347807 -0.059261 -0.130373  0.290891  0.475221   \n",
       "4     0.150647 -0.273693  0.136267  0.016533 -0.134183  0.321138  0.304455   \n",
       "...        ...       ...       ...       ...       ...       ...       ...   \n",
       "9689  0.221890 -0.403857  0.182291 -0.125159 -0.238897  0.340836  0.412804   \n",
       "9690  0.064626 -0.029448  0.194657  0.204840  0.137827  0.045111  0.052437   \n",
       "9691  0.146691 -0.117981  0.151812  0.096872 -0.021042  0.172170  0.152595   \n",
       "9692  0.038171 -0.004897  0.039103  0.258549  0.078052  0.228774  0.225885   \n",
       "9693  0.222561 -0.238664  0.162803  0.233733  0.041191  0.207151  0.311652   \n",
       "\n",
       "           7         8         9    ...       758       759       760  \\\n",
       "0     0.404506 -0.237792  0.364938  ...  0.147442  0.174253  0.112246   \n",
       "1     0.154419 -0.194627  0.162829  ...  0.064095  0.280048  0.064118   \n",
       "2     0.019053 -0.048515  0.092934  ...  0.002017  0.130841  0.069298   \n",
       "3     0.310504 -0.223411  0.426864  ...  0.299909  0.261459  0.337460   \n",
       "4     0.241956 -0.310449  0.476910  ...  0.320894  0.150388  0.354280   \n",
       "...        ...       ...       ...  ...       ...       ...       ...   \n",
       "9689  0.321552 -0.414632  0.538610  ...  0.335821  0.195817  0.457760   \n",
       "9690  0.104115 -0.071366 -0.065642  ...  0.053031 -0.024066  0.065922   \n",
       "9691  0.148357 -0.154452  0.189064  ...  0.158616  0.015169  0.101122   \n",
       "9692  0.141474 -0.158111  0.181955  ...  0.251964  0.018961  0.257157   \n",
       "9693  0.149450 -0.096494  0.044447  ...  0.019212  0.075507  0.216187   \n",
       "\n",
       "           761       762       763       764       765       766       767  \n",
       "0     0.858475  0.286932  0.286815  0.252810 -0.182178  0.195503  0.093186  \n",
       "1     0.568542  0.047745  0.242388  0.178616  0.015276  0.197861  0.091460  \n",
       "2     0.528059  0.188968  0.192756 -0.035181  0.025941  0.018656 -0.014280  \n",
       "3     0.984841  0.320758  0.347120  0.317649 -0.280297  0.190008  0.273208  \n",
       "4     0.968229  0.286009  0.408255  0.170743 -0.168815  0.142104  0.210360  \n",
       "...        ...       ...       ...       ...       ...       ...       ...  \n",
       "9689  0.918972  0.308688  0.384629  0.185223 -0.159558  0.285970  0.197536  \n",
       "9690  0.062281  0.072315  0.004780  0.062291  0.205900  0.046987  0.054727  \n",
       "9691  0.668805  0.130857  0.149886  0.158873  0.029864  0.067642 -0.056346  \n",
       "9692  0.376767  0.251073  0.166744  0.168914  0.134019 -0.054821  0.059107  \n",
       "9693  0.253608  0.147499  0.233616  0.223726  0.011073  0.127341  0.142925  \n",
       "\n",
       "[9694 rows x 768 columns]"
      ]
     },
     "execution_count": 51,
     "metadata": {},
     "output_type": "execute_result"
    }
   ],
   "source": [
    "XtransformerTest"
   ]
  },
  {
   "cell_type": "code",
   "execution_count": 52,
   "id": "cd107aee",
   "metadata": {},
   "outputs": [
    {
     "data": {
      "text/html": [
       "<div>\n",
       "<style scoped>\n",
       "    .dataframe tbody tr th:only-of-type {\n",
       "        vertical-align: middle;\n",
       "    }\n",
       "\n",
       "    .dataframe tbody tr th {\n",
       "        vertical-align: top;\n",
       "    }\n",
       "\n",
       "    .dataframe thead th {\n",
       "        text-align: right;\n",
       "    }\n",
       "</style>\n",
       "<table border=\"1\" class=\"dataframe\">\n",
       "  <thead>\n",
       "    <tr style=\"text-align: right;\">\n",
       "      <th></th>\n",
       "      <th>0</th>\n",
       "      <th>1</th>\n",
       "      <th>2</th>\n",
       "      <th>3</th>\n",
       "      <th>4</th>\n",
       "      <th>5</th>\n",
       "      <th>6</th>\n",
       "      <th>7</th>\n",
       "      <th>8</th>\n",
       "      <th>9</th>\n",
       "      <th>...</th>\n",
       "      <th>758</th>\n",
       "      <th>759</th>\n",
       "      <th>760</th>\n",
       "      <th>761</th>\n",
       "      <th>762</th>\n",
       "      <th>763</th>\n",
       "      <th>764</th>\n",
       "      <th>765</th>\n",
       "      <th>766</th>\n",
       "      <th>767</th>\n",
       "    </tr>\n",
       "  </thead>\n",
       "  <tbody>\n",
       "    <tr>\n",
       "      <th>0</th>\n",
       "      <td>0.121726</td>\n",
       "      <td>-0.139637</td>\n",
       "      <td>0.105467</td>\n",
       "      <td>0.116718</td>\n",
       "      <td>-0.138442</td>\n",
       "      <td>0.171796</td>\n",
       "      <td>0.086891</td>\n",
       "      <td>0.247419</td>\n",
       "      <td>-0.196890</td>\n",
       "      <td>0.244275</td>\n",
       "      <td>...</td>\n",
       "      <td>0.239344</td>\n",
       "      <td>0.162732</td>\n",
       "      <td>0.172720</td>\n",
       "      <td>0.607553</td>\n",
       "      <td>0.198131</td>\n",
       "      <td>0.164274</td>\n",
       "      <td>0.163796</td>\n",
       "      <td>-0.140672</td>\n",
       "      <td>0.171242</td>\n",
       "      <td>0.087659</td>\n",
       "    </tr>\n",
       "    <tr>\n",
       "      <th>1</th>\n",
       "      <td>-0.010894</td>\n",
       "      <td>-0.074214</td>\n",
       "      <td>0.059766</td>\n",
       "      <td>0.223222</td>\n",
       "      <td>0.003726</td>\n",
       "      <td>0.154238</td>\n",
       "      <td>0.019068</td>\n",
       "      <td>0.156855</td>\n",
       "      <td>-0.063713</td>\n",
       "      <td>0.147598</td>\n",
       "      <td>...</td>\n",
       "      <td>0.177975</td>\n",
       "      <td>0.221565</td>\n",
       "      <td>0.161663</td>\n",
       "      <td>0.416273</td>\n",
       "      <td>0.165902</td>\n",
       "      <td>0.188105</td>\n",
       "      <td>0.111185</td>\n",
       "      <td>0.024148</td>\n",
       "      <td>0.138927</td>\n",
       "      <td>0.027045</td>\n",
       "    </tr>\n",
       "    <tr>\n",
       "      <th>2</th>\n",
       "      <td>0.118107</td>\n",
       "      <td>-0.176364</td>\n",
       "      <td>0.106956</td>\n",
       "      <td>-0.024669</td>\n",
       "      <td>-0.089009</td>\n",
       "      <td>0.271752</td>\n",
       "      <td>0.141189</td>\n",
       "      <td>0.233489</td>\n",
       "      <td>-0.222650</td>\n",
       "      <td>0.281777</td>\n",
       "      <td>...</td>\n",
       "      <td>0.278163</td>\n",
       "      <td>0.205149</td>\n",
       "      <td>0.192192</td>\n",
       "      <td>0.719188</td>\n",
       "      <td>0.201962</td>\n",
       "      <td>0.262751</td>\n",
       "      <td>0.164834</td>\n",
       "      <td>-0.071327</td>\n",
       "      <td>0.170451</td>\n",
       "      <td>0.135198</td>\n",
       "    </tr>\n",
       "    <tr>\n",
       "      <th>3</th>\n",
       "      <td>-0.004233</td>\n",
       "      <td>-0.107141</td>\n",
       "      <td>0.038427</td>\n",
       "      <td>0.219802</td>\n",
       "      <td>-0.077852</td>\n",
       "      <td>0.192271</td>\n",
       "      <td>-0.011471</td>\n",
       "      <td>0.254946</td>\n",
       "      <td>-0.064583</td>\n",
       "      <td>0.198149</td>\n",
       "      <td>...</td>\n",
       "      <td>0.188420</td>\n",
       "      <td>0.138761</td>\n",
       "      <td>0.173365</td>\n",
       "      <td>0.473599</td>\n",
       "      <td>0.120555</td>\n",
       "      <td>0.117501</td>\n",
       "      <td>0.165556</td>\n",
       "      <td>-0.065006</td>\n",
       "      <td>0.169420</td>\n",
       "      <td>0.075558</td>\n",
       "    </tr>\n",
       "    <tr>\n",
       "      <th>4</th>\n",
       "      <td>0.061051</td>\n",
       "      <td>-0.153536</td>\n",
       "      <td>0.087183</td>\n",
       "      <td>0.086729</td>\n",
       "      <td>-0.162839</td>\n",
       "      <td>0.279136</td>\n",
       "      <td>0.062300</td>\n",
       "      <td>0.309271</td>\n",
       "      <td>-0.167022</td>\n",
       "      <td>0.296705</td>\n",
       "      <td>...</td>\n",
       "      <td>0.230675</td>\n",
       "      <td>0.229146</td>\n",
       "      <td>0.222634</td>\n",
       "      <td>0.695143</td>\n",
       "      <td>0.189551</td>\n",
       "      <td>0.240718</td>\n",
       "      <td>0.192767</td>\n",
       "      <td>-0.160626</td>\n",
       "      <td>0.224266</td>\n",
       "      <td>0.125205</td>\n",
       "    </tr>\n",
       "    <tr>\n",
       "      <th>...</th>\n",
       "      <td>...</td>\n",
       "      <td>...</td>\n",
       "      <td>...</td>\n",
       "      <td>...</td>\n",
       "      <td>...</td>\n",
       "      <td>...</td>\n",
       "      <td>...</td>\n",
       "      <td>...</td>\n",
       "      <td>...</td>\n",
       "      <td>...</td>\n",
       "      <td>...</td>\n",
       "      <td>...</td>\n",
       "      <td>...</td>\n",
       "      <td>...</td>\n",
       "      <td>...</td>\n",
       "      <td>...</td>\n",
       "      <td>...</td>\n",
       "      <td>...</td>\n",
       "      <td>...</td>\n",
       "      <td>...</td>\n",
       "      <td>...</td>\n",
       "    </tr>\n",
       "    <tr>\n",
       "      <th>1366</th>\n",
       "      <td>0.149241</td>\n",
       "      <td>-0.165545</td>\n",
       "      <td>0.151931</td>\n",
       "      <td>0.001434</td>\n",
       "      <td>-0.092638</td>\n",
       "      <td>0.222943</td>\n",
       "      <td>0.090030</td>\n",
       "      <td>0.338888</td>\n",
       "      <td>-0.123098</td>\n",
       "      <td>0.227670</td>\n",
       "      <td>...</td>\n",
       "      <td>0.299340</td>\n",
       "      <td>0.199624</td>\n",
       "      <td>0.183652</td>\n",
       "      <td>0.728257</td>\n",
       "      <td>0.186052</td>\n",
       "      <td>0.176734</td>\n",
       "      <td>0.274569</td>\n",
       "      <td>-0.084907</td>\n",
       "      <td>0.225606</td>\n",
       "      <td>0.109070</td>\n",
       "    </tr>\n",
       "    <tr>\n",
       "      <th>1367</th>\n",
       "      <td>0.106796</td>\n",
       "      <td>-0.107995</td>\n",
       "      <td>0.059806</td>\n",
       "      <td>0.028456</td>\n",
       "      <td>-0.050119</td>\n",
       "      <td>0.210295</td>\n",
       "      <td>0.072868</td>\n",
       "      <td>0.317302</td>\n",
       "      <td>-0.037756</td>\n",
       "      <td>0.195803</td>\n",
       "      <td>...</td>\n",
       "      <td>0.212416</td>\n",
       "      <td>0.183545</td>\n",
       "      <td>0.156812</td>\n",
       "      <td>0.595112</td>\n",
       "      <td>0.110992</td>\n",
       "      <td>0.109386</td>\n",
       "      <td>0.218040</td>\n",
       "      <td>-0.055425</td>\n",
       "      <td>0.181718</td>\n",
       "      <td>0.077668</td>\n",
       "    </tr>\n",
       "    <tr>\n",
       "      <th>1368</th>\n",
       "      <td>0.051643</td>\n",
       "      <td>-0.110041</td>\n",
       "      <td>0.043895</td>\n",
       "      <td>0.208366</td>\n",
       "      <td>-0.020146</td>\n",
       "      <td>0.177437</td>\n",
       "      <td>0.031646</td>\n",
       "      <td>0.235830</td>\n",
       "      <td>-0.091081</td>\n",
       "      <td>0.211307</td>\n",
       "      <td>...</td>\n",
       "      <td>0.167349</td>\n",
       "      <td>0.108359</td>\n",
       "      <td>0.174380</td>\n",
       "      <td>0.361474</td>\n",
       "      <td>0.121572</td>\n",
       "      <td>0.076706</td>\n",
       "      <td>0.163226</td>\n",
       "      <td>0.028289</td>\n",
       "      <td>0.130318</td>\n",
       "      <td>0.043417</td>\n",
       "    </tr>\n",
       "    <tr>\n",
       "      <th>1369</th>\n",
       "      <td>0.236971</td>\n",
       "      <td>-0.154499</td>\n",
       "      <td>0.079503</td>\n",
       "      <td>0.050087</td>\n",
       "      <td>-0.088909</td>\n",
       "      <td>0.302036</td>\n",
       "      <td>0.218016</td>\n",
       "      <td>0.203265</td>\n",
       "      <td>-0.208471</td>\n",
       "      <td>0.352824</td>\n",
       "      <td>...</td>\n",
       "      <td>0.258523</td>\n",
       "      <td>0.097886</td>\n",
       "      <td>0.182620</td>\n",
       "      <td>0.715239</td>\n",
       "      <td>0.170742</td>\n",
       "      <td>0.240365</td>\n",
       "      <td>0.231905</td>\n",
       "      <td>-0.021895</td>\n",
       "      <td>0.301403</td>\n",
       "      <td>0.194796</td>\n",
       "    </tr>\n",
       "    <tr>\n",
       "      <th>1370</th>\n",
       "      <td>0.161435</td>\n",
       "      <td>-0.139533</td>\n",
       "      <td>0.070384</td>\n",
       "      <td>0.119810</td>\n",
       "      <td>-0.063616</td>\n",
       "      <td>0.207485</td>\n",
       "      <td>0.106916</td>\n",
       "      <td>0.250689</td>\n",
       "      <td>-0.216251</td>\n",
       "      <td>0.252776</td>\n",
       "      <td>...</td>\n",
       "      <td>0.230903</td>\n",
       "      <td>0.163808</td>\n",
       "      <td>0.170047</td>\n",
       "      <td>0.632129</td>\n",
       "      <td>0.224341</td>\n",
       "      <td>0.234527</td>\n",
       "      <td>0.181952</td>\n",
       "      <td>-0.103341</td>\n",
       "      <td>0.142658</td>\n",
       "      <td>0.096729</td>\n",
       "    </tr>\n",
       "  </tbody>\n",
       "</table>\n",
       "<p>1371 rows × 768 columns</p>\n",
       "</div>"
      ],
      "text/plain": [
       "           0         1         2         3         4         5         6    \\\n",
       "0     0.121726 -0.139637  0.105467  0.116718 -0.138442  0.171796  0.086891   \n",
       "1    -0.010894 -0.074214  0.059766  0.223222  0.003726  0.154238  0.019068   \n",
       "2     0.118107 -0.176364  0.106956 -0.024669 -0.089009  0.271752  0.141189   \n",
       "3    -0.004233 -0.107141  0.038427  0.219802 -0.077852  0.192271 -0.011471   \n",
       "4     0.061051 -0.153536  0.087183  0.086729 -0.162839  0.279136  0.062300   \n",
       "...        ...       ...       ...       ...       ...       ...       ...   \n",
       "1366  0.149241 -0.165545  0.151931  0.001434 -0.092638  0.222943  0.090030   \n",
       "1367  0.106796 -0.107995  0.059806  0.028456 -0.050119  0.210295  0.072868   \n",
       "1368  0.051643 -0.110041  0.043895  0.208366 -0.020146  0.177437  0.031646   \n",
       "1369  0.236971 -0.154499  0.079503  0.050087 -0.088909  0.302036  0.218016   \n",
       "1370  0.161435 -0.139533  0.070384  0.119810 -0.063616  0.207485  0.106916   \n",
       "\n",
       "           7         8         9    ...       758       759       760  \\\n",
       "0     0.247419 -0.196890  0.244275  ...  0.239344  0.162732  0.172720   \n",
       "1     0.156855 -0.063713  0.147598  ...  0.177975  0.221565  0.161663   \n",
       "2     0.233489 -0.222650  0.281777  ...  0.278163  0.205149  0.192192   \n",
       "3     0.254946 -0.064583  0.198149  ...  0.188420  0.138761  0.173365   \n",
       "4     0.309271 -0.167022  0.296705  ...  0.230675  0.229146  0.222634   \n",
       "...        ...       ...       ...  ...       ...       ...       ...   \n",
       "1366  0.338888 -0.123098  0.227670  ...  0.299340  0.199624  0.183652   \n",
       "1367  0.317302 -0.037756  0.195803  ...  0.212416  0.183545  0.156812   \n",
       "1368  0.235830 -0.091081  0.211307  ...  0.167349  0.108359  0.174380   \n",
       "1369  0.203265 -0.208471  0.352824  ...  0.258523  0.097886  0.182620   \n",
       "1370  0.250689 -0.216251  0.252776  ...  0.230903  0.163808  0.170047   \n",
       "\n",
       "           761       762       763       764       765       766       767  \n",
       "0     0.607553  0.198131  0.164274  0.163796 -0.140672  0.171242  0.087659  \n",
       "1     0.416273  0.165902  0.188105  0.111185  0.024148  0.138927  0.027045  \n",
       "2     0.719188  0.201962  0.262751  0.164834 -0.071327  0.170451  0.135198  \n",
       "3     0.473599  0.120555  0.117501  0.165556 -0.065006  0.169420  0.075558  \n",
       "4     0.695143  0.189551  0.240718  0.192767 -0.160626  0.224266  0.125205  \n",
       "...        ...       ...       ...       ...       ...       ...       ...  \n",
       "1366  0.728257  0.186052  0.176734  0.274569 -0.084907  0.225606  0.109070  \n",
       "1367  0.595112  0.110992  0.109386  0.218040 -0.055425  0.181718  0.077668  \n",
       "1368  0.361474  0.121572  0.076706  0.163226  0.028289  0.130318  0.043417  \n",
       "1369  0.715239  0.170742  0.240365  0.231905 -0.021895  0.301403  0.194796  \n",
       "1370  0.632129  0.224341  0.234527  0.181952 -0.103341  0.142658  0.096729  \n",
       "\n",
       "[1371 rows x 768 columns]"
      ]
     },
     "execution_count": 52,
     "metadata": {},
     "output_type": "execute_result"
    }
   ],
   "source": [
    "XtransformerTrain"
   ]
  },
  {
   "cell_type": "code",
   "execution_count": null,
   "id": "6704d4d9",
   "metadata": {},
   "outputs": [],
   "source": [
    "modelEval1(XtransformerTrain,XtransformerTest,ytransformerTrain,ytransformerTest)"
   ]
  },
  {
   "cell_type": "markdown",
   "id": "8f05f50f-f4ad-4379-b7ab-901e859dd6a7",
   "metadata": {},
   "source": [
    "## Изменим размерность всего итогового вектора"
   ]
  },
  {
   "cell_type": "code",
   "execution_count": 11,
   "id": "e80abb85-1997-4aab-8b3f-acd54854dc6f",
   "metadata": {
    "scrolled": true
   },
   "outputs": [
    {
     "name": "stdout",
     "output_type": "stream",
     "text": [
      "Component 1: Explained Variance = 0.5859, Cumulative Explained Variance = 0.5859\n",
      "Component 2: Explained Variance = 0.1058, Cumulative Explained Variance = 0.6917\n",
      "Component 3: Explained Variance = 0.0511, Cumulative Explained Variance = 0.7428\n",
      "Component 4: Explained Variance = 0.0341, Cumulative Explained Variance = 0.7769\n",
      "Component 5: Explained Variance = 0.0285, Cumulative Explained Variance = 0.8054\n",
      "Component 6: Explained Variance = 0.0205, Cumulative Explained Variance = 0.8258\n",
      "Component 7: Explained Variance = 0.0192, Cumulative Explained Variance = 0.8450\n",
      "Component 8: Explained Variance = 0.0141, Cumulative Explained Variance = 0.8591\n",
      "Component 9: Explained Variance = 0.0126, Cumulative Explained Variance = 0.8717\n",
      "Component 10: Explained Variance = 0.0092, Cumulative Explained Variance = 0.8808\n",
      "Component 11: Explained Variance = 0.0084, Cumulative Explained Variance = 0.8892\n",
      "Component 12: Explained Variance = 0.0074, Cumulative Explained Variance = 0.8966\n",
      "Component 13: Explained Variance = 0.0066, Cumulative Explained Variance = 0.9032\n",
      "Component 14: Explained Variance = 0.0050, Cumulative Explained Variance = 0.9081\n",
      "Component 15: Explained Variance = 0.0047, Cumulative Explained Variance = 0.9128\n",
      "Component 16: Explained Variance = 0.0045, Cumulative Explained Variance = 0.9174\n",
      "Component 17: Explained Variance = 0.0039, Cumulative Explained Variance = 0.9213\n",
      "Component 18: Explained Variance = 0.0036, Cumulative Explained Variance = 0.9249\n",
      "Component 19: Explained Variance = 0.0034, Cumulative Explained Variance = 0.9284\n",
      "Component 20: Explained Variance = 0.0030, Cumulative Explained Variance = 0.9313\n",
      "Component 21: Explained Variance = 0.0029, Cumulative Explained Variance = 0.9342\n",
      "Component 22: Explained Variance = 0.0026, Cumulative Explained Variance = 0.9367\n",
      "Component 23: Explained Variance = 0.0023, Cumulative Explained Variance = 0.9390\n",
      "Component 24: Explained Variance = 0.0021, Cumulative Explained Variance = 0.9412\n",
      "Component 25: Explained Variance = 0.0020, Cumulative Explained Variance = 0.9432\n",
      "Component 26: Explained Variance = 0.0019, Cumulative Explained Variance = 0.9451\n",
      "Component 27: Explained Variance = 0.0018, Cumulative Explained Variance = 0.9468\n",
      "Component 28: Explained Variance = 0.0016, Cumulative Explained Variance = 0.9485\n",
      "Component 29: Explained Variance = 0.0016, Cumulative Explained Variance = 0.9501\n",
      "Component 30: Explained Variance = 0.0015, Cumulative Explained Variance = 0.9516\n",
      "Component 31: Explained Variance = 0.0014, Cumulative Explained Variance = 0.9530\n",
      "Component 32: Explained Variance = 0.0013, Cumulative Explained Variance = 0.9543\n",
      "Component 33: Explained Variance = 0.0012, Cumulative Explained Variance = 0.9555\n",
      "Component 34: Explained Variance = 0.0011, Cumulative Explained Variance = 0.9567\n",
      "Component 35: Explained Variance = 0.0011, Cumulative Explained Variance = 0.9578\n",
      "Component 36: Explained Variance = 0.0011, Cumulative Explained Variance = 0.9589\n",
      "Component 37: Explained Variance = 0.0010, Cumulative Explained Variance = 0.9599\n",
      "Component 38: Explained Variance = 0.0010, Cumulative Explained Variance = 0.9609\n",
      "Component 39: Explained Variance = 0.0010, Cumulative Explained Variance = 0.9618\n",
      "Component 40: Explained Variance = 0.0009, Cumulative Explained Variance = 0.9627\n",
      "Component 41: Explained Variance = 0.0009, Cumulative Explained Variance = 0.9636\n",
      "Component 42: Explained Variance = 0.0008, Cumulative Explained Variance = 0.9645\n",
      "Component 43: Explained Variance = 0.0008, Cumulative Explained Variance = 0.9653\n",
      "Component 44: Explained Variance = 0.0008, Cumulative Explained Variance = 0.9660\n",
      "Component 45: Explained Variance = 0.0008, Cumulative Explained Variance = 0.9668\n",
      "Component 46: Explained Variance = 0.0007, Cumulative Explained Variance = 0.9675\n",
      "Component 47: Explained Variance = 0.0007, Cumulative Explained Variance = 0.9682\n",
      "Component 48: Explained Variance = 0.0007, Cumulative Explained Variance = 0.9689\n",
      "Component 49: Explained Variance = 0.0007, Cumulative Explained Variance = 0.9696\n",
      "Component 50: Explained Variance = 0.0006, Cumulative Explained Variance = 0.9702\n",
      "Component 51: Explained Variance = 0.0006, Cumulative Explained Variance = 0.9708\n",
      "Component 52: Explained Variance = 0.0006, Cumulative Explained Variance = 0.9714\n",
      "Component 53: Explained Variance = 0.0006, Cumulative Explained Variance = 0.9720\n",
      "Component 54: Explained Variance = 0.0006, Cumulative Explained Variance = 0.9726\n",
      "Component 55: Explained Variance = 0.0006, Cumulative Explained Variance = 0.9731\n",
      "Component 56: Explained Variance = 0.0005, Cumulative Explained Variance = 0.9737\n",
      "Component 57: Explained Variance = 0.0005, Cumulative Explained Variance = 0.9742\n",
      "Component 58: Explained Variance = 0.0005, Cumulative Explained Variance = 0.9747\n",
      "Component 59: Explained Variance = 0.0005, Cumulative Explained Variance = 0.9751\n",
      "Component 60: Explained Variance = 0.0005, Cumulative Explained Variance = 0.9756\n",
      "Component 61: Explained Variance = 0.0005, Cumulative Explained Variance = 0.9760\n",
      "Component 62: Explained Variance = 0.0004, Cumulative Explained Variance = 0.9765\n",
      "Component 63: Explained Variance = 0.0004, Cumulative Explained Variance = 0.9769\n",
      "Component 64: Explained Variance = 0.0004, Cumulative Explained Variance = 0.9773\n",
      "Component 65: Explained Variance = 0.0004, Cumulative Explained Variance = 0.9777\n",
      "Component 66: Explained Variance = 0.0004, Cumulative Explained Variance = 0.9781\n",
      "Component 67: Explained Variance = 0.0004, Cumulative Explained Variance = 0.9785\n",
      "Component 68: Explained Variance = 0.0004, Cumulative Explained Variance = 0.9789\n",
      "Component 69: Explained Variance = 0.0004, Cumulative Explained Variance = 0.9793\n",
      "Component 70: Explained Variance = 0.0004, Cumulative Explained Variance = 0.9796\n",
      "Component 71: Explained Variance = 0.0003, Cumulative Explained Variance = 0.9800\n",
      "Component 72: Explained Variance = 0.0003, Cumulative Explained Variance = 0.9803\n",
      "Component 73: Explained Variance = 0.0003, Cumulative Explained Variance = 0.9806\n",
      "Component 74: Explained Variance = 0.0003, Cumulative Explained Variance = 0.9809\n",
      "Component 75: Explained Variance = 0.0003, Cumulative Explained Variance = 0.9813\n",
      "Component 76: Explained Variance = 0.0003, Cumulative Explained Variance = 0.9816\n",
      "Component 77: Explained Variance = 0.0003, Cumulative Explained Variance = 0.9819\n",
      "Component 78: Explained Variance = 0.0003, Cumulative Explained Variance = 0.9822\n",
      "Component 79: Explained Variance = 0.0003, Cumulative Explained Variance = 0.9824\n",
      "Component 80: Explained Variance = 0.0003, Cumulative Explained Variance = 0.9827\n",
      "Component 81: Explained Variance = 0.0003, Cumulative Explained Variance = 0.9830\n",
      "Component 82: Explained Variance = 0.0003, Cumulative Explained Variance = 0.9833\n",
      "Component 83: Explained Variance = 0.0003, Cumulative Explained Variance = 0.9835\n",
      "Component 84: Explained Variance = 0.0003, Cumulative Explained Variance = 0.9838\n",
      "Component 85: Explained Variance = 0.0002, Cumulative Explained Variance = 0.9840\n",
      "Component 86: Explained Variance = 0.0002, Cumulative Explained Variance = 0.9843\n",
      "Component 87: Explained Variance = 0.0002, Cumulative Explained Variance = 0.9845\n",
      "Component 88: Explained Variance = 0.0002, Cumulative Explained Variance = 0.9848\n",
      "Component 89: Explained Variance = 0.0002, Cumulative Explained Variance = 0.9850\n",
      "Component 90: Explained Variance = 0.0002, Cumulative Explained Variance = 0.9852\n",
      "Component 91: Explained Variance = 0.0002, Cumulative Explained Variance = 0.9854\n",
      "Component 92: Explained Variance = 0.0002, Cumulative Explained Variance = 0.9856\n",
      "Component 93: Explained Variance = 0.0002, Cumulative Explained Variance = 0.9858\n",
      "Component 94: Explained Variance = 0.0002, Cumulative Explained Variance = 0.9860\n",
      "Component 95: Explained Variance = 0.0002, Cumulative Explained Variance = 0.9862\n",
      "Component 96: Explained Variance = 0.0002, Cumulative Explained Variance = 0.9864\n",
      "Component 97: Explained Variance = 0.0002, Cumulative Explained Variance = 0.9866\n",
      "Component 98: Explained Variance = 0.0002, Cumulative Explained Variance = 0.9868\n",
      "Component 99: Explained Variance = 0.0002, Cumulative Explained Variance = 0.9870\n",
      "Component 100: Explained Variance = 0.0002, Cumulative Explained Variance = 0.9872\n"
     ]
    }
   ],
   "source": [
    "# import numpy as np\n",
    "# import pandas as pd\n",
    "# from sklearn.decomposition import PCA\n",
    "# import matplotlib.pyplot as plt\n",
    "\n",
    "# pca1 = PCA(n_components=100)\n",
    "# XnameTrain_pca = pca1.fit_transform(XtransformerTrain)\n",
    "\n",
    "# explained_variance_ratio = pca1.explained_variance_ratio_\n",
    "\n",
    "# cumulative_variance = np.cumsum(explained_variance_ratio)\n",
    "\n",
    "# for i, (var, cum_var) in enumerate(zip(explained_variance_ratio, cumulative_variance)):\n",
    "#     print(f\"Component {i+1}: Explained Variance = {var:.4f}, Cumulative Explained Variance = {cum_var:.4f}\")"
   ]
  },
  {
   "cell_type": "code",
   "execution_count": 19,
   "id": "642e9a45-36d4-4a1a-9d4f-817ae8f6bc68",
   "metadata": {},
   "outputs": [
    {
     "data": {
      "text/plain": [
       "(1371, 100)"
      ]
     },
     "execution_count": 19,
     "metadata": {},
     "output_type": "execute_result"
    }
   ],
   "source": [
    "XnameTrain_pca.shape"
   ]
  },
  {
   "cell_type": "code",
   "execution_count": 13,
   "id": "fca42b4a-9eb4-4964-88bb-6cceab9b4840",
   "metadata": {},
   "outputs": [],
   "source": [
    "XtransformerTest = pca1.transform(XtransformerTest)\n",
    "XtransformerTrain = pca1.transform(XtransformerTrain)"
   ]
  },
  {
   "cell_type": "markdown",
   "id": "642aef7a",
   "metadata": {},
   "source": [
    "## Используем балнсировщик"
   ]
  },
  {
   "cell_type": "code",
   "execution_count": 31,
   "id": "968e98e6",
   "metadata": {
    "scrolled": true
   },
   "outputs": [
    {
     "name": "stdout",
     "output_type": "stream",
     "text": [
      "Распределение предсказаний для Метрология:\n",
      "0    3270\n",
      "1     685\n",
      "dtype: int64\n",
      "Распределение предсказаний для Охрана и безопасность труда:\n",
      "0    2737\n",
      "1    1218\n",
      "dtype: int64\n",
      "Распределение предсказаний для Охрана окружающей среды:\n",
      "0    3615\n",
      "1     340\n",
      "dtype: int64\n",
      "Распределение предсказаний для Оценка соответствия:\n",
      "0    3624\n",
      "1     331\n",
      "dtype: int64\n",
      "Распределение предсказаний для Пожарная безопасность:\n",
      "0    3107\n",
      "1     848\n",
      "dtype: int64\n",
      "Распределение предсказаний для Промышленная безопасность:\n",
      "0    3778\n",
      "1     177\n",
      "dtype: int64\n",
      "Распределение предсказаний для Санитарные нормы и правила:\n",
      "0    3493\n",
      "1     462\n",
      "dtype: int64\n",
      "F1 Score для Метрология: 0.8724919093851132\n",
      "F1 Score для Охрана и безопасность труда: 0.8335974643423137\n",
      "F1 Score для Охрана окружающей среды: 0.8515151515151514\n",
      "F1 Score для Оценка соответствия: 0.8389261744966444\n",
      "F1 Score для Пожарная безопасность: 0.7142857142857142\n",
      "F1 Score для Промышленная безопасность: 0.6808510638297872\n",
      "F1 Score для Санитарные нормы и правила: 0.8816067653276956\n",
      "Общий F1 Score: 0.8213885080393868\n"
     ]
    }
   ],
   "source": [
    "from sklearn.utils.class_weight import compute_class_weight\n",
    "from sklearn.neural_network import MLPClassifier\n",
    "\n",
    "class_weights = {}\n",
    "for i, class_label in enumerate(mlbtransformerTrain.classes_):\n",
    "    class_weights[class_label] = compute_class_weight(\n",
    "        class_weight='balanced',\n",
    "        classes=[0, 1],\n",
    "        y=ytransformerTrain.iloc[:, i]\n",
    "    ).tolist()\n",
    "\n",
    "models = {}\n",
    "for i, class_label in enumerate(mlbtransformerTrain.classes_):\n",
    "    # Создаем модель для текущей метки класса\n",
    "    rf = MLPClassifier(\n",
    "    hidden_layer_sizes = (256,512),\n",
    "    activation = 'relu',\n",
    "    solver = 'adam',\n",
    "    alpha = 0.01,\n",
    "    learning_rate = 'adaptive',\n",
    "    max_iter = 1000,\n",
    "    batch_size = 200,\n",
    "    momentum = 0.90,\n",
    "    learning_rate_init = 0.002)\n",
    "\n",
    "    rf.fit(XtransformerTrain, ytransformerTrain.iloc[:, i])  \n",
    "    \n",
    "    models[class_label] = rf\n",
    "\n",
    "y_preds = {}\n",
    "for class_label in mlbtransformerTrain.classes_:\n",
    "    y_preds[class_label] = models[class_label].predict(XtransformerTest)\n",
    "    \n",
    "for class_label in mlbtransformerTrain.classes_:\n",
    "    print(f\"Распределение предсказаний для {class_label}:\")\n",
    "    print(pd.Series(y_preds[class_label]).value_counts())    \n",
    "\n",
    "f1_scores = {}\n",
    "for class_label in mlbtransformerTrain.classes_:\n",
    "    idx = np.where(mlbtransformerTrain.classes_ == class_label)[0][0]\n",
    "    f1_scores[class_label] = f1_score(ytransformerTest.iloc[:, idx], y_preds[class_label], average='binary')  # Используем iloc для доступа к столбцу\n",
    "\n",
    "for class_label, f1 in f1_scores.items():\n",
    "    print(f\"F1 Score для {class_label}: {f1}\")\n",
    "\n",
    "# Общий F1 Score с 'micro' для всей задачи\n",
    "ytransformerTest_combined = ytransformerTest.values\n",
    "y_preds_combined = np.array([y_preds[class_label] for class_label in mlbtransformerTrain.classes_]).T\n",
    "overall_f1 = f1_score(ytransformerTest_combined, y_preds_combined, average='micro')\n",
    "print(f'Общий F1 Score: {overall_f1}')"
   ]
  },
  {
   "cell_type": "markdown",
   "id": "6a528aec",
   "metadata": {},
   "source": [
    "## Без балансировщика"
   ]
  },
  {
   "cell_type": "code",
   "execution_count": 53,
   "id": "133b5851",
   "metadata": {},
   "outputs": [
    {
     "name": "stdout",
     "output_type": "stream",
     "text": [
      "Fitting 3 folds for each of 1 candidates, totalling 3 fits\n",
      "Mean f1_samples score: 0.8352\n",
      "Parameters: {'activation': 'relu', 'alpha': 0.01, 'batch_size': 200, 'hidden_layer_sizes': (256, 512), 'learning_rate': 'adaptive', 'learning_rate_init': 0.002, 'max_iter': 1000, 'momentum': 0.9, 'solver': 'adam'}\n",
      "\n",
      "Лучшие параметры:  {'activation': 'relu', 'alpha': 0.01, 'batch_size': 200, 'hidden_layer_sizes': (256, 512), 'learning_rate': 'adaptive', 'learning_rate_init': 0.002, 'max_iter': 1000, 'momentum': 0.9, 'solver': 'adam'}\n"
     ]
    }
   ],
   "source": [
    "import numpy as np\n",
    "from sklearn.neural_network import MLPClassifier\n",
    "from sklearn.model_selection import GridSearchCV\n",
    "from sklearn.metrics import classification_report\n",
    "\n",
    "X_train = XtransformerTrain\n",
    "X_test = XtransformerTest\n",
    "y_train = ytransformerTrain\n",
    "# y_test = ytransformerTest\n",
    "\n",
    "X_train, X_val, y_train, y_val = train_test_split(X_train, y_train, test_size=0.2, random_state=42)\n",
    "\n",
    "\n",
    "param_grid = {\n",
    "    'hidden_layer_sizes': [(256,512)],\n",
    "    'activation': ['relu'],\n",
    "    'solver': ['adam'],\n",
    "    'alpha': [0.01],\n",
    "    'learning_rate': ['adaptive'],\n",
    "    'max_iter': [1000],\n",
    "    'batch_size': [200],\n",
    "    'momentum': [0.90],\n",
    "    'learning_rate_init': [0.002],\n",
    "}\n",
    "\n",
    "mlp = MLPClassifier()\n",
    "\n",
    "grid_search = GridSearchCV(estimator=mlp, param_grid=param_grid, n_jobs=-1, cv=3, scoring='f1_samples', verbose=1)\n",
    "\n",
    "grid_search.fit(X_train, y_train)\n",
    "\n",
    "results = grid_search.cv_results_\n",
    "for mean_score, params in zip(results['mean_test_score'], results['params']):\n",
    "    print(f\"Mean f1_samples score: {mean_score:.4f}\")\n",
    "    print(f\"Parameters: {params}\")\n",
    "    print()\n",
    "\n",
    "print(\"Лучшие параметры: \", grid_search.best_params_)\n",
    "\n",
    "# Оценка модели с лучшими параметрами\n",
    "best_model = grid_search.best_estimator_\n",
    "# y_pred = best_model.predict(X_test)\n",
    "# print(\"Классификационный отчет:\\n\", classification_report(y_test, y_pred))\n"
   ]
  },
  {
   "cell_type": "code",
   "execution_count": 54,
   "id": "058e11d2-8f64-44be-8069-b4c0d5ff49b9",
   "metadata": {},
   "outputs": [
    {
     "data": {
      "text/html": [
       "<div>\n",
       "<style scoped>\n",
       "    .dataframe tbody tr th:only-of-type {\n",
       "        vertical-align: middle;\n",
       "    }\n",
       "\n",
       "    .dataframe tbody tr th {\n",
       "        vertical-align: top;\n",
       "    }\n",
       "\n",
       "    .dataframe thead th {\n",
       "        text-align: right;\n",
       "    }\n",
       "</style>\n",
       "<table border=\"1\" class=\"dataframe\">\n",
       "  <thead>\n",
       "    <tr style=\"text-align: right;\">\n",
       "      <th></th>\n",
       "      <th>0</th>\n",
       "      <th>1</th>\n",
       "      <th>2</th>\n",
       "      <th>3</th>\n",
       "      <th>4</th>\n",
       "      <th>5</th>\n",
       "      <th>6</th>\n",
       "      <th>7</th>\n",
       "      <th>8</th>\n",
       "      <th>9</th>\n",
       "      <th>...</th>\n",
       "      <th>758</th>\n",
       "      <th>759</th>\n",
       "      <th>760</th>\n",
       "      <th>761</th>\n",
       "      <th>762</th>\n",
       "      <th>763</th>\n",
       "      <th>764</th>\n",
       "      <th>765</th>\n",
       "      <th>766</th>\n",
       "      <th>767</th>\n",
       "    </tr>\n",
       "  </thead>\n",
       "  <tbody>\n",
       "    <tr>\n",
       "      <th>0</th>\n",
       "      <td>0.353361</td>\n",
       "      <td>-0.243320</td>\n",
       "      <td>0.056097</td>\n",
       "      <td>0.115360</td>\n",
       "      <td>-0.032791</td>\n",
       "      <td>0.398964</td>\n",
       "      <td>0.301549</td>\n",
       "      <td>0.404506</td>\n",
       "      <td>-0.237792</td>\n",
       "      <td>0.364938</td>\n",
       "      <td>...</td>\n",
       "      <td>0.147442</td>\n",
       "      <td>0.174253</td>\n",
       "      <td>0.112246</td>\n",
       "      <td>0.858475</td>\n",
       "      <td>0.286932</td>\n",
       "      <td>0.286815</td>\n",
       "      <td>0.252810</td>\n",
       "      <td>-0.182178</td>\n",
       "      <td>0.195503</td>\n",
       "      <td>0.093186</td>\n",
       "    </tr>\n",
       "    <tr>\n",
       "      <th>1</th>\n",
       "      <td>0.325935</td>\n",
       "      <td>-0.239992</td>\n",
       "      <td>0.280767</td>\n",
       "      <td>0.152410</td>\n",
       "      <td>0.015082</td>\n",
       "      <td>0.282491</td>\n",
       "      <td>0.364922</td>\n",
       "      <td>0.154419</td>\n",
       "      <td>-0.194627</td>\n",
       "      <td>0.162829</td>\n",
       "      <td>...</td>\n",
       "      <td>0.064095</td>\n",
       "      <td>0.280048</td>\n",
       "      <td>0.064118</td>\n",
       "      <td>0.568542</td>\n",
       "      <td>0.047745</td>\n",
       "      <td>0.242388</td>\n",
       "      <td>0.178616</td>\n",
       "      <td>0.015276</td>\n",
       "      <td>0.197861</td>\n",
       "      <td>0.091460</td>\n",
       "    </tr>\n",
       "    <tr>\n",
       "      <th>2</th>\n",
       "      <td>0.080471</td>\n",
       "      <td>-0.039778</td>\n",
       "      <td>0.064883</td>\n",
       "      <td>0.356651</td>\n",
       "      <td>0.033170</td>\n",
       "      <td>0.238256</td>\n",
       "      <td>0.223000</td>\n",
       "      <td>0.019053</td>\n",
       "      <td>-0.048515</td>\n",
       "      <td>0.092934</td>\n",
       "      <td>...</td>\n",
       "      <td>0.002017</td>\n",
       "      <td>0.130841</td>\n",
       "      <td>0.069298</td>\n",
       "      <td>0.528059</td>\n",
       "      <td>0.188968</td>\n",
       "      <td>0.192756</td>\n",
       "      <td>-0.035181</td>\n",
       "      <td>0.025941</td>\n",
       "      <td>0.018656</td>\n",
       "      <td>-0.014280</td>\n",
       "    </tr>\n",
       "    <tr>\n",
       "      <th>3</th>\n",
       "      <td>0.398776</td>\n",
       "      <td>-0.378964</td>\n",
       "      <td>0.347807</td>\n",
       "      <td>-0.059261</td>\n",
       "      <td>-0.130373</td>\n",
       "      <td>0.290891</td>\n",
       "      <td>0.475221</td>\n",
       "      <td>0.310504</td>\n",
       "      <td>-0.223411</td>\n",
       "      <td>0.426864</td>\n",
       "      <td>...</td>\n",
       "      <td>0.299909</td>\n",
       "      <td>0.261459</td>\n",
       "      <td>0.337460</td>\n",
       "      <td>0.984841</td>\n",
       "      <td>0.320758</td>\n",
       "      <td>0.347120</td>\n",
       "      <td>0.317649</td>\n",
       "      <td>-0.280297</td>\n",
       "      <td>0.190008</td>\n",
       "      <td>0.273208</td>\n",
       "    </tr>\n",
       "    <tr>\n",
       "      <th>4</th>\n",
       "      <td>0.150647</td>\n",
       "      <td>-0.273693</td>\n",
       "      <td>0.136267</td>\n",
       "      <td>0.016533</td>\n",
       "      <td>-0.134183</td>\n",
       "      <td>0.321138</td>\n",
       "      <td>0.304455</td>\n",
       "      <td>0.241956</td>\n",
       "      <td>-0.310449</td>\n",
       "      <td>0.476910</td>\n",
       "      <td>...</td>\n",
       "      <td>0.320894</td>\n",
       "      <td>0.150388</td>\n",
       "      <td>0.354280</td>\n",
       "      <td>0.968229</td>\n",
       "      <td>0.286009</td>\n",
       "      <td>0.408255</td>\n",
       "      <td>0.170743</td>\n",
       "      <td>-0.168815</td>\n",
       "      <td>0.142104</td>\n",
       "      <td>0.210360</td>\n",
       "    </tr>\n",
       "    <tr>\n",
       "      <th>...</th>\n",
       "      <td>...</td>\n",
       "      <td>...</td>\n",
       "      <td>...</td>\n",
       "      <td>...</td>\n",
       "      <td>...</td>\n",
       "      <td>...</td>\n",
       "      <td>...</td>\n",
       "      <td>...</td>\n",
       "      <td>...</td>\n",
       "      <td>...</td>\n",
       "      <td>...</td>\n",
       "      <td>...</td>\n",
       "      <td>...</td>\n",
       "      <td>...</td>\n",
       "      <td>...</td>\n",
       "      <td>...</td>\n",
       "      <td>...</td>\n",
       "      <td>...</td>\n",
       "      <td>...</td>\n",
       "      <td>...</td>\n",
       "      <td>...</td>\n",
       "    </tr>\n",
       "    <tr>\n",
       "      <th>9689</th>\n",
       "      <td>0.221890</td>\n",
       "      <td>-0.403857</td>\n",
       "      <td>0.182291</td>\n",
       "      <td>-0.125159</td>\n",
       "      <td>-0.238897</td>\n",
       "      <td>0.340836</td>\n",
       "      <td>0.412804</td>\n",
       "      <td>0.321552</td>\n",
       "      <td>-0.414632</td>\n",
       "      <td>0.538610</td>\n",
       "      <td>...</td>\n",
       "      <td>0.335821</td>\n",
       "      <td>0.195817</td>\n",
       "      <td>0.457760</td>\n",
       "      <td>0.918972</td>\n",
       "      <td>0.308688</td>\n",
       "      <td>0.384629</td>\n",
       "      <td>0.185223</td>\n",
       "      <td>-0.159558</td>\n",
       "      <td>0.285970</td>\n",
       "      <td>0.197536</td>\n",
       "    </tr>\n",
       "    <tr>\n",
       "      <th>9690</th>\n",
       "      <td>0.064626</td>\n",
       "      <td>-0.029448</td>\n",
       "      <td>0.194657</td>\n",
       "      <td>0.204840</td>\n",
       "      <td>0.137827</td>\n",
       "      <td>0.045111</td>\n",
       "      <td>0.052437</td>\n",
       "      <td>0.104115</td>\n",
       "      <td>-0.071366</td>\n",
       "      <td>-0.065642</td>\n",
       "      <td>...</td>\n",
       "      <td>0.053031</td>\n",
       "      <td>-0.024066</td>\n",
       "      <td>0.065922</td>\n",
       "      <td>0.062281</td>\n",
       "      <td>0.072315</td>\n",
       "      <td>0.004780</td>\n",
       "      <td>0.062291</td>\n",
       "      <td>0.205900</td>\n",
       "      <td>0.046987</td>\n",
       "      <td>0.054727</td>\n",
       "    </tr>\n",
       "    <tr>\n",
       "      <th>9691</th>\n",
       "      <td>0.146691</td>\n",
       "      <td>-0.117981</td>\n",
       "      <td>0.151812</td>\n",
       "      <td>0.096872</td>\n",
       "      <td>-0.021042</td>\n",
       "      <td>0.172170</td>\n",
       "      <td>0.152595</td>\n",
       "      <td>0.148357</td>\n",
       "      <td>-0.154452</td>\n",
       "      <td>0.189064</td>\n",
       "      <td>...</td>\n",
       "      <td>0.158616</td>\n",
       "      <td>0.015169</td>\n",
       "      <td>0.101122</td>\n",
       "      <td>0.668805</td>\n",
       "      <td>0.130857</td>\n",
       "      <td>0.149886</td>\n",
       "      <td>0.158873</td>\n",
       "      <td>0.029864</td>\n",
       "      <td>0.067642</td>\n",
       "      <td>-0.056346</td>\n",
       "    </tr>\n",
       "    <tr>\n",
       "      <th>9692</th>\n",
       "      <td>0.038171</td>\n",
       "      <td>-0.004897</td>\n",
       "      <td>0.039103</td>\n",
       "      <td>0.258549</td>\n",
       "      <td>0.078052</td>\n",
       "      <td>0.228774</td>\n",
       "      <td>0.225885</td>\n",
       "      <td>0.141474</td>\n",
       "      <td>-0.158111</td>\n",
       "      <td>0.181955</td>\n",
       "      <td>...</td>\n",
       "      <td>0.251964</td>\n",
       "      <td>0.018961</td>\n",
       "      <td>0.257157</td>\n",
       "      <td>0.376767</td>\n",
       "      <td>0.251073</td>\n",
       "      <td>0.166744</td>\n",
       "      <td>0.168914</td>\n",
       "      <td>0.134019</td>\n",
       "      <td>-0.054821</td>\n",
       "      <td>0.059107</td>\n",
       "    </tr>\n",
       "    <tr>\n",
       "      <th>9693</th>\n",
       "      <td>0.222561</td>\n",
       "      <td>-0.238664</td>\n",
       "      <td>0.162803</td>\n",
       "      <td>0.233733</td>\n",
       "      <td>0.041191</td>\n",
       "      <td>0.207151</td>\n",
       "      <td>0.311652</td>\n",
       "      <td>0.149450</td>\n",
       "      <td>-0.096494</td>\n",
       "      <td>0.044447</td>\n",
       "      <td>...</td>\n",
       "      <td>0.019212</td>\n",
       "      <td>0.075507</td>\n",
       "      <td>0.216187</td>\n",
       "      <td>0.253608</td>\n",
       "      <td>0.147499</td>\n",
       "      <td>0.233616</td>\n",
       "      <td>0.223726</td>\n",
       "      <td>0.011073</td>\n",
       "      <td>0.127341</td>\n",
       "      <td>0.142925</td>\n",
       "    </tr>\n",
       "  </tbody>\n",
       "</table>\n",
       "<p>9694 rows × 768 columns</p>\n",
       "</div>"
      ],
      "text/plain": [
       "           0         1         2         3         4         5         6    \\\n",
       "0     0.353361 -0.243320  0.056097  0.115360 -0.032791  0.398964  0.301549   \n",
       "1     0.325935 -0.239992  0.280767  0.152410  0.015082  0.282491  0.364922   \n",
       "2     0.080471 -0.039778  0.064883  0.356651  0.033170  0.238256  0.223000   \n",
       "3     0.398776 -0.378964  0.347807 -0.059261 -0.130373  0.290891  0.475221   \n",
       "4     0.150647 -0.273693  0.136267  0.016533 -0.134183  0.321138  0.304455   \n",
       "...        ...       ...       ...       ...       ...       ...       ...   \n",
       "9689  0.221890 -0.403857  0.182291 -0.125159 -0.238897  0.340836  0.412804   \n",
       "9690  0.064626 -0.029448  0.194657  0.204840  0.137827  0.045111  0.052437   \n",
       "9691  0.146691 -0.117981  0.151812  0.096872 -0.021042  0.172170  0.152595   \n",
       "9692  0.038171 -0.004897  0.039103  0.258549  0.078052  0.228774  0.225885   \n",
       "9693  0.222561 -0.238664  0.162803  0.233733  0.041191  0.207151  0.311652   \n",
       "\n",
       "           7         8         9    ...       758       759       760  \\\n",
       "0     0.404506 -0.237792  0.364938  ...  0.147442  0.174253  0.112246   \n",
       "1     0.154419 -0.194627  0.162829  ...  0.064095  0.280048  0.064118   \n",
       "2     0.019053 -0.048515  0.092934  ...  0.002017  0.130841  0.069298   \n",
       "3     0.310504 -0.223411  0.426864  ...  0.299909  0.261459  0.337460   \n",
       "4     0.241956 -0.310449  0.476910  ...  0.320894  0.150388  0.354280   \n",
       "...        ...       ...       ...  ...       ...       ...       ...   \n",
       "9689  0.321552 -0.414632  0.538610  ...  0.335821  0.195817  0.457760   \n",
       "9690  0.104115 -0.071366 -0.065642  ...  0.053031 -0.024066  0.065922   \n",
       "9691  0.148357 -0.154452  0.189064  ...  0.158616  0.015169  0.101122   \n",
       "9692  0.141474 -0.158111  0.181955  ...  0.251964  0.018961  0.257157   \n",
       "9693  0.149450 -0.096494  0.044447  ...  0.019212  0.075507  0.216187   \n",
       "\n",
       "           761       762       763       764       765       766       767  \n",
       "0     0.858475  0.286932  0.286815  0.252810 -0.182178  0.195503  0.093186  \n",
       "1     0.568542  0.047745  0.242388  0.178616  0.015276  0.197861  0.091460  \n",
       "2     0.528059  0.188968  0.192756 -0.035181  0.025941  0.018656 -0.014280  \n",
       "3     0.984841  0.320758  0.347120  0.317649 -0.280297  0.190008  0.273208  \n",
       "4     0.968229  0.286009  0.408255  0.170743 -0.168815  0.142104  0.210360  \n",
       "...        ...       ...       ...       ...       ...       ...       ...  \n",
       "9689  0.918972  0.308688  0.384629  0.185223 -0.159558  0.285970  0.197536  \n",
       "9690  0.062281  0.072315  0.004780  0.062291  0.205900  0.046987  0.054727  \n",
       "9691  0.668805  0.130857  0.149886  0.158873  0.029864  0.067642 -0.056346  \n",
       "9692  0.376767  0.251073  0.166744  0.168914  0.134019 -0.054821  0.059107  \n",
       "9693  0.253608  0.147499  0.233616  0.223726  0.011073  0.127341  0.142925  \n",
       "\n",
       "[9694 rows x 768 columns]"
      ]
     },
     "execution_count": 54,
     "metadata": {},
     "output_type": "execute_result"
    }
   ],
   "source": [
    "X_test"
   ]
  },
  {
   "cell_type": "code",
   "execution_count": 55,
   "id": "93ad68ba-87ad-4b51-9e34-68ffaed08fdc",
   "metadata": {},
   "outputs": [
    {
     "data": {
      "text/plain": [
       "array([[0, 0, 0, ..., 0, 1, 0],\n",
       "       [0, 0, 0, ..., 0, 0, 0],\n",
       "       [0, 0, 0, ..., 1, 0, 0],\n",
       "       ...,\n",
       "       [0, 1, 0, ..., 1, 0, 0],\n",
       "       [0, 0, 0, ..., 0, 0, 1],\n",
       "       [0, 0, 0, ..., 0, 0, 0]])"
      ]
     },
     "execution_count": 55,
     "metadata": {},
     "output_type": "execute_result"
    }
   ],
   "source": [
    "y_pred = best_model.predict(X_test)\n",
    "y_pred"
   ]
  },
  {
   "cell_type": "code",
   "execution_count": 56,
   "id": "11b864ea-0c72-4d78-9753-6f327eb5504a",
   "metadata": {},
   "outputs": [
    {
     "data": {
      "text/html": [
       "<div>\n",
       "<style scoped>\n",
       "    .dataframe tbody tr th:only-of-type {\n",
       "        vertical-align: middle;\n",
       "    }\n",
       "\n",
       "    .dataframe tbody tr th {\n",
       "        vertical-align: top;\n",
       "    }\n",
       "\n",
       "    .dataframe thead th {\n",
       "        text-align: right;\n",
       "    }\n",
       "</style>\n",
       "<table border=\"1\" class=\"dataframe\">\n",
       "  <thead>\n",
       "    <tr style=\"text-align: right;\">\n",
       "      <th></th>\n",
       "      <th>iddoc</th>\n",
       "      <th>Метрология</th>\n",
       "      <th>Охрана и безопасность труда</th>\n",
       "      <th>Охрана окружающей среды</th>\n",
       "      <th>Оценка соответствия</th>\n",
       "      <th>Пожарная безопасность</th>\n",
       "      <th>Промышленная безопасность</th>\n",
       "      <th>Санитарные нормы и правила</th>\n",
       "    </tr>\n",
       "  </thead>\n",
       "  <tbody>\n",
       "    <tr>\n",
       "      <th>0</th>\n",
       "      <td>140004</td>\n",
       "      <td>0</td>\n",
       "      <td>0</td>\n",
       "      <td>0</td>\n",
       "      <td>0</td>\n",
       "      <td>0</td>\n",
       "      <td>1</td>\n",
       "      <td>0</td>\n",
       "    </tr>\n",
       "    <tr>\n",
       "      <th>1</th>\n",
       "      <td>140005</td>\n",
       "      <td>0</td>\n",
       "      <td>0</td>\n",
       "      <td>0</td>\n",
       "      <td>0</td>\n",
       "      <td>0</td>\n",
       "      <td>0</td>\n",
       "      <td>0</td>\n",
       "    </tr>\n",
       "    <tr>\n",
       "      <th>2</th>\n",
       "      <td>190074</td>\n",
       "      <td>0</td>\n",
       "      <td>0</td>\n",
       "      <td>0</td>\n",
       "      <td>0</td>\n",
       "      <td>1</td>\n",
       "      <td>0</td>\n",
       "      <td>0</td>\n",
       "    </tr>\n",
       "    <tr>\n",
       "      <th>3</th>\n",
       "      <td>190084</td>\n",
       "      <td>0</td>\n",
       "      <td>1</td>\n",
       "      <td>0</td>\n",
       "      <td>0</td>\n",
       "      <td>0</td>\n",
       "      <td>0</td>\n",
       "      <td>0</td>\n",
       "    </tr>\n",
       "    <tr>\n",
       "      <th>4</th>\n",
       "      <td>190105</td>\n",
       "      <td>0</td>\n",
       "      <td>1</td>\n",
       "      <td>0</td>\n",
       "      <td>0</td>\n",
       "      <td>0</td>\n",
       "      <td>0</td>\n",
       "      <td>0</td>\n",
       "    </tr>\n",
       "    <tr>\n",
       "      <th>...</th>\n",
       "      <td>...</td>\n",
       "      <td>...</td>\n",
       "      <td>...</td>\n",
       "      <td>...</td>\n",
       "      <td>...</td>\n",
       "      <td>...</td>\n",
       "      <td>...</td>\n",
       "      <td>...</td>\n",
       "    </tr>\n",
       "    <tr>\n",
       "      <th>9689</th>\n",
       "      <td>130668748</td>\n",
       "      <td>0</td>\n",
       "      <td>0</td>\n",
       "      <td>0</td>\n",
       "      <td>0</td>\n",
       "      <td>1</td>\n",
       "      <td>0</td>\n",
       "      <td>0</td>\n",
       "    </tr>\n",
       "    <tr>\n",
       "      <th>9690</th>\n",
       "      <td>130671048</td>\n",
       "      <td>0</td>\n",
       "      <td>1</td>\n",
       "      <td>0</td>\n",
       "      <td>0</td>\n",
       "      <td>0</td>\n",
       "      <td>0</td>\n",
       "      <td>0</td>\n",
       "    </tr>\n",
       "    <tr>\n",
       "      <th>9691</th>\n",
       "      <td>130674299</td>\n",
       "      <td>0</td>\n",
       "      <td>1</td>\n",
       "      <td>0</td>\n",
       "      <td>0</td>\n",
       "      <td>1</td>\n",
       "      <td>0</td>\n",
       "      <td>0</td>\n",
       "    </tr>\n",
       "    <tr>\n",
       "      <th>9692</th>\n",
       "      <td>130676021</td>\n",
       "      <td>0</td>\n",
       "      <td>0</td>\n",
       "      <td>0</td>\n",
       "      <td>0</td>\n",
       "      <td>0</td>\n",
       "      <td>0</td>\n",
       "      <td>1</td>\n",
       "    </tr>\n",
       "    <tr>\n",
       "      <th>9693</th>\n",
       "      <td>130676021</td>\n",
       "      <td>0</td>\n",
       "      <td>0</td>\n",
       "      <td>0</td>\n",
       "      <td>0</td>\n",
       "      <td>0</td>\n",
       "      <td>0</td>\n",
       "      <td>0</td>\n",
       "    </tr>\n",
       "  </tbody>\n",
       "</table>\n",
       "<p>9694 rows × 8 columns</p>\n",
       "</div>"
      ],
      "text/plain": [
       "          iddoc  Метрология  Охрана и безопасность труда  \\\n",
       "0        140004           0                            0   \n",
       "1        140005           0                            0   \n",
       "2        190074           0                            0   \n",
       "3        190084           0                            1   \n",
       "4        190105           0                            1   \n",
       "...         ...         ...                          ...   \n",
       "9689  130668748           0                            0   \n",
       "9690  130671048           0                            1   \n",
       "9691  130674299           0                            1   \n",
       "9692  130676021           0                            0   \n",
       "9693  130676021           0                            0   \n",
       "\n",
       "      Охрана окружающей среды  Оценка соответствия  Пожарная безопасность  \\\n",
       "0                           0                    0                      0   \n",
       "1                           0                    0                      0   \n",
       "2                           0                    0                      1   \n",
       "3                           0                    0                      0   \n",
       "4                           0                    0                      0   \n",
       "...                       ...                  ...                    ...   \n",
       "9689                        0                    0                      1   \n",
       "9690                        0                    0                      0   \n",
       "9691                        0                    0                      1   \n",
       "9692                        0                    0                      0   \n",
       "9693                        0                    0                      0   \n",
       "\n",
       "      Промышленная безопасность  Санитарные нормы и правила  \n",
       "0                             1                           0  \n",
       "1                             0                           0  \n",
       "2                             0                           0  \n",
       "3                             0                           0  \n",
       "4                             0                           0  \n",
       "...                         ...                         ...  \n",
       "9689                          0                           0  \n",
       "9690                          0                           0  \n",
       "9691                          0                           0  \n",
       "9692                          0                           1  \n",
       "9693                          0                           0  \n",
       "\n",
       "[9694 rows x 8 columns]"
      ]
     },
     "execution_count": 56,
     "metadata": {},
     "output_type": "execute_result"
    }
   ],
   "source": [
    "y_pred = pd.DataFrame(y_pred, columns=mlbtransformerTrain.classes_)\n",
    "y_pred.insert(0, 'iddoc', trainmynameavg['iddoc'])\n",
    "y_pred"
   ]
  },
  {
   "cell_type": "code",
   "execution_count": 23,
   "id": "80bbbcff-40c7-48f1-ad69-3b3f094faf08",
   "metadata": {},
   "outputs": [
    {
     "data": {
      "text/plain": [
       "array([[0, 1, 0, ..., 0, 1, 0],\n",
       "       [0, 1, 0, ..., 0, 0, 0],\n",
       "       [0, 0, 0, ..., 0, 1, 0],\n",
       "       ...,\n",
       "       [0, 0, 0, ..., 0, 0, 0],\n",
       "       [0, 1, 0, ..., 0, 0, 0],\n",
       "       [0, 0, 0, ..., 0, 0, 0]])"
      ]
     },
     "execution_count": 23,
     "metadata": {},
     "output_type": "execute_result"
    }
   ],
   "source": [
    "y_pred = best_model.predict(X_test)\n",
    "y_pred"
   ]
  },
  {
   "cell_type": "code",
   "execution_count": 76,
   "id": "a04ce85f",
   "metadata": {},
   "outputs": [
    {
     "name": "stdout",
     "output_type": "stream",
     "text": [
      "Fitting 3 folds for each of 1 candidates, totalling 3 fits\n",
      "Mean f1_samples score: 0.7493\n",
      "Parameters: {'activation': 'relu', 'alpha': 0.01, 'batch_size': 200, 'hidden_layer_sizes': (256, 512), 'learning_rate': 'adaptive', 'learning_rate_init': 0.002, 'max_iter': 1000, 'momentum': 0.9, 'solver': 'adam'}\n",
      "\n",
      "Лучшие параметры:  {'activation': 'relu', 'alpha': 0.01, 'batch_size': 200, 'hidden_layer_sizes': (256, 512), 'learning_rate': 'adaptive', 'learning_rate_init': 0.002, 'max_iter': 1000, 'momentum': 0.9, 'solver': 'adam'}\n",
      "Классификационный отчет:\n",
      "               precision    recall  f1-score   support\n",
      "\n",
      "           0       0.98      0.75      0.85       860\n",
      "           1       0.94      0.68      0.79      1306\n",
      "           2       0.85      0.84      0.84       320\n",
      "           3       0.76      0.92      0.84       265\n",
      "           4       0.77      0.73      0.75       622\n",
      "           5       0.65      0.87      0.74       105\n",
      "           6       0.91      0.86      0.88       484\n",
      "\n",
      "   micro avg       0.88      0.76      0.81      3962\n",
      "   macro avg       0.84      0.80      0.81      3962\n",
      "weighted avg       0.89      0.76      0.81      3962\n",
      " samples avg       0.74      0.76      0.75      3962\n",
      "\n"
     ]
    },
    {
     "name": "stderr",
     "output_type": "stream",
     "text": [
      "C:\\Users\\Waple\\.conda\\envs\\tf1\\lib\\site-packages\\sklearn\\metrics\\_classification.py:1318: UndefinedMetricWarning: Precision and F-score are ill-defined and being set to 0.0 in samples with no predicted labels. Use `zero_division` parameter to control this behavior.\n",
      "  _warn_prf(average, modifier, msg_start, len(result))\n"
     ]
    }
   ],
   "source": [
    "import numpy as np\n",
    "from sklearn.neural_network import MLPClassifier\n",
    "from sklearn.model_selection import GridSearchCV, train_test_split\n",
    "from sklearn.metrics import classification_report\n",
    "from sklearn.preprocessing import StandardScaler\n",
    "from sklearn.pipeline import Pipeline\n",
    "from sklearn.multioutput import MultiOutputClassifier\n",
    "from imblearn.over_sampling import RandomOverSampler\n",
    "from sklearn.multioutput import ClassifierChain\n",
    "\n",
    "# Ваши данные (замените XtransformerTrain и другие переменные на ваши данные)\n",
    "X_train = XtransformerTrain\n",
    "X_test = XtransformerTest\n",
    "y_train = ytransformerTrain\n",
    "y_test = ytransformerTest\n",
    "\n",
    "# Разделение на обучающую и валидационную выборки\n",
    "X_train, X_val, y_train, y_val = train_test_split(X_train, y_train, test_size=0.2, random_state=42)\n",
    "\n",
    "# Параметры для MLPClassifier\n",
    "param_grid = {\n",
    "    'hidden_layer_sizes': [(256, 512)],\n",
    "    'activation': ['relu'],\n",
    "    'solver': ['adam'],\n",
    "    'alpha': [0.01],\n",
    "    'learning_rate': ['adaptive'],\n",
    "    'max_iter': [1000],\n",
    "    'batch_size': [200],\n",
    "    'momentum': [0.90],\n",
    "    'learning_rate_init': [0.002],\n",
    "}\n",
    "\n",
    "# Инициализация MLPClassifier\n",
    "mlp = MLPClassifier()\n",
    "\n",
    "# Поиск лучших параметров с помощью GridSearchCV\n",
    "grid_search = GridSearchCV(estimator=mlp, param_grid=param_grid, n_jobs=-1, cv=3, scoring='f1_samples', verbose=1)\n",
    "grid_search.fit(X_val, y_val)\n",
    "\n",
    "# Вывод результатов GridSearchCV\n",
    "results = grid_search.cv_results_\n",
    "for mean_score, params in zip(results['mean_test_score'], results['params']):\n",
    "    print(f\"Mean f1_samples score: {mean_score:.4f}\")\n",
    "    print(f\"Parameters: {params}\")\n",
    "    print()\n",
    "\n",
    "print(\"Лучшие параметры: \", grid_search.best_params_)\n",
    "\n",
    "# Использование лучших параметров для MLPClassifier в пайплайне\n",
    "best_mlp_params = grid_search.best_params_\n",
    "mlp_classifier = MLPClassifier(**best_mlp_params)\n",
    "\n",
    "# Пайплайн с масштабированием и MLPClassifier\n",
    "pipeline = Pipeline([\n",
    "    ('scaler', StandardScaler()),  # Масштабирование признаков\n",
    "    ('clf', ClassifierChain(mlp_classifier))\n",
    "])\n",
    "\n",
    "# Обучение модели\n",
    "pipeline.fit(X_train, y_train)\n",
    "\n",
    "# Оценка модели\n",
    "y_pred = pipeline.predict(X_test)\n",
    "\n",
    "# Оценка качества модели\n",
    "print(\"Классификационный отчет:\\n\", classification_report(y_test, y_pred))"
   ]
  },
  {
   "cell_type": "code",
   "execution_count": null,
   "id": "3934e754",
   "metadata": {},
   "outputs": [],
   "source": [
    "# TF-IDF(текст)(повторяющие слова важны) SKLEARN ( ЭТО РАЗРЕЖЕННЫЕ ВЕКТОРА - СНИЗИТЬ РАЗМЕРНОСТЬ) РАЗМЕР - СЛОВАРЬ\n",
    "# 1)УМЕНЬШИТЬ С ПОМОЩЬЮ МЕТОДА ГЛАВНЫХ КОМПОНЕНТ 2)tsne - снижение размерности\n",
    "\n",
    "# классификатор по количеству классов. 7 классов - 7 классификаторов! подход - разграничить объекты разных классов\n",
    "# оценка avg mediana\n",
    "# предобработка - убрать информацию в скобках\n",
    "# внесение изменений/ поправки\n",
    "# onvsrest\n",
    "# размеченные -эксперты"
   ]
  },
  {
   "cell_type": "markdown",
   "id": "a19c8e34",
   "metadata": {},
   "source": [
    "## TF-IDF"
   ]
  },
  {
   "cell_type": "markdown",
   "id": "8b68d98d",
   "metadata": {},
   "source": [
    "## Тестовая выборка и обучающая выборка, merge"
   ]
  },
  {
   "cell_type": "code",
   "execution_count": null,
   "id": "aaa3f754",
   "metadata": {},
   "outputs": [],
   "source": [
    "import pandas as pd\n",
    "dflxml_test=pd.read_pickle(\"./my_df/dflxml_test.pkl\")\n",
    "df_label_test = pd.read_csv('./work_data/DS_check_quality.csv', encoding=\"windows-1251\",sep=';')\n",
    "df_label_test = df_label_test.rename(columns={'ID': 'iddoc'})\n",
    "df_label_test['iddoc'] = df_label_test['iddoc'].astype(str)\n",
    "svd_result_df_test = pd.merge(dflxml_test, df_label_test, on='iddoc', how='inner')\n",
    "svd_result_df_test"
   ]
  },
  {
   "cell_type": "code",
   "execution_count": null,
   "id": "5a0285b2",
   "metadata": {},
   "outputs": [],
   "source": [
    "import pandas as pd\n",
    "dflxml=pd.read_pickle(\"./my_df/dflxml.pkl\")\n",
    "df_label_train = pd.read_csv('./work_data/DS_TechReg-140624.csv', encoding=\"windows-1251\",sep=';')\n",
    "df_label_train = df_label_train.rename(columns={'ID': 'iddoc'})\n",
    "df_label_train['iddoc'] = df_label_train['iddoc'].astype(str)\n",
    "svd_result_df_train = pd.merge(dflxml, df_label_train, on='iddoc', how='inner')\n",
    "svd_result_df_train"
   ]
  },
  {
   "cell_type": "code",
   "execution_count": null,
   "id": "9eed3327",
   "metadata": {},
   "outputs": [],
   "source": [
    "merged_df = pd.concat([svd_result_df_train, svd_result_df_test]).drop_duplicates(subset=['iddoc']).reset_index(drop=True)\n",
    "merged_df"
   ]
  },
  {
   "cell_type": "code",
   "execution_count": null,
   "id": "6de0f4e2",
   "metadata": {},
   "outputs": [],
   "source": [
    "from sklearn.decomposition import TruncatedSVD\n",
    "import pandas as pd\n",
    "from sklearn.feature_extraction.text import TfidfVectorizer\n",
    "\n",
    "documents = merged_df['Text'].tolist()\n",
    "iddocs = merged_df['iddoc'].tolist()\n",
    "labels = merged_df['Label'].tolist()\n",
    "\n",
    "tfidf_vectorizer = TfidfVectorizer()\n",
    "tfidf_matrix = tfidf_vectorizer.fit_transform(documents)\n",
    "\n",
    "n_components = 300\n",
    "svd = TruncatedSVD(n_components=n_components)\n",
    "\n",
    "svd_result = svd.fit_transform(tfidf_matrix)\n",
    "\n",
    "svd_result_df = pd.DataFrame(svd_result, columns=[f\"component_{i}\" for i in range(n_components)])\n",
    "svd_result_df['iddoc'] = iddocs \n",
    "svd_result_df['Label'] = labels \n",
    "\n",
    "print(f\"Исходный размер TF-IDF матрицы: {tfidf_matrix.shape}\")\n",
    "print(f\"Размерность матрицы после TruncatedSVD: {svd_result.shape}\")\n",
    "print(\"\\nРезультаты SVD с идентификаторами документов:\")\n",
    "print(svd_result_df)\n"
   ]
  },
  {
   "cell_type": "code",
   "execution_count": null,
   "id": "34457fd2",
   "metadata": {},
   "outputs": [],
   "source": [
    "svd_result_df_ = pd.DataFrame(svd_result_df)\n",
    "svd_result_df_"
   ]
  },
  {
   "cell_type": "code",
   "execution_count": null,
   "id": "5953edbd",
   "metadata": {},
   "outputs": [],
   "source": [
    "svd_result_df_.to_pickle('./my_df/svd_result_df_.pkl')"
   ]
  },
  {
   "cell_type": "markdown",
   "id": "d1801f9f",
   "metadata": {},
   "source": [
    "## Разбиваем тренируем тестируем TF-IDF"
   ]
  },
  {
   "cell_type": "code",
   "execution_count": 29,
   "id": "1bd4a6b9",
   "metadata": {},
   "outputs": [],
   "source": [
    "import pandas as pd\n",
    "svd_result_df_=pd.read_pickle(\"./my_df/svd_result_df_.pkl\")"
   ]
  },
  {
   "cell_type": "code",
   "execution_count": 33,
   "id": "8476aa72",
   "metadata": {},
   "outputs": [
    {
     "data": {
      "text/html": [
       "<div>\n",
       "<style scoped>\n",
       "    .dataframe tbody tr th:only-of-type {\n",
       "        vertical-align: middle;\n",
       "    }\n",
       "\n",
       "    .dataframe tbody tr th {\n",
       "        vertical-align: top;\n",
       "    }\n",
       "\n",
       "    .dataframe thead th {\n",
       "        text-align: right;\n",
       "    }\n",
       "</style>\n",
       "<table border=\"1\" class=\"dataframe\">\n",
       "  <thead>\n",
       "    <tr style=\"text-align: right;\">\n",
       "      <th></th>\n",
       "      <th>component_0</th>\n",
       "      <th>component_1</th>\n",
       "      <th>component_2</th>\n",
       "      <th>component_3</th>\n",
       "      <th>component_4</th>\n",
       "      <th>component_5</th>\n",
       "      <th>component_6</th>\n",
       "      <th>component_7</th>\n",
       "      <th>component_8</th>\n",
       "      <th>component_9</th>\n",
       "      <th>...</th>\n",
       "      <th>component_292</th>\n",
       "      <th>component_293</th>\n",
       "      <th>component_294</th>\n",
       "      <th>component_295</th>\n",
       "      <th>component_296</th>\n",
       "      <th>component_297</th>\n",
       "      <th>component_298</th>\n",
       "      <th>component_299</th>\n",
       "      <th>iddoc</th>\n",
       "      <th>Label</th>\n",
       "    </tr>\n",
       "  </thead>\n",
       "  <tbody>\n",
       "    <tr>\n",
       "      <th>3253</th>\n",
       "      <td>0.403099</td>\n",
       "      <td>-0.130357</td>\n",
       "      <td>-0.181982</td>\n",
       "      <td>0.012088</td>\n",
       "      <td>0.235052</td>\n",
       "      <td>0.031654</td>\n",
       "      <td>0.216490</td>\n",
       "      <td>0.069092</td>\n",
       "      <td>0.066397</td>\n",
       "      <td>0.021630</td>\n",
       "      <td>...</td>\n",
       "      <td>0.005429</td>\n",
       "      <td>-0.004703</td>\n",
       "      <td>-0.005260</td>\n",
       "      <td>-0.016949</td>\n",
       "      <td>0.010182</td>\n",
       "      <td>0.019051</td>\n",
       "      <td>0.003072</td>\n",
       "      <td>-0.007738</td>\n",
       "      <td>1200111766</td>\n",
       "      <td>Охрана и безопасность труда</td>\n",
       "    </tr>\n",
       "    <tr>\n",
       "      <th>3915</th>\n",
       "      <td>0.345562</td>\n",
       "      <td>-0.088414</td>\n",
       "      <td>-0.076634</td>\n",
       "      <td>0.033900</td>\n",
       "      <td>0.102252</td>\n",
       "      <td>0.081538</td>\n",
       "      <td>0.085999</td>\n",
       "      <td>0.080050</td>\n",
       "      <td>0.058832</td>\n",
       "      <td>0.015303</td>\n",
       "      <td>...</td>\n",
       "      <td>-0.017777</td>\n",
       "      <td>-0.035962</td>\n",
       "      <td>0.016128</td>\n",
       "      <td>0.001085</td>\n",
       "      <td>0.005210</td>\n",
       "      <td>0.000854</td>\n",
       "      <td>-0.010230</td>\n",
       "      <td>-0.038463</td>\n",
       "      <td>1200179862</td>\n",
       "      <td>Охрана и безопасность труда</td>\n",
       "    </tr>\n",
       "    <tr>\n",
       "      <th>1010</th>\n",
       "      <td>0.087989</td>\n",
       "      <td>0.001714</td>\n",
       "      <td>-0.009829</td>\n",
       "      <td>-0.000595</td>\n",
       "      <td>-0.072693</td>\n",
       "      <td>0.001617</td>\n",
       "      <td>0.024547</td>\n",
       "      <td>-0.006387</td>\n",
       "      <td>-0.039423</td>\n",
       "      <td>0.048394</td>\n",
       "      <td>...</td>\n",
       "      <td>-0.027821</td>\n",
       "      <td>0.003393</td>\n",
       "      <td>-0.008333</td>\n",
       "      <td>-0.009456</td>\n",
       "      <td>0.007399</td>\n",
       "      <td>-0.003623</td>\n",
       "      <td>-0.027543</td>\n",
       "      <td>0.034006</td>\n",
       "      <td>564952848</td>\n",
       "      <td>Санитарные нормы и правила</td>\n",
       "    </tr>\n",
       "    <tr>\n",
       "      <th>1954</th>\n",
       "      <td>0.218970</td>\n",
       "      <td>-0.103417</td>\n",
       "      <td>0.130136</td>\n",
       "      <td>-0.108442</td>\n",
       "      <td>0.016945</td>\n",
       "      <td>-0.051842</td>\n",
       "      <td>-0.024397</td>\n",
       "      <td>-0.003283</td>\n",
       "      <td>-0.017326</td>\n",
       "      <td>-0.082118</td>\n",
       "      <td>...</td>\n",
       "      <td>-0.019156</td>\n",
       "      <td>-0.012257</td>\n",
       "      <td>0.016084</td>\n",
       "      <td>-0.007756</td>\n",
       "      <td>-0.026295</td>\n",
       "      <td>-0.062236</td>\n",
       "      <td>0.016214</td>\n",
       "      <td>-0.000601</td>\n",
       "      <td>1200034094</td>\n",
       "      <td>Метрология</td>\n",
       "    </tr>\n",
       "    <tr>\n",
       "      <th>1580</th>\n",
       "      <td>0.168056</td>\n",
       "      <td>-0.120589</td>\n",
       "      <td>0.310830</td>\n",
       "      <td>-0.178082</td>\n",
       "      <td>0.057914</td>\n",
       "      <td>-0.132209</td>\n",
       "      <td>0.024819</td>\n",
       "      <td>-0.017237</td>\n",
       "      <td>0.050612</td>\n",
       "      <td>0.208133</td>\n",
       "      <td>...</td>\n",
       "      <td>0.000308</td>\n",
       "      <td>0.007194</td>\n",
       "      <td>-0.009939</td>\n",
       "      <td>-0.016269</td>\n",
       "      <td>0.020976</td>\n",
       "      <td>-0.001280</td>\n",
       "      <td>0.021588</td>\n",
       "      <td>0.016638</td>\n",
       "      <td>1200014281</td>\n",
       "      <td>Метрология</td>\n",
       "    </tr>\n",
       "    <tr>\n",
       "      <th>...</th>\n",
       "      <td>...</td>\n",
       "      <td>...</td>\n",
       "      <td>...</td>\n",
       "      <td>...</td>\n",
       "      <td>...</td>\n",
       "      <td>...</td>\n",
       "      <td>...</td>\n",
       "      <td>...</td>\n",
       "      <td>...</td>\n",
       "      <td>...</td>\n",
       "      <td>...</td>\n",
       "      <td>...</td>\n",
       "      <td>...</td>\n",
       "      <td>...</td>\n",
       "      <td>...</td>\n",
       "      <td>...</td>\n",
       "      <td>...</td>\n",
       "      <td>...</td>\n",
       "      <td>...</td>\n",
       "      <td>...</td>\n",
       "      <td>...</td>\n",
       "    </tr>\n",
       "    <tr>\n",
       "      <th>4426</th>\n",
       "      <td>0.055763</td>\n",
       "      <td>0.042185</td>\n",
       "      <td>0.023547</td>\n",
       "      <td>0.022481</td>\n",
       "      <td>-0.082422</td>\n",
       "      <td>0.003769</td>\n",
       "      <td>0.056741</td>\n",
       "      <td>0.029051</td>\n",
       "      <td>0.002362</td>\n",
       "      <td>0.026137</td>\n",
       "      <td>...</td>\n",
       "      <td>-0.020423</td>\n",
       "      <td>-0.014346</td>\n",
       "      <td>-0.007894</td>\n",
       "      <td>0.015818</td>\n",
       "      <td>0.012452</td>\n",
       "      <td>0.019695</td>\n",
       "      <td>-0.006991</td>\n",
       "      <td>-0.001822</td>\n",
       "      <td>564841211</td>\n",
       "      <td>Санитарные нормы и правила</td>\n",
       "    </tr>\n",
       "    <tr>\n",
       "      <th>466</th>\n",
       "      <td>0.189888</td>\n",
       "      <td>-0.031271</td>\n",
       "      <td>-0.000571</td>\n",
       "      <td>0.040602</td>\n",
       "      <td>-0.003063</td>\n",
       "      <td>0.008662</td>\n",
       "      <td>-0.025407</td>\n",
       "      <td>-0.035381</td>\n",
       "      <td>-0.000313</td>\n",
       "      <td>-0.006508</td>\n",
       "      <td>...</td>\n",
       "      <td>-0.003600</td>\n",
       "      <td>0.002631</td>\n",
       "      <td>-0.019891</td>\n",
       "      <td>-0.007799</td>\n",
       "      <td>-0.013320</td>\n",
       "      <td>0.019503</td>\n",
       "      <td>-0.000982</td>\n",
       "      <td>0.011889</td>\n",
       "      <td>1200158281</td>\n",
       "      <td>Оценка соответствия</td>\n",
       "    </tr>\n",
       "    <tr>\n",
       "      <th>3092</th>\n",
       "      <td>0.244845</td>\n",
       "      <td>-0.128823</td>\n",
       "      <td>0.180374</td>\n",
       "      <td>-0.075627</td>\n",
       "      <td>0.058227</td>\n",
       "      <td>-0.032483</td>\n",
       "      <td>0.031819</td>\n",
       "      <td>0.014536</td>\n",
       "      <td>0.004131</td>\n",
       "      <td>-0.069624</td>\n",
       "      <td>...</td>\n",
       "      <td>0.022386</td>\n",
       "      <td>0.010381</td>\n",
       "      <td>-0.003084</td>\n",
       "      <td>0.017853</td>\n",
       "      <td>0.021911</td>\n",
       "      <td>-0.024813</td>\n",
       "      <td>0.005229</td>\n",
       "      <td>-0.046637</td>\n",
       "      <td>1200107024</td>\n",
       "      <td>Метрология</td>\n",
       "    </tr>\n",
       "    <tr>\n",
       "      <th>3772</th>\n",
       "      <td>0.341267</td>\n",
       "      <td>-0.117824</td>\n",
       "      <td>0.060428</td>\n",
       "      <td>-0.055111</td>\n",
       "      <td>0.064605</td>\n",
       "      <td>-0.047736</td>\n",
       "      <td>0.069848</td>\n",
       "      <td>0.036637</td>\n",
       "      <td>-0.059772</td>\n",
       "      <td>-0.052451</td>\n",
       "      <td>...</td>\n",
       "      <td>0.002240</td>\n",
       "      <td>-0.022956</td>\n",
       "      <td>-0.034948</td>\n",
       "      <td>-0.043040</td>\n",
       "      <td>-0.026133</td>\n",
       "      <td>-0.038814</td>\n",
       "      <td>-0.018084</td>\n",
       "      <td>-0.014448</td>\n",
       "      <td>1200163941</td>\n",
       "      <td>Метрология</td>\n",
       "    </tr>\n",
       "    <tr>\n",
       "      <th>860</th>\n",
       "      <td>0.320571</td>\n",
       "      <td>0.008318</td>\n",
       "      <td>0.027945</td>\n",
       "      <td>-0.028036</td>\n",
       "      <td>-0.003228</td>\n",
       "      <td>0.042231</td>\n",
       "      <td>-0.035087</td>\n",
       "      <td>-0.146301</td>\n",
       "      <td>0.101833</td>\n",
       "      <td>0.060130</td>\n",
       "      <td>...</td>\n",
       "      <td>-0.047431</td>\n",
       "      <td>-0.004436</td>\n",
       "      <td>-0.001841</td>\n",
       "      <td>0.020499</td>\n",
       "      <td>-0.009673</td>\n",
       "      <td>0.000435</td>\n",
       "      <td>-0.000412</td>\n",
       "      <td>-0.005358</td>\n",
       "      <td>5200311</td>\n",
       "      <td>Охрана и безопасность труда</td>\n",
       "    </tr>\n",
       "  </tbody>\n",
       "</table>\n",
       "<p>4721 rows × 302 columns</p>\n",
       "</div>"
      ],
      "text/plain": [
       "      component_0  component_1  component_2  component_3  component_4  \\\n",
       "3253     0.403099    -0.130357    -0.181982     0.012088     0.235052   \n",
       "3915     0.345562    -0.088414    -0.076634     0.033900     0.102252   \n",
       "1010     0.087989     0.001714    -0.009829    -0.000595    -0.072693   \n",
       "1954     0.218970    -0.103417     0.130136    -0.108442     0.016945   \n",
       "1580     0.168056    -0.120589     0.310830    -0.178082     0.057914   \n",
       "...           ...          ...          ...          ...          ...   \n",
       "4426     0.055763     0.042185     0.023547     0.022481    -0.082422   \n",
       "466      0.189888    -0.031271    -0.000571     0.040602    -0.003063   \n",
       "3092     0.244845    -0.128823     0.180374    -0.075627     0.058227   \n",
       "3772     0.341267    -0.117824     0.060428    -0.055111     0.064605   \n",
       "860      0.320571     0.008318     0.027945    -0.028036    -0.003228   \n",
       "\n",
       "      component_5  component_6  component_7  component_8  component_9  ...  \\\n",
       "3253     0.031654     0.216490     0.069092     0.066397     0.021630  ...   \n",
       "3915     0.081538     0.085999     0.080050     0.058832     0.015303  ...   \n",
       "1010     0.001617     0.024547    -0.006387    -0.039423     0.048394  ...   \n",
       "1954    -0.051842    -0.024397    -0.003283    -0.017326    -0.082118  ...   \n",
       "1580    -0.132209     0.024819    -0.017237     0.050612     0.208133  ...   \n",
       "...           ...          ...          ...          ...          ...  ...   \n",
       "4426     0.003769     0.056741     0.029051     0.002362     0.026137  ...   \n",
       "466      0.008662    -0.025407    -0.035381    -0.000313    -0.006508  ...   \n",
       "3092    -0.032483     0.031819     0.014536     0.004131    -0.069624  ...   \n",
       "3772    -0.047736     0.069848     0.036637    -0.059772    -0.052451  ...   \n",
       "860      0.042231    -0.035087    -0.146301     0.101833     0.060130  ...   \n",
       "\n",
       "      component_292  component_293  component_294  component_295  \\\n",
       "3253       0.005429      -0.004703      -0.005260      -0.016949   \n",
       "3915      -0.017777      -0.035962       0.016128       0.001085   \n",
       "1010      -0.027821       0.003393      -0.008333      -0.009456   \n",
       "1954      -0.019156      -0.012257       0.016084      -0.007756   \n",
       "1580       0.000308       0.007194      -0.009939      -0.016269   \n",
       "...             ...            ...            ...            ...   \n",
       "4426      -0.020423      -0.014346      -0.007894       0.015818   \n",
       "466       -0.003600       0.002631      -0.019891      -0.007799   \n",
       "3092       0.022386       0.010381      -0.003084       0.017853   \n",
       "3772       0.002240      -0.022956      -0.034948      -0.043040   \n",
       "860       -0.047431      -0.004436      -0.001841       0.020499   \n",
       "\n",
       "      component_296  component_297  component_298  component_299       iddoc  \\\n",
       "3253       0.010182       0.019051       0.003072      -0.007738  1200111766   \n",
       "3915       0.005210       0.000854      -0.010230      -0.038463  1200179862   \n",
       "1010       0.007399      -0.003623      -0.027543       0.034006   564952848   \n",
       "1954      -0.026295      -0.062236       0.016214      -0.000601  1200034094   \n",
       "1580       0.020976      -0.001280       0.021588       0.016638  1200014281   \n",
       "...             ...            ...            ...            ...         ...   \n",
       "4426       0.012452       0.019695      -0.006991      -0.001822   564841211   \n",
       "466       -0.013320       0.019503      -0.000982       0.011889  1200158281   \n",
       "3092       0.021911      -0.024813       0.005229      -0.046637  1200107024   \n",
       "3772      -0.026133      -0.038814      -0.018084      -0.014448  1200163941   \n",
       "860       -0.009673       0.000435      -0.000412      -0.005358     5200311   \n",
       "\n",
       "                            Label  \n",
       "3253  Охрана и безопасность труда  \n",
       "3915  Охрана и безопасность труда  \n",
       "1010   Санитарные нормы и правила  \n",
       "1954                   Метрология  \n",
       "1580                   Метрология  \n",
       "...                           ...  \n",
       "4426   Санитарные нормы и правила  \n",
       "466           Оценка соответствия  \n",
       "3092                   Метрология  \n",
       "3772                   Метрология  \n",
       "860   Охрана и безопасность труда  \n",
       "\n",
       "[4721 rows x 302 columns]"
      ]
     },
     "execution_count": 33,
     "metadata": {},
     "output_type": "execute_result"
    }
   ],
   "source": [
    "svd_result_df_"
   ]
  },
  {
   "cell_type": "code",
   "execution_count": 30,
   "id": "906b7816",
   "metadata": {},
   "outputs": [],
   "source": [
    "from sklearn.utils import shuffle\n",
    "\n",
    "svd_result_df_= shuffle(svd_result_df_, random_state=42)"
   ]
  },
  {
   "cell_type": "code",
   "execution_count": 31,
   "id": "6a786b7f",
   "metadata": {},
   "outputs": [],
   "source": [
    "from sklearn.model_selection import train_test_split\n",
    "svd_result_df_train, svd_result_df_test = train_test_split(svd_result_df_, test_size=0.2, random_state=42)"
   ]
  },
  {
   "cell_type": "code",
   "execution_count": 32,
   "id": "5544f5ee",
   "metadata": {},
   "outputs": [],
   "source": [
    "svd_result_df_train_x = svd_result_df_train.drop(['iddoc', 'Label'], axis=1)\n",
    "svd_result_df_test_x = svd_result_df_test.drop(['iddoc', 'Label'], axis=1)"
   ]
  },
  {
   "cell_type": "code",
   "execution_count": null,
   "id": "e914285a",
   "metadata": {},
   "outputs": [],
   "source": [
    "from sklearn.preprocessing import MultiLabelBinarizer\n",
    "svd_result_df_train['Label'] = svd_result_df_train['Label'].apply(lambda x: x.split(', '))\n",
    "\n",
    "mlbTfIdfTrain = MultiLabelBinarizer()\n",
    "yTfIdfTrain = mlbTfIdfTrain.fit_transform(svd_result_df_train['Label'])\n",
    "yTfIdfTrain = pd.DataFrame(yTfIdfTrain, columns=mlbTfIdfTrain.classes_)\n",
    "\n",
    "XTfIdfTrain = svd_result_df_train_x"
   ]
  },
  {
   "cell_type": "code",
   "execution_count": null,
   "id": "93e0b981",
   "metadata": {},
   "outputs": [],
   "source": [
    "svd_result_df_test['Label'] = svd_result_df_test['Label'].apply(lambda x: x.split(', '))\n",
    "\n",
    "yTfIdfTest = mlbTfIdfTrain.transform(svd_result_df_test['Label'])\n",
    "yTfIdfTest = pd.DataFrame(yTfIdfTest, columns=mlbTfIdfTrain.classes_)\n",
    "\n",
    "XTfIdfTest = svd_result_df_test_x"
   ]
  },
  {
   "cell_type": "code",
   "execution_count": null,
   "id": "f13adde7",
   "metadata": {},
   "outputs": [],
   "source": [
    "import numpy as np\n",
    "from sklearn.neural_network import MLPClassifier\n",
    "from sklearn.model_selection import GridSearchCV\n",
    "from sklearn.metrics import classification_report\n",
    "\n",
    "X_train = XTfIdfTrain\n",
    "X_test = XTfIdfTest\n",
    "y_train = yTfIdfTrain\n",
    "y_test = yTfIdfTest\n",
    "\n",
    "X_train, X_val, y_train, y_val = train_test_split(X_train, y_train, test_size=0.2, random_state=42)\n",
    "\n",
    "\n",
    "param_grid = {\n",
    "    'hidden_layer_sizes': [(64,64)],\n",
    "    'activation': ['relu'],\n",
    "    'solver': ['adam'],\n",
    "    'alpha': [0.01],\n",
    "    'learning_rate': ['adaptive'],\n",
    "    'max_iter': [1000],\n",
    "    'batch_size': [200],\n",
    "    'momentum': [0.90],\n",
    "    'learning_rate_init': [0.002],\n",
    "}\n",
    "\n",
    "mlp = MLPClassifier()\n",
    "\n",
    "grid_search = GridSearchCV(estimator=mlp, param_grid=param_grid, n_jobs=-1, cv=3, scoring='f1_samples', verbose=1)\n",
    "\n",
    "grid_search.fit(X_train, y_train)\n",
    "\n",
    "results = grid_search.cv_results_\n",
    "for mean_score, params in zip(results['mean_test_score'], results['params']):\n",
    "    print(f\"Mean f1_samples score: {mean_score:.4f}\")\n",
    "    print(f\"Parameters: {params}\")\n",
    "    print()\n",
    "\n",
    "print(\"Лучшие параметры: \", grid_search.best_params_)\n",
    "\n",
    "# Оценка модели с лучшими параметрами\n",
    "best_model = grid_search.best_estimator_\n",
    "y_pred = best_model.predict(X_test)\n",
    "print(\"Классификационный отчет:\\n\", classification_report(y_test, y_pred))\n"
   ]
  },
  {
   "cell_type": "code",
   "execution_count": 3,
   "id": "5f30d374",
   "metadata": {
    "scrolled": true
   },
   "outputs": [],
   "source": [
    "import numpy as np\n",
    "from sklearn.neural_network import MLPClassifier\n",
    "from sklearn.model_selection import GridSearchCV, train_test_split\n",
    "from sklearn.metrics import classification_report\n",
    "from sklearn.preprocessing import StandardScaler\n",
    "from sklearn.pipeline import Pipeline\n",
    "from sklearn.multioutput import MultiOutputClassifier\n",
    "from imblearn.over_sampling import RandomOverSampler\n",
    "from sklearn.multioutput import ClassifierChain\n",
    "\n",
    "X_train = XTfIdfTrain\n",
    "X_test = XTfIdfTest\n",
    "y_train = yTfIdfTrain\n",
    "y_test = yTfIdfTest\n",
    "\n",
    "X_train, X_val, y_train, y_val = train_test_split(X_train, y_train, test_size=0.2, random_state=42)\n",
    "\n",
    "param_grid = {\n",
    "    'hidden_layer_sizes': [(256, 512)],\n",
    "    'activation': ['relu'],\n",
    "    'solver': ['adam'],\n",
    "    'alpha': [0.01],\n",
    "    'learning_rate': ['adaptive'],\n",
    "    'max_iter': [1000],\n",
    "    'batch_size': [200],\n",
    "    'momentum': [0.90],\n",
    "    'learning_rate_init': [0.002],\n",
    "}\n",
    "\n",
    "mlp = MLPClassifier()\n",
    "\n",
    "grid_search = GridSearchCV(estimator=mlp, param_grid=param_grid, n_jobs=-1, cv=3, scoring='f1_samples', verbose=1)\n",
    "grid_search.fit(X_val, y_val)\n",
    "\n",
    "results = grid_search.cv_results_\n",
    "for mean_score, params in zip(results['mean_test_score'], results['params']):\n",
    "    print(f\"Mean f1_samples score: {mean_score:.4f}\")\n",
    "    print(f\"Parameters: {params}\")\n",
    "    print()\n",
    "\n",
    "print(\"Лучшие параметры: \", grid_search.best_params_)\n",
    "\n",
    "best_mlp_params = grid_search.best_params_\n",
    "mlp_classifier = MLPClassifier(**best_mlp_params)\n",
    "\n",
    "pipeline = Pipeline([\n",
    "    ('scaler', StandardScaler()),\n",
    "    ('clf', ClassifierChain(mlp_classifier))\n",
    "])\n",
    "\n",
    "pipeline.fit(X_train, y_train)\n",
    "\n",
    "y_pred = pipeline.predict(X_test)\n",
    "\n",
    "print(\"Классификационный отчет:\\n\", classification_report(y_test, y_pred))\n"
   ]
  },
  {
   "cell_type": "code",
   "execution_count": null,
   "id": "017de0d0",
   "metadata": {},
   "outputs": [],
   "source": [
    "modelEval1(XTfIdfTrain,XTfIdfTest,yTfIdfTrain,yTfIdfTest)"
   ]
  },
  {
   "cell_type": "markdown",
   "id": "ad395e28-d93e-4314-86d3-4bcf305cc55e",
   "metadata": {},
   "source": [
    "## Векторизовали name"
   ]
  },
  {
   "cell_type": "code",
   "execution_count": 20,
   "id": "16108450-2494-4678-bc00-c05995c16739",
   "metadata": {},
   "outputs": [
    {
     "data": {
      "text/html": [
       "<div>\n",
       "<style scoped>\n",
       "    .dataframe tbody tr th:only-of-type {\n",
       "        vertical-align: middle;\n",
       "    }\n",
       "\n",
       "    .dataframe tbody tr th {\n",
       "        vertical-align: top;\n",
       "    }\n",
       "\n",
       "    .dataframe thead th {\n",
       "        text-align: right;\n",
       "    }\n",
       "</style>\n",
       "<table border=\"1\" class=\"dataframe\">\n",
       "  <thead>\n",
       "    <tr style=\"text-align: right;\">\n",
       "      <th></th>\n",
       "      <th>iddoc</th>\n",
       "      <th>pooler_output_avg_actual</th>\n",
       "    </tr>\n",
       "  </thead>\n",
       "  <tbody>\n",
       "    <tr>\n",
       "      <th>0</th>\n",
       "      <td>1400040</td>\n",
       "      <td>[0.3533614, -0.24332023, 0.05609652, 0.1153601...</td>\n",
       "    </tr>\n",
       "    <tr>\n",
       "      <th>1</th>\n",
       "      <td>1400051</td>\n",
       "      <td>[0.32593527, -0.23999172, 0.28076676, 0.152409...</td>\n",
       "    </tr>\n",
       "    <tr>\n",
       "      <th>2</th>\n",
       "      <td>5200025</td>\n",
       "      <td>[-0.0014489879, 0.051369514, -0.053475883, 0.4...</td>\n",
       "    </tr>\n",
       "    <tr>\n",
       "      <th>3</th>\n",
       "      <td>5200058</td>\n",
       "      <td>[0.20856021, -0.37045068, 0.12602767, -0.06559...</td>\n",
       "    </tr>\n",
       "    <tr>\n",
       "      <th>4</th>\n",
       "      <td>5200086</td>\n",
       "      <td>[0.46679097, -0.3831445, 0.3779671, -0.3678596...</td>\n",
       "    </tr>\n",
       "    <tr>\n",
       "      <th>...</th>\n",
       "      <td>...</td>\n",
       "      <td>...</td>\n",
       "    </tr>\n",
       "    <tr>\n",
       "      <th>56510</th>\n",
       "      <td>1306528563</td>\n",
       "      <td>[0.33210588, -0.3923719, 0.17211705, -0.162469...</td>\n",
       "    </tr>\n",
       "    <tr>\n",
       "      <th>56511</th>\n",
       "      <td>1306588785</td>\n",
       "      <td>[0.14582644, 0.05809701, 0.017973164, 0.434785...</td>\n",
       "    </tr>\n",
       "    <tr>\n",
       "      <th>56512</th>\n",
       "      <td>1306610181</td>\n",
       "      <td>[0.18249983, -0.12071254, 0.033566743, 0.15034...</td>\n",
       "    </tr>\n",
       "    <tr>\n",
       "      <th>56513</th>\n",
       "      <td>1306663466</td>\n",
       "      <td>[0.27992868, -0.047369987, 0.08858715, 0.24100...</td>\n",
       "    </tr>\n",
       "    <tr>\n",
       "      <th>56514</th>\n",
       "      <td>1306663716</td>\n",
       "      <td>[0.20532429, -0.1979301, 0.016041316, 0.067285...</td>\n",
       "    </tr>\n",
       "  </tbody>\n",
       "</table>\n",
       "<p>56515 rows × 2 columns</p>\n",
       "</div>"
      ],
      "text/plain": [
       "            iddoc                           pooler_output_avg_actual\n",
       "0         1400040  [0.3533614, -0.24332023, 0.05609652, 0.1153601...\n",
       "1         1400051  [0.32593527, -0.23999172, 0.28076676, 0.152409...\n",
       "2         5200025  [-0.0014489879, 0.051369514, -0.053475883, 0.4...\n",
       "3         5200058  [0.20856021, -0.37045068, 0.12602767, -0.06559...\n",
       "4         5200086  [0.46679097, -0.3831445, 0.3779671, -0.3678596...\n",
       "...           ...                                                ...\n",
       "56510  1306528563  [0.33210588, -0.3923719, 0.17211705, -0.162469...\n",
       "56511  1306588785  [0.14582644, 0.05809701, 0.017973164, 0.434785...\n",
       "56512  1306610181  [0.18249983, -0.12071254, 0.033566743, 0.15034...\n",
       "56513  1306663466  [0.27992868, -0.047369987, 0.08858715, 0.24100...\n",
       "56514  1306663716  [0.20532429, -0.1979301, 0.016041316, 0.067285...\n",
       "\n",
       "[56515 rows x 2 columns]"
      ]
     },
     "execution_count": 20,
     "metadata": {},
     "output_type": "execute_result"
    }
   ],
   "source": [
    "# файл вектора с именами для обучения\n",
    "new_name_dfvec1 = pd.read_pickle(\"./my_df2/combined_vectortrainname55kavg.pkl\")\n",
    "new_name_dfvec1 = new_name_dfvec1.rename(columns={'pooler_output_avg': 'pooler_output_avg_actual'})\n",
    "new_name_dfvec1 = new_name_dfvec1.reset_index(drop=True)\n",
    "new_name_dfvec1['pooler_output_avg_actual'] = new_name_dfvec1['pooler_output_avg_actual'].apply(lambda x: x.reshape(768))\n",
    "new_name_dfvec1"
   ]
  },
  {
   "cell_type": "code",
   "execution_count": 21,
   "id": "e7a6b935-9d85-4f5b-a107-cc1d36ef32a2",
   "metadata": {},
   "outputs": [],
   "source": [
    "import pandas as pd\n",
    "\n",
    "# df_fulltest = pd.read_pickle(\"./my_df/df_fulltest.pkl\")\n",
    "dffull_train = pd.read_pickle(\"./my_df/dffull_train.pkl\")"
   ]
  },
  {
   "cell_type": "code",
   "execution_count": 22,
   "id": "a05bacef-cbb1-427e-bc95-bebe10516efb",
   "metadata": {},
   "outputs": [
    {
     "data": {
      "text/html": [
       "<div>\n",
       "<style scoped>\n",
       "    .dataframe tbody tr th:only-of-type {\n",
       "        vertical-align: middle;\n",
       "    }\n",
       "\n",
       "    .dataframe tbody tr th {\n",
       "        vertical-align: top;\n",
       "    }\n",
       "\n",
       "    .dataframe thead th {\n",
       "        text-align: right;\n",
       "    }\n",
       "</style>\n",
       "<table border=\"1\" class=\"dataframe\">\n",
       "  <thead>\n",
       "    <tr style=\"text-align: right;\">\n",
       "      <th></th>\n",
       "      <th>iddoc</th>\n",
       "      <th>name</th>\n",
       "      <th>organ</th>\n",
       "      <th>Label</th>\n",
       "      <th>trainnamevec</th>\n",
       "      <th>trainorganvec</th>\n",
       "      <th>vect</th>\n",
       "    </tr>\n",
       "  </thead>\n",
       "  <tbody>\n",
       "    <tr>\n",
       "      <th>0</th>\n",
       "      <td>1400051</td>\n",
       "      <td>'Санитарные правила для предприятий по обработ...</td>\n",
       "      <td>Заместитель главного государственного санитарн...</td>\n",
       "      <td>Санитарные нормы и правила</td>\n",
       "      <td>[0.3289106, -0.3153046, 0.19357339, 0.20849438...</td>\n",
       "      <td>[0.37863722, -0.12031019, 0.20947607, 0.258135...</td>\n",
       "      <td>[0.12359218, -0.16039869, 0.12760171, 0.029699...</td>\n",
       "    </tr>\n",
       "    <tr>\n",
       "      <th>1</th>\n",
       "      <td>5200228</td>\n",
       "      <td>'ГОСТ 12.2.061-81 Система стандартов безопасно...</td>\n",
       "      <td>Госстандарт СССР</td>\n",
       "      <td>Охрана и безопасность труда</td>\n",
       "      <td>[0.20333531, -0.18829913, 0.022558536, 0.32277...</td>\n",
       "      <td>[0.14245707, -0.12429103, 0.122207195, 0.14406...</td>\n",
       "      <td>[0.10657137, -0.14859758, 0.11362507, 0.030690...</td>\n",
       "    </tr>\n",
       "    <tr>\n",
       "      <th>2</th>\n",
       "      <td>5200275</td>\n",
       "      <td>'ГОСТ 12.1.008-76 Система стандартов безопасно...</td>\n",
       "      <td>Госстандарт СССР</td>\n",
       "      <td>Охрана и безопасность труда</td>\n",
       "      <td>[0.23374136, -0.20337054, 0.0030277222, 0.2893...</td>\n",
       "      <td>[0.14245707, -0.12429103, 0.122207195, 0.14406...</td>\n",
       "      <td>[0.18051448, -0.19030748, 0.11437332, 0.008232...</td>\n",
       "    </tr>\n",
       "    <tr>\n",
       "      <th>3</th>\n",
       "      <td>5200277</td>\n",
       "      <td>'ГОСТ 12.4.155-85 Система стандартов безопасно...</td>\n",
       "      <td>Госстандарт СССР</td>\n",
       "      <td>Охрана и безопасность труда</td>\n",
       "      <td>[0.22064964, -0.22460273, 0.042272247, 0.29843...</td>\n",
       "      <td>[0.14245707, -0.12429103, 0.122207195, 0.14406...</td>\n",
       "      <td>[0.10624106, -0.20068084, 0.06754017, 0.087890...</td>\n",
       "    </tr>\n",
       "    <tr>\n",
       "      <th>4</th>\n",
       "      <td>5200292</td>\n",
       "      <td>'ГОСТ 12.1.029-80 Система стандартов безопасно...</td>\n",
       "      <td>Госстандарт СССР</td>\n",
       "      <td>Охрана и безопасность труда</td>\n",
       "      <td>[0.23646508, -0.158473, 0.022069393, 0.2968053...</td>\n",
       "      <td>[0.14245707, -0.12429103, 0.122207195, 0.14406...</td>\n",
       "      <td>[0.09985344, -0.19155689, 0.051527206, 0.10834...</td>\n",
       "    </tr>\n",
       "    <tr>\n",
       "      <th>...</th>\n",
       "      <td>...</td>\n",
       "      <td>...</td>\n",
       "      <td>...</td>\n",
       "      <td>...</td>\n",
       "      <td>...</td>\n",
       "      <td>...</td>\n",
       "      <td>...</td>\n",
       "    </tr>\n",
       "    <tr>\n",
       "      <th>1366</th>\n",
       "      <td>1300338507</td>\n",
       "      <td>'О применении дистанционных технологий при обу...</td>\n",
       "      <td>Минтруд России</td>\n",
       "      <td>Охрана и безопасность труда</td>\n",
       "      <td>[0.2653267, -0.27229616, 0.077737056, 0.272881...</td>\n",
       "      <td>[0.19772974, -0.12900108, 0.098861955, 0.14717...</td>\n",
       "      <td>[0.026345547, -0.15162246, 0.069065, 0.1603872...</td>\n",
       "    </tr>\n",
       "    <tr>\n",
       "      <th>1367</th>\n",
       "      <td>1300457189</td>\n",
       "      <td>'О внесении изменений в Правила обучения по ох...</td>\n",
       "      <td>Правительство РФ</td>\n",
       "      <td>Охрана и безопасность труда</td>\n",
       "      <td>[0.23206042, -0.27537432, 0.06759465, 0.217285...</td>\n",
       "      <td>[0.20131747, -0.14124425, 0.16144168, 0.097356...</td>\n",
       "      <td>[0.05934743, -0.1224509, 0.07805726, 0.1610681...</td>\n",
       "    </tr>\n",
       "    <tr>\n",
       "      <th>1368</th>\n",
       "      <td>1300583925</td>\n",
       "      <td>'Об организации обучения требованиям охраны тр...</td>\n",
       "      <td>Минтруд России</td>\n",
       "      <td>Охрана и безопасность труда</td>\n",
       "      <td>[0.23494183, -0.32122934, 0.11517173, 0.434092...</td>\n",
       "      <td>[0.19772974, -0.12900108, 0.098861955, 0.14717...</td>\n",
       "      <td>[0.048510328, -0.10868763, 0.06287158, 0.18918...</td>\n",
       "    </tr>\n",
       "    <tr>\n",
       "      <th>1369</th>\n",
       "      <td>1300598905</td>\n",
       "      <td>'Об аттестации в области промышленной безопасн...</td>\n",
       "      <td>Правительство РФ</td>\n",
       "      <td>Промышленная безопасность</td>\n",
       "      <td>[0.25426373, -0.19592108, 0.072047524, 0.48183...</td>\n",
       "      <td>[0.20131747, -0.14124425, 0.16144168, 0.097356...</td>\n",
       "      <td>[0.059145734, -0.03285611, 0.065415256, 0.1477...</td>\n",
       "    </tr>\n",
       "    <tr>\n",
       "      <th>1370</th>\n",
       "      <td>1300666795</td>\n",
       "      <td>'О Правилах обучения по охране труда и проверк...</td>\n",
       "      <td>Минтруд России</td>\n",
       "      <td>Охрана и безопасность труда</td>\n",
       "      <td>[0.24981105, -0.33258584, 0.072318524, 0.28974...</td>\n",
       "      <td>[0.19772978, -0.12900107, 0.098861985, 0.14717...</td>\n",
       "      <td>[0.010859113, -0.09585116, 0.046153374, 0.1227...</td>\n",
       "    </tr>\n",
       "  </tbody>\n",
       "</table>\n",
       "<p>1371 rows × 7 columns</p>\n",
       "</div>"
      ],
      "text/plain": [
       "           iddoc                                               name  \\\n",
       "0        1400051  'Санитарные правила для предприятий по обработ...   \n",
       "1        5200228  'ГОСТ 12.2.061-81 Система стандартов безопасно...   \n",
       "2        5200275  'ГОСТ 12.1.008-76 Система стандартов безопасно...   \n",
       "3        5200277  'ГОСТ 12.4.155-85 Система стандартов безопасно...   \n",
       "4        5200292  'ГОСТ 12.1.029-80 Система стандартов безопасно...   \n",
       "...          ...                                                ...   \n",
       "1366  1300338507  'О применении дистанционных технологий при обу...   \n",
       "1367  1300457189  'О внесении изменений в Правила обучения по ох...   \n",
       "1368  1300583925  'Об организации обучения требованиям охраны тр...   \n",
       "1369  1300598905  'Об аттестации в области промышленной безопасн...   \n",
       "1370  1300666795  'О Правилах обучения по охране труда и проверк...   \n",
       "\n",
       "                                                  organ  \\\n",
       "0     Заместитель главного государственного санитарн...   \n",
       "1                                      Госстандарт СССР   \n",
       "2                                      Госстандарт СССР   \n",
       "3                                      Госстандарт СССР   \n",
       "4                                      Госстандарт СССР   \n",
       "...                                                 ...   \n",
       "1366                                     Минтруд России   \n",
       "1367                                   Правительство РФ   \n",
       "1368                                     Минтруд России   \n",
       "1369                                   Правительство РФ   \n",
       "1370                                     Минтруд России   \n",
       "\n",
       "                            Label  \\\n",
       "0      Санитарные нормы и правила   \n",
       "1     Охрана и безопасность труда   \n",
       "2     Охрана и безопасность труда   \n",
       "3     Охрана и безопасность труда   \n",
       "4     Охрана и безопасность труда   \n",
       "...                           ...   \n",
       "1366  Охрана и безопасность труда   \n",
       "1367  Охрана и безопасность труда   \n",
       "1368  Охрана и безопасность труда   \n",
       "1369    Промышленная безопасность   \n",
       "1370  Охрана и безопасность труда   \n",
       "\n",
       "                                           trainnamevec  \\\n",
       "0     [0.3289106, -0.3153046, 0.19357339, 0.20849438...   \n",
       "1     [0.20333531, -0.18829913, 0.022558536, 0.32277...   \n",
       "2     [0.23374136, -0.20337054, 0.0030277222, 0.2893...   \n",
       "3     [0.22064964, -0.22460273, 0.042272247, 0.29843...   \n",
       "4     [0.23646508, -0.158473, 0.022069393, 0.2968053...   \n",
       "...                                                 ...   \n",
       "1366  [0.2653267, -0.27229616, 0.077737056, 0.272881...   \n",
       "1367  [0.23206042, -0.27537432, 0.06759465, 0.217285...   \n",
       "1368  [0.23494183, -0.32122934, 0.11517173, 0.434092...   \n",
       "1369  [0.25426373, -0.19592108, 0.072047524, 0.48183...   \n",
       "1370  [0.24981105, -0.33258584, 0.072318524, 0.28974...   \n",
       "\n",
       "                                          trainorganvec  \\\n",
       "0     [0.37863722, -0.12031019, 0.20947607, 0.258135...   \n",
       "1     [0.14245707, -0.12429103, 0.122207195, 0.14406...   \n",
       "2     [0.14245707, -0.12429103, 0.122207195, 0.14406...   \n",
       "3     [0.14245707, -0.12429103, 0.122207195, 0.14406...   \n",
       "4     [0.14245707, -0.12429103, 0.122207195, 0.14406...   \n",
       "...                                                 ...   \n",
       "1366  [0.19772974, -0.12900108, 0.098861955, 0.14717...   \n",
       "1367  [0.20131747, -0.14124425, 0.16144168, 0.097356...   \n",
       "1368  [0.19772974, -0.12900108, 0.098861955, 0.14717...   \n",
       "1369  [0.20131747, -0.14124425, 0.16144168, 0.097356...   \n",
       "1370  [0.19772978, -0.12900107, 0.098861985, 0.14717...   \n",
       "\n",
       "                                                   vect  \n",
       "0     [0.12359218, -0.16039869, 0.12760171, 0.029699...  \n",
       "1     [0.10657137, -0.14859758, 0.11362507, 0.030690...  \n",
       "2     [0.18051448, -0.19030748, 0.11437332, 0.008232...  \n",
       "3     [0.10624106, -0.20068084, 0.06754017, 0.087890...  \n",
       "4     [0.09985344, -0.19155689, 0.051527206, 0.10834...  \n",
       "...                                                 ...  \n",
       "1366  [0.026345547, -0.15162246, 0.069065, 0.1603872...  \n",
       "1367  [0.05934743, -0.1224509, 0.07805726, 0.1610681...  \n",
       "1368  [0.048510328, -0.10868763, 0.06287158, 0.18918...  \n",
       "1369  [0.059145734, -0.03285611, 0.065415256, 0.1477...  \n",
       "1370  [0.010859113, -0.09585116, 0.046153374, 0.1227...  \n",
       "\n",
       "[1371 rows x 7 columns]"
      ]
     },
     "execution_count": 22,
     "metadata": {},
     "output_type": "execute_result"
    }
   ],
   "source": [
    "dffull_train"
   ]
  },
  {
   "cell_type": "code",
   "execution_count": 23,
   "id": "45f3cd2e-721c-4779-bc4e-6f03e276d555",
   "metadata": {
    "scrolled": true
   },
   "outputs": [],
   "source": [
    "from sklearn.utils import shuffle\n",
    "\n",
    "dffull_train= shuffle(dffull_train, random_state=42)\n",
    "# df_fulltest= shuffle(df_fulltest, random_state=42)"
   ]
  },
  {
   "cell_type": "code",
   "execution_count": 24,
   "id": "fc8f51a9-a31d-4fc0-a513-8ff8c3188031",
   "metadata": {
    "scrolled": true
   },
   "outputs": [],
   "source": [
    "# combined_df = pd.concat([df_fulltest, dffull_train], ignore_index=True)\n",
    "# dffull_train = combined_df.drop_duplicates(subset='iddoc', keep='first').reset_index(drop=True)\n",
    "# dffull_train\n",
    "# совместил метки train test"
   ]
  },
  {
   "cell_type": "code",
   "execution_count": 25,
   "id": "77f4faf1-2b99-409a-ae82-fdd7a8c248de",
   "metadata": {},
   "outputs": [],
   "source": [
    "# # файл тестовый\n",
    "# trainmynameavg = pd.read_pickle(\"./my_df2/trainmyname1avg.pkl\")\n",
    "# trainmynameavg['pooler_output_avg'] = trainmynameavg['pooler_output_avg'].apply(lambda x: x.reshape(768))\n",
    "# trainmynameavg = trainmynameavg.reset_index(drop=True)\n",
    "# trainmynameavg"
   ]
  },
  {
   "cell_type": "code",
   "execution_count": 26,
   "id": "b13373a6-cc0a-4b09-be2f-867fb5798b71",
   "metadata": {},
   "outputs": [
    {
     "data": {
      "text/html": [
       "<div>\n",
       "<style scoped>\n",
       "    .dataframe tbody tr th:only-of-type {\n",
       "        vertical-align: middle;\n",
       "    }\n",
       "\n",
       "    .dataframe tbody tr th {\n",
       "        vertical-align: top;\n",
       "    }\n",
       "\n",
       "    .dataframe thead th {\n",
       "        text-align: right;\n",
       "    }\n",
       "</style>\n",
       "<table border=\"1\" class=\"dataframe\">\n",
       "  <thead>\n",
       "    <tr style=\"text-align: right;\">\n",
       "      <th></th>\n",
       "      <th>iddoc</th>\n",
       "      <th>name</th>\n",
       "      <th>organ</th>\n",
       "      <th>Label</th>\n",
       "      <th>trainnamevec</th>\n",
       "      <th>trainorganvec</th>\n",
       "      <th>vect</th>\n",
       "      <th>pooler_output_avg_actual</th>\n",
       "    </tr>\n",
       "  </thead>\n",
       "  <tbody>\n",
       "    <tr>\n",
       "      <th>0</th>\n",
       "      <td>1200127764</td>\n",
       "      <td>'ГОСТ Р 22.2.09-2015 Безопасность в чрезвычайн...</td>\n",
       "      <td>Росстандарт</td>\n",
       "      <td>Промышленная безопасность</td>\n",
       "      <td>[0.2855563, -0.21450047, -0.04713926, 0.273567...</td>\n",
       "      <td>[0.13282314, -0.109270625, 0.13190684, 0.15616...</td>\n",
       "      <td>[0.12172554, -0.13963664, 0.10546741, 0.116718...</td>\n",
       "      <td>[0.29152542, -0.21074589, 0.18180375, 0.038432...</td>\n",
       "    </tr>\n",
       "    <tr>\n",
       "      <th>1</th>\n",
       "      <td>1200194486</td>\n",
       "      <td>'ГОСТ Р 70511-2022 Оценка соответствия. Оценка...</td>\n",
       "      <td>Росстандарт</td>\n",
       "      <td>Оценка соответствия</td>\n",
       "      <td>[0.2104687, -0.2030449, 0.027465701, 0.1649854...</td>\n",
       "      <td>[0.13282314, -0.109270625, 0.13190684, 0.15616...</td>\n",
       "      <td>[-0.010893639, -0.074213706, 0.059765805, 0.22...</td>\n",
       "      <td>[0.3551837, -0.12282513, 0.10698172, 0.0876703...</td>\n",
       "    </tr>\n",
       "    <tr>\n",
       "      <th>2</th>\n",
       "      <td>1200039301</td>\n",
       "      <td>'Методические рекомендации по разработке инстр...</td>\n",
       "      <td>Министерство труда и социального развития РФ</td>\n",
       "      <td>Охрана и безопасность труда</td>\n",
       "      <td>[0.19567186, -0.2711483, 0.031164335, 0.281890...</td>\n",
       "      <td>[0.43245092, -0.38509068, 0.28445598, -0.10898...</td>\n",
       "      <td>[0.11810719, -0.17636447, 0.10695609, -0.02466...</td>\n",
       "      <td>[0.14543203, -0.19587837, -0.0039892937, 0.165...</td>\n",
       "    </tr>\n",
       "    <tr>\n",
       "      <th>3</th>\n",
       "      <td>1200005469</td>\n",
       "      <td>'ГОСТ 8.411-81 Государственная система обеспеч...</td>\n",
       "      <td>Госстандарт СССР</td>\n",
       "      <td>Метрология</td>\n",
       "      <td>[0.15742917, -0.19496186, -0.0123731345, 0.238...</td>\n",
       "      <td>[0.14245707, -0.12429103, 0.122207195, 0.14406...</td>\n",
       "      <td>[-0.004232607, -0.107141346, 0.0384272, 0.2198...</td>\n",
       "      <td>[0.19770938, -0.2165873, 0.014208878, 0.133946...</td>\n",
       "    </tr>\n",
       "    <tr>\n",
       "      <th>4</th>\n",
       "      <td>1200014561</td>\n",
       "      <td>'ГОСТ 8.118-85 Государственная система обеспеч...</td>\n",
       "      <td>Госстандарт СССР</td>\n",
       "      <td>Метрология</td>\n",
       "      <td>[0.17407742, -0.1864671, 0.019858504, 0.308225...</td>\n",
       "      <td>[0.14245707, -0.12429103, 0.122207195, 0.14406...</td>\n",
       "      <td>[0.061051276, -0.1535358, 0.08718315, 0.086728...</td>\n",
       "      <td>[0.2755334, -0.2549058, 0.09994121, 0.12830979...</td>\n",
       "    </tr>\n",
       "    <tr>\n",
       "      <th>...</th>\n",
       "      <td>...</td>\n",
       "      <td>...</td>\n",
       "      <td>...</td>\n",
       "      <td>...</td>\n",
       "      <td>...</td>\n",
       "      <td>...</td>\n",
       "      <td>...</td>\n",
       "      <td>...</td>\n",
       "    </tr>\n",
       "    <tr>\n",
       "      <th>1366</th>\n",
       "      <td>901742613</td>\n",
       "      <td>'Организация санитарно-гигиенического и дезинф...</td>\n",
       "      <td>Госкомсанэпиднадзор России</td>\n",
       "      <td>Санитарные нормы и правила</td>\n",
       "      <td>[0.2815536, -0.31136575, 0.14645906, 0.2368792...</td>\n",
       "      <td>[0.35630396, -0.18284945, 0.24060962, 0.133622...</td>\n",
       "      <td>[0.14924094, -0.16554461, 0.15193097, 0.001433...</td>\n",
       "      <td>[0.24474604, -0.108858354, 0.195402, 0.1332749...</td>\n",
       "    </tr>\n",
       "    <tr>\n",
       "      <th>1367</th>\n",
       "      <td>901868614</td>\n",
       "      <td>'О совершенствовании противотуберкулезных меро...</td>\n",
       "      <td>Минздрав России</td>\n",
       "      <td>Санитарные нормы и правила</td>\n",
       "      <td>[0.13238095, -0.17949449, -0.0809301, 0.450526...</td>\n",
       "      <td>[0.26503417, -0.13458908, 0.15122692, 0.060389...</td>\n",
       "      <td>[0.10679596, -0.10799509, 0.059806034, 0.02845...</td>\n",
       "      <td>[0.15232515, -0.14815977, 0.0357307, 0.2969926...</td>\n",
       "    </tr>\n",
       "    <tr>\n",
       "      <th>1368</th>\n",
       "      <td>1200060936</td>\n",
       "      <td>'ГОСТ Р 12.4.239-2007 Система стандартов безоп...</td>\n",
       "      <td>Росстандарт</td>\n",
       "      <td>Охрана и безопасность труда</td>\n",
       "      <td>[0.17739098, -0.18805346, 0.092756666, 0.28207...</td>\n",
       "      <td>[0.13282314, -0.109270625, 0.13190684, 0.15616...</td>\n",
       "      <td>[0.051642727, -0.110040665, 0.043895114, 0.208...</td>\n",
       "      <td>[0.24297185, -0.23234145, 0.127411, 0.04034283...</td>\n",
       "    </tr>\n",
       "    <tr>\n",
       "      <th>1369</th>\n",
       "      <td>499010049</td>\n",
       "      <td>'Об утверждении перечней учреждений, созданных...</td>\n",
       "      <td>МЧС России</td>\n",
       "      <td>Пожарная безопасность</td>\n",
       "      <td>[-0.0057764584, -0.018996404, -0.047635127, 0....</td>\n",
       "      <td>[0.31532097, -0.18113564, 0.19666392, 0.043992...</td>\n",
       "      <td>[0.23697138, -0.15449947, 0.079502665, 0.05008...</td>\n",
       "      <td>[0.13283248, -0.09122601, 0.20717815, 0.251213...</td>\n",
       "    </tr>\n",
       "    <tr>\n",
       "      <th>1370</th>\n",
       "      <td>901865885</td>\n",
       "      <td>'Об утверждении Положения о проведении эксперт...</td>\n",
       "      <td>Госгортехнадзор России#-</td>\n",
       "      <td>Промышленная безопасность</td>\n",
       "      <td>[-0.03972371, 0.011717104, -0.19522403, 0.5652...</td>\n",
       "      <td>[0.16725785, -0.06372521, 0.16240185, 0.314985...</td>\n",
       "      <td>[0.16143481, -0.13953254, 0.07038431, 0.119810...</td>\n",
       "      <td>[0.03754766, -0.008314265, 0.013290983, 0.3505...</td>\n",
       "    </tr>\n",
       "  </tbody>\n",
       "</table>\n",
       "<p>1371 rows × 8 columns</p>\n",
       "</div>"
      ],
      "text/plain": [
       "           iddoc                                               name  \\\n",
       "0     1200127764  'ГОСТ Р 22.2.09-2015 Безопасность в чрезвычайн...   \n",
       "1     1200194486  'ГОСТ Р 70511-2022 Оценка соответствия. Оценка...   \n",
       "2     1200039301  'Методические рекомендации по разработке инстр...   \n",
       "3     1200005469  'ГОСТ 8.411-81 Государственная система обеспеч...   \n",
       "4     1200014561  'ГОСТ 8.118-85 Государственная система обеспеч...   \n",
       "...          ...                                                ...   \n",
       "1366   901742613  'Организация санитарно-гигиенического и дезинф...   \n",
       "1367   901868614  'О совершенствовании противотуберкулезных меро...   \n",
       "1368  1200060936  'ГОСТ Р 12.4.239-2007 Система стандартов безоп...   \n",
       "1369   499010049  'Об утверждении перечней учреждений, созданных...   \n",
       "1370   901865885  'Об утверждении Положения о проведении эксперт...   \n",
       "\n",
       "                                             organ  \\\n",
       "0                                      Росстандарт   \n",
       "1                                      Росстандарт   \n",
       "2     Министерство труда и социального развития РФ   \n",
       "3                                 Госстандарт СССР   \n",
       "4                                 Госстандарт СССР   \n",
       "...                                            ...   \n",
       "1366                    Госкомсанэпиднадзор России   \n",
       "1367                               Минздрав России   \n",
       "1368                                   Росстандарт   \n",
       "1369                                    МЧС России   \n",
       "1370                      Госгортехнадзор России#-   \n",
       "\n",
       "                            Label  \\\n",
       "0       Промышленная безопасность   \n",
       "1             Оценка соответствия   \n",
       "2     Охрана и безопасность труда   \n",
       "3                      Метрология   \n",
       "4                      Метрология   \n",
       "...                           ...   \n",
       "1366   Санитарные нормы и правила   \n",
       "1367   Санитарные нормы и правила   \n",
       "1368  Охрана и безопасность труда   \n",
       "1369        Пожарная безопасность   \n",
       "1370    Промышленная безопасность   \n",
       "\n",
       "                                           trainnamevec  \\\n",
       "0     [0.2855563, -0.21450047, -0.04713926, 0.273567...   \n",
       "1     [0.2104687, -0.2030449, 0.027465701, 0.1649854...   \n",
       "2     [0.19567186, -0.2711483, 0.031164335, 0.281890...   \n",
       "3     [0.15742917, -0.19496186, -0.0123731345, 0.238...   \n",
       "4     [0.17407742, -0.1864671, 0.019858504, 0.308225...   \n",
       "...                                                 ...   \n",
       "1366  [0.2815536, -0.31136575, 0.14645906, 0.2368792...   \n",
       "1367  [0.13238095, -0.17949449, -0.0809301, 0.450526...   \n",
       "1368  [0.17739098, -0.18805346, 0.092756666, 0.28207...   \n",
       "1369  [-0.0057764584, -0.018996404, -0.047635127, 0....   \n",
       "1370  [-0.03972371, 0.011717104, -0.19522403, 0.5652...   \n",
       "\n",
       "                                          trainorganvec  \\\n",
       "0     [0.13282314, -0.109270625, 0.13190684, 0.15616...   \n",
       "1     [0.13282314, -0.109270625, 0.13190684, 0.15616...   \n",
       "2     [0.43245092, -0.38509068, 0.28445598, -0.10898...   \n",
       "3     [0.14245707, -0.12429103, 0.122207195, 0.14406...   \n",
       "4     [0.14245707, -0.12429103, 0.122207195, 0.14406...   \n",
       "...                                                 ...   \n",
       "1366  [0.35630396, -0.18284945, 0.24060962, 0.133622...   \n",
       "1367  [0.26503417, -0.13458908, 0.15122692, 0.060389...   \n",
       "1368  [0.13282314, -0.109270625, 0.13190684, 0.15616...   \n",
       "1369  [0.31532097, -0.18113564, 0.19666392, 0.043992...   \n",
       "1370  [0.16725785, -0.06372521, 0.16240185, 0.314985...   \n",
       "\n",
       "                                                   vect  \\\n",
       "0     [0.12172554, -0.13963664, 0.10546741, 0.116718...   \n",
       "1     [-0.010893639, -0.074213706, 0.059765805, 0.22...   \n",
       "2     [0.11810719, -0.17636447, 0.10695609, -0.02466...   \n",
       "3     [-0.004232607, -0.107141346, 0.0384272, 0.2198...   \n",
       "4     [0.061051276, -0.1535358, 0.08718315, 0.086728...   \n",
       "...                                                 ...   \n",
       "1366  [0.14924094, -0.16554461, 0.15193097, 0.001433...   \n",
       "1367  [0.10679596, -0.10799509, 0.059806034, 0.02845...   \n",
       "1368  [0.051642727, -0.110040665, 0.043895114, 0.208...   \n",
       "1369  [0.23697138, -0.15449947, 0.079502665, 0.05008...   \n",
       "1370  [0.16143481, -0.13953254, 0.07038431, 0.119810...   \n",
       "\n",
       "                               pooler_output_avg_actual  \n",
       "0     [0.29152542, -0.21074589, 0.18180375, 0.038432...  \n",
       "1     [0.3551837, -0.12282513, 0.10698172, 0.0876703...  \n",
       "2     [0.14543203, -0.19587837, -0.0039892937, 0.165...  \n",
       "3     [0.19770938, -0.2165873, 0.014208878, 0.133946...  \n",
       "4     [0.2755334, -0.2549058, 0.09994121, 0.12830979...  \n",
       "...                                                 ...  \n",
       "1366  [0.24474604, -0.108858354, 0.195402, 0.1332749...  \n",
       "1367  [0.15232515, -0.14815977, 0.0357307, 0.2969926...  \n",
       "1368  [0.24297185, -0.23234145, 0.127411, 0.04034283...  \n",
       "1369  [0.13283248, -0.09122601, 0.20717815, 0.251213...  \n",
       "1370  [0.03754766, -0.008314265, 0.013290983, 0.3505...  \n",
       "\n",
       "[1371 rows x 8 columns]"
      ]
     },
     "execution_count": 26,
     "metadata": {},
     "output_type": "execute_result"
    }
   ],
   "source": [
    "# trainmynameavg['iddoc'] = trainmynameavg['iddoc'].astype(str)\n",
    "new_name_dfvec1['iddoc'] = new_name_dfvec1['iddoc'].astype(str)\n",
    "\n",
    "dffull_train = pd.merge(dffull_train, new_name_dfvec1, on='iddoc', how='inner')\n",
    "dffull_train\n",
    "# файл для обучения готов"
   ]
  },
  {
   "cell_type": "code",
   "execution_count": 27,
   "id": "a7e12cbc-4c5f-40b7-922c-599cd66aed23",
   "metadata": {},
   "outputs": [],
   "source": [
    "dffull_train_x = dffull_train.drop('Label', axis=1)"
   ]
  },
  {
   "cell_type": "code",
   "execution_count": 28,
   "id": "6ecf023b-eefa-415e-83f5-d241509a3324",
   "metadata": {},
   "outputs": [
    {
     "data": {
      "text/html": [
       "<div>\n",
       "<style scoped>\n",
       "    .dataframe tbody tr th:only-of-type {\n",
       "        vertical-align: middle;\n",
       "    }\n",
       "\n",
       "    .dataframe tbody tr th {\n",
       "        vertical-align: top;\n",
       "    }\n",
       "\n",
       "    .dataframe thead th {\n",
       "        text-align: right;\n",
       "    }\n",
       "</style>\n",
       "<table border=\"1\" class=\"dataframe\">\n",
       "  <thead>\n",
       "    <tr style=\"text-align: right;\">\n",
       "      <th></th>\n",
       "      <th>iddoc</th>\n",
       "      <th>name</th>\n",
       "      <th>organ</th>\n",
       "      <th>trainnamevec</th>\n",
       "      <th>trainorganvec</th>\n",
       "      <th>vect</th>\n",
       "      <th>pooler_output_avg_actual</th>\n",
       "    </tr>\n",
       "  </thead>\n",
       "  <tbody>\n",
       "    <tr>\n",
       "      <th>0</th>\n",
       "      <td>1200127764</td>\n",
       "      <td>'ГОСТ Р 22.2.09-2015 Безопасность в чрезвычайн...</td>\n",
       "      <td>Росстандарт</td>\n",
       "      <td>[0.2855563, -0.21450047, -0.04713926, 0.273567...</td>\n",
       "      <td>[0.13282314, -0.109270625, 0.13190684, 0.15616...</td>\n",
       "      <td>[0.12172554, -0.13963664, 0.10546741, 0.116718...</td>\n",
       "      <td>[0.29152542, -0.21074589, 0.18180375, 0.038432...</td>\n",
       "    </tr>\n",
       "    <tr>\n",
       "      <th>1</th>\n",
       "      <td>1200194486</td>\n",
       "      <td>'ГОСТ Р 70511-2022 Оценка соответствия. Оценка...</td>\n",
       "      <td>Росстандарт</td>\n",
       "      <td>[0.2104687, -0.2030449, 0.027465701, 0.1649854...</td>\n",
       "      <td>[0.13282314, -0.109270625, 0.13190684, 0.15616...</td>\n",
       "      <td>[-0.010893639, -0.074213706, 0.059765805, 0.22...</td>\n",
       "      <td>[0.3551837, -0.12282513, 0.10698172, 0.0876703...</td>\n",
       "    </tr>\n",
       "    <tr>\n",
       "      <th>2</th>\n",
       "      <td>1200039301</td>\n",
       "      <td>'Методические рекомендации по разработке инстр...</td>\n",
       "      <td>Министерство труда и социального развития РФ</td>\n",
       "      <td>[0.19567186, -0.2711483, 0.031164335, 0.281890...</td>\n",
       "      <td>[0.43245092, -0.38509068, 0.28445598, -0.10898...</td>\n",
       "      <td>[0.11810719, -0.17636447, 0.10695609, -0.02466...</td>\n",
       "      <td>[0.14543203, -0.19587837, -0.0039892937, 0.165...</td>\n",
       "    </tr>\n",
       "    <tr>\n",
       "      <th>3</th>\n",
       "      <td>1200005469</td>\n",
       "      <td>'ГОСТ 8.411-81 Государственная система обеспеч...</td>\n",
       "      <td>Госстандарт СССР</td>\n",
       "      <td>[0.15742917, -0.19496186, -0.0123731345, 0.238...</td>\n",
       "      <td>[0.14245707, -0.12429103, 0.122207195, 0.14406...</td>\n",
       "      <td>[-0.004232607, -0.107141346, 0.0384272, 0.2198...</td>\n",
       "      <td>[0.19770938, -0.2165873, 0.014208878, 0.133946...</td>\n",
       "    </tr>\n",
       "    <tr>\n",
       "      <th>4</th>\n",
       "      <td>1200014561</td>\n",
       "      <td>'ГОСТ 8.118-85 Государственная система обеспеч...</td>\n",
       "      <td>Госстандарт СССР</td>\n",
       "      <td>[0.17407742, -0.1864671, 0.019858504, 0.308225...</td>\n",
       "      <td>[0.14245707, -0.12429103, 0.122207195, 0.14406...</td>\n",
       "      <td>[0.061051276, -0.1535358, 0.08718315, 0.086728...</td>\n",
       "      <td>[0.2755334, -0.2549058, 0.09994121, 0.12830979...</td>\n",
       "    </tr>\n",
       "    <tr>\n",
       "      <th>...</th>\n",
       "      <td>...</td>\n",
       "      <td>...</td>\n",
       "      <td>...</td>\n",
       "      <td>...</td>\n",
       "      <td>...</td>\n",
       "      <td>...</td>\n",
       "      <td>...</td>\n",
       "    </tr>\n",
       "    <tr>\n",
       "      <th>1366</th>\n",
       "      <td>901742613</td>\n",
       "      <td>'Организация санитарно-гигиенического и дезинф...</td>\n",
       "      <td>Госкомсанэпиднадзор России</td>\n",
       "      <td>[0.2815536, -0.31136575, 0.14645906, 0.2368792...</td>\n",
       "      <td>[0.35630396, -0.18284945, 0.24060962, 0.133622...</td>\n",
       "      <td>[0.14924094, -0.16554461, 0.15193097, 0.001433...</td>\n",
       "      <td>[0.24474604, -0.108858354, 0.195402, 0.1332749...</td>\n",
       "    </tr>\n",
       "    <tr>\n",
       "      <th>1367</th>\n",
       "      <td>901868614</td>\n",
       "      <td>'О совершенствовании противотуберкулезных меро...</td>\n",
       "      <td>Минздрав России</td>\n",
       "      <td>[0.13238095, -0.17949449, -0.0809301, 0.450526...</td>\n",
       "      <td>[0.26503417, -0.13458908, 0.15122692, 0.060389...</td>\n",
       "      <td>[0.10679596, -0.10799509, 0.059806034, 0.02845...</td>\n",
       "      <td>[0.15232515, -0.14815977, 0.0357307, 0.2969926...</td>\n",
       "    </tr>\n",
       "    <tr>\n",
       "      <th>1368</th>\n",
       "      <td>1200060936</td>\n",
       "      <td>'ГОСТ Р 12.4.239-2007 Система стандартов безоп...</td>\n",
       "      <td>Росстандарт</td>\n",
       "      <td>[0.17739098, -0.18805346, 0.092756666, 0.28207...</td>\n",
       "      <td>[0.13282314, -0.109270625, 0.13190684, 0.15616...</td>\n",
       "      <td>[0.051642727, -0.110040665, 0.043895114, 0.208...</td>\n",
       "      <td>[0.24297185, -0.23234145, 0.127411, 0.04034283...</td>\n",
       "    </tr>\n",
       "    <tr>\n",
       "      <th>1369</th>\n",
       "      <td>499010049</td>\n",
       "      <td>'Об утверждении перечней учреждений, созданных...</td>\n",
       "      <td>МЧС России</td>\n",
       "      <td>[-0.0057764584, -0.018996404, -0.047635127, 0....</td>\n",
       "      <td>[0.31532097, -0.18113564, 0.19666392, 0.043992...</td>\n",
       "      <td>[0.23697138, -0.15449947, 0.079502665, 0.05008...</td>\n",
       "      <td>[0.13283248, -0.09122601, 0.20717815, 0.251213...</td>\n",
       "    </tr>\n",
       "    <tr>\n",
       "      <th>1370</th>\n",
       "      <td>901865885</td>\n",
       "      <td>'Об утверждении Положения о проведении эксперт...</td>\n",
       "      <td>Госгортехнадзор России#-</td>\n",
       "      <td>[-0.03972371, 0.011717104, -0.19522403, 0.5652...</td>\n",
       "      <td>[0.16725785, -0.06372521, 0.16240185, 0.314985...</td>\n",
       "      <td>[0.16143481, -0.13953254, 0.07038431, 0.119810...</td>\n",
       "      <td>[0.03754766, -0.008314265, 0.013290983, 0.3505...</td>\n",
       "    </tr>\n",
       "  </tbody>\n",
       "</table>\n",
       "<p>1371 rows × 7 columns</p>\n",
       "</div>"
      ],
      "text/plain": [
       "           iddoc                                               name  \\\n",
       "0     1200127764  'ГОСТ Р 22.2.09-2015 Безопасность в чрезвычайн...   \n",
       "1     1200194486  'ГОСТ Р 70511-2022 Оценка соответствия. Оценка...   \n",
       "2     1200039301  'Методические рекомендации по разработке инстр...   \n",
       "3     1200005469  'ГОСТ 8.411-81 Государственная система обеспеч...   \n",
       "4     1200014561  'ГОСТ 8.118-85 Государственная система обеспеч...   \n",
       "...          ...                                                ...   \n",
       "1366   901742613  'Организация санитарно-гигиенического и дезинф...   \n",
       "1367   901868614  'О совершенствовании противотуберкулезных меро...   \n",
       "1368  1200060936  'ГОСТ Р 12.4.239-2007 Система стандартов безоп...   \n",
       "1369   499010049  'Об утверждении перечней учреждений, созданных...   \n",
       "1370   901865885  'Об утверждении Положения о проведении эксперт...   \n",
       "\n",
       "                                             organ  \\\n",
       "0                                      Росстандарт   \n",
       "1                                      Росстандарт   \n",
       "2     Министерство труда и социального развития РФ   \n",
       "3                                 Госстандарт СССР   \n",
       "4                                 Госстандарт СССР   \n",
       "...                                            ...   \n",
       "1366                    Госкомсанэпиднадзор России   \n",
       "1367                               Минздрав России   \n",
       "1368                                   Росстандарт   \n",
       "1369                                    МЧС России   \n",
       "1370                      Госгортехнадзор России#-   \n",
       "\n",
       "                                           trainnamevec  \\\n",
       "0     [0.2855563, -0.21450047, -0.04713926, 0.273567...   \n",
       "1     [0.2104687, -0.2030449, 0.027465701, 0.1649854...   \n",
       "2     [0.19567186, -0.2711483, 0.031164335, 0.281890...   \n",
       "3     [0.15742917, -0.19496186, -0.0123731345, 0.238...   \n",
       "4     [0.17407742, -0.1864671, 0.019858504, 0.308225...   \n",
       "...                                                 ...   \n",
       "1366  [0.2815536, -0.31136575, 0.14645906, 0.2368792...   \n",
       "1367  [0.13238095, -0.17949449, -0.0809301, 0.450526...   \n",
       "1368  [0.17739098, -0.18805346, 0.092756666, 0.28207...   \n",
       "1369  [-0.0057764584, -0.018996404, -0.047635127, 0....   \n",
       "1370  [-0.03972371, 0.011717104, -0.19522403, 0.5652...   \n",
       "\n",
       "                                          trainorganvec  \\\n",
       "0     [0.13282314, -0.109270625, 0.13190684, 0.15616...   \n",
       "1     [0.13282314, -0.109270625, 0.13190684, 0.15616...   \n",
       "2     [0.43245092, -0.38509068, 0.28445598, -0.10898...   \n",
       "3     [0.14245707, -0.12429103, 0.122207195, 0.14406...   \n",
       "4     [0.14245707, -0.12429103, 0.122207195, 0.14406...   \n",
       "...                                                 ...   \n",
       "1366  [0.35630396, -0.18284945, 0.24060962, 0.133622...   \n",
       "1367  [0.26503417, -0.13458908, 0.15122692, 0.060389...   \n",
       "1368  [0.13282314, -0.109270625, 0.13190684, 0.15616...   \n",
       "1369  [0.31532097, -0.18113564, 0.19666392, 0.043992...   \n",
       "1370  [0.16725785, -0.06372521, 0.16240185, 0.314985...   \n",
       "\n",
       "                                                   vect  \\\n",
       "0     [0.12172554, -0.13963664, 0.10546741, 0.116718...   \n",
       "1     [-0.010893639, -0.074213706, 0.059765805, 0.22...   \n",
       "2     [0.11810719, -0.17636447, 0.10695609, -0.02466...   \n",
       "3     [-0.004232607, -0.107141346, 0.0384272, 0.2198...   \n",
       "4     [0.061051276, -0.1535358, 0.08718315, 0.086728...   \n",
       "...                                                 ...   \n",
       "1366  [0.14924094, -0.16554461, 0.15193097, 0.001433...   \n",
       "1367  [0.10679596, -0.10799509, 0.059806034, 0.02845...   \n",
       "1368  [0.051642727, -0.110040665, 0.043895114, 0.208...   \n",
       "1369  [0.23697138, -0.15449947, 0.079502665, 0.05008...   \n",
       "1370  [0.16143481, -0.13953254, 0.07038431, 0.119810...   \n",
       "\n",
       "                               pooler_output_avg_actual  \n",
       "0     [0.29152542, -0.21074589, 0.18180375, 0.038432...  \n",
       "1     [0.3551837, -0.12282513, 0.10698172, 0.0876703...  \n",
       "2     [0.14543203, -0.19587837, -0.0039892937, 0.165...  \n",
       "3     [0.19770938, -0.2165873, 0.014208878, 0.133946...  \n",
       "4     [0.2755334, -0.2549058, 0.09994121, 0.12830979...  \n",
       "...                                                 ...  \n",
       "1366  [0.24474604, -0.108858354, 0.195402, 0.1332749...  \n",
       "1367  [0.15232515, -0.14815977, 0.0357307, 0.2969926...  \n",
       "1368  [0.24297185, -0.23234145, 0.127411, 0.04034283...  \n",
       "1369  [0.13283248, -0.09122601, 0.20717815, 0.251213...  \n",
       "1370  [0.03754766, -0.008314265, 0.013290983, 0.3505...  \n",
       "\n",
       "[1371 rows x 7 columns]"
      ]
     },
     "execution_count": 28,
     "metadata": {},
     "output_type": "execute_result"
    }
   ],
   "source": [
    "dffull_train_x"
   ]
  },
  {
   "cell_type": "code",
   "execution_count": 29,
   "id": "5ad62a0c-2f46-4982-8373-4082fada0745",
   "metadata": {},
   "outputs": [],
   "source": [
    "dffull_train['Label'] = dffull_train['Label'].apply(lambda x: x.split(', '))\n",
    "\n",
    "mlbtransformerTrain = MultiLabelBinarizer()\n",
    "ytransformerTrain = mlbtransformerTrain.fit_transform(dffull_train['Label'])\n",
    "ytransformerTrain = pd.DataFrame(ytransformerTrain, columns=mlbtransformerTrain.classes_)\n",
    "XvectTrain = pd.DataFrame(dffull_train_x['pooler_output_avg_actual'].tolist())\n",
    "XtransformerTrain = XvectTrain"
   ]
  },
  {
   "cell_type": "code",
   "execution_count": 30,
   "id": "1cfbbb9c-b682-4ebd-910b-a96ac4851a5a",
   "metadata": {},
   "outputs": [],
   "source": [
    "XvectTest = pd.DataFrame(new_name_dfvec1['pooler_output_avg_actual'].tolist())\n",
    "XtransformerTest = XvectTest"
   ]
  },
  {
   "cell_type": "code",
   "execution_count": 31,
   "id": "de2a0fd2-807d-4cae-9e3b-d3896932d3bd",
   "metadata": {
    "scrolled": true
   },
   "outputs": [
    {
     "data": {
      "text/html": [
       "<div>\n",
       "<style scoped>\n",
       "    .dataframe tbody tr th:only-of-type {\n",
       "        vertical-align: middle;\n",
       "    }\n",
       "\n",
       "    .dataframe tbody tr th {\n",
       "        vertical-align: top;\n",
       "    }\n",
       "\n",
       "    .dataframe thead th {\n",
       "        text-align: right;\n",
       "    }\n",
       "</style>\n",
       "<table border=\"1\" class=\"dataframe\">\n",
       "  <thead>\n",
       "    <tr style=\"text-align: right;\">\n",
       "      <th></th>\n",
       "      <th>0</th>\n",
       "      <th>1</th>\n",
       "      <th>2</th>\n",
       "      <th>3</th>\n",
       "      <th>4</th>\n",
       "      <th>5</th>\n",
       "      <th>6</th>\n",
       "      <th>7</th>\n",
       "      <th>8</th>\n",
       "      <th>9</th>\n",
       "      <th>...</th>\n",
       "      <th>758</th>\n",
       "      <th>759</th>\n",
       "      <th>760</th>\n",
       "      <th>761</th>\n",
       "      <th>762</th>\n",
       "      <th>763</th>\n",
       "      <th>764</th>\n",
       "      <th>765</th>\n",
       "      <th>766</th>\n",
       "      <th>767</th>\n",
       "    </tr>\n",
       "  </thead>\n",
       "  <tbody>\n",
       "    <tr>\n",
       "      <th>0</th>\n",
       "      <td>0.353361</td>\n",
       "      <td>-0.243320</td>\n",
       "      <td>0.056097</td>\n",
       "      <td>0.115360</td>\n",
       "      <td>-0.032791</td>\n",
       "      <td>0.398964</td>\n",
       "      <td>0.301549</td>\n",
       "      <td>0.404506</td>\n",
       "      <td>-0.237792</td>\n",
       "      <td>0.364938</td>\n",
       "      <td>...</td>\n",
       "      <td>0.147442</td>\n",
       "      <td>0.174253</td>\n",
       "      <td>0.112246</td>\n",
       "      <td>0.858475</td>\n",
       "      <td>0.286932</td>\n",
       "      <td>0.286815</td>\n",
       "      <td>0.252810</td>\n",
       "      <td>-0.182178</td>\n",
       "      <td>0.195503</td>\n",
       "      <td>0.093186</td>\n",
       "    </tr>\n",
       "    <tr>\n",
       "      <th>1</th>\n",
       "      <td>0.325935</td>\n",
       "      <td>-0.239992</td>\n",
       "      <td>0.280767</td>\n",
       "      <td>0.152410</td>\n",
       "      <td>0.015082</td>\n",
       "      <td>0.282491</td>\n",
       "      <td>0.364922</td>\n",
       "      <td>0.154419</td>\n",
       "      <td>-0.194627</td>\n",
       "      <td>0.162829</td>\n",
       "      <td>...</td>\n",
       "      <td>0.064095</td>\n",
       "      <td>0.280048</td>\n",
       "      <td>0.064118</td>\n",
       "      <td>0.568542</td>\n",
       "      <td>0.047745</td>\n",
       "      <td>0.242388</td>\n",
       "      <td>0.178616</td>\n",
       "      <td>0.015276</td>\n",
       "      <td>0.197861</td>\n",
       "      <td>0.091460</td>\n",
       "    </tr>\n",
       "    <tr>\n",
       "      <th>2</th>\n",
       "      <td>-0.001449</td>\n",
       "      <td>0.051370</td>\n",
       "      <td>-0.053476</td>\n",
       "      <td>0.482730</td>\n",
       "      <td>0.173749</td>\n",
       "      <td>0.054022</td>\n",
       "      <td>0.036912</td>\n",
       "      <td>0.086766</td>\n",
       "      <td>-0.061818</td>\n",
       "      <td>0.101356</td>\n",
       "      <td>...</td>\n",
       "      <td>-0.012415</td>\n",
       "      <td>-0.131751</td>\n",
       "      <td>0.048086</td>\n",
       "      <td>-0.306986</td>\n",
       "      <td>0.090276</td>\n",
       "      <td>0.104646</td>\n",
       "      <td>-0.025375</td>\n",
       "      <td>0.092447</td>\n",
       "      <td>-0.062682</td>\n",
       "      <td>-0.066849</td>\n",
       "    </tr>\n",
       "    <tr>\n",
       "      <th>3</th>\n",
       "      <td>0.208560</td>\n",
       "      <td>-0.370451</td>\n",
       "      <td>0.126028</td>\n",
       "      <td>-0.065593</td>\n",
       "      <td>-0.078183</td>\n",
       "      <td>0.360366</td>\n",
       "      <td>0.338238</td>\n",
       "      <td>0.332010</td>\n",
       "      <td>-0.474838</td>\n",
       "      <td>0.502958</td>\n",
       "      <td>...</td>\n",
       "      <td>0.440072</td>\n",
       "      <td>0.244190</td>\n",
       "      <td>0.343343</td>\n",
       "      <td>0.940398</td>\n",
       "      <td>0.311224</td>\n",
       "      <td>0.537038</td>\n",
       "      <td>0.237087</td>\n",
       "      <td>-0.248849</td>\n",
       "      <td>0.175646</td>\n",
       "      <td>0.350933</td>\n",
       "    </tr>\n",
       "    <tr>\n",
       "      <th>4</th>\n",
       "      <td>0.466791</td>\n",
       "      <td>-0.383144</td>\n",
       "      <td>0.377967</td>\n",
       "      <td>-0.367860</td>\n",
       "      <td>-0.222945</td>\n",
       "      <td>0.490231</td>\n",
       "      <td>0.298619</td>\n",
       "      <td>0.459677</td>\n",
       "      <td>-0.317014</td>\n",
       "      <td>0.480612</td>\n",
       "      <td>...</td>\n",
       "      <td>0.397229</td>\n",
       "      <td>0.282514</td>\n",
       "      <td>0.285608</td>\n",
       "      <td>0.973118</td>\n",
       "      <td>0.318171</td>\n",
       "      <td>0.385401</td>\n",
       "      <td>0.282982</td>\n",
       "      <td>-0.269908</td>\n",
       "      <td>0.217813</td>\n",
       "      <td>0.377844</td>\n",
       "    </tr>\n",
       "    <tr>\n",
       "      <th>...</th>\n",
       "      <td>...</td>\n",
       "      <td>...</td>\n",
       "      <td>...</td>\n",
       "      <td>...</td>\n",
       "      <td>...</td>\n",
       "      <td>...</td>\n",
       "      <td>...</td>\n",
       "      <td>...</td>\n",
       "      <td>...</td>\n",
       "      <td>...</td>\n",
       "      <td>...</td>\n",
       "      <td>...</td>\n",
       "      <td>...</td>\n",
       "      <td>...</td>\n",
       "      <td>...</td>\n",
       "      <td>...</td>\n",
       "      <td>...</td>\n",
       "      <td>...</td>\n",
       "      <td>...</td>\n",
       "      <td>...</td>\n",
       "      <td>...</td>\n",
       "    </tr>\n",
       "    <tr>\n",
       "      <th>56510</th>\n",
       "      <td>0.332106</td>\n",
       "      <td>-0.392372</td>\n",
       "      <td>0.172117</td>\n",
       "      <td>-0.162470</td>\n",
       "      <td>-0.224149</td>\n",
       "      <td>0.374999</td>\n",
       "      <td>0.383287</td>\n",
       "      <td>0.481330</td>\n",
       "      <td>-0.373353</td>\n",
       "      <td>0.541798</td>\n",
       "      <td>...</td>\n",
       "      <td>0.272140</td>\n",
       "      <td>0.385334</td>\n",
       "      <td>0.295373</td>\n",
       "      <td>0.848848</td>\n",
       "      <td>0.428783</td>\n",
       "      <td>0.255324</td>\n",
       "      <td>0.198023</td>\n",
       "      <td>-0.213244</td>\n",
       "      <td>0.424242</td>\n",
       "      <td>0.236330</td>\n",
       "    </tr>\n",
       "    <tr>\n",
       "      <th>56511</th>\n",
       "      <td>0.145826</td>\n",
       "      <td>0.058097</td>\n",
       "      <td>0.017973</td>\n",
       "      <td>0.434786</td>\n",
       "      <td>0.036980</td>\n",
       "      <td>-0.121070</td>\n",
       "      <td>0.264522</td>\n",
       "      <td>0.193853</td>\n",
       "      <td>0.059422</td>\n",
       "      <td>-0.073348</td>\n",
       "      <td>...</td>\n",
       "      <td>-0.190665</td>\n",
       "      <td>0.028466</td>\n",
       "      <td>-0.090524</td>\n",
       "      <td>-0.377234</td>\n",
       "      <td>-0.025598</td>\n",
       "      <td>0.168965</td>\n",
       "      <td>0.086155</td>\n",
       "      <td>0.136396</td>\n",
       "      <td>0.111881</td>\n",
       "      <td>0.034692</td>\n",
       "    </tr>\n",
       "    <tr>\n",
       "      <th>56512</th>\n",
       "      <td>0.182500</td>\n",
       "      <td>-0.120713</td>\n",
       "      <td>0.033567</td>\n",
       "      <td>0.150347</td>\n",
       "      <td>0.064818</td>\n",
       "      <td>0.180769</td>\n",
       "      <td>0.222143</td>\n",
       "      <td>0.083916</td>\n",
       "      <td>-0.268578</td>\n",
       "      <td>0.238008</td>\n",
       "      <td>...</td>\n",
       "      <td>0.058859</td>\n",
       "      <td>0.135813</td>\n",
       "      <td>0.255073</td>\n",
       "      <td>0.441894</td>\n",
       "      <td>0.087115</td>\n",
       "      <td>0.203512</td>\n",
       "      <td>0.138748</td>\n",
       "      <td>0.038557</td>\n",
       "      <td>0.123025</td>\n",
       "      <td>0.052619</td>\n",
       "    </tr>\n",
       "    <tr>\n",
       "      <th>56513</th>\n",
       "      <td>0.279929</td>\n",
       "      <td>-0.047370</td>\n",
       "      <td>0.088587</td>\n",
       "      <td>0.241009</td>\n",
       "      <td>0.081374</td>\n",
       "      <td>0.135781</td>\n",
       "      <td>0.195505</td>\n",
       "      <td>0.128051</td>\n",
       "      <td>-0.148426</td>\n",
       "      <td>0.159117</td>\n",
       "      <td>...</td>\n",
       "      <td>0.046987</td>\n",
       "      <td>0.083372</td>\n",
       "      <td>-0.014492</td>\n",
       "      <td>0.323009</td>\n",
       "      <td>0.034461</td>\n",
       "      <td>0.197977</td>\n",
       "      <td>0.108623</td>\n",
       "      <td>0.166584</td>\n",
       "      <td>0.027441</td>\n",
       "      <td>0.034798</td>\n",
       "    </tr>\n",
       "    <tr>\n",
       "      <th>56514</th>\n",
       "      <td>0.205324</td>\n",
       "      <td>-0.197930</td>\n",
       "      <td>0.016041</td>\n",
       "      <td>0.067286</td>\n",
       "      <td>0.009149</td>\n",
       "      <td>0.246896</td>\n",
       "      <td>0.268266</td>\n",
       "      <td>0.444689</td>\n",
       "      <td>-0.087141</td>\n",
       "      <td>0.276415</td>\n",
       "      <td>...</td>\n",
       "      <td>0.127175</td>\n",
       "      <td>0.171544</td>\n",
       "      <td>0.002474</td>\n",
       "      <td>0.828634</td>\n",
       "      <td>0.219119</td>\n",
       "      <td>0.230794</td>\n",
       "      <td>0.205055</td>\n",
       "      <td>-0.130450</td>\n",
       "      <td>0.195414</td>\n",
       "      <td>0.091111</td>\n",
       "    </tr>\n",
       "  </tbody>\n",
       "</table>\n",
       "<p>56515 rows × 768 columns</p>\n",
       "</div>"
      ],
      "text/plain": [
       "            0         1         2         3         4         5         6    \\\n",
       "0      0.353361 -0.243320  0.056097  0.115360 -0.032791  0.398964  0.301549   \n",
       "1      0.325935 -0.239992  0.280767  0.152410  0.015082  0.282491  0.364922   \n",
       "2     -0.001449  0.051370 -0.053476  0.482730  0.173749  0.054022  0.036912   \n",
       "3      0.208560 -0.370451  0.126028 -0.065593 -0.078183  0.360366  0.338238   \n",
       "4      0.466791 -0.383144  0.377967 -0.367860 -0.222945  0.490231  0.298619   \n",
       "...         ...       ...       ...       ...       ...       ...       ...   \n",
       "56510  0.332106 -0.392372  0.172117 -0.162470 -0.224149  0.374999  0.383287   \n",
       "56511  0.145826  0.058097  0.017973  0.434786  0.036980 -0.121070  0.264522   \n",
       "56512  0.182500 -0.120713  0.033567  0.150347  0.064818  0.180769  0.222143   \n",
       "56513  0.279929 -0.047370  0.088587  0.241009  0.081374  0.135781  0.195505   \n",
       "56514  0.205324 -0.197930  0.016041  0.067286  0.009149  0.246896  0.268266   \n",
       "\n",
       "            7         8         9    ...       758       759       760  \\\n",
       "0      0.404506 -0.237792  0.364938  ...  0.147442  0.174253  0.112246   \n",
       "1      0.154419 -0.194627  0.162829  ...  0.064095  0.280048  0.064118   \n",
       "2      0.086766 -0.061818  0.101356  ... -0.012415 -0.131751  0.048086   \n",
       "3      0.332010 -0.474838  0.502958  ...  0.440072  0.244190  0.343343   \n",
       "4      0.459677 -0.317014  0.480612  ...  0.397229  0.282514  0.285608   \n",
       "...         ...       ...       ...  ...       ...       ...       ...   \n",
       "56510  0.481330 -0.373353  0.541798  ...  0.272140  0.385334  0.295373   \n",
       "56511  0.193853  0.059422 -0.073348  ... -0.190665  0.028466 -0.090524   \n",
       "56512  0.083916 -0.268578  0.238008  ...  0.058859  0.135813  0.255073   \n",
       "56513  0.128051 -0.148426  0.159117  ...  0.046987  0.083372 -0.014492   \n",
       "56514  0.444689 -0.087141  0.276415  ...  0.127175  0.171544  0.002474   \n",
       "\n",
       "            761       762       763       764       765       766       767  \n",
       "0      0.858475  0.286932  0.286815  0.252810 -0.182178  0.195503  0.093186  \n",
       "1      0.568542  0.047745  0.242388  0.178616  0.015276  0.197861  0.091460  \n",
       "2     -0.306986  0.090276  0.104646 -0.025375  0.092447 -0.062682 -0.066849  \n",
       "3      0.940398  0.311224  0.537038  0.237087 -0.248849  0.175646  0.350933  \n",
       "4      0.973118  0.318171  0.385401  0.282982 -0.269908  0.217813  0.377844  \n",
       "...         ...       ...       ...       ...       ...       ...       ...  \n",
       "56510  0.848848  0.428783  0.255324  0.198023 -0.213244  0.424242  0.236330  \n",
       "56511 -0.377234 -0.025598  0.168965  0.086155  0.136396  0.111881  0.034692  \n",
       "56512  0.441894  0.087115  0.203512  0.138748  0.038557  0.123025  0.052619  \n",
       "56513  0.323009  0.034461  0.197977  0.108623  0.166584  0.027441  0.034798  \n",
       "56514  0.828634  0.219119  0.230794  0.205055 -0.130450  0.195414  0.091111  \n",
       "\n",
       "[56515 rows x 768 columns]"
      ]
     },
     "execution_count": 31,
     "metadata": {},
     "output_type": "execute_result"
    }
   ],
   "source": [
    "XtransformerTest"
   ]
  },
  {
   "cell_type": "code",
   "execution_count": 32,
   "id": "0c149034-52d3-4113-8cc7-71955635797b",
   "metadata": {
    "scrolled": true
   },
   "outputs": [
    {
     "data": {
      "text/html": [
       "<div>\n",
       "<style scoped>\n",
       "    .dataframe tbody tr th:only-of-type {\n",
       "        vertical-align: middle;\n",
       "    }\n",
       "\n",
       "    .dataframe tbody tr th {\n",
       "        vertical-align: top;\n",
       "    }\n",
       "\n",
       "    .dataframe thead th {\n",
       "        text-align: right;\n",
       "    }\n",
       "</style>\n",
       "<table border=\"1\" class=\"dataframe\">\n",
       "  <thead>\n",
       "    <tr style=\"text-align: right;\">\n",
       "      <th></th>\n",
       "      <th>0</th>\n",
       "      <th>1</th>\n",
       "      <th>2</th>\n",
       "      <th>3</th>\n",
       "      <th>4</th>\n",
       "      <th>5</th>\n",
       "      <th>6</th>\n",
       "      <th>7</th>\n",
       "      <th>8</th>\n",
       "      <th>9</th>\n",
       "      <th>...</th>\n",
       "      <th>758</th>\n",
       "      <th>759</th>\n",
       "      <th>760</th>\n",
       "      <th>761</th>\n",
       "      <th>762</th>\n",
       "      <th>763</th>\n",
       "      <th>764</th>\n",
       "      <th>765</th>\n",
       "      <th>766</th>\n",
       "      <th>767</th>\n",
       "    </tr>\n",
       "  </thead>\n",
       "  <tbody>\n",
       "    <tr>\n",
       "      <th>0</th>\n",
       "      <td>0.291525</td>\n",
       "      <td>-0.210746</td>\n",
       "      <td>0.181804</td>\n",
       "      <td>0.038432</td>\n",
       "      <td>0.006411</td>\n",
       "      <td>0.408258</td>\n",
       "      <td>0.255462</td>\n",
       "      <td>0.270870</td>\n",
       "      <td>-0.228698</td>\n",
       "      <td>0.360879</td>\n",
       "      <td>...</td>\n",
       "      <td>0.094901</td>\n",
       "      <td>0.242647</td>\n",
       "      <td>0.298531</td>\n",
       "      <td>0.887655</td>\n",
       "      <td>0.259375</td>\n",
       "      <td>0.178826</td>\n",
       "      <td>0.290616</td>\n",
       "      <td>-0.189212</td>\n",
       "      <td>0.186709</td>\n",
       "      <td>0.236227</td>\n",
       "    </tr>\n",
       "    <tr>\n",
       "      <th>1</th>\n",
       "      <td>0.355184</td>\n",
       "      <td>-0.122825</td>\n",
       "      <td>0.106982</td>\n",
       "      <td>0.087670</td>\n",
       "      <td>-0.064466</td>\n",
       "      <td>0.455416</td>\n",
       "      <td>0.271216</td>\n",
       "      <td>0.301015</td>\n",
       "      <td>-0.364498</td>\n",
       "      <td>0.468364</td>\n",
       "      <td>...</td>\n",
       "      <td>0.360351</td>\n",
       "      <td>0.288066</td>\n",
       "      <td>0.309938</td>\n",
       "      <td>0.922270</td>\n",
       "      <td>0.447318</td>\n",
       "      <td>0.382771</td>\n",
       "      <td>0.321149</td>\n",
       "      <td>-0.275853</td>\n",
       "      <td>0.172854</td>\n",
       "      <td>0.150588</td>\n",
       "    </tr>\n",
       "    <tr>\n",
       "      <th>2</th>\n",
       "      <td>0.145432</td>\n",
       "      <td>-0.195878</td>\n",
       "      <td>-0.003989</td>\n",
       "      <td>0.165910</td>\n",
       "      <td>0.059242</td>\n",
       "      <td>0.156935</td>\n",
       "      <td>0.406105</td>\n",
       "      <td>0.101063</td>\n",
       "      <td>-0.150564</td>\n",
       "      <td>0.158669</td>\n",
       "      <td>...</td>\n",
       "      <td>0.206326</td>\n",
       "      <td>0.098941</td>\n",
       "      <td>0.084196</td>\n",
       "      <td>0.737901</td>\n",
       "      <td>0.184666</td>\n",
       "      <td>0.231481</td>\n",
       "      <td>0.159205</td>\n",
       "      <td>-0.019073</td>\n",
       "      <td>-0.026804</td>\n",
       "      <td>0.126507</td>\n",
       "    </tr>\n",
       "    <tr>\n",
       "      <th>3</th>\n",
       "      <td>0.197709</td>\n",
       "      <td>-0.216587</td>\n",
       "      <td>0.014209</td>\n",
       "      <td>0.133947</td>\n",
       "      <td>-0.140066</td>\n",
       "      <td>0.321449</td>\n",
       "      <td>0.219419</td>\n",
       "      <td>0.374435</td>\n",
       "      <td>-0.236372</td>\n",
       "      <td>0.427011</td>\n",
       "      <td>...</td>\n",
       "      <td>0.249750</td>\n",
       "      <td>0.211238</td>\n",
       "      <td>0.383206</td>\n",
       "      <td>0.822913</td>\n",
       "      <td>0.301388</td>\n",
       "      <td>0.284200</td>\n",
       "      <td>0.206761</td>\n",
       "      <td>-0.158048</td>\n",
       "      <td>0.316870</td>\n",
       "      <td>0.144445</td>\n",
       "    </tr>\n",
       "    <tr>\n",
       "      <th>4</th>\n",
       "      <td>0.275533</td>\n",
       "      <td>-0.254906</td>\n",
       "      <td>0.099941</td>\n",
       "      <td>0.128310</td>\n",
       "      <td>-0.224708</td>\n",
       "      <td>0.429375</td>\n",
       "      <td>0.294607</td>\n",
       "      <td>0.346961</td>\n",
       "      <td>-0.325809</td>\n",
       "      <td>0.537468</td>\n",
       "      <td>...</td>\n",
       "      <td>0.263853</td>\n",
       "      <td>0.336808</td>\n",
       "      <td>0.421352</td>\n",
       "      <td>0.926895</td>\n",
       "      <td>0.382166</td>\n",
       "      <td>0.368388</td>\n",
       "      <td>0.247825</td>\n",
       "      <td>-0.326875</td>\n",
       "      <td>0.402611</td>\n",
       "      <td>0.151677</td>\n",
       "    </tr>\n",
       "    <tr>\n",
       "      <th>...</th>\n",
       "      <td>...</td>\n",
       "      <td>...</td>\n",
       "      <td>...</td>\n",
       "      <td>...</td>\n",
       "      <td>...</td>\n",
       "      <td>...</td>\n",
       "      <td>...</td>\n",
       "      <td>...</td>\n",
       "      <td>...</td>\n",
       "      <td>...</td>\n",
       "      <td>...</td>\n",
       "      <td>...</td>\n",
       "      <td>...</td>\n",
       "      <td>...</td>\n",
       "      <td>...</td>\n",
       "      <td>...</td>\n",
       "      <td>...</td>\n",
       "      <td>...</td>\n",
       "      <td>...</td>\n",
       "      <td>...</td>\n",
       "      <td>...</td>\n",
       "    </tr>\n",
       "    <tr>\n",
       "      <th>1366</th>\n",
       "      <td>0.244746</td>\n",
       "      <td>-0.108858</td>\n",
       "      <td>0.195402</td>\n",
       "      <td>0.133275</td>\n",
       "      <td>0.000744</td>\n",
       "      <td>0.277244</td>\n",
       "      <td>0.309675</td>\n",
       "      <td>0.113961</td>\n",
       "      <td>-0.256936</td>\n",
       "      <td>0.271037</td>\n",
       "      <td>...</td>\n",
       "      <td>0.145696</td>\n",
       "      <td>0.225685</td>\n",
       "      <td>0.113510</td>\n",
       "      <td>0.660255</td>\n",
       "      <td>0.171794</td>\n",
       "      <td>0.331795</td>\n",
       "      <td>0.240476</td>\n",
       "      <td>0.006964</td>\n",
       "      <td>0.051895</td>\n",
       "      <td>0.095735</td>\n",
       "    </tr>\n",
       "    <tr>\n",
       "      <th>1367</th>\n",
       "      <td>0.152325</td>\n",
       "      <td>-0.148160</td>\n",
       "      <td>0.035731</td>\n",
       "      <td>0.296993</td>\n",
       "      <td>-0.054711</td>\n",
       "      <td>0.193614</td>\n",
       "      <td>0.173485</td>\n",
       "      <td>0.067356</td>\n",
       "      <td>-0.053412</td>\n",
       "      <td>0.004537</td>\n",
       "      <td>...</td>\n",
       "      <td>-0.036856</td>\n",
       "      <td>0.159636</td>\n",
       "      <td>0.047876</td>\n",
       "      <td>0.349598</td>\n",
       "      <td>-0.008012</td>\n",
       "      <td>0.283824</td>\n",
       "      <td>0.116508</td>\n",
       "      <td>0.019093</td>\n",
       "      <td>0.092034</td>\n",
       "      <td>0.061417</td>\n",
       "    </tr>\n",
       "    <tr>\n",
       "      <th>1368</th>\n",
       "      <td>0.242972</td>\n",
       "      <td>-0.232341</td>\n",
       "      <td>0.127411</td>\n",
       "      <td>0.040343</td>\n",
       "      <td>-0.161518</td>\n",
       "      <td>0.387960</td>\n",
       "      <td>0.270041</td>\n",
       "      <td>0.346398</td>\n",
       "      <td>-0.320948</td>\n",
       "      <td>0.485050</td>\n",
       "      <td>...</td>\n",
       "      <td>0.263049</td>\n",
       "      <td>0.238916</td>\n",
       "      <td>0.368530</td>\n",
       "      <td>0.862730</td>\n",
       "      <td>0.317864</td>\n",
       "      <td>0.273502</td>\n",
       "      <td>0.194048</td>\n",
       "      <td>-0.132383</td>\n",
       "      <td>0.261055</td>\n",
       "      <td>0.124519</td>\n",
       "    </tr>\n",
       "    <tr>\n",
       "      <th>1369</th>\n",
       "      <td>0.132832</td>\n",
       "      <td>-0.091226</td>\n",
       "      <td>0.207178</td>\n",
       "      <td>0.251213</td>\n",
       "      <td>0.052481</td>\n",
       "      <td>0.131437</td>\n",
       "      <td>0.125123</td>\n",
       "      <td>0.184050</td>\n",
       "      <td>-0.110585</td>\n",
       "      <td>0.014858</td>\n",
       "      <td>...</td>\n",
       "      <td>0.254450</td>\n",
       "      <td>-0.010142</td>\n",
       "      <td>0.066076</td>\n",
       "      <td>0.400058</td>\n",
       "      <td>0.109091</td>\n",
       "      <td>0.133152</td>\n",
       "      <td>0.280741</td>\n",
       "      <td>0.104474</td>\n",
       "      <td>0.033486</td>\n",
       "      <td>0.005957</td>\n",
       "    </tr>\n",
       "    <tr>\n",
       "      <th>1370</th>\n",
       "      <td>0.037548</td>\n",
       "      <td>-0.008314</td>\n",
       "      <td>0.013291</td>\n",
       "      <td>0.350524</td>\n",
       "      <td>0.046622</td>\n",
       "      <td>0.065757</td>\n",
       "      <td>0.058708</td>\n",
       "      <td>-0.004614</td>\n",
       "      <td>-0.057108</td>\n",
       "      <td>0.000598</td>\n",
       "      <td>...</td>\n",
       "      <td>-0.039162</td>\n",
       "      <td>-0.149575</td>\n",
       "      <td>0.013945</td>\n",
       "      <td>-0.249106</td>\n",
       "      <td>0.053395</td>\n",
       "      <td>0.049417</td>\n",
       "      <td>-0.063728</td>\n",
       "      <td>0.151586</td>\n",
       "      <td>-0.037005</td>\n",
       "      <td>-0.022522</td>\n",
       "    </tr>\n",
       "  </tbody>\n",
       "</table>\n",
       "<p>1371 rows × 768 columns</p>\n",
       "</div>"
      ],
      "text/plain": [
       "           0         1         2         3         4         5         6    \\\n",
       "0     0.291525 -0.210746  0.181804  0.038432  0.006411  0.408258  0.255462   \n",
       "1     0.355184 -0.122825  0.106982  0.087670 -0.064466  0.455416  0.271216   \n",
       "2     0.145432 -0.195878 -0.003989  0.165910  0.059242  0.156935  0.406105   \n",
       "3     0.197709 -0.216587  0.014209  0.133947 -0.140066  0.321449  0.219419   \n",
       "4     0.275533 -0.254906  0.099941  0.128310 -0.224708  0.429375  0.294607   \n",
       "...        ...       ...       ...       ...       ...       ...       ...   \n",
       "1366  0.244746 -0.108858  0.195402  0.133275  0.000744  0.277244  0.309675   \n",
       "1367  0.152325 -0.148160  0.035731  0.296993 -0.054711  0.193614  0.173485   \n",
       "1368  0.242972 -0.232341  0.127411  0.040343 -0.161518  0.387960  0.270041   \n",
       "1369  0.132832 -0.091226  0.207178  0.251213  0.052481  0.131437  0.125123   \n",
       "1370  0.037548 -0.008314  0.013291  0.350524  0.046622  0.065757  0.058708   \n",
       "\n",
       "           7         8         9    ...       758       759       760  \\\n",
       "0     0.270870 -0.228698  0.360879  ...  0.094901  0.242647  0.298531   \n",
       "1     0.301015 -0.364498  0.468364  ...  0.360351  0.288066  0.309938   \n",
       "2     0.101063 -0.150564  0.158669  ...  0.206326  0.098941  0.084196   \n",
       "3     0.374435 -0.236372  0.427011  ...  0.249750  0.211238  0.383206   \n",
       "4     0.346961 -0.325809  0.537468  ...  0.263853  0.336808  0.421352   \n",
       "...        ...       ...       ...  ...       ...       ...       ...   \n",
       "1366  0.113961 -0.256936  0.271037  ...  0.145696  0.225685  0.113510   \n",
       "1367  0.067356 -0.053412  0.004537  ... -0.036856  0.159636  0.047876   \n",
       "1368  0.346398 -0.320948  0.485050  ...  0.263049  0.238916  0.368530   \n",
       "1369  0.184050 -0.110585  0.014858  ...  0.254450 -0.010142  0.066076   \n",
       "1370 -0.004614 -0.057108  0.000598  ... -0.039162 -0.149575  0.013945   \n",
       "\n",
       "           761       762       763       764       765       766       767  \n",
       "0     0.887655  0.259375  0.178826  0.290616 -0.189212  0.186709  0.236227  \n",
       "1     0.922270  0.447318  0.382771  0.321149 -0.275853  0.172854  0.150588  \n",
       "2     0.737901  0.184666  0.231481  0.159205 -0.019073 -0.026804  0.126507  \n",
       "3     0.822913  0.301388  0.284200  0.206761 -0.158048  0.316870  0.144445  \n",
       "4     0.926895  0.382166  0.368388  0.247825 -0.326875  0.402611  0.151677  \n",
       "...        ...       ...       ...       ...       ...       ...       ...  \n",
       "1366  0.660255  0.171794  0.331795  0.240476  0.006964  0.051895  0.095735  \n",
       "1367  0.349598 -0.008012  0.283824  0.116508  0.019093  0.092034  0.061417  \n",
       "1368  0.862730  0.317864  0.273502  0.194048 -0.132383  0.261055  0.124519  \n",
       "1369  0.400058  0.109091  0.133152  0.280741  0.104474  0.033486  0.005957  \n",
       "1370 -0.249106  0.053395  0.049417 -0.063728  0.151586 -0.037005 -0.022522  \n",
       "\n",
       "[1371 rows x 768 columns]"
      ]
     },
     "execution_count": 32,
     "metadata": {},
     "output_type": "execute_result"
    }
   ],
   "source": [
    "XtransformerTrain"
   ]
  },
  {
   "cell_type": "code",
   "execution_count": 33,
   "id": "dcff9377-b8b8-4a9f-901c-d17e67a7cee0",
   "metadata": {},
   "outputs": [],
   "source": [
    "# from sklearn.linear_model import LogisticRegression\n",
    "# from sklearn.ensemble import RandomForestClassifier\n",
    "# from sklearn.svm import SVC\n",
    "# from sklearn.ensemble import GradientBoostingClassifier\n",
    "# from sklearn.neighbors import KNeighborsClassifier\n",
    "# from sklearn.multioutput import MultiOutputClassifier\n",
    "# from sklearn.svm import SVC\n",
    "# from sklearn.neural_network import MLPClassifier\n",
    "# from sklearn.ensemble import BaggingClassifier, AdaBoostClassifier, StackingClassifier\n",
    "# from sklearn.linear_model import LogisticRegression\n",
    "# from sklearn.ensemble import RandomForestClassifier\n",
    "\n",
    "# estimators = [\n",
    "#     ('lr', LogisticRegression(max_iter=1000, class_weight='balanced')),\n",
    "#     ('rf', RandomForestClassifier(n_estimators=100, class_weight='balanced')),\n",
    "#     # ('gb', GradientBoostingClassifier(n_estimators=100)),\n",
    "#     # ('xgb', XGBClassifier(n_estimators=100)),\n",
    "#     ('cat', CatBoostClassifier(iterations=1000, verbose=0)),\n",
    "#     ('mlp', MLPClassifier(\n",
    "#     hidden_layer_sizes = (256,512),\n",
    "#     activation = 'relu',\n",
    "#     solver = 'adam',\n",
    "#     alpha = 0.01,\n",
    "#     learning_rate = 'adaptive',\n",
    "#     max_iter = 1000,\n",
    "#     batch_size = 200,\n",
    "#     momentum = 0.90,\n",
    "#     learning_rate_init = 0.002))\n",
    "# ]\n",
    "\n",
    "# stacking = StackingClassifier(estimators=estimators, final_estimator=MLPClassifier(\n",
    "#     hidden_layer_sizes = (256,512),\n",
    "#     activation = 'relu',\n",
    "#     solver = 'adam',\n",
    "#     alpha = 0.01,\n",
    "#     learning_rate = 'adaptive',\n",
    "#     max_iter = 1000,\n",
    "#     batch_size = 200,\n",
    "#     momentum = 0.90,\n",
    "#     learning_rate_init = 0.002))\n",
    "# # models.append(('SVM', MultiOutputClassifier(SVC())))\n",
    "# # models.append(('OvR_AdaBoost', MultiOutputClassifier(AdaBoostClassifier(n_estimators=100))))\n",
    "# # models.append(('Bagging', MultiOutputClassifier(BaggingClassifier(n_estimators=100))))"
   ]
  },
  {
   "cell_type": "code",
   "execution_count": 34,
   "id": "3c3ac109-0f17-433e-a6ca-562815593dca",
   "metadata": {},
   "outputs": [],
   "source": [
    "# X_train = XtransformerTrain\n",
    "# X_test = XtransformerTest\n",
    "# y_train = ytransformerTrain\n",
    "\n",
    "# # X_train, X_val, y_train, y_val = train_test_split(X_train, y_train, test_size=0.2, random_state=42)\n",
    "\n",
    "# # Обучение модели на тренировочных данных\n",
    "# multi_target_stacking = MultiOutputClassifier(stacking)\n",
    "\n",
    "# # Обучение модели на тренировочных данных\n",
    "# multi_target_stacking.fit(X_train, y_train)\n",
    "\n",
    "# y_pred = multi_target_stacking.predict(X_test)\n",
    "# y_pred"
   ]
  },
  {
   "cell_type": "code",
   "execution_count": 35,
   "id": "65354cb7-0a5b-4ddd-8ef4-1cb9da0f7ddd",
   "metadata": {},
   "outputs": [],
   "source": [
    "# import time\n",
    "\n",
    "# time.ctime()"
   ]
  },
  {
   "cell_type": "code",
   "execution_count": 36,
   "id": "ddfa3964-5108-4336-9eed-7f8c6d948af0",
   "metadata": {},
   "outputs": [],
   "source": [
    "# import numpy as np\n",
    "# from sklearn.neural_network import MLPClassifier\n",
    "# from sklearn.model_selection import GridSearchCV\n",
    "# from sklearn.metrics import classification_report\n",
    "\n",
    "# X_train = XtransformerTrain\n",
    "# X_test = XtransformerTest\n",
    "# y_train = ytransformerTrain\n",
    "\n",
    "# X_train, X_val, y_train, y_val = train_test_split(X_train, y_train, test_size=0.2, random_state=42)\n",
    "\n",
    "\n",
    "# param_grid = {\n",
    "#     'hidden_layer_sizes': [(256,512)],\n",
    "#     'activation': ['relu'],\n",
    "#     'solver': ['adam'],\n",
    "#     'alpha': [0.01],\n",
    "#     'learning_rate': ['adaptive'],\n",
    "#     'max_iter': [1000],\n",
    "#     'batch_size': [200],\n",
    "#     'momentum': [0.90],\n",
    "#     'learning_rate_init': [0.002],\n",
    "# }\n",
    "\n",
    "# mlp = MLPClassifier()\n",
    "\n",
    "# grid_search = GridSearchCV(estimator=mlp, param_grid=param_grid, n_jobs=-1, cv=3, scoring='f1_samples', verbose=1)\n",
    "\n",
    "# grid_search.fit(X_train, y_train)\n",
    "\n",
    "# results = grid_search.cv_results_\n",
    "# for mean_score, params in zip(results['mean_test_score'], results['params']):\n",
    "#     print(f\"Mean f1_samples score: {mean_score:.4f}\")\n",
    "#     print(f\"Parameters: {params}\")\n",
    "#     print()\n",
    "\n",
    "# print(\"Лучшие параметры: \", grid_search.best_params_)\n",
    "\n",
    "# best_model = grid_search.best_estimator_"
   ]
  },
  {
   "cell_type": "code",
   "execution_count": 37,
   "id": "30a892de-c384-45eb-9a78-30dc592c1e50",
   "metadata": {},
   "outputs": [],
   "source": [
    "# # Optional: Evaluate on validation set\n",
    "# y_pred = best_model.predict(X_val)\n",
    "# print(classification_report(y_val, y_pred))"
   ]
  },
  {
   "cell_type": "code",
   "execution_count": 38,
   "id": "c7a8ade2-dffb-40c0-85c6-f4f138079348",
   "metadata": {},
   "outputs": [
    {
     "data": {
      "text/plain": [
       "MultiOutputClassifier(estimator=RandomForestClassifier(random_state=42))"
      ]
     },
     "execution_count": 38,
     "metadata": {},
     "output_type": "execute_result"
    }
   ],
   "source": [
    "import numpy as np\n",
    "from sklearn.ensemble import RandomForestClassifier\n",
    "from sklearn.multioutput import MultiOutputClassifier\n",
    "from sklearn.model_selection import train_test_split\n",
    "from sklearn.metrics import classification_report\n",
    "\n",
    "X_train = XtransformerTrain\n",
    "X_test = XtransformerTest\n",
    "y_train = ytransformerTrain\n",
    "\n",
    "rf = MultiOutputClassifier(RandomForestClassifier( \n",
    "    random_state=42      \n",
    "))\n",
    "\n",
    "rf.fit(X_train, y_train)"
   ]
  },
  {
   "cell_type": "code",
   "execution_count": 39,
   "id": "ca3c386c-d9cb-4fb4-8bc4-959ae4d18f20",
   "metadata": {},
   "outputs": [
    {
     "data": {
      "text/plain": [
       "array([[0, 0, 0, ..., 0, 0, 0],\n",
       "       [0, 0, 0, ..., 0, 0, 1],\n",
       "       [0, 0, 0, ..., 0, 0, 0],\n",
       "       ...,\n",
       "       [0, 0, 0, ..., 0, 0, 0],\n",
       "       [0, 0, 0, ..., 0, 0, 0],\n",
       "       [0, 0, 0, ..., 0, 0, 0]])"
      ]
     },
     "execution_count": 39,
     "metadata": {},
     "output_type": "execute_result"
    }
   ],
   "source": [
    "y_pred = rf.predict(X_test)\n",
    "y_pred"
   ]
  },
  {
   "cell_type": "code",
   "execution_count": 40,
   "id": "880e671b-cb20-49ed-89e8-272b6b56ce24",
   "metadata": {},
   "outputs": [
    {
     "data": {
      "text/html": [
       "<div>\n",
       "<style scoped>\n",
       "    .dataframe tbody tr th:only-of-type {\n",
       "        vertical-align: middle;\n",
       "    }\n",
       "\n",
       "    .dataframe tbody tr th {\n",
       "        vertical-align: top;\n",
       "    }\n",
       "\n",
       "    .dataframe thead th {\n",
       "        text-align: right;\n",
       "    }\n",
       "</style>\n",
       "<table border=\"1\" class=\"dataframe\">\n",
       "  <thead>\n",
       "    <tr style=\"text-align: right;\">\n",
       "      <th></th>\n",
       "      <th>iddoc</th>\n",
       "      <th>Метрология</th>\n",
       "      <th>Охрана и безопасность труда</th>\n",
       "      <th>Охрана окружающей среды</th>\n",
       "      <th>Оценка соответствия</th>\n",
       "      <th>Пожарная безопасность</th>\n",
       "      <th>Промышленная безопасность</th>\n",
       "      <th>Санитарные нормы и правила</th>\n",
       "    </tr>\n",
       "  </thead>\n",
       "  <tbody>\n",
       "    <tr>\n",
       "      <th>0</th>\n",
       "      <td>1400040</td>\n",
       "      <td>0</td>\n",
       "      <td>0</td>\n",
       "      <td>0</td>\n",
       "      <td>0</td>\n",
       "      <td>0</td>\n",
       "      <td>0</td>\n",
       "      <td>0</td>\n",
       "    </tr>\n",
       "    <tr>\n",
       "      <th>1</th>\n",
       "      <td>1400051</td>\n",
       "      <td>0</td>\n",
       "      <td>0</td>\n",
       "      <td>0</td>\n",
       "      <td>0</td>\n",
       "      <td>0</td>\n",
       "      <td>0</td>\n",
       "      <td>1</td>\n",
       "    </tr>\n",
       "    <tr>\n",
       "      <th>2</th>\n",
       "      <td>5200025</td>\n",
       "      <td>0</td>\n",
       "      <td>0</td>\n",
       "      <td>0</td>\n",
       "      <td>0</td>\n",
       "      <td>0</td>\n",
       "      <td>0</td>\n",
       "      <td>0</td>\n",
       "    </tr>\n",
       "    <tr>\n",
       "      <th>3</th>\n",
       "      <td>5200058</td>\n",
       "      <td>0</td>\n",
       "      <td>0</td>\n",
       "      <td>0</td>\n",
       "      <td>0</td>\n",
       "      <td>0</td>\n",
       "      <td>0</td>\n",
       "      <td>0</td>\n",
       "    </tr>\n",
       "    <tr>\n",
       "      <th>4</th>\n",
       "      <td>5200086</td>\n",
       "      <td>0</td>\n",
       "      <td>0</td>\n",
       "      <td>1</td>\n",
       "      <td>0</td>\n",
       "      <td>0</td>\n",
       "      <td>0</td>\n",
       "      <td>0</td>\n",
       "    </tr>\n",
       "    <tr>\n",
       "      <th>...</th>\n",
       "      <td>...</td>\n",
       "      <td>...</td>\n",
       "      <td>...</td>\n",
       "      <td>...</td>\n",
       "      <td>...</td>\n",
       "      <td>...</td>\n",
       "      <td>...</td>\n",
       "      <td>...</td>\n",
       "    </tr>\n",
       "    <tr>\n",
       "      <th>56510</th>\n",
       "      <td>1306528563</td>\n",
       "      <td>0</td>\n",
       "      <td>0</td>\n",
       "      <td>0</td>\n",
       "      <td>0</td>\n",
       "      <td>0</td>\n",
       "      <td>0</td>\n",
       "      <td>0</td>\n",
       "    </tr>\n",
       "    <tr>\n",
       "      <th>56511</th>\n",
       "      <td>1306588785</td>\n",
       "      <td>0</td>\n",
       "      <td>1</td>\n",
       "      <td>0</td>\n",
       "      <td>0</td>\n",
       "      <td>0</td>\n",
       "      <td>0</td>\n",
       "      <td>0</td>\n",
       "    </tr>\n",
       "    <tr>\n",
       "      <th>56512</th>\n",
       "      <td>1306610181</td>\n",
       "      <td>0</td>\n",
       "      <td>0</td>\n",
       "      <td>0</td>\n",
       "      <td>0</td>\n",
       "      <td>0</td>\n",
       "      <td>0</td>\n",
       "      <td>0</td>\n",
       "    </tr>\n",
       "    <tr>\n",
       "      <th>56513</th>\n",
       "      <td>1306663466</td>\n",
       "      <td>0</td>\n",
       "      <td>0</td>\n",
       "      <td>0</td>\n",
       "      <td>0</td>\n",
       "      <td>0</td>\n",
       "      <td>0</td>\n",
       "      <td>0</td>\n",
       "    </tr>\n",
       "    <tr>\n",
       "      <th>56514</th>\n",
       "      <td>1306663716</td>\n",
       "      <td>0</td>\n",
       "      <td>0</td>\n",
       "      <td>0</td>\n",
       "      <td>0</td>\n",
       "      <td>0</td>\n",
       "      <td>0</td>\n",
       "      <td>0</td>\n",
       "    </tr>\n",
       "  </tbody>\n",
       "</table>\n",
       "<p>56515 rows × 8 columns</p>\n",
       "</div>"
      ],
      "text/plain": [
       "            iddoc  Метрология  Охрана и безопасность труда  \\\n",
       "0         1400040           0                            0   \n",
       "1         1400051           0                            0   \n",
       "2         5200025           0                            0   \n",
       "3         5200058           0                            0   \n",
       "4         5200086           0                            0   \n",
       "...           ...         ...                          ...   \n",
       "56510  1306528563           0                            0   \n",
       "56511  1306588785           0                            1   \n",
       "56512  1306610181           0                            0   \n",
       "56513  1306663466           0                            0   \n",
       "56514  1306663716           0                            0   \n",
       "\n",
       "       Охрана окружающей среды  Оценка соответствия  Пожарная безопасность  \\\n",
       "0                            0                    0                      0   \n",
       "1                            0                    0                      0   \n",
       "2                            0                    0                      0   \n",
       "3                            0                    0                      0   \n",
       "4                            1                    0                      0   \n",
       "...                        ...                  ...                    ...   \n",
       "56510                        0                    0                      0   \n",
       "56511                        0                    0                      0   \n",
       "56512                        0                    0                      0   \n",
       "56513                        0                    0                      0   \n",
       "56514                        0                    0                      0   \n",
       "\n",
       "       Промышленная безопасность  Санитарные нормы и правила  \n",
       "0                              0                           0  \n",
       "1                              0                           1  \n",
       "2                              0                           0  \n",
       "3                              0                           0  \n",
       "4                              0                           0  \n",
       "...                          ...                         ...  \n",
       "56510                          0                           0  \n",
       "56511                          0                           0  \n",
       "56512                          0                           0  \n",
       "56513                          0                           0  \n",
       "56514                          0                           0  \n",
       "\n",
       "[56515 rows x 8 columns]"
      ]
     },
     "execution_count": 40,
     "metadata": {},
     "output_type": "execute_result"
    }
   ],
   "source": [
    "y_pred = pd.DataFrame(y_pred, columns=mlbtransformerTrain.classes_)\n",
    "y_pred.insert(0, 'iddoc', new_name_dfvec1['iddoc'])\n",
    "y_pred"
   ]
  },
  {
   "cell_type": "code",
   "execution_count": 133,
   "id": "97662542-1e4b-4d28-ab5f-4b0c17fa9968",
   "metadata": {},
   "outputs": [],
   "source": [
    "y_pred.to_csv('./work_data/RF2nameee_task1_train1371_test56515.csv', index=False)"
   ]
  },
  {
   "cell_type": "code",
   "execution_count": null,
   "id": "1994cc37-edb4-4c5f-8f8a-1c635c0c04a0",
   "metadata": {},
   "outputs": [],
   "source": []
  }
 ],
 "metadata": {
  "kernelspec": {
   "display_name": "Python (tf1)",
   "language": "python",
   "name": "tf1"
  },
  "language_info": {
   "codemirror_mode": {
    "name": "ipython",
    "version": 3
   },
   "file_extension": ".py",
   "mimetype": "text/x-python",
   "name": "python",
   "nbconvert_exporter": "python",
   "pygments_lexer": "ipython3",
   "version": "3.9.19"
  }
 },
 "nbformat": 4,
 "nbformat_minor": 5
}
